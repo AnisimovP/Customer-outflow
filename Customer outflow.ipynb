{
 "cells": [
  {
   "cell_type": "markdown",
   "metadata": {
    "toc": true
   },
   "source": [
    "<h1>Содержание<span class=\"tocSkip\"></span></h1>\n",
    "<div class=\"toc\"><ul class=\"toc-item\"><li><span><a href=\"#Подготовка-данных\" data-toc-modified-id=\"Подготовка-данных-1\"><span class=\"toc-item-num\">1&nbsp;&nbsp;</span>Подготовка данных</a></span><ul class=\"toc-item\"><li><span><a href=\"#Предобработка-данных\" data-toc-modified-id=\"Предобработка-данных-1.1\"><span class=\"toc-item-num\">1.1&nbsp;&nbsp;</span>Предобработка данных</a></span><ul class=\"toc-item\"><li><span><a href=\"#Столбец-tenure\" data-toc-modified-id=\"Столбец-tenure-1.1.1\"><span class=\"toc-item-num\">1.1.1&nbsp;&nbsp;</span>Столбец <code>tenure</code></a></span></li></ul></li></ul></li><li><span><a href=\"#Исследование-задачи\" data-toc-modified-id=\"Исследование-задачи-2\"><span class=\"toc-item-num\">2&nbsp;&nbsp;</span>Исследование задачи</a></span><ul class=\"toc-item\"><li><span><a href=\"#Проверка-адекватности-константной-модели\" data-toc-modified-id=\"Проверка-адекватности-константной-модели-2.1\"><span class=\"toc-item-num\">2.1&nbsp;&nbsp;</span>Проверка адекватности константной модели</a></span></li><li><span><a href=\"#Дерево-решений\" data-toc-modified-id=\"Дерево-решений-2.2\"><span class=\"toc-item-num\">2.2&nbsp;&nbsp;</span>Дерево решений</a></span></li><li><span><a href=\"#Случайный-лес\" data-toc-modified-id=\"Случайный-лес-2.3\"><span class=\"toc-item-num\">2.3&nbsp;&nbsp;</span>Случайный лес</a></span></li><li><span><a href=\"#Логистическая-регресиия\" data-toc-modified-id=\"Логистическая-регресиия-2.4\"><span class=\"toc-item-num\">2.4&nbsp;&nbsp;</span>Логистическая регресиия</a></span></li><li><span><a href=\"#Лучшие-показатели-для-трех-моделей\" data-toc-modified-id=\"Лучшие-показатели-для-трех-моделей-2.5\"><span class=\"toc-item-num\">2.5&nbsp;&nbsp;</span>Лучшие показатели для трех моделей</a></span></li><li><span><a href=\"#Оценка-accuracy,-precision-и-recall\" data-toc-modified-id=\"Оценка-accuracy,-precision-и-recall-2.6\"><span class=\"toc-item-num\">2.6&nbsp;&nbsp;</span>Оценка <code>accuracy</code>, <code>precision</code> и <code>recall</code></a></span></li><li><span><a href=\"#График-ROC,-а-также-метрика-AUC-ROC\" data-toc-modified-id=\"График-ROC,-а-также-метрика-AUC-ROC-2.7\"><span class=\"toc-item-num\">2.7&nbsp;&nbsp;</span>График ROC, а также метрика AUC-ROC</a></span></li><li><span><a href=\"#Вывод\" data-toc-modified-id=\"Вывод-2.8\"><span class=\"toc-item-num\">2.8&nbsp;&nbsp;</span>Вывод</a></span></li></ul></li><li><span><a href=\"#Борьба-с-дисбалансом\" data-toc-modified-id=\"Борьба-с-дисбалансом-3\"><span class=\"toc-item-num\">3&nbsp;&nbsp;</span>Борьба с дисбалансом</a></span><ul class=\"toc-item\"><li><span><a href=\"#Гиперпараметр-class_weight='balanced'\" data-toc-modified-id=\"Гиперпараметр-class_weight='balanced'-3.1\"><span class=\"toc-item-num\">3.1&nbsp;&nbsp;</span>Гиперпараметр class_weight='balanced'</a></span><ul class=\"toc-item\"><li><span><a href=\"#Дерево-решений\" data-toc-modified-id=\"Дерево-решений-3.1.1\"><span class=\"toc-item-num\">3.1.1&nbsp;&nbsp;</span>Дерево решений</a></span></li><li><span><a href=\"#Случайный-лес\" data-toc-modified-id=\"Случайный-лес-3.1.2\"><span class=\"toc-item-num\">3.1.2&nbsp;&nbsp;</span>Случайный лес</a></span></li><li><span><a href=\"#Логистическая-регрессия\" data-toc-modified-id=\"Логистическая-регрессия-3.1.3\"><span class=\"toc-item-num\">3.1.3&nbsp;&nbsp;</span>Логистическая регрессия</a></span></li><li><span><a href=\"#Лучшие-показатели-для-трех-моделей\" data-toc-modified-id=\"Лучшие-показатели-для-трех-моделей-3.1.4\"><span class=\"toc-item-num\">3.1.4&nbsp;&nbsp;</span>Лучшие показатели для трех моделей</a></span></li><li><span><a href=\"#Проведем-оценку-accuracy,-precision-и-recall\" data-toc-modified-id=\"Проведем-оценку-accuracy,-precision-и-recall-3.1.5\"><span class=\"toc-item-num\">3.1.5&nbsp;&nbsp;</span>Проведем оценку <code>accuracy</code>, <code>precision</code> и <code>recall</code></a></span></li><li><span><a href=\"#График-ROC,-а-так-же-метра-AUC-ROC\" data-toc-modified-id=\"График-ROC,-а-так-же-метра-AUC-ROC-3.1.6\"><span class=\"toc-item-num\">3.1.6&nbsp;&nbsp;</span>График ROC, а так же метра AUC-ROC</a></span></li></ul></li><li><span><a href=\"#Подбор-киперпараметров-с-увеличением-доли-редкого-класса---upsampling\" data-toc-modified-id=\"Подбор-киперпараметров-с-увеличением-доли-редкого-класса---upsampling-3.2\"><span class=\"toc-item-num\">3.2&nbsp;&nbsp;</span>Подбор киперпараметров с увеличением доли редкого класса - upsampling</a></span><ul class=\"toc-item\"><li><span><a href=\"#Дерево-решений\" data-toc-modified-id=\"Дерево-решений-3.2.1\"><span class=\"toc-item-num\">3.2.1&nbsp;&nbsp;</span>Дерево решений</a></span></li><li><span><a href=\"#Случайный-лес\" data-toc-modified-id=\"Случайный-лес-3.2.2\"><span class=\"toc-item-num\">3.2.2&nbsp;&nbsp;</span>Случайный лес</a></span></li><li><span><a href=\"#Логистическая-регрессия\" data-toc-modified-id=\"Логистическая-регрессия-3.2.3\"><span class=\"toc-item-num\">3.2.3&nbsp;&nbsp;</span>Логистическая регрессия</a></span></li><li><span><a href=\"#Проведем-оценку-accuracy,-precision-и-recall\" data-toc-modified-id=\"Проведем-оценку-accuracy,-precision-и-recall-3.2.4\"><span class=\"toc-item-num\">3.2.4&nbsp;&nbsp;</span>Проведем оценку <code>accuracy</code>, <code>precision</code> и <code>recall</code></a></span></li><li><span><a href=\"#График-ROC,-а-так-же-метра-AUC-ROC\" data-toc-modified-id=\"График-ROC,-а-так-же-метра-AUC-ROC-3.2.5\"><span class=\"toc-item-num\">3.2.5&nbsp;&nbsp;</span>График ROC, а так же метра AUC-ROC</a></span></li></ul></li><li><span><a href=\"#Подбор-киперпараметров-с-уменьшением-доли-частого-класса---downsample\" data-toc-modified-id=\"Подбор-киперпараметров-с-уменьшением-доли-частого-класса---downsample-3.3\"><span class=\"toc-item-num\">3.3&nbsp;&nbsp;</span>Подбор киперпараметров с уменьшением доли частого класса - downsample</a></span><ul class=\"toc-item\"><li><span><a href=\"#Дерево-решений\" data-toc-modified-id=\"Дерево-решений-3.3.1\"><span class=\"toc-item-num\">3.3.1&nbsp;&nbsp;</span>Дерево решений</a></span></li><li><span><a href=\"#Случайный-лес\" data-toc-modified-id=\"Случайный-лес-3.3.2\"><span class=\"toc-item-num\">3.3.2&nbsp;&nbsp;</span>Случайный лес</a></span></li><li><span><a href=\"#Логистическая-регрессия\" data-toc-modified-id=\"Логистическая-регрессия-3.3.3\"><span class=\"toc-item-num\">3.3.3&nbsp;&nbsp;</span>Логистическая регрессия</a></span></li><li><span><a href=\"#Лучшие-показатели-для-трех-моделей\" data-toc-modified-id=\"Лучшие-показатели-для-трех-моделей-3.3.4\"><span class=\"toc-item-num\">3.3.4&nbsp;&nbsp;</span>Лучшие показатели для трех моделей</a></span></li><li><span><a href=\"#Проведем-оценку-accuracy,-precision-и-recall\" data-toc-modified-id=\"Проведем-оценку-accuracy,-precision-и-recall-3.3.5\"><span class=\"toc-item-num\">3.3.5&nbsp;&nbsp;</span>Проведем оценку <code>accuracy</code>, <code>precision</code> и <code>recall</code></a></span></li><li><span><a href=\"#График-ROC,-а-так-же-метра-AUC-ROC\" data-toc-modified-id=\"График-ROC,-а-так-же-метра-AUC-ROC-3.3.6\"><span class=\"toc-item-num\">3.3.6&nbsp;&nbsp;</span>График ROC, а так же метра AUC-ROC</a></span></li></ul></li><li><span><a href=\"#Сравнение-моделей\" data-toc-modified-id=\"Сравнение-моделей-3.4\"><span class=\"toc-item-num\">3.4&nbsp;&nbsp;</span>Сравнение моделей</a></span></li></ul></li><li><span><a href=\"#Тестирование-модели\" data-toc-modified-id=\"Тестирование-модели-4\"><span class=\"toc-item-num\">4&nbsp;&nbsp;</span>Тестирование модели</a></span></li><li><span><a href=\"#Вывод\" data-toc-modified-id=\"Вывод-5\"><span class=\"toc-item-num\">5&nbsp;&nbsp;</span>Вывод</a></span></li></ul></div>"
   ]
  },
  {
   "cell_type": "markdown",
   "metadata": {},
   "source": [
    "# Отток клиентов"
   ]
  },
  {
   "cell_type": "markdown",
   "metadata": {},
   "source": [
    "Из «Бета-Банка» стали уходить клиенты. Каждый месяц. Немного, но заметно. Банковские маркетологи посчитали: сохранять текущих клиентов дешевле, чем привлекать новых.\n",
    "\n",
    "Нужно спрогнозировать, уйдёт клиент из банка в ближайшее время или нет. Вам предоставлены исторические данные о поведении клиентов и расторжении договоров с банком. \n",
    "\n",
    "Постройте модель с предельно большим значением *F1*-меры. Чтобы сдать проект успешно, нужно довести метрику до 0.59. Проверьте *F1*-меру на тестовой выборке самостоятельно.\n",
    "\n",
    "Дополнительно измеряйте *AUC-ROC*, сравнивайте её значение с *F1*-мерой.\n",
    "\n",
    "Источник данных: [https://www.kaggle.com/barelydedicated/bank-customer-churn-modeling](https://www.kaggle.com/barelydedicated/bank-customer-churn-modeling)"
   ]
  },
  {
   "cell_type": "markdown",
   "metadata": {},
   "source": [
    "**Признаки**\n",
    "\n",
    "* `RowNumber` — индекс строки в данных\n",
    "* `CustomerId` — уникальный идентификатор клиента\n",
    "* `Surname` — фамилия\n",
    "* `CreditScore` — кредитный рейтинг\n",
    "* `Geography` — страна проживания\n",
    "* `Gender` — пол\n",
    "* `Age` — возраст\n",
    "* `Tenure` — сколько лет человек является клиентом банка\n",
    "* `Balance` — баланс на счёте\n",
    "* `NumOfProducts` — количество продуктов банка, используемых клиентом\n",
    "* `HasCrCard` — наличие кредитной карты\n",
    "* `IsActiveMember` — активность клиента\n",
    "* `EstimatedSalary` — предполагаемая зарплата\n",
    "\n",
    "**Целевой признак**\n",
    "\n",
    "* `Exited` — факт ухода клиента"
   ]
  },
  {
   "cell_type": "markdown",
   "metadata": {},
   "source": [
    "## Подготовка данных"
   ]
  },
  {
   "cell_type": "code",
   "execution_count": 1,
   "metadata": {},
   "outputs": [],
   "source": [
    "import pandas as pd\n",
    "import numpy as np\n",
    "import matplotlib.pyplot as plt\n",
    "\n",
    "from sklearn.model_selection import train_test_split\n",
    "from sklearn.preprocessing import StandardScaler\n",
    "from sklearn.utils import shuffle\n",
    "\n",
    "from sklearn.metrics import accuracy_score\n",
    "from sklearn.metrics import mean_absolute_error\n",
    "from sklearn.metrics import precision_score, recall_score\n",
    "from sklearn.metrics import f1_score\n",
    "from sklearn.metrics import roc_auc_score\n",
    "from sklearn.metrics import roc_curve, auc\n",
    "\n",
    "from sklearn.tree import DecisionTreeClassifier\n",
    "from sklearn.ensemble import RandomForestClassifier\n",
    "from sklearn.linear_model import LinearRegression\n",
    "from sklearn.linear_model import LogisticRegression\n",
    "\n",
    "import warnings\n",
    "warnings.filterwarnings('ignore')"
   ]
  },
  {
   "cell_type": "code",
   "execution_count": 2,
   "metadata": {},
   "outputs": [],
   "source": [
    "data = pd.read_csv('/datasets/Churn.csv')"
   ]
  },
  {
   "cell_type": "code",
   "execution_count": 3,
   "metadata": {
    "scrolled": false
   },
   "outputs": [
    {
     "data": {
      "text/html": [
       "<div>\n",
       "<style scoped>\n",
       "    .dataframe tbody tr th:only-of-type {\n",
       "        vertical-align: middle;\n",
       "    }\n",
       "\n",
       "    .dataframe tbody tr th {\n",
       "        vertical-align: top;\n",
       "    }\n",
       "\n",
       "    .dataframe thead th {\n",
       "        text-align: right;\n",
       "    }\n",
       "</style>\n",
       "<table border=\"1\" class=\"dataframe\">\n",
       "  <thead>\n",
       "    <tr style=\"text-align: right;\">\n",
       "      <th></th>\n",
       "      <th>RowNumber</th>\n",
       "      <th>CustomerId</th>\n",
       "      <th>Surname</th>\n",
       "      <th>CreditScore</th>\n",
       "      <th>Geography</th>\n",
       "      <th>Gender</th>\n",
       "      <th>Age</th>\n",
       "      <th>Tenure</th>\n",
       "      <th>Balance</th>\n",
       "      <th>NumOfProducts</th>\n",
       "      <th>HasCrCard</th>\n",
       "      <th>IsActiveMember</th>\n",
       "      <th>EstimatedSalary</th>\n",
       "      <th>Exited</th>\n",
       "    </tr>\n",
       "  </thead>\n",
       "  <tbody>\n",
       "    <tr>\n",
       "      <th>0</th>\n",
       "      <td>1</td>\n",
       "      <td>15634602</td>\n",
       "      <td>Hargrave</td>\n",
       "      <td>619</td>\n",
       "      <td>France</td>\n",
       "      <td>Female</td>\n",
       "      <td>42</td>\n",
       "      <td>2.0</td>\n",
       "      <td>0.00</td>\n",
       "      <td>1</td>\n",
       "      <td>1</td>\n",
       "      <td>1</td>\n",
       "      <td>101348.88</td>\n",
       "      <td>1</td>\n",
       "    </tr>\n",
       "    <tr>\n",
       "      <th>1</th>\n",
       "      <td>2</td>\n",
       "      <td>15647311</td>\n",
       "      <td>Hill</td>\n",
       "      <td>608</td>\n",
       "      <td>Spain</td>\n",
       "      <td>Female</td>\n",
       "      <td>41</td>\n",
       "      <td>1.0</td>\n",
       "      <td>83807.86</td>\n",
       "      <td>1</td>\n",
       "      <td>0</td>\n",
       "      <td>1</td>\n",
       "      <td>112542.58</td>\n",
       "      <td>0</td>\n",
       "    </tr>\n",
       "    <tr>\n",
       "      <th>2</th>\n",
       "      <td>3</td>\n",
       "      <td>15619304</td>\n",
       "      <td>Onio</td>\n",
       "      <td>502</td>\n",
       "      <td>France</td>\n",
       "      <td>Female</td>\n",
       "      <td>42</td>\n",
       "      <td>8.0</td>\n",
       "      <td>159660.80</td>\n",
       "      <td>3</td>\n",
       "      <td>1</td>\n",
       "      <td>0</td>\n",
       "      <td>113931.57</td>\n",
       "      <td>1</td>\n",
       "    </tr>\n",
       "    <tr>\n",
       "      <th>3</th>\n",
       "      <td>4</td>\n",
       "      <td>15701354</td>\n",
       "      <td>Boni</td>\n",
       "      <td>699</td>\n",
       "      <td>France</td>\n",
       "      <td>Female</td>\n",
       "      <td>39</td>\n",
       "      <td>1.0</td>\n",
       "      <td>0.00</td>\n",
       "      <td>2</td>\n",
       "      <td>0</td>\n",
       "      <td>0</td>\n",
       "      <td>93826.63</td>\n",
       "      <td>0</td>\n",
       "    </tr>\n",
       "    <tr>\n",
       "      <th>4</th>\n",
       "      <td>5</td>\n",
       "      <td>15737888</td>\n",
       "      <td>Mitchell</td>\n",
       "      <td>850</td>\n",
       "      <td>Spain</td>\n",
       "      <td>Female</td>\n",
       "      <td>43</td>\n",
       "      <td>2.0</td>\n",
       "      <td>125510.82</td>\n",
       "      <td>1</td>\n",
       "      <td>1</td>\n",
       "      <td>1</td>\n",
       "      <td>79084.10</td>\n",
       "      <td>0</td>\n",
       "    </tr>\n",
       "    <tr>\n",
       "      <th>5</th>\n",
       "      <td>6</td>\n",
       "      <td>15574012</td>\n",
       "      <td>Chu</td>\n",
       "      <td>645</td>\n",
       "      <td>Spain</td>\n",
       "      <td>Male</td>\n",
       "      <td>44</td>\n",
       "      <td>8.0</td>\n",
       "      <td>113755.78</td>\n",
       "      <td>2</td>\n",
       "      <td>1</td>\n",
       "      <td>0</td>\n",
       "      <td>149756.71</td>\n",
       "      <td>1</td>\n",
       "    </tr>\n",
       "    <tr>\n",
       "      <th>6</th>\n",
       "      <td>7</td>\n",
       "      <td>15592531</td>\n",
       "      <td>Bartlett</td>\n",
       "      <td>822</td>\n",
       "      <td>France</td>\n",
       "      <td>Male</td>\n",
       "      <td>50</td>\n",
       "      <td>7.0</td>\n",
       "      <td>0.00</td>\n",
       "      <td>2</td>\n",
       "      <td>1</td>\n",
       "      <td>1</td>\n",
       "      <td>10062.80</td>\n",
       "      <td>0</td>\n",
       "    </tr>\n",
       "    <tr>\n",
       "      <th>7</th>\n",
       "      <td>8</td>\n",
       "      <td>15656148</td>\n",
       "      <td>Obinna</td>\n",
       "      <td>376</td>\n",
       "      <td>Germany</td>\n",
       "      <td>Female</td>\n",
       "      <td>29</td>\n",
       "      <td>4.0</td>\n",
       "      <td>115046.74</td>\n",
       "      <td>4</td>\n",
       "      <td>1</td>\n",
       "      <td>0</td>\n",
       "      <td>119346.88</td>\n",
       "      <td>1</td>\n",
       "    </tr>\n",
       "    <tr>\n",
       "      <th>8</th>\n",
       "      <td>9</td>\n",
       "      <td>15792365</td>\n",
       "      <td>He</td>\n",
       "      <td>501</td>\n",
       "      <td>France</td>\n",
       "      <td>Male</td>\n",
       "      <td>44</td>\n",
       "      <td>4.0</td>\n",
       "      <td>142051.07</td>\n",
       "      <td>2</td>\n",
       "      <td>0</td>\n",
       "      <td>1</td>\n",
       "      <td>74940.50</td>\n",
       "      <td>0</td>\n",
       "    </tr>\n",
       "    <tr>\n",
       "      <th>9</th>\n",
       "      <td>10</td>\n",
       "      <td>15592389</td>\n",
       "      <td>H?</td>\n",
       "      <td>684</td>\n",
       "      <td>France</td>\n",
       "      <td>Male</td>\n",
       "      <td>27</td>\n",
       "      <td>2.0</td>\n",
       "      <td>134603.88</td>\n",
       "      <td>1</td>\n",
       "      <td>1</td>\n",
       "      <td>1</td>\n",
       "      <td>71725.73</td>\n",
       "      <td>0</td>\n",
       "    </tr>\n",
       "  </tbody>\n",
       "</table>\n",
       "</div>"
      ],
      "text/plain": [
       "   RowNumber  CustomerId   Surname  CreditScore Geography  Gender  Age  \\\n",
       "0          1    15634602  Hargrave          619    France  Female   42   \n",
       "1          2    15647311      Hill          608     Spain  Female   41   \n",
       "2          3    15619304      Onio          502    France  Female   42   \n",
       "3          4    15701354      Boni          699    France  Female   39   \n",
       "4          5    15737888  Mitchell          850     Spain  Female   43   \n",
       "5          6    15574012       Chu          645     Spain    Male   44   \n",
       "6          7    15592531  Bartlett          822    France    Male   50   \n",
       "7          8    15656148    Obinna          376   Germany  Female   29   \n",
       "8          9    15792365        He          501    France    Male   44   \n",
       "9         10    15592389        H?          684    France    Male   27   \n",
       "\n",
       "   Tenure    Balance  NumOfProducts  HasCrCard  IsActiveMember  \\\n",
       "0     2.0       0.00              1          1               1   \n",
       "1     1.0   83807.86              1          0               1   \n",
       "2     8.0  159660.80              3          1               0   \n",
       "3     1.0       0.00              2          0               0   \n",
       "4     2.0  125510.82              1          1               1   \n",
       "5     8.0  113755.78              2          1               0   \n",
       "6     7.0       0.00              2          1               1   \n",
       "7     4.0  115046.74              4          1               0   \n",
       "8     4.0  142051.07              2          0               1   \n",
       "9     2.0  134603.88              1          1               1   \n",
       "\n",
       "   EstimatedSalary  Exited  \n",
       "0        101348.88       1  \n",
       "1        112542.58       0  \n",
       "2        113931.57       1  \n",
       "3         93826.63       0  \n",
       "4         79084.10       0  \n",
       "5        149756.71       1  \n",
       "6         10062.80       0  \n",
       "7        119346.88       1  \n",
       "8         74940.50       0  \n",
       "9         71725.73       0  "
      ]
     },
     "execution_count": 3,
     "metadata": {},
     "output_type": "execute_result"
    }
   ],
   "source": [
    "data.head(10)"
   ]
  },
  {
   "cell_type": "markdown",
   "metadata": {},
   "source": [
    "Удалим те столбцы, которые не будут использоваться в анализе данных."
   ]
  },
  {
   "cell_type": "code",
   "execution_count": 4,
   "metadata": {
    "scrolled": false
   },
   "outputs": [],
   "source": [
    "data.drop(['RowNumber', 'Surname', 'CustomerId'], axis=1, inplace=True)"
   ]
  },
  {
   "cell_type": "code",
   "execution_count": 5,
   "metadata": {},
   "outputs": [
    {
     "data": {
      "text/html": [
       "<div>\n",
       "<style scoped>\n",
       "    .dataframe tbody tr th:only-of-type {\n",
       "        vertical-align: middle;\n",
       "    }\n",
       "\n",
       "    .dataframe tbody tr th {\n",
       "        vertical-align: top;\n",
       "    }\n",
       "\n",
       "    .dataframe thead th {\n",
       "        text-align: right;\n",
       "    }\n",
       "</style>\n",
       "<table border=\"1\" class=\"dataframe\">\n",
       "  <thead>\n",
       "    <tr style=\"text-align: right;\">\n",
       "      <th></th>\n",
       "      <th>CreditScore</th>\n",
       "      <th>Geography</th>\n",
       "      <th>Gender</th>\n",
       "      <th>Age</th>\n",
       "      <th>Tenure</th>\n",
       "      <th>Balance</th>\n",
       "      <th>NumOfProducts</th>\n",
       "      <th>HasCrCard</th>\n",
       "      <th>IsActiveMember</th>\n",
       "      <th>EstimatedSalary</th>\n",
       "      <th>Exited</th>\n",
       "    </tr>\n",
       "  </thead>\n",
       "  <tbody>\n",
       "    <tr>\n",
       "      <th>0</th>\n",
       "      <td>619</td>\n",
       "      <td>France</td>\n",
       "      <td>Female</td>\n",
       "      <td>42</td>\n",
       "      <td>2.0</td>\n",
       "      <td>0.00</td>\n",
       "      <td>1</td>\n",
       "      <td>1</td>\n",
       "      <td>1</td>\n",
       "      <td>101348.88</td>\n",
       "      <td>1</td>\n",
       "    </tr>\n",
       "    <tr>\n",
       "      <th>1</th>\n",
       "      <td>608</td>\n",
       "      <td>Spain</td>\n",
       "      <td>Female</td>\n",
       "      <td>41</td>\n",
       "      <td>1.0</td>\n",
       "      <td>83807.86</td>\n",
       "      <td>1</td>\n",
       "      <td>0</td>\n",
       "      <td>1</td>\n",
       "      <td>112542.58</td>\n",
       "      <td>0</td>\n",
       "    </tr>\n",
       "    <tr>\n",
       "      <th>2</th>\n",
       "      <td>502</td>\n",
       "      <td>France</td>\n",
       "      <td>Female</td>\n",
       "      <td>42</td>\n",
       "      <td>8.0</td>\n",
       "      <td>159660.80</td>\n",
       "      <td>3</td>\n",
       "      <td>1</td>\n",
       "      <td>0</td>\n",
       "      <td>113931.57</td>\n",
       "      <td>1</td>\n",
       "    </tr>\n",
       "    <tr>\n",
       "      <th>3</th>\n",
       "      <td>699</td>\n",
       "      <td>France</td>\n",
       "      <td>Female</td>\n",
       "      <td>39</td>\n",
       "      <td>1.0</td>\n",
       "      <td>0.00</td>\n",
       "      <td>2</td>\n",
       "      <td>0</td>\n",
       "      <td>0</td>\n",
       "      <td>93826.63</td>\n",
       "      <td>0</td>\n",
       "    </tr>\n",
       "    <tr>\n",
       "      <th>4</th>\n",
       "      <td>850</td>\n",
       "      <td>Spain</td>\n",
       "      <td>Female</td>\n",
       "      <td>43</td>\n",
       "      <td>2.0</td>\n",
       "      <td>125510.82</td>\n",
       "      <td>1</td>\n",
       "      <td>1</td>\n",
       "      <td>1</td>\n",
       "      <td>79084.10</td>\n",
       "      <td>0</td>\n",
       "    </tr>\n",
       "  </tbody>\n",
       "</table>\n",
       "</div>"
      ],
      "text/plain": [
       "   CreditScore Geography  Gender  Age  Tenure    Balance  NumOfProducts  \\\n",
       "0          619    France  Female   42     2.0       0.00              1   \n",
       "1          608     Spain  Female   41     1.0   83807.86              1   \n",
       "2          502    France  Female   42     8.0  159660.80              3   \n",
       "3          699    France  Female   39     1.0       0.00              2   \n",
       "4          850     Spain  Female   43     2.0  125510.82              1   \n",
       "\n",
       "   HasCrCard  IsActiveMember  EstimatedSalary  Exited  \n",
       "0          1               1        101348.88       1  \n",
       "1          0               1        112542.58       0  \n",
       "2          1               0        113931.57       1  \n",
       "3          0               0         93826.63       0  \n",
       "4          1               1         79084.10       0  "
      ]
     },
     "execution_count": 5,
     "metadata": {},
     "output_type": "execute_result"
    }
   ],
   "source": [
    "data.head(5)"
   ]
  },
  {
   "cell_type": "code",
   "execution_count": 6,
   "metadata": {},
   "outputs": [
    {
     "name": "stdout",
     "output_type": "stream",
     "text": [
      "<class 'pandas.core.frame.DataFrame'>\n",
      "RangeIndex: 10000 entries, 0 to 9999\n",
      "Data columns (total 11 columns):\n",
      " #   Column           Non-Null Count  Dtype  \n",
      "---  ------           --------------  -----  \n",
      " 0   CreditScore      10000 non-null  int64  \n",
      " 1   Geography        10000 non-null  object \n",
      " 2   Gender           10000 non-null  object \n",
      " 3   Age              10000 non-null  int64  \n",
      " 4   Tenure           9091 non-null   float64\n",
      " 5   Balance          10000 non-null  float64\n",
      " 6   NumOfProducts    10000 non-null  int64  \n",
      " 7   HasCrCard        10000 non-null  int64  \n",
      " 8   IsActiveMember   10000 non-null  int64  \n",
      " 9   EstimatedSalary  10000 non-null  float64\n",
      " 10  Exited           10000 non-null  int64  \n",
      "dtypes: float64(3), int64(6), object(2)\n",
      "memory usage: 859.5+ KB\n"
     ]
    }
   ],
   "source": [
    "data.info()"
   ]
  },
  {
   "cell_type": "code",
   "execution_count": 7,
   "metadata": {
    "scrolled": false
   },
   "outputs": [
    {
     "data": {
      "text/html": [
       "<div>\n",
       "<style scoped>\n",
       "    .dataframe tbody tr th:only-of-type {\n",
       "        vertical-align: middle;\n",
       "    }\n",
       "\n",
       "    .dataframe tbody tr th {\n",
       "        vertical-align: top;\n",
       "    }\n",
       "\n",
       "    .dataframe thead th {\n",
       "        text-align: right;\n",
       "    }\n",
       "</style>\n",
       "<table border=\"1\" class=\"dataframe\">\n",
       "  <thead>\n",
       "    <tr style=\"text-align: right;\">\n",
       "      <th></th>\n",
       "      <th>CreditScore</th>\n",
       "      <th>Age</th>\n",
       "      <th>Tenure</th>\n",
       "      <th>Balance</th>\n",
       "      <th>NumOfProducts</th>\n",
       "      <th>HasCrCard</th>\n",
       "      <th>IsActiveMember</th>\n",
       "      <th>EstimatedSalary</th>\n",
       "      <th>Exited</th>\n",
       "    </tr>\n",
       "  </thead>\n",
       "  <tbody>\n",
       "    <tr>\n",
       "      <th>count</th>\n",
       "      <td>10000.000000</td>\n",
       "      <td>10000.000000</td>\n",
       "      <td>9091.000000</td>\n",
       "      <td>10000.000000</td>\n",
       "      <td>10000.000000</td>\n",
       "      <td>10000.00000</td>\n",
       "      <td>10000.000000</td>\n",
       "      <td>10000.000000</td>\n",
       "      <td>10000.000000</td>\n",
       "    </tr>\n",
       "    <tr>\n",
       "      <th>mean</th>\n",
       "      <td>650.528800</td>\n",
       "      <td>38.921800</td>\n",
       "      <td>4.997690</td>\n",
       "      <td>76485.889288</td>\n",
       "      <td>1.530200</td>\n",
       "      <td>0.70550</td>\n",
       "      <td>0.515100</td>\n",
       "      <td>100090.239881</td>\n",
       "      <td>0.203700</td>\n",
       "    </tr>\n",
       "    <tr>\n",
       "      <th>std</th>\n",
       "      <td>96.653299</td>\n",
       "      <td>10.487806</td>\n",
       "      <td>2.894723</td>\n",
       "      <td>62397.405202</td>\n",
       "      <td>0.581654</td>\n",
       "      <td>0.45584</td>\n",
       "      <td>0.499797</td>\n",
       "      <td>57510.492818</td>\n",
       "      <td>0.402769</td>\n",
       "    </tr>\n",
       "    <tr>\n",
       "      <th>min</th>\n",
       "      <td>350.000000</td>\n",
       "      <td>18.000000</td>\n",
       "      <td>0.000000</td>\n",
       "      <td>0.000000</td>\n",
       "      <td>1.000000</td>\n",
       "      <td>0.00000</td>\n",
       "      <td>0.000000</td>\n",
       "      <td>11.580000</td>\n",
       "      <td>0.000000</td>\n",
       "    </tr>\n",
       "    <tr>\n",
       "      <th>25%</th>\n",
       "      <td>584.000000</td>\n",
       "      <td>32.000000</td>\n",
       "      <td>2.000000</td>\n",
       "      <td>0.000000</td>\n",
       "      <td>1.000000</td>\n",
       "      <td>0.00000</td>\n",
       "      <td>0.000000</td>\n",
       "      <td>51002.110000</td>\n",
       "      <td>0.000000</td>\n",
       "    </tr>\n",
       "    <tr>\n",
       "      <th>50%</th>\n",
       "      <td>652.000000</td>\n",
       "      <td>37.000000</td>\n",
       "      <td>5.000000</td>\n",
       "      <td>97198.540000</td>\n",
       "      <td>1.000000</td>\n",
       "      <td>1.00000</td>\n",
       "      <td>1.000000</td>\n",
       "      <td>100193.915000</td>\n",
       "      <td>0.000000</td>\n",
       "    </tr>\n",
       "    <tr>\n",
       "      <th>75%</th>\n",
       "      <td>718.000000</td>\n",
       "      <td>44.000000</td>\n",
       "      <td>7.000000</td>\n",
       "      <td>127644.240000</td>\n",
       "      <td>2.000000</td>\n",
       "      <td>1.00000</td>\n",
       "      <td>1.000000</td>\n",
       "      <td>149388.247500</td>\n",
       "      <td>0.000000</td>\n",
       "    </tr>\n",
       "    <tr>\n",
       "      <th>max</th>\n",
       "      <td>850.000000</td>\n",
       "      <td>92.000000</td>\n",
       "      <td>10.000000</td>\n",
       "      <td>250898.090000</td>\n",
       "      <td>4.000000</td>\n",
       "      <td>1.00000</td>\n",
       "      <td>1.000000</td>\n",
       "      <td>199992.480000</td>\n",
       "      <td>1.000000</td>\n",
       "    </tr>\n",
       "  </tbody>\n",
       "</table>\n",
       "</div>"
      ],
      "text/plain": [
       "        CreditScore           Age       Tenure        Balance  NumOfProducts  \\\n",
       "count  10000.000000  10000.000000  9091.000000   10000.000000   10000.000000   \n",
       "mean     650.528800     38.921800     4.997690   76485.889288       1.530200   \n",
       "std       96.653299     10.487806     2.894723   62397.405202       0.581654   \n",
       "min      350.000000     18.000000     0.000000       0.000000       1.000000   \n",
       "25%      584.000000     32.000000     2.000000       0.000000       1.000000   \n",
       "50%      652.000000     37.000000     5.000000   97198.540000       1.000000   \n",
       "75%      718.000000     44.000000     7.000000  127644.240000       2.000000   \n",
       "max      850.000000     92.000000    10.000000  250898.090000       4.000000   \n",
       "\n",
       "         HasCrCard  IsActiveMember  EstimatedSalary        Exited  \n",
       "count  10000.00000    10000.000000     10000.000000  10000.000000  \n",
       "mean       0.70550        0.515100    100090.239881      0.203700  \n",
       "std        0.45584        0.499797     57510.492818      0.402769  \n",
       "min        0.00000        0.000000        11.580000      0.000000  \n",
       "25%        0.00000        0.000000     51002.110000      0.000000  \n",
       "50%        1.00000        1.000000    100193.915000      0.000000  \n",
       "75%        1.00000        1.000000    149388.247500      0.000000  \n",
       "max        1.00000        1.000000    199992.480000      1.000000  "
      ]
     },
     "execution_count": 7,
     "metadata": {},
     "output_type": "execute_result"
    }
   ],
   "source": [
    "data.describe()"
   ]
  },
  {
   "cell_type": "code",
   "execution_count": 8,
   "metadata": {
    "scrolled": true
   },
   "outputs": [
    {
     "data": {
      "text/plain": [
       "0    0.7963\n",
       "1    0.2037\n",
       "Name: Exited, dtype: float64"
      ]
     },
     "execution_count": 8,
     "metadata": {},
     "output_type": "execute_result"
    }
   ],
   "source": [
    "data['Exited'].value_counts(normalize=True)"
   ]
  },
  {
   "cell_type": "markdown",
   "metadata": {},
   "source": [
    "На данном этапе были замечены пропуски данных в столбце `Tenure`. Стоит проверить и заполнить эти пропуски.\n",
    "\n",
    "Также были удаленны столбцы, которые не будут участвовать в будущем обучении модели\n",
    "\n",
    "Можно увидеть, что в данной выборке, покидают банк около 20% клиентов"
   ]
  },
  {
   "cell_type": "markdown",
   "metadata": {},
   "source": [
    "### Предобработка данных"
   ]
  },
  {
   "cell_type": "markdown",
   "metadata": {},
   "source": [
    "Для удобства, приведем название стобцов и все данные в столбцах к нижнему регистру"
   ]
  },
  {
   "cell_type": "code",
   "execution_count": 9,
   "metadata": {},
   "outputs": [],
   "source": [
    "data.columns = data.columns.str.lower()"
   ]
  },
  {
   "cell_type": "code",
   "execution_count": 10,
   "metadata": {
    "scrolled": true
   },
   "outputs": [
    {
     "data": {
      "text/plain": [
       "Index(['creditscore', 'geography', 'gender', 'age', 'tenure', 'balance',\n",
       "       'numofproducts', 'hascrcard', 'isactivemember', 'estimatedsalary',\n",
       "       'exited'],\n",
       "      dtype='object')"
      ]
     },
     "execution_count": 10,
     "metadata": {},
     "output_type": "execute_result"
    }
   ],
   "source": [
    "data.columns"
   ]
  },
  {
   "cell_type": "code",
   "execution_count": 11,
   "metadata": {},
   "outputs": [],
   "source": [
    "for column in data[['geography','gender']]:\n",
    "    data[column] = data[column].str.lower()"
   ]
  },
  {
   "cell_type": "code",
   "execution_count": 12,
   "metadata": {
    "scrolled": true
   },
   "outputs": [
    {
     "data": {
      "text/html": [
       "<div>\n",
       "<style scoped>\n",
       "    .dataframe tbody tr th:only-of-type {\n",
       "        vertical-align: middle;\n",
       "    }\n",
       "\n",
       "    .dataframe tbody tr th {\n",
       "        vertical-align: top;\n",
       "    }\n",
       "\n",
       "    .dataframe thead th {\n",
       "        text-align: right;\n",
       "    }\n",
       "</style>\n",
       "<table border=\"1\" class=\"dataframe\">\n",
       "  <thead>\n",
       "    <tr style=\"text-align: right;\">\n",
       "      <th></th>\n",
       "      <th>creditscore</th>\n",
       "      <th>geography</th>\n",
       "      <th>gender</th>\n",
       "      <th>age</th>\n",
       "      <th>tenure</th>\n",
       "      <th>balance</th>\n",
       "      <th>numofproducts</th>\n",
       "      <th>hascrcard</th>\n",
       "      <th>isactivemember</th>\n",
       "      <th>estimatedsalary</th>\n",
       "      <th>exited</th>\n",
       "    </tr>\n",
       "  </thead>\n",
       "  <tbody>\n",
       "    <tr>\n",
       "      <th>0</th>\n",
       "      <td>619</td>\n",
       "      <td>france</td>\n",
       "      <td>female</td>\n",
       "      <td>42</td>\n",
       "      <td>2.0</td>\n",
       "      <td>0.00</td>\n",
       "      <td>1</td>\n",
       "      <td>1</td>\n",
       "      <td>1</td>\n",
       "      <td>101348.88</td>\n",
       "      <td>1</td>\n",
       "    </tr>\n",
       "    <tr>\n",
       "      <th>1</th>\n",
       "      <td>608</td>\n",
       "      <td>spain</td>\n",
       "      <td>female</td>\n",
       "      <td>41</td>\n",
       "      <td>1.0</td>\n",
       "      <td>83807.86</td>\n",
       "      <td>1</td>\n",
       "      <td>0</td>\n",
       "      <td>1</td>\n",
       "      <td>112542.58</td>\n",
       "      <td>0</td>\n",
       "    </tr>\n",
       "    <tr>\n",
       "      <th>2</th>\n",
       "      <td>502</td>\n",
       "      <td>france</td>\n",
       "      <td>female</td>\n",
       "      <td>42</td>\n",
       "      <td>8.0</td>\n",
       "      <td>159660.80</td>\n",
       "      <td>3</td>\n",
       "      <td>1</td>\n",
       "      <td>0</td>\n",
       "      <td>113931.57</td>\n",
       "      <td>1</td>\n",
       "    </tr>\n",
       "  </tbody>\n",
       "</table>\n",
       "</div>"
      ],
      "text/plain": [
       "   creditscore geography  gender  age  tenure    balance  numofproducts  \\\n",
       "0          619    france  female   42     2.0       0.00              1   \n",
       "1          608     spain  female   41     1.0   83807.86              1   \n",
       "2          502    france  female   42     8.0  159660.80              3   \n",
       "\n",
       "   hascrcard  isactivemember  estimatedsalary  exited  \n",
       "0          1               1        101348.88       1  \n",
       "1          0               1        112542.58       0  \n",
       "2          1               0        113931.57       1  "
      ]
     },
     "execution_count": 12,
     "metadata": {},
     "output_type": "execute_result"
    }
   ],
   "source": [
    "data.head(3)"
   ]
  },
  {
   "cell_type": "markdown",
   "metadata": {},
   "source": [
    "Приведем названия столбцов к змеиному регистру"
   ]
  },
  {
   "cell_type": "code",
   "execution_count": 13,
   "metadata": {},
   "outputs": [],
   "source": [
    "data = data.rename( \n",
    "    columns={\n",
    "        'rownumber' : 'row_number',\n",
    "        'customerid' : 'customer_id',\n",
    "        'creditscore' : 'credit_score',\n",
    "        'numofproducts' : 'num_of_products',\n",
    "        'hascrcard' : 'has_cr_card',\n",
    "        'isactivemember' : 'is_active_member',\n",
    "        'estimatedsalary' : 'estimated_salary'\n",
    "    }\n",
    ")"
   ]
  },
  {
   "cell_type": "code",
   "execution_count": 14,
   "metadata": {
    "scrolled": true
   },
   "outputs": [
    {
     "data": {
      "text/plain": [
       "Index(['credit_score', 'geography', 'gender', 'age', 'tenure', 'balance',\n",
       "       'num_of_products', 'has_cr_card', 'is_active_member',\n",
       "       'estimated_salary', 'exited'],\n",
       "      dtype='object')"
      ]
     },
     "execution_count": 14,
     "metadata": {},
     "output_type": "execute_result"
    }
   ],
   "source": [
    "data.columns"
   ]
  },
  {
   "cell_type": "code",
   "execution_count": 15,
   "metadata": {
    "scrolled": false
   },
   "outputs": [
    {
     "data": {
      "text/plain": [
       "0"
      ]
     },
     "execution_count": 15,
     "metadata": {},
     "output_type": "execute_result"
    }
   ],
   "source": [
    "data.duplicated().sum()"
   ]
  },
  {
   "cell_type": "markdown",
   "metadata": {},
   "source": [
    "#### Столбец `tenure`"
   ]
  },
  {
   "cell_type": "code",
   "execution_count": 16,
   "metadata": {
    "scrolled": true
   },
   "outputs": [
    {
     "data": {
      "text/plain": [
       "1.0     952\n",
       "2.0     950\n",
       "8.0     933\n",
       "3.0     928\n",
       "5.0     927\n",
       "7.0     925\n",
       "4.0     885\n",
       "9.0     882\n",
       "6.0     881\n",
       "10.0    446\n",
       "0.0     382\n",
       "Name: tenure, dtype: int64"
      ]
     },
     "execution_count": 16,
     "metadata": {},
     "output_type": "execute_result"
    }
   ],
   "source": [
    "data['tenure'].value_counts()"
   ]
  },
  {
   "cell_type": "code",
   "execution_count": 17,
   "metadata": {},
   "outputs": [
    {
     "data": {
      "text/plain": [
       "909"
      ]
     },
     "execution_count": 17,
     "metadata": {},
     "output_type": "execute_result"
    }
   ],
   "source": [
    "data['tenure'].isna().sum()"
   ]
  },
  {
   "cell_type": "markdown",
   "metadata": {},
   "source": [
    "Не известно из-за чего могли появится пропуски. Может это просто ошибка ввода данных, или имеется ввиду, что клиент только открыл счет в банке. В любом случае, данный столбец скорее всего не сильно повлияют на будущую модель обучения, так что было принято решение заменить пропуски на \"0\""
   ]
  },
  {
   "cell_type": "code",
   "execution_count": 18,
   "metadata": {},
   "outputs": [],
   "source": [
    "data['tenure'] = data['tenure'].fillna(0)"
   ]
  },
  {
   "cell_type": "code",
   "execution_count": 19,
   "metadata": {
    "scrolled": true
   },
   "outputs": [
    {
     "data": {
      "text/plain": [
       "0.0     1291\n",
       "1.0      952\n",
       "2.0      950\n",
       "8.0      933\n",
       "3.0      928\n",
       "5.0      927\n",
       "7.0      925\n",
       "4.0      885\n",
       "9.0      882\n",
       "6.0      881\n",
       "10.0     446\n",
       "Name: tenure, dtype: int64"
      ]
     },
     "execution_count": 19,
     "metadata": {},
     "output_type": "execute_result"
    }
   ],
   "source": [
    "data['tenure'].value_counts()"
   ]
  },
  {
   "cell_type": "code",
   "execution_count": 20,
   "metadata": {},
   "outputs": [
    {
     "data": {
      "text/plain": [
       "0"
      ]
     },
     "execution_count": 20,
     "metadata": {},
     "output_type": "execute_result"
    }
   ],
   "source": [
    "data['tenure'].isna().sum()"
   ]
  },
  {
   "cell_type": "markdown",
   "metadata": {},
   "source": [
    "Преобразуем значения столбца `tenure` в целочисленный формат"
   ]
  },
  {
   "cell_type": "code",
   "execution_count": 21,
   "metadata": {},
   "outputs": [],
   "source": [
    "data['tenure'] = data['tenure'].astype(int)"
   ]
  },
  {
   "cell_type": "code",
   "execution_count": 22,
   "metadata": {
    "scrolled": true
   },
   "outputs": [
    {
     "name": "stdout",
     "output_type": "stream",
     "text": [
      "<class 'pandas.core.frame.DataFrame'>\n",
      "RangeIndex: 10000 entries, 0 to 9999\n",
      "Data columns (total 11 columns):\n",
      " #   Column            Non-Null Count  Dtype  \n",
      "---  ------            --------------  -----  \n",
      " 0   credit_score      10000 non-null  int64  \n",
      " 1   geography         10000 non-null  object \n",
      " 2   gender            10000 non-null  object \n",
      " 3   age               10000 non-null  int64  \n",
      " 4   tenure            10000 non-null  int64  \n",
      " 5   balance           10000 non-null  float64\n",
      " 6   num_of_products   10000 non-null  int64  \n",
      " 7   has_cr_card       10000 non-null  int64  \n",
      " 8   is_active_member  10000 non-null  int64  \n",
      " 9   estimated_salary  10000 non-null  float64\n",
      " 10  exited            10000 non-null  int64  \n",
      "dtypes: float64(2), int64(7), object(2)\n",
      "memory usage: 859.5+ KB\n"
     ]
    }
   ],
   "source": [
    "data.info()"
   ]
  },
  {
   "cell_type": "markdown",
   "metadata": {},
   "source": [
    "Были заменены пропуски в столбце `tenure`, А также приведены к нижнему регистру названия и значения столбцов. Дубликатов и аномалий не было найдено. Данные готовы к обучению."
   ]
  },
  {
   "cell_type": "markdown",
   "metadata": {},
   "source": [
    "## Исследование задачи"
   ]
  },
  {
   "cell_type": "markdown",
   "metadata": {},
   "source": [
    "Сделаем кодирование категориальных признаков методом one_hot_encording подходящим для разных видов ML, и поделим данные на тренировочную, валидационную и тестовую выборки"
   ]
  },
  {
   "cell_type": "code",
   "execution_count": 23,
   "metadata": {},
   "outputs": [],
   "source": [
    "data_ohe = pd.get_dummies(data, drop_first=True)"
   ]
  },
  {
   "cell_type": "code",
   "execution_count": 24,
   "metadata": {
    "scrolled": true
   },
   "outputs": [
    {
     "data": {
      "text/html": [
       "<div>\n",
       "<style scoped>\n",
       "    .dataframe tbody tr th:only-of-type {\n",
       "        vertical-align: middle;\n",
       "    }\n",
       "\n",
       "    .dataframe tbody tr th {\n",
       "        vertical-align: top;\n",
       "    }\n",
       "\n",
       "    .dataframe thead th {\n",
       "        text-align: right;\n",
       "    }\n",
       "</style>\n",
       "<table border=\"1\" class=\"dataframe\">\n",
       "  <thead>\n",
       "    <tr style=\"text-align: right;\">\n",
       "      <th></th>\n",
       "      <th>credit_score</th>\n",
       "      <th>age</th>\n",
       "      <th>tenure</th>\n",
       "      <th>balance</th>\n",
       "      <th>num_of_products</th>\n",
       "      <th>has_cr_card</th>\n",
       "      <th>is_active_member</th>\n",
       "      <th>estimated_salary</th>\n",
       "      <th>exited</th>\n",
       "      <th>geography_germany</th>\n",
       "      <th>geography_spain</th>\n",
       "      <th>gender_male</th>\n",
       "    </tr>\n",
       "  </thead>\n",
       "  <tbody>\n",
       "    <tr>\n",
       "      <th>0</th>\n",
       "      <td>619</td>\n",
       "      <td>42</td>\n",
       "      <td>2</td>\n",
       "      <td>0.00</td>\n",
       "      <td>1</td>\n",
       "      <td>1</td>\n",
       "      <td>1</td>\n",
       "      <td>101348.88</td>\n",
       "      <td>1</td>\n",
       "      <td>0</td>\n",
       "      <td>0</td>\n",
       "      <td>0</td>\n",
       "    </tr>\n",
       "    <tr>\n",
       "      <th>1</th>\n",
       "      <td>608</td>\n",
       "      <td>41</td>\n",
       "      <td>1</td>\n",
       "      <td>83807.86</td>\n",
       "      <td>1</td>\n",
       "      <td>0</td>\n",
       "      <td>1</td>\n",
       "      <td>112542.58</td>\n",
       "      <td>0</td>\n",
       "      <td>0</td>\n",
       "      <td>1</td>\n",
       "      <td>0</td>\n",
       "    </tr>\n",
       "    <tr>\n",
       "      <th>2</th>\n",
       "      <td>502</td>\n",
       "      <td>42</td>\n",
       "      <td>8</td>\n",
       "      <td>159660.80</td>\n",
       "      <td>3</td>\n",
       "      <td>1</td>\n",
       "      <td>0</td>\n",
       "      <td>113931.57</td>\n",
       "      <td>1</td>\n",
       "      <td>0</td>\n",
       "      <td>0</td>\n",
       "      <td>0</td>\n",
       "    </tr>\n",
       "    <tr>\n",
       "      <th>3</th>\n",
       "      <td>699</td>\n",
       "      <td>39</td>\n",
       "      <td>1</td>\n",
       "      <td>0.00</td>\n",
       "      <td>2</td>\n",
       "      <td>0</td>\n",
       "      <td>0</td>\n",
       "      <td>93826.63</td>\n",
       "      <td>0</td>\n",
       "      <td>0</td>\n",
       "      <td>0</td>\n",
       "      <td>0</td>\n",
       "    </tr>\n",
       "    <tr>\n",
       "      <th>4</th>\n",
       "      <td>850</td>\n",
       "      <td>43</td>\n",
       "      <td>2</td>\n",
       "      <td>125510.82</td>\n",
       "      <td>1</td>\n",
       "      <td>1</td>\n",
       "      <td>1</td>\n",
       "      <td>79084.10</td>\n",
       "      <td>0</td>\n",
       "      <td>0</td>\n",
       "      <td>1</td>\n",
       "      <td>0</td>\n",
       "    </tr>\n",
       "  </tbody>\n",
       "</table>\n",
       "</div>"
      ],
      "text/plain": [
       "   credit_score  age  tenure    balance  num_of_products  has_cr_card  \\\n",
       "0           619   42       2       0.00                1            1   \n",
       "1           608   41       1   83807.86                1            0   \n",
       "2           502   42       8  159660.80                3            1   \n",
       "3           699   39       1       0.00                2            0   \n",
       "4           850   43       2  125510.82                1            1   \n",
       "\n",
       "   is_active_member  estimated_salary  exited  geography_germany  \\\n",
       "0                 1         101348.88       1                  0   \n",
       "1                 1         112542.58       0                  0   \n",
       "2                 0         113931.57       1                  0   \n",
       "3                 0          93826.63       0                  0   \n",
       "4                 1          79084.10       0                  0   \n",
       "\n",
       "   geography_spain  gender_male  \n",
       "0                0            0  \n",
       "1                1            0  \n",
       "2                0            0  \n",
       "3                0            0  \n",
       "4                1            0  "
      ]
     },
     "execution_count": 24,
     "metadata": {},
     "output_type": "execute_result"
    }
   ],
   "source": [
    "data_ohe.head(5)"
   ]
  },
  {
   "cell_type": "code",
   "execution_count": 25,
   "metadata": {
    "scrolled": true
   },
   "outputs": [
    {
     "data": {
      "text/plain": [
       "(10000, 12)"
      ]
     },
     "execution_count": 25,
     "metadata": {},
     "output_type": "execute_result"
    }
   ],
   "source": [
    "data_ohe.shape"
   ]
  },
  {
   "cell_type": "code",
   "execution_count": 26,
   "metadata": {},
   "outputs": [],
   "source": [
    "target = data_ohe['exited']\n",
    "features = data_ohe.drop('exited', axis=1)"
   ]
  },
  {
   "cell_type": "code",
   "execution_count": 27,
   "metadata": {},
   "outputs": [
    {
     "name": "stdout",
     "output_type": "stream",
     "text": [
      "Размер обучающей выборки: (6000, 11)\n",
      "Размер тестовой выборки: (2000, 11)\n",
      "Размер валидационной выборки: (2000, 11)\n"
     ]
    }
   ],
   "source": [
    "features_train, features_valid, target_train, target_valid = train_test_split(features, target, test_size=0.4, \n",
    "                                                                              random_state=12345)\n",
    "features_valid, features_test, target_valid, target_test = train_test_split(features_valid, target_valid, test_size=0.5, \n",
    "                                                                              random_state=12345 )\n",
    "print('Размер обучающей выборки:', features_train.shape)\n",
    "print('Размер тестовой выборки:', features_test.shape)\n",
    "print('Размер валидационной выборки:', features_valid.shape)"
   ]
  },
  {
   "cell_type": "markdown",
   "metadata": {},
   "source": [
    "**Обучающая выборка**\n",
    "\n",
    "`features_train`\n",
    "`target_train`\n",
    "\n",
    "**Валидационная выборка**\n",
    "\n",
    "`features_valid`\n",
    "`target_valid`\n",
    "\n",
    "**Тренировочная выборка**\n",
    "\n",
    "`features_test`\n",
    "`target_test`"
   ]
  },
  {
   "cell_type": "markdown",
   "metadata": {},
   "source": [
    "Далее стоит провести масштабированние данных."
   ]
  },
  {
   "cell_type": "code",
   "execution_count": 28,
   "metadata": {},
   "outputs": [],
   "source": [
    "numeric = ['credit_score', 'age', 'tenure', 'balance', 'num_of_products', 'estimated_salary' ]"
   ]
  },
  {
   "cell_type": "code",
   "execution_count": 29,
   "metadata": {
    "scrolled": true
   },
   "outputs": [
    {
     "name": "stderr",
     "output_type": "stream",
     "text": [
      "/tmp/ipykernel_86/1706106210.py:3: SettingWithCopyWarning: \n",
      "A value is trying to be set on a copy of a slice from a DataFrame.\n",
      "Try using .loc[row_indexer,col_indexer] = value instead\n",
      "\n",
      "See the caveats in the documentation: https://pandas.pydata.org/pandas-docs/stable/user_guide/indexing.html#returning-a-view-versus-a-copy\n",
      "  features_train[numeric] = scaler.transform(features_train[numeric])\n",
      "/opt/conda/lib/python3.9/site-packages/pandas/core/indexing.py:1738: SettingWithCopyWarning: \n",
      "A value is trying to be set on a copy of a slice from a DataFrame.\n",
      "Try using .loc[row_indexer,col_indexer] = value instead\n",
      "\n",
      "See the caveats in the documentation: https://pandas.pydata.org/pandas-docs/stable/user_guide/indexing.html#returning-a-view-versus-a-copy\n",
      "  self._setitem_single_column(loc, value[:, i].tolist(), pi)\n"
     ]
    }
   ],
   "source": [
    "scaler = StandardScaler()\n",
    "scaler.fit(features_train[numeric])\n",
    "features_train[numeric] = scaler.transform(features_train[numeric])\n",
    "features_valid[numeric] = scaler.transform(features_valid[numeric])\n",
    "features_test[numeric] = scaler.transform(features_test[numeric])"
   ]
  },
  {
   "cell_type": "markdown",
   "metadata": {},
   "source": [
    "### Проверка адекватности константной модели"
   ]
  },
  {
   "cell_type": "markdown",
   "metadata": {},
   "source": [
    "Для начала, проверим константную модель на адекватность. За константу примем пример 0, так как это значение встречается 80% случаев"
   ]
  },
  {
   "cell_type": "code",
   "execution_count": 30,
   "metadata": {},
   "outputs": [
    {
     "name": "stdout",
     "output_type": "stream",
     "text": [
      "Точность константной модели: 0.791\n",
      "F1-метрика константной модели: 0.59\n"
     ]
    }
   ],
   "source": [
    "target_pred_constant = pd.Series(0, index=target_valid.index)\n",
    "accuracy_constant = accuracy_score(target_valid, target_pred_constant)\n",
    "f1_constant = .59\n",
    "print('Точность константной модели:', accuracy_constant) \n",
    "print('F1-метрика константной модели:', f1_constant)"
   ]
  },
  {
   "cell_type": "markdown",
   "metadata": {},
   "source": [
    "### Дерево решений"
   ]
  },
  {
   "cell_type": "code",
   "execution_count": 31,
   "metadata": {
    "scrolled": true
   },
   "outputs": [
    {
     "name": "stdout",
     "output_type": "stream",
     "text": [
      "Глубина дерева: 1 Качество модели 0.791 F1: 0.0\n",
      "Глубина дерева: 2 Качество модели 0.824 F1: 0.5217391304347825\n",
      "Глубина дерева: 3 Качество модели 0.838 F1: 0.4234875444839857\n",
      "Глубина дерева: 4 Качество модели 0.852 F1: 0.5528700906344411\n",
      "Глубина дерева: 5 Качество модели 0.853 F1: 0.5406249999999999\n",
      "Глубина дерева: 6 Качество модели 0.858 F1: 0.5696969696969697\n",
      "Глубина дерева: 7 Качество модели 0.8505 F1: 0.5320813771517998\n",
      "Глубина дерева: 8 Качество модели 0.8505 F1: 0.5449010654490106\n",
      "Глубина дерева: 9 Качество модели 0.85 F1: 0.5786516853932585\n",
      "Глубина дерева: 10 Качество модели 0.8335 F1: 0.528995756718529\n",
      "Глубина дерева: 11 Качество модели 0.821 F1: 0.5201072386058981\n",
      "Глубина дерева: 12 Качество модели 0.809 F1: 0.5013054830287207\n",
      "Глубина дерева: 13 Качество модели 0.817 F1: 0.5259067357512954\n",
      "Глубина дерева: 14 Качество модели 0.7995 F1: 0.48391248391248387\n",
      "Глубина дерева: 15 Качество модели 0.802 F1: 0.5025125628140703\n",
      "Глубина дерева: 16 Качество модели 0.798 F1: 0.491183879093199\n",
      "Глубина дерева: 17 Качество модели 0.786 F1: 0.47160493827160493\n",
      "Глубина дерева: 18 Качество модели 0.793 F1: 0.49014778325123154\n",
      "Глубина дерева: 19 Качество модели 0.7905 F1: 0.4921212121212121\n",
      "Глубина дерева: 20 Качество модели 0.794 F1: 0.5024154589371981\n",
      "Глубина дерева: 21 Качество модели 0.7885 F1: 0.4958283671036949\n",
      "Глубина дерева: 22 Качество модели 0.7865 F1: 0.47990255785627284\n",
      "Глубина дерева: 23 Качество модели 0.7865 F1: 0.47990255785627284\n",
      "Глубина дерева: 24 Качество модели 0.7865 F1: 0.47990255785627284\n",
      "Глубина дерева: 25 Качество модели 0.7865 F1: 0.47990255785627284\n",
      "Глубина дерева: 26 Качество модели 0.7865 F1: 0.47990255785627284\n",
      "Глубина дерева: 27 Качество модели 0.7865 F1: 0.47990255785627284\n",
      "Глубина дерева: 28 Качество модели 0.7865 F1: 0.47990255785627284\n",
      "Глубина дерева: 29 Качество модели 0.7865 F1: 0.47990255785627284\n",
      "\n",
      "Лучший результат качества модели: 0.85 при глубине: 9 F1: 0.5786516853932585\n",
      "\n",
      "Точность константной модели: 0.791\n",
      "Данная модель проходит тест на адекватность по точности модели 0.85 > 0.791\n",
      "\n",
      "F1-метрика константной модели: 0.59\n",
      "Данная модель не проходит тест на адекватность по точности модели 0.5786516853932585 < 0.59\n",
      "CPU times: user 782 ms, sys: 17.4 ms, total: 799 ms\n",
      "Wall time: 819 ms\n"
     ]
    }
   ],
   "source": [
    "%%time\n",
    "\n",
    "best_model_dr = None\n",
    "best_accuracy_dr = 0\n",
    "best_depth_dr = 0\n",
    "best_f1_dr = 0\n",
    "\n",
    "for depth in range (1, 30):\n",
    "    model = DecisionTreeClassifier(random_state=12345, max_depth=depth)\n",
    "    model.fit(features_train, target_train)\n",
    "    prediction_dr = model.predict(features_valid)\n",
    "    accuracy_dr = accuracy_score(target_valid, prediction_dr)\n",
    "    f1_dr = f1_score(target_valid, prediction_dr)\n",
    "    if f1_dr > best_f1_dr:\n",
    "        best_model_dr = model\n",
    "        best_accuracy_dr = accuracy_dr\n",
    "        best_depth_dr = depth\n",
    "        best_f1_dr = f1_dr\n",
    "    print('Глубина дерева:', depth, 'Качество модели', accuracy_dr, 'F1:', f1_dr)\n",
    "print('')\n",
    "print(\"Лучший результат качества модели:\", best_accuracy_dr, 'при глубине:', best_depth_dr, 'F1:', best_f1_dr)\n",
    "print('')\n",
    "\n",
    "print('Точность константной модели:', accuracy_constant) \n",
    "if best_accuracy_dr >= accuracy_constant:\n",
    "    print('Данная модель проходит тест на адекватность по точности модели', best_accuracy_dr, '>', accuracy_constant)\n",
    "else:\n",
    "    print('Данная модель не проходит тест на адекватность по точности модели', best_accuracy_dr, '>', accuracy_constant)\n",
    "print('')\n",
    "\n",
    "print('F1-метрика константной модели:', f1_constant)\n",
    "if best_f1_dr >= f1_constant:\n",
    "    print('Данная модель проходит тест на адекватность по точности модели', best_f1_dr, '>', f1_constant)\n",
    "else:\n",
    "    print('Данная модель не проходит тест на адекватность по точности модели', best_f1_dr, '<', f1_constant)"
   ]
  },
  {
   "cell_type": "markdown",
   "metadata": {},
   "source": [
    "### Случайный лес"
   ]
  },
  {
   "cell_type": "code",
   "execution_count": 32,
   "metadata": {
    "scrolled": true
   },
   "outputs": [
    {
     "name": "stdout",
     "output_type": "stream",
     "text": [
      "При количестве деревьев: 1 при глубине: 1 Качество модели 0.8155 F1: 0.2484725050916497\n",
      "При количестве деревьев: 1 при глубине: 3 Качество модели 0.8115 F1: 0.22268041237113403\n",
      "При количестве деревьев: 1 при глубине: 5 Качество модели 0.8335 F1: 0.4346349745331069\n",
      "При количестве деревьев: 1 при глубине: 7 Качество модели 0.8425 F1: 0.5333333333333333\n",
      "При количестве деревьев: 1 при глубине: 9 Качество модели 0.8255 F1: 0.5212620027434842\n",
      "При количестве деревьев: 1 при глубине: 11 Качество модели 0.8085 F1: 0.4886515353805073\n",
      "При количестве деревьев: 1 при глубине: 13 Качество модели 0.8055 F1: 0.5119196988707653\n",
      "При количестве деревьев: 1 при глубине: 15 Качество модели 0.786 F1: 0.5011655011655011\n",
      "При количестве деревьев: 1 при глубине: 17 Качество модели 0.779 F1: 0.47505938242280293\n",
      "При количестве деревьев: 1 при глубине: 19 Качество модели 0.786 F1: 0.49765258215962443\n",
      "При количестве деревьев: 1 при глубине: 21 Качество модели 0.785 F1: 0.4953051643192488\n",
      "При количестве деревьев: 1 при глубине: 23 Качество модели 0.785 F1: 0.4953051643192488\n",
      "При количестве деревьев: 1 при глубине: 25 Качество модели 0.785 F1: 0.4953051643192488\n",
      "При количестве деревьев: 1 при глубине: 27 Качество модели 0.785 F1: 0.4953051643192488\n",
      "При количестве деревьев: 1 при глубине: 29 Качество модели 0.785 F1: 0.4953051643192488\n",
      "При количестве деревьев: 1 при глубине: 31 Качество модели 0.785 F1: 0.4953051643192488\n",
      "При количестве деревьев: 1 при глубине: 33 Качество модели 0.785 F1: 0.4953051643192488\n",
      "При количестве деревьев: 1 при глубине: 35 Качество модели 0.785 F1: 0.4953051643192488\n",
      "При количестве деревьев: 1 при глубине: 37 Качество модели 0.785 F1: 0.4953051643192488\n",
      "При количестве деревьев: 1 при глубине: 39 Качество модели 0.785 F1: 0.4953051643192488\n",
      "При количестве деревьев: 3 при глубине: 1 Качество модели 0.804 F1: 0.12107623318385652\n",
      "При количестве деревьев: 3 при глубине: 3 Качество модели 0.8185 F1: 0.4\n",
      "При количестве деревьев: 3 при глубине: 5 Качество модели 0.8445 F1: 0.499194847020934\n",
      "При количестве деревьев: 3 при глубине: 7 Качество модели 0.8435 F1: 0.5132192846034214\n",
      "При количестве деревьев: 3 при глубине: 9 Качество модели 0.849 F1: 0.5584795321637427\n",
      "При количестве деревьев: 3 при глубине: 11 Качество модели 0.845 F1: 0.5507246376811594\n",
      "При количестве деревьев: 3 при глубине: 13 Качество модели 0.846 F1: 0.5722222222222223\n",
      "При количестве деревьев: 3 при глубине: 15 Качество модели 0.8315 F1: 0.5571616294349541\n",
      "При количестве деревьев: 3 при глубине: 17 Качество модели 0.818 F1: 0.5146666666666667\n",
      "При количестве деревьев: 3 при глубине: 19 Качество модели 0.8335 F1: 0.5419532324621733\n",
      "При количестве деревьев: 3 при глубине: 21 Качество модели 0.8295 F1: 0.5373134328358208\n",
      "При количестве деревьев: 3 при глубине: 23 Качество модели 0.82 F1: 0.518716577540107\n",
      "При количестве деревьев: 3 при глубине: 25 Качество модели 0.827 F1: 0.5411140583554377\n",
      "При количестве деревьев: 3 при глубине: 27 Качество модели 0.827 F1: 0.5411140583554377\n",
      "При количестве деревьев: 3 при глубине: 29 Качество модели 0.827 F1: 0.5411140583554377\n",
      "При количестве деревьев: 3 при глубине: 31 Качество модели 0.827 F1: 0.5411140583554377\n",
      "При количестве деревьев: 3 при глубине: 33 Качество модели 0.827 F1: 0.5411140583554377\n",
      "При количестве деревьев: 3 при глубине: 35 Качество модели 0.827 F1: 0.5411140583554377\n",
      "При количестве деревьев: 3 при глубине: 37 Качество модели 0.827 F1: 0.5411140583554377\n",
      "При количестве деревьев: 3 при глубине: 39 Качество модели 0.827 F1: 0.5411140583554377\n",
      "При количестве деревьев: 5 при глубине: 1 Качество модели 0.8045 F1: 0.12527964205816555\n",
      "При количестве деревьев: 5 при глубине: 3 Качество модели 0.828 F1: 0.362962962962963\n",
      "При количестве деревьев: 5 при глубине: 5 Качество модели 0.8515 F1: 0.509090909090909\n",
      "При количестве деревьев: 5 при глубине: 7 Качество модели 0.8525 F1: 0.555052790346908\n",
      "При количестве деревьев: 5 при глубине: 9 Качество модели 0.857 F1: 0.576923076923077\n",
      "При количестве деревьев: 5 при глубине: 11 Качество модели 0.851 F1: 0.5565476190476191\n",
      "При количестве деревьев: 5 при глубине: 13 Качество модели 0.8505 F1: 0.5734664764621968\n",
      "При количестве деревьев: 5 при глубине: 15 Качество модели 0.8445 F1: 0.5802968960863697\n",
      "При количестве деревьев: 5 при глубине: 17 Качество модели 0.8385 F1: 0.5495118549511855\n",
      "При количестве деревьев: 5 при глубине: 19 Качество модели 0.839 F1: 0.5464788732394366\n",
      "При количестве деревьев: 5 при глубине: 21 Качество модели 0.8435 F1: 0.5622377622377622\n",
      "При количестве деревьев: 5 при глубине: 23 Качество модели 0.8335 F1: 0.530324400564175\n",
      "При количестве деревьев: 5 при глубине: 25 Качество модели 0.838 F1: 0.544943820224719\n",
      "При количестве деревьев: 5 при глубине: 27 Качество модели 0.838 F1: 0.544943820224719\n",
      "При количестве деревьев: 5 при глубине: 29 Качество модели 0.838 F1: 0.544943820224719\n",
      "При количестве деревьев: 5 при глубине: 31 Качество модели 0.838 F1: 0.544943820224719\n",
      "При количестве деревьев: 5 при глубине: 33 Качество модели 0.838 F1: 0.544943820224719\n",
      "При количестве деревьев: 5 при глубине: 35 Качество модели 0.838 F1: 0.544943820224719\n",
      "При количестве деревьев: 5 при глубине: 37 Качество модели 0.838 F1: 0.544943820224719\n",
      "При количестве деревьев: 5 при глубине: 39 Качество модели 0.838 F1: 0.544943820224719\n",
      "При количестве деревьев: 7 при глубине: 1 Качество модели 0.791 F1: 0.0\n",
      "При количестве деревьев: 7 при глубине: 3 Качество модели 0.829 F1: 0.3804347826086957\n",
      "При количестве деревьев: 7 при глубине: 5 Качество модели 0.85 F1: 0.48979591836734687\n",
      "При количестве деревьев: 7 при глубине: 7 Качество модели 0.8595 F1: 0.5709923664122137\n",
      "При количестве деревьев: 7 при глубине: 9 Качество модели 0.858 F1: 0.5696969696969697\n",
      "При количестве деревьев: 7 при глубине: 11 Качество модели 0.8555 F1: 0.5654135338345865\n",
      "При количестве деревьев: 7 при глубине: 13 Качество модели 0.86 F1: 0.5894428152492669\n",
      "При количестве деревьев: 7 при глубине: 15 Качество модели 0.8505 F1: 0.5875862068965517\n",
      "При количестве деревьев: 7 при глубине: 17 Качество модели 0.8455 F1: 0.562942008486563\n",
      "При количестве деревьев: 7 при глубине: 19 Качество модели 0.848 F1: 0.5742296918767508\n",
      "При количестве деревьев: 7 при глубине: 21 Качество модели 0.8505 F1: 0.575886524822695\n",
      "При количестве деревьев: 7 при глубине: 23 Качество модели 0.845 F1: 0.5584045584045584\n",
      "При количестве деревьев: 7 при глубине: 25 Качество модели 0.8515 F1: 0.577524893314367\n",
      "При количестве деревьев: 7 при глубине: 27 Качество модели 0.8515 F1: 0.577524893314367\n",
      "При количестве деревьев: 7 при глубине: 29 Качество модели 0.8515 F1: 0.577524893314367\n",
      "При количестве деревьев: 7 при глубине: 31 Качество модели 0.8515 F1: 0.577524893314367\n",
      "При количестве деревьев: 7 при глубине: 33 Качество модели 0.8515 F1: 0.577524893314367\n",
      "При количестве деревьев: 7 при глубине: 35 Качество модели 0.8515 F1: 0.577524893314367\n",
      "При количестве деревьев: 7 при глубине: 37 Качество модели 0.8515 F1: 0.577524893314367\n",
      "При количестве деревьев: 7 при глубине: 39 Качество модели 0.8515 F1: 0.577524893314367\n",
      "При количестве деревьев: 9 при глубине: 1 Качество модели 0.791 F1: 0.0\n",
      "При количестве деревьев: 9 при глубине: 3 Качество модели 0.818 F1: 0.25102880658436216\n",
      "При количестве деревьев: 9 при глубине: 5 Качество модели 0.8485 F1: 0.4838160136286201\n",
      "При количестве деревьев: 9 при глубине: 7 Качество модели 0.8585 F1: 0.5571205007824727\n",
      "При количестве деревьев: 9 при глубине: 9 Качество модели 0.8605 F1: 0.5740458015267176\n",
      "При количестве деревьев: 9 при глубине: 11 Качество модели 0.8565 F1: 0.5591397849462365\n",
      "При количестве деревьев: 9 при глубине: 13 Качество модели 0.8645 F1: 0.5985185185185184\n",
      "При количестве деревьев: 9 при глубине: 15 Качество модели 0.8525 F1: 0.5839210155148096\n",
      "При количестве деревьев: 9 при глубине: 17 Качество модели 0.853 F1: 0.5811965811965812\n",
      "При количестве деревьев: 9 при глубине: 19 Качество модели 0.857 F1: 0.5949008498583569\n",
      "При количестве деревьев: 9 при глубине: 21 Качество модели 0.8525 F1: 0.5743145743145743\n",
      "При количестве деревьев: 9 при глубине: 23 Качество модели 0.845 F1: 0.5494186046511628\n",
      "При количестве деревьев: 9 при глубине: 25 Качество модели 0.854 F1: 0.5792507204610952\n",
      "При количестве деревьев: 9 при глубине: 27 Качество модели 0.854 F1: 0.5792507204610952\n",
      "При количестве деревьев: 9 при глубине: 29 Качество модели 0.854 F1: 0.5792507204610952\n",
      "При количестве деревьев: 9 при глубине: 31 Качество модели 0.854 F1: 0.5792507204610952\n",
      "При количестве деревьев: 9 при глубине: 33 Качество модели 0.854 F1: 0.5792507204610952\n",
      "При количестве деревьев: 9 при глубине: 35 Качество модели 0.854 F1: 0.5792507204610952\n",
      "При количестве деревьев: 9 при глубине: 37 Качество модели 0.854 F1: 0.5792507204610952\n",
      "При количестве деревьев: 9 при глубине: 39 Качество модели 0.854 F1: 0.5792507204610952\n",
      "При количестве деревьев: 11 при глубине: 1 Качество модели 0.791 F1: 0.0\n",
      "При количестве деревьев: 11 при глубине: 3 Качество модели 0.8175 F1: 0.24430641821946172\n",
      "При количестве деревьев: 11 при глубине: 5 Качество модели 0.847 F1: 0.4742268041237113\n",
      "При количестве деревьев: 11 при глубине: 7 Качество модели 0.855 F1: 0.5496894409937888\n",
      "При количестве деревьев: 11 при глубине: 9 Качество модели 0.8585 F1: 0.5731523378582202\n",
      "При количестве деревьев: 11 при глубине: 11 Качество модели 0.8615 F1: 0.578386605783866\n",
      "При количестве деревьев: 11 при глубине: 13 Качество модели 0.863 F1: 0.5934718100890208\n",
      "При количестве деревьев: 11 при глубине: 15 Качество модели 0.855 F1: 0.5915492957746479\n",
      "При количестве деревьев: 11 при глубине: 17 Качество модели 0.8575 F1: 0.592274678111588\n",
      "При количестве деревьев: 11 при глубине: 19 Качество модели 0.857 F1: 0.5971830985915493\n",
      "При количестве деревьев: 11 при глубине: 21 Качество модели 0.852 F1: 0.5722543352601155\n",
      "При количестве деревьев: 11 при глубине: 23 Качество модели 0.8515 F1: 0.5751072961373391\n",
      "При количестве деревьев: 11 при глубине: 25 Качество модели 0.853 F1: 0.5787965616045845\n",
      "При количестве деревьев: 11 при глубине: 27 Качество модели 0.853 F1: 0.5787965616045845\n",
      "При количестве деревьев: 11 при глубине: 29 Качество модели 0.853 F1: 0.5787965616045845\n",
      "При количестве деревьев: 11 при глубине: 31 Качество модели 0.853 F1: 0.5787965616045845\n",
      "При количестве деревьев: 11 при глубине: 33 Качество модели 0.853 F1: 0.5787965616045845\n",
      "При количестве деревьев: 11 при глубине: 35 Качество модели 0.853 F1: 0.5787965616045845\n",
      "При количестве деревьев: 11 при глубине: 37 Качество модели 0.853 F1: 0.5787965616045845\n",
      "При количестве деревьев: 11 при глубине: 39 Качество модели 0.853 F1: 0.5787965616045845\n",
      "При количестве деревьев: 13 при глубине: 1 Качество модели 0.791 F1: 0.0\n",
      "При количестве деревьев: 13 при глубине: 3 Качество модели 0.8175 F1: 0.24742268041237114\n",
      "При количестве деревьев: 13 при глубине: 5 Качество модели 0.847 F1: 0.4742268041237113\n",
      "При количестве деревьев: 13 при глубине: 7 Качество модели 0.854 F1: 0.5408805031446541\n",
      "При количестве деревьев: 13 при глубине: 9 Качество модели 0.8555 F1: 0.5587786259541985\n",
      "При количестве деревьев: 13 при глубине: 11 Качество модели 0.8595 F1: 0.5735963581183612\n",
      "При количестве деревьев: 13 при глубине: 13 Качество модели 0.8635 F1: 0.5967503692762187\n",
      "При количестве деревьев: 13 при глубине: 15 Качество модели 0.856 F1: 0.5920679886685553\n",
      "При количестве деревьев: 13 при глубине: 17 Качество модели 0.857 F1: 0.5867052023121387\n",
      "При количестве деревьев: 13 при глубине: 19 Качество модели 0.8565 F1: 0.5940594059405939\n",
      "При количестве деревьев: 13 при глубине: 21 Качество модели 0.8525 F1: 0.5730824891461649\n",
      "При количестве деревьев: 13 при глубине: 23 Качество модели 0.8525 F1: 0.5755395683453238\n",
      "При количестве деревьев: 13 при глубине: 25 Качество модели 0.8545 F1: 0.581294964028777\n",
      "При количестве деревьев: 13 при глубине: 27 Качество модели 0.8545 F1: 0.581294964028777\n",
      "При количестве деревьев: 13 при глубине: 29 Качество модели 0.8545 F1: 0.581294964028777\n",
      "При количестве деревьев: 13 при глубине: 31 Качество модели 0.8545 F1: 0.581294964028777\n",
      "При количестве деревьев: 13 при глубине: 33 Качество модели 0.8545 F1: 0.581294964028777\n",
      "При количестве деревьев: 13 при глубине: 35 Качество модели 0.8545 F1: 0.581294964028777\n",
      "При количестве деревьев: 13 при глубине: 37 Качество модели 0.8545 F1: 0.581294964028777\n",
      "При количестве деревьев: 13 при глубине: 39 Качество модели 0.8545 F1: 0.581294964028777\n",
      "При количестве деревьев: 15 при глубине: 1 Качество модели 0.791 F1: 0.0\n",
      "При количестве деревьев: 15 при глубине: 3 Качество модели 0.8175 F1: 0.24430641821946172\n",
      "При количестве деревьев: 15 при глубине: 5 Качество модели 0.844 F1: 0.4693877551020407\n",
      "При количестве деревьев: 15 при глубине: 7 Качество модели 0.857 F1: 0.5559006211180125\n",
      "При количестве деревьев: 15 при глубине: 9 Качество модели 0.858 F1: 0.5657492354740061\n",
      "При количестве деревьев: 15 при глубине: 11 Качество модели 0.8635 F1: 0.5882352941176471\n",
      "При количестве деревьев: 15 при глубине: 13 Качество модели 0.861 F1: 0.5863095238095238\n",
      "При количестве деревьев: 15 при глубине: 15 Качество модели 0.8555 F1: 0.5829725829725829\n",
      "При количестве деревьев: 15 при глубине: 17 Качество модели 0.86 F1: 0.5918367346938775\n",
      "При количестве деревьев: 15 при глубине: 19 Качество модели 0.857 F1: 0.5937499999999999\n",
      "При количестве деревьев: 15 при глубине: 21 Качество модели 0.8565 F1: 0.57856093979442\n",
      "При количестве деревьев: 15 при глубине: 23 Качество модели 0.856 F1: 0.5862068965517241\n",
      "При количестве деревьев: 15 при глубине: 25 Качество модели 0.856 F1: 0.5826086956521739\n",
      "При количестве деревьев: 15 при глубине: 27 Качество модели 0.856 F1: 0.5826086956521739\n",
      "При количестве деревьев: 15 при глубине: 29 Качество модели 0.856 F1: 0.5826086956521739\n",
      "При количестве деревьев: 15 при глубине: 31 Качество модели 0.856 F1: 0.5826086956521739\n",
      "При количестве деревьев: 15 при глубине: 33 Качество модели 0.856 F1: 0.5826086956521739\n",
      "При количестве деревьев: 15 при глубине: 35 Качество модели 0.856 F1: 0.5826086956521739\n",
      "При количестве деревьев: 15 при глубине: 37 Качество модели 0.856 F1: 0.5826086956521739\n",
      "При количестве деревьев: 15 при глубине: 39 Качество модели 0.856 F1: 0.5826086956521739\n",
      "При количестве деревьев: 17 при глубине: 1 Качество модели 0.791 F1: 0.0\n",
      "При количестве деревьев: 17 при глубине: 3 Качество модели 0.8155 F1: 0.22964509394572025\n",
      "При количестве деревьев: 17 при глубине: 5 Качество модели 0.851 F1: 0.5082508250825083\n",
      "При количестве деревьев: 17 при глубине: 7 Качество модели 0.855 F1: 0.5468750000000001\n",
      "При количестве деревьев: 17 при глубине: 9 Качество модели 0.859 F1: 0.5648148148148148\n",
      "При количестве деревьев: 17 при глубине: 11 Качество модели 0.861 F1: 0.5787878787878789\n",
      "При количестве деревьев: 17 при глубине: 13 Качество модели 0.8585 F1: 0.5769805680119582\n",
      "При количестве деревьев: 17 при глубине: 15 Качество модели 0.8585 F1: 0.5904486251808971\n",
      "При количестве деревьев: 17 при глубине: 17 Качество модели 0.8575 F1: 0.5899280575539568\n",
      "При количестве деревьев: 17 при глубине: 19 Качество модели 0.8545 F1: 0.5848787446504993\n",
      "При количестве деревьев: 17 при глубине: 21 Качество модели 0.854 F1: 0.5780346820809248\n",
      "При количестве деревьев: 17 при глубине: 23 Качество модели 0.8555 F1: 0.5889046941678521\n",
      "При количестве деревьев: 17 при глубине: 25 Качество модели 0.854 F1: 0.5816618911174786\n",
      "При количестве деревьев: 17 при глубине: 27 Качество модели 0.854 F1: 0.5816618911174786\n",
      "При количестве деревьев: 17 при глубине: 29 Качество модели 0.854 F1: 0.5816618911174786\n",
      "При количестве деревьев: 17 при глубине: 31 Качество модели 0.854 F1: 0.5816618911174786\n",
      "При количестве деревьев: 17 при глубине: 33 Качество модели 0.854 F1: 0.5816618911174786\n",
      "При количестве деревьев: 17 при глубине: 35 Качество модели 0.854 F1: 0.5816618911174786\n",
      "При количестве деревьев: 17 при глубине: 37 Качество модели 0.854 F1: 0.5816618911174786\n",
      "При количестве деревьев: 17 при глубине: 39 Качество модели 0.854 F1: 0.5816618911174786\n",
      "При количестве деревьев: 19 при глубине: 1 Качество модели 0.791 F1: 0.0\n",
      "При количестве деревьев: 19 при глубине: 3 Качество модели 0.816 F1: 0.23333333333333336\n",
      "При количестве деревьев: 19 при глубине: 5 Качество модели 0.851 F1: 0.5033333333333334\n",
      "При количестве деревьев: 19 при глубине: 7 Качество модели 0.8545 F1: 0.5431711145996859\n",
      "При количестве деревьев: 19 при глубине: 9 Качество модели 0.86 F1: 0.5638629283489096\n",
      "При количестве деревьев: 19 при глубине: 11 Качество модели 0.8635 F1: 0.5882352941176471\n",
      "При количестве деревьев: 19 при глубине: 13 Качество модели 0.8595 F1: 0.5812220566318926\n",
      "При количестве деревьев: 19 при глубине: 15 Качество модели 0.856 F1: 0.5801749271137026\n",
      "При количестве деревьев: 19 при глубине: 17 Качество модели 0.86 F1: 0.5882352941176471\n",
      "При количестве деревьев: 19 при глубине: 19 Качество модели 0.856 F1: 0.5873925501432664\n",
      "При количестве деревьев: 19 при глубине: 21 Качество модели 0.8555 F1: 0.5781021897810219\n",
      "При количестве деревьев: 19 при глубине: 23 Качество модели 0.853 F1: 0.5811965811965812\n",
      "При количестве деревьев: 19 при глубине: 25 Качество модели 0.8535 F1: 0.580829756795422\n",
      "При количестве деревьев: 19 при глубине: 27 Качество модели 0.8535 F1: 0.580829756795422\n",
      "При количестве деревьев: 19 при глубине: 29 Качество модели 0.8535 F1: 0.580829756795422\n",
      "При количестве деревьев: 19 при глубине: 31 Качество модели 0.8535 F1: 0.580829756795422\n",
      "При количестве деревьев: 19 при глубине: 33 Качество модели 0.8535 F1: 0.580829756795422\n",
      "При количестве деревьев: 19 при глубине: 35 Качество модели 0.8535 F1: 0.580829756795422\n",
      "При количестве деревьев: 19 при глубине: 37 Качество модели 0.8535 F1: 0.580829756795422\n",
      "При количестве деревьев: 19 при глубине: 39 Качество модели 0.8535 F1: 0.580829756795422\n",
      "При количестве деревьев: 21 при глубине: 1 Качество модели 0.791 F1: 0.0\n",
      "При количестве деревьев: 21 при глубине: 3 Качество модели 0.8165 F1: 0.2401656314699793\n",
      "При количестве деревьев: 21 при глубине: 5 Качество модели 0.85 F1: 0.49324324324324326\n",
      "При количестве деревьев: 21 при глубине: 7 Качество модели 0.8555 F1: 0.5448818897637795\n",
      "При количестве деревьев: 21 при глубине: 9 Качество модели 0.8605 F1: 0.5674418604651162\n",
      "При количестве деревьев: 21 при глубине: 11 Качество модели 0.8615 F1: 0.5822021116138764\n",
      "При количестве деревьев: 21 при глубине: 13 Качество модели 0.862 F1: 0.5855855855855856\n",
      "При количестве деревьев: 21 при глубине: 15 Качество модели 0.857 F1: 0.5818713450292398\n",
      "При количестве деревьев: 21 при глубине: 17 Качество модели 0.8595 F1: 0.5861561119293078\n",
      "При количестве деревьев: 21 при глубине: 19 Качество модели 0.858 F1: 0.5895953757225434\n",
      "При количестве деревьев: 21 при глубине: 21 Качество модели 0.8585 F1: 0.5868613138686132\n",
      "При количестве деревьев: 21 при глубине: 23 Качество модели 0.8535 F1: 0.5796269727403156\n",
      "При количестве деревьев: 21 при глубине: 25 Качество модели 0.856 F1: 0.5850144092219021\n",
      "При количестве деревьев: 21 при глубине: 27 Качество модели 0.856 F1: 0.5850144092219021\n",
      "При количестве деревьев: 21 при глубине: 29 Качество модели 0.856 F1: 0.5850144092219021\n",
      "При количестве деревьев: 21 при глубине: 31 Качество модели 0.856 F1: 0.5850144092219021\n",
      "При количестве деревьев: 21 при глубине: 33 Качество модели 0.856 F1: 0.5850144092219021\n",
      "При количестве деревьев: 21 при глубине: 35 Качество модели 0.856 F1: 0.5850144092219021\n",
      "При количестве деревьев: 21 при глубине: 37 Качество модели 0.856 F1: 0.5850144092219021\n",
      "При количестве деревьев: 21 при глубине: 39 Качество модели 0.856 F1: 0.5850144092219021\n",
      "При количестве деревьев: 23 при глубине: 1 Качество модели 0.791 F1: 0.0\n",
      "При количестве деревьев: 23 при глубине: 3 Качество модели 0.8155 F1: 0.23284823284823286\n",
      "При количестве деревьев: 23 при глубине: 5 Качество модели 0.847 F1: 0.4795918367346939\n",
      "При количестве деревьев: 23 при глубине: 7 Качество модели 0.854 F1: 0.5365079365079365\n",
      "При количестве деревьев: 23 при глубине: 9 Качество модели 0.86 F1: 0.56656346749226\n",
      "При количестве деревьев: 23 при глубине: 11 Качество модели 0.8625 F1: 0.5788667687595712\n",
      "При количестве деревьев: 23 при глубине: 13 Качество модели 0.8595 F1: 0.5761689291101055\n",
      "При количестве деревьев: 23 при глубине: 15 Качество модели 0.856 F1: 0.5777126099706745\n",
      "При количестве деревьев: 23 при глубине: 17 Качество модели 0.8645 F1: 0.6043795620437956\n",
      "При количестве деревьев: 23 при глубине: 19 Качество модели 0.861 F1: 0.5982658959537572\n",
      "При количестве деревьев: 23 при глубине: 21 Качество модели 0.8575 F1: 0.5851528384279476\n",
      "При количестве деревьев: 23 при глубине: 23 Качество модели 0.854 F1: 0.5780346820809248\n",
      "При количестве деревьев: 23 при глубине: 25 Качество модели 0.8565 F1: 0.5834542815674891\n",
      "При количестве деревьев: 23 при глубине: 27 Качество модели 0.8565 F1: 0.5834542815674891\n",
      "При количестве деревьев: 23 при глубине: 29 Качество модели 0.8565 F1: 0.5834542815674891\n",
      "При количестве деревьев: 23 при глубине: 31 Качество модели 0.8565 F1: 0.5834542815674891\n",
      "При количестве деревьев: 23 при глубине: 33 Качество модели 0.8565 F1: 0.5834542815674891\n",
      "При количестве деревьев: 23 при глубине: 35 Качество модели 0.8565 F1: 0.5834542815674891\n",
      "При количестве деревьев: 23 при глубине: 37 Качество модели 0.8565 F1: 0.5834542815674891\n",
      "При количестве деревьев: 23 при глубине: 39 Качество модели 0.8565 F1: 0.5834542815674891\n",
      "При количестве деревьев: 25 при глубине: 1 Качество модели 0.791 F1: 0.0\n",
      "При количестве деревьев: 25 при глубине: 3 Качество модели 0.8155 F1: 0.22964509394572025\n",
      "При количестве деревьев: 25 при глубине: 5 Качество модели 0.848 F1: 0.4882154882154882\n",
      "При количестве деревьев: 25 при глубине: 7 Качество модели 0.8545 F1: 0.5402843601895735\n",
      "При количестве деревьев: 25 при глубине: 9 Качество модели 0.8595 F1: 0.5629860031104199\n",
      "При количестве деревьев: 25 при глубине: 11 Качество модели 0.863 F1: 0.5861027190332326\n",
      "При количестве деревьев: 25 при глубине: 13 Качество модели 0.858 F1: 0.5761194029850746\n",
      "При количестве деревьев: 25 при глубине: 15 Качество модели 0.857 F1: 0.5781710914454277\n",
      "При количестве деревьев: 25 при глубине: 17 Качество модели 0.864 F1: 0.6\n",
      "При количестве деревьев: 25 при глубине: 19 Качество модели 0.8625 F1: 0.5973645680819913\n",
      "При количестве деревьев: 25 при глубине: 21 Качество модели 0.8565 F1: 0.5773195876288659\n",
      "При количестве деревьев: 25 при глубине: 23 Качество модели 0.855 F1: 0.5797101449275363\n",
      "При количестве деревьев: 25 при глубине: 25 Качество модели 0.858 F1: 0.5847953216374269\n",
      "При количестве деревьев: 25 при глубине: 27 Качество модели 0.858 F1: 0.5847953216374269\n",
      "При количестве деревьев: 25 при глубине: 29 Качество модели 0.858 F1: 0.5847953216374269\n",
      "При количестве деревьев: 25 при глубине: 31 Качество модели 0.858 F1: 0.5847953216374269\n",
      "При количестве деревьев: 25 при глубине: 33 Качество модели 0.858 F1: 0.5847953216374269\n",
      "При количестве деревьев: 25 при глубине: 35 Качество модели 0.858 F1: 0.5847953216374269\n",
      "При количестве деревьев: 25 при глубине: 37 Качество модели 0.858 F1: 0.5847953216374269\n",
      "При количестве деревьев: 25 при глубине: 39 Качество модели 0.858 F1: 0.5847953216374269\n",
      "При количестве деревьев: 27 при глубине: 1 Качество модели 0.791 F1: 0.0\n",
      "При количестве деревьев: 27 при глубине: 3 Качество модели 0.8155 F1: 0.22641509433962267\n",
      "При количестве деревьев: 27 при глубине: 5 Качество модели 0.8495 F1: 0.4924114671163575\n",
      "При количестве деревьев: 27 при глубине: 7 Качество модели 0.8565 F1: 0.5437201907790143\n",
      "При количестве деревьев: 27 при глубине: 9 Качество модели 0.8615 F1: 0.5678627145085803\n",
      "При количестве деревьев: 27 при глубине: 11 Качество модели 0.8605 F1: 0.5779122541603631\n",
      "При количестве деревьев: 27 при глубине: 13 Качество модели 0.856 F1: 0.5688622754491017\n",
      "При количестве деревьев: 27 при глубине: 15 Качество модели 0.857 F1: 0.5806451612903226\n",
      "При количестве деревьев: 27 при глубине: 17 Качество модели 0.865 F1: 0.6005917159763313\n",
      "При количестве деревьев: 27 при глубине: 19 Качество модели 0.865 F1: 0.6052631578947368\n",
      "При количестве деревьев: 27 при глубине: 21 Качество модели 0.858 F1: 0.5786350148367952\n",
      "При количестве деревьев: 27 при глубине: 23 Качество модели 0.8535 F1: 0.5735080058224163\n",
      "При количестве деревьев: 27 при глубине: 25 Качество модели 0.8565 F1: 0.5822416302765647\n",
      "При количестве деревьев: 27 при глубине: 27 Качество модели 0.8565 F1: 0.5822416302765647\n",
      "При количестве деревьев: 27 при глубине: 29 Качество модели 0.8565 F1: 0.5822416302765647\n",
      "При количестве деревьев: 27 при глубине: 31 Качество модели 0.8565 F1: 0.5822416302765647\n",
      "При количестве деревьев: 27 при глубине: 33 Качество модели 0.8565 F1: 0.5822416302765647\n",
      "При количестве деревьев: 27 при глубине: 35 Качество модели 0.8565 F1: 0.5822416302765647\n",
      "При количестве деревьев: 27 при глубине: 37 Качество модели 0.8565 F1: 0.5822416302765647\n",
      "При количестве деревьев: 27 при глубине: 39 Качество модели 0.8565 F1: 0.5822416302765647\n",
      "При количестве деревьев: 29 при глубине: 1 Качество модели 0.791 F1: 0.0\n",
      "При количестве деревьев: 29 при глубине: 3 Качество модели 0.816 F1: 0.22362869198312232\n",
      "При количестве деревьев: 29 при глубине: 5 Качество модели 0.8475 F1: 0.48217317487266553\n",
      "При количестве деревьев: 29 при глубине: 7 Качество модели 0.855 F1: 0.5382165605095541\n",
      "При количестве деревьев: 29 при глубине: 9 Качество модели 0.8595 F1: 0.5588697017268446\n",
      "При количестве деревьев: 29 при глубине: 11 Качество модели 0.8605 F1: 0.5753424657534246\n",
      "При количестве деревьев: 29 при глубине: 13 Качество модели 0.857 F1: 0.5692771084337349\n",
      "При количестве деревьев: 29 при глубине: 15 Качество модели 0.856 F1: 0.5777126099706745\n",
      "При количестве деревьев: 29 при глубине: 17 Качество модели 0.862 F1: 0.5905044510385756\n",
      "При количестве деревьев: 29 при глубине: 19 Качество модели 0.8595 F1: 0.588579795021962\n",
      "При количестве деревьев: 29 при глубине: 21 Качество модели 0.8585 F1: 0.5844346549192364\n",
      "При количестве деревьев: 29 при глубине: 23 Качество модели 0.855 F1: 0.5797101449275363\n",
      "При количестве деревьев: 29 при глубине: 25 Качество модели 0.8565 F1: 0.5797950219619326\n",
      "При количестве деревьев: 29 при глубине: 27 Качество модели 0.8565 F1: 0.5797950219619326\n",
      "При количестве деревьев: 29 при глубине: 29 Качество модели 0.8565 F1: 0.5797950219619326\n",
      "При количестве деревьев: 29 при глубине: 31 Качество модели 0.8565 F1: 0.5797950219619326\n",
      "При количестве деревьев: 29 при глубине: 33 Качество модели 0.8565 F1: 0.5797950219619326\n",
      "При количестве деревьев: 29 при глубине: 35 Качество модели 0.8565 F1: 0.5797950219619326\n",
      "При количестве деревьев: 29 при глубине: 37 Качество модели 0.8565 F1: 0.5797950219619326\n",
      "При количестве деревьев: 29 при глубине: 39 Качество модели 0.8565 F1: 0.5797950219619326\n",
      "При количестве деревьев: 31 при глубине: 1 Качество модели 0.791 F1: 0.0\n",
      "При количестве деревьев: 31 при глубине: 3 Качество модели 0.818 F1: 0.24166666666666667\n",
      "При количестве деревьев: 31 при глубине: 5 Качество модели 0.8465 F1: 0.4770017035775128\n",
      "При количестве деревьев: 31 при глубине: 7 Качество модели 0.858 F1: 0.5492063492063491\n",
      "При количестве деревьев: 31 при глубине: 9 Качество модели 0.8615 F1: 0.563779527559055\n",
      "При количестве деревьев: 31 при глубине: 11 Качество модели 0.8605 F1: 0.5766312594840668\n",
      "При количестве деревьев: 31 при глубине: 13 Качество модели 0.8595 F1: 0.5748865355521936\n",
      "При количестве деревьев: 31 при глубине: 15 Качество модели 0.857 F1: 0.5781710914454277\n",
      "При количестве деревьев: 31 при глубине: 17 Качество модели 0.861 F1: 0.5887573964497042\n",
      "При количестве деревьев: 31 при глубине: 19 Качество модели 0.8605 F1: 0.5915080527086384\n",
      "При количестве деревьев: 31 при глубине: 21 Качество модели 0.8625 F1: 0.5949926362297496\n",
      "При количестве деревьев: 31 при глубине: 23 Качество модели 0.856 F1: 0.5813953488372092\n",
      "При количестве деревьев: 31 при глубине: 25 Качество модели 0.859 F1: 0.5889212827988337\n",
      "При количестве деревьев: 31 при глубине: 27 Качество модели 0.859 F1: 0.5889212827988337\n",
      "При количестве деревьев: 31 при глубине: 29 Качество модели 0.859 F1: 0.5889212827988337\n",
      "При количестве деревьев: 31 при глубине: 31 Качество модели 0.859 F1: 0.5889212827988337\n",
      "При количестве деревьев: 31 при глубине: 33 Качество модели 0.859 F1: 0.5889212827988337\n",
      "При количестве деревьев: 31 при глубине: 35 Качество модели 0.859 F1: 0.5889212827988337\n",
      "При количестве деревьев: 31 при глубине: 37 Качество модели 0.859 F1: 0.5889212827988337\n",
      "При количестве деревьев: 31 при глубине: 39 Качество модели 0.859 F1: 0.5889212827988337\n",
      "При количестве деревьев: 33 при глубине: 1 Качество модели 0.791 F1: 0.0\n",
      "При количестве деревьев: 33 при глубине: 3 Качество модели 0.8155 F1: 0.2198731501057082\n",
      "При количестве деревьев: 33 при глубине: 5 Качество модели 0.8485 F1: 0.4855687606112054\n",
      "При количестве деревьев: 33 при глубине: 7 Качество модели 0.856 F1: 0.5399361022364217\n",
      "При количестве деревьев: 33 при глубине: 9 Качество модели 0.8615 F1: 0.565149136577708\n",
      "При количестве деревьев: 33 при глубине: 11 Качество модели 0.8595 F1: 0.5722983257229833\n",
      "При количестве деревьев: 33 при глубине: 13 Качество модели 0.8615 F1: 0.5809379727685325\n",
      "При количестве деревьев: 33 при глубине: 15 Качество модели 0.857 F1: 0.576923076923077\n",
      "При количестве деревьев: 33 при глубине: 17 Качество модели 0.8625 F1: 0.5949926362297496\n",
      "При количестве деревьев: 33 при глубине: 19 Качество модели 0.8595 F1: 0.5909752547307133\n",
      "При количестве деревьев: 33 при глубине: 21 Качество модели 0.862 F1: 0.5929203539823009\n",
      "При количестве деревьев: 33 при глубине: 23 Качество модели 0.858 F1: 0.5872093023255813\n",
      "При количестве деревьев: 33 при глубине: 25 Качество модели 0.859 F1: 0.5852941176470587\n",
      "При количестве деревьев: 33 при глубине: 27 Качество модели 0.859 F1: 0.5852941176470587\n",
      "При количестве деревьев: 33 при глубине: 29 Качество модели 0.859 F1: 0.5852941176470587\n",
      "При количестве деревьев: 33 при глубине: 31 Качество модели 0.859 F1: 0.5852941176470587\n",
      "При количестве деревьев: 33 при глубине: 33 Качество модели 0.859 F1: 0.5852941176470587\n",
      "При количестве деревьев: 33 при глубине: 35 Качество модели 0.859 F1: 0.5852941176470587\n",
      "При количестве деревьев: 33 при глубине: 37 Качество модели 0.859 F1: 0.5852941176470587\n",
      "При количестве деревьев: 33 при глубине: 39 Качество модели 0.859 F1: 0.5852941176470587\n",
      "При количестве деревьев: 35 при глубине: 1 Качество модели 0.791 F1: 0.0\n",
      "При количестве деревьев: 35 при глубине: 3 Качество модели 0.817 F1: 0.23749999999999996\n",
      "При количестве деревьев: 35 при глубине: 5 Качество модели 0.8495 F1: 0.4906937394247039\n",
      "При количестве деревьев: 35 при глубине: 7 Качество модели 0.859 F1: 0.5523809523809524\n",
      "При количестве деревьев: 35 при глубине: 9 Качество модели 0.861 F1: 0.5628930817610063\n",
      "При количестве деревьев: 35 при глубине: 11 Качество модели 0.8595 F1: 0.5722983257229833\n",
      "При количестве деревьев: 35 при глубине: 13 Качество модели 0.8625 F1: 0.582701062215478\n",
      "При количестве деревьев: 35 при глубине: 15 Качество модели 0.8565 F1: 0.5760709010339734\n",
      "При количестве деревьев: 35 при глубине: 17 Качество модели 0.86 F1: 0.5857988165680473\n",
      "При количестве деревьев: 35 при глубине: 19 Качество модели 0.862 F1: 0.5964912280701754\n",
      "При количестве деревьев: 35 при глубине: 21 Качество модели 0.8615 F1: 0.5896296296296296\n",
      "При количестве деревьев: 35 при глубине: 23 Качество модели 0.8565 F1: 0.5858585858585859\n",
      "При количестве деревьев: 35 при глубине: 25 Качество модели 0.8605 F1: 0.5927007299270073\n",
      "При количестве деревьев: 35 при глубине: 27 Качество модели 0.8605 F1: 0.5927007299270073\n",
      "При количестве деревьев: 35 при глубине: 29 Качество модели 0.8605 F1: 0.5927007299270073\n",
      "При количестве деревьев: 35 при глубине: 31 Качество модели 0.8605 F1: 0.5927007299270073\n",
      "При количестве деревьев: 35 при глубине: 33 Качество модели 0.8605 F1: 0.5927007299270073\n",
      "При количестве деревьев: 35 при глубине: 35 Качество модели 0.8605 F1: 0.5927007299270073\n",
      "При количестве деревьев: 35 при глубине: 37 Качество модели 0.8605 F1: 0.5927007299270073\n",
      "При количестве деревьев: 35 при глубине: 39 Качество модели 0.8605 F1: 0.5927007299270073\n",
      "При количестве деревьев: 37 при глубине: 1 Качество модели 0.791 F1: 0.0\n",
      "При количестве деревьев: 37 при глубине: 3 Качество модели 0.816 F1: 0.23333333333333336\n",
      "При количестве деревьев: 37 при глубине: 5 Качество модели 0.844 F1: 0.4657534246575343\n",
      "При количестве деревьев: 37 при глубине: 7 Качество модели 0.857 F1: 0.5416666666666666\n",
      "При количестве деревьев: 37 при глубине: 9 Качество модели 0.8635 F1: 0.5741029641185648\n",
      "При количестве деревьев: 37 при глубине: 11 Качество модели 0.862 F1: 0.5779816513761468\n",
      "При количестве деревьев: 37 при глубине: 13 Качество модели 0.8635 F1: 0.5869894099848714\n",
      "При количестве деревьев: 37 при глубине: 15 Качество модели 0.857 F1: 0.5781710914454277\n",
      "При количестве деревьев: 37 при глубине: 17 Качество модели 0.861 F1: 0.5863095238095238\n",
      "При количестве деревьев: 37 при глубине: 19 Качество модели 0.861 F1: 0.5935672514619883\n",
      "При количестве деревьев: 37 при глубине: 21 Качество модели 0.862 F1: 0.5929203539823009\n",
      "При количестве деревьев: 37 при глубине: 23 Качество модели 0.855 F1: 0.5809248554913296\n",
      "При количестве деревьев: 37 при глубине: 25 Качество модели 0.858 F1: 0.5872093023255813\n",
      "При количестве деревьев: 37 при глубине: 27 Качество модели 0.858 F1: 0.5872093023255813\n",
      "При количестве деревьев: 37 при глубине: 29 Качество модели 0.858 F1: 0.5872093023255813\n",
      "При количестве деревьев: 37 при глубине: 31 Качество модели 0.858 F1: 0.5872093023255813\n",
      "При количестве деревьев: 37 при глубине: 33 Качество модели 0.858 F1: 0.5872093023255813\n",
      "При количестве деревьев: 37 при глубине: 35 Качество модели 0.858 F1: 0.5872093023255813\n",
      "При количестве деревьев: 37 при глубине: 37 Качество модели 0.858 F1: 0.5872093023255813\n",
      "При количестве деревьев: 37 при глубине: 39 Качество модели 0.858 F1: 0.5872093023255813\n",
      "При количестве деревьев: 39 при глубине: 1 Качество модели 0.791 F1: 0.0\n",
      "При количестве деревьев: 39 при глубине: 3 Качество модели 0.816 F1: 0.226890756302521\n",
      "При количестве деревьев: 39 при глубине: 5 Качество модели 0.8445 F1: 0.4647160068846816\n",
      "При количестве деревьев: 39 при глубине: 7 Качество модели 0.857 F1: 0.5416666666666666\n",
      "При количестве деревьев: 39 при глубине: 9 Качество модели 0.863 F1: 0.571875\n",
      "При количестве деревьев: 39 при глубине: 11 Качество модели 0.8565 F1: 0.560490045941807\n",
      "При количестве деревьев: 39 при глубине: 13 Качество модели 0.8635 F1: 0.5869894099848714\n",
      "При количестве деревьев: 39 при глубине: 15 Качество модели 0.86 F1: 0.5894428152492669\n",
      "При количестве деревьев: 39 при глубине: 17 Качество модели 0.862 F1: 0.5880597014925373\n",
      "При количестве деревьев: 39 при глубине: 19 Качество модели 0.862 F1: 0.5941176470588235\n",
      "При количестве деревьев: 39 при глубине: 21 Качество модели 0.8615 F1: 0.588410104011887\n",
      "При количестве деревьев: 39 при глубине: 23 Качество модели 0.853 F1: 0.5751445086705201\n",
      "При количестве деревьев: 39 при глубине: 25 Качество модели 0.8585 F1: 0.5880640465793304\n",
      "При количестве деревьев: 39 при глубине: 27 Качество модели 0.8585 F1: 0.5880640465793304\n",
      "При количестве деревьев: 39 при глубине: 29 Качество модели 0.8585 F1: 0.5880640465793304\n",
      "При количестве деревьев: 39 при глубине: 31 Качество модели 0.8585 F1: 0.5880640465793304\n",
      "При количестве деревьев: 39 при глубине: 33 Качество модели 0.8585 F1: 0.5880640465793304\n",
      "При количестве деревьев: 39 при глубине: 35 Качество модели 0.8585 F1: 0.5880640465793304\n",
      "При количестве деревьев: 39 при глубине: 37 Качество модели 0.8585 F1: 0.5880640465793304\n",
      "При количестве деревьев: 39 при глубине: 39 Качество модели 0.8585 F1: 0.5880640465793304\n",
      "При количестве деревьев: 41 при глубине: 1 Качество модели 0.791 F1: 0.0\n",
      "При количестве деревьев: 41 при глубине: 3 Качество модели 0.8165 F1: 0.23382045929018794\n",
      "При количестве деревьев: 41 при глубине: 5 Качество модели 0.8435 F1: 0.4631217838765009\n",
      "При количестве деревьев: 41 при глубине: 7 Качество модели 0.858 F1: 0.5463258785942492\n",
      "При количестве деревьев: 41 при глубине: 9 Качество модели 0.862 F1: 0.5700934579439253\n",
      "При количестве деревьев: 41 при глубине: 11 Качество модели 0.86 F1: 0.5731707317073171\n",
      "При количестве деревьев: 41 при глубине: 13 Качество модели 0.864 F1: 0.5853658536585367\n",
      "При количестве деревьев: 41 при глубине: 15 Качество модели 0.86 F1: 0.5894428152492669\n",
      "При количестве деревьев: 41 при глубине: 17 Качество модели 0.8615 F1: 0.5871833084947838\n",
      "При количестве деревьев: 41 при глубине: 19 Качество модели 0.862 F1: 0.591715976331361\n",
      "При количестве деревьев: 41 при глубине: 21 Качество модели 0.86 F1: 0.5857988165680473\n",
      "При количестве деревьев: 41 при глубине: 23 Качество модели 0.8565 F1: 0.5834542815674891\n",
      "При количестве деревьев: 41 при глубине: 25 Качество модели 0.86 F1: 0.5930232558139534\n",
      "При количестве деревьев: 41 при глубине: 27 Качество модели 0.86 F1: 0.5930232558139534\n",
      "При количестве деревьев: 41 при глубине: 29 Качество модели 0.86 F1: 0.5930232558139534\n",
      "При количестве деревьев: 41 при глубине: 31 Качество модели 0.86 F1: 0.5930232558139534\n",
      "При количестве деревьев: 41 при глубине: 33 Качество модели 0.86 F1: 0.5930232558139534\n",
      "При количестве деревьев: 41 при глубине: 35 Качество модели 0.86 F1: 0.5930232558139534\n",
      "При количестве деревьев: 41 при глубине: 37 Качество модели 0.86 F1: 0.5930232558139534\n",
      "При количестве деревьев: 41 при глубине: 39 Качество модели 0.86 F1: 0.5930232558139534\n",
      "При количестве деревьев: 43 при глубине: 1 Качество модели 0.791 F1: 0.0\n",
      "При количестве деревьев: 43 при глубине: 3 Качество модели 0.8185 F1: 0.25154639175257737\n",
      "При количестве деревьев: 43 при глубине: 5 Качество модели 0.8445 F1: 0.46837606837606827\n",
      "При количестве деревьев: 43 при глубине: 7 Качество модели 0.8565 F1: 0.5408\n",
      "При количестве деревьев: 43 при глубине: 9 Качество модели 0.8635 F1: 0.5754276827371695\n",
      "При количестве деревьев: 43 при глубине: 11 Качество модели 0.859 F1: 0.5727272727272728\n",
      "При количестве деревьев: 43 при глубине: 13 Качество модели 0.864 F1: 0.5853658536585367\n",
      "При количестве деревьев: 43 при глубине: 15 Качество модели 0.86 F1: 0.5918367346938775\n",
      "При количестве деревьев: 43 при глубине: 17 Качество модели 0.8605 F1: 0.5829596412556054\n",
      "При количестве деревьев: 43 при глубине: 19 Качество модели 0.8615 F1: 0.5908419497784343\n",
      "При количестве деревьев: 43 при глубине: 21 Качество модели 0.861 F1: 0.5863095238095238\n",
      "При количестве деревьев: 43 при глубине: 23 Качество модели 0.857 F1: 0.5843023255813955\n",
      "При количестве деревьев: 43 при глубине: 25 Качество модели 0.86 F1: 0.5906432748538012\n",
      "При количестве деревьев: 43 при глубине: 27 Качество модели 0.86 F1: 0.5906432748538012\n",
      "При количестве деревьев: 43 при глубине: 29 Качество модели 0.86 F1: 0.5906432748538012\n",
      "При количестве деревьев: 43 при глубине: 31 Качество модели 0.86 F1: 0.5906432748538012\n",
      "При количестве деревьев: 43 при глубине: 33 Качество модели 0.86 F1: 0.5906432748538012\n",
      "При количестве деревьев: 43 при глубине: 35 Качество модели 0.86 F1: 0.5906432748538012\n",
      "При количестве деревьев: 43 при глубине: 37 Качество модели 0.86 F1: 0.5906432748538012\n",
      "При количестве деревьев: 43 при глубине: 39 Качество модели 0.86 F1: 0.5906432748538012\n",
      "При количестве деревьев: 45 при глубине: 1 Качество модели 0.791 F1: 0.0\n",
      "При количестве деревьев: 45 при глубине: 3 Качество модели 0.821 F1: 0.26639344262295084\n",
      "При количестве деревьев: 45 при глубине: 5 Качество модели 0.845 F1: 0.4691780821917808\n",
      "При количестве деревьев: 45 при глубине: 7 Качество модели 0.8575 F1: 0.5410628019323671\n",
      "При количестве деревьев: 45 при глубине: 9 Качество модели 0.863 F1: 0.571875\n",
      "При количестве деревьев: 45 при глубине: 11 Качество модели 0.8585 F1: 0.5705614567526556\n",
      "При количестве деревьев: 45 при глубине: 13 Качество модели 0.8625 F1: 0.5814307458143075\n",
      "При количестве деревьев: 45 при глубине: 15 Качество модели 0.8585 F1: 0.5868613138686132\n",
      "При количестве деревьев: 45 при глубине: 17 Качество модели 0.862 F1: 0.5880597014925373\n",
      "При количестве деревьев: 45 при глубине: 19 Качество модели 0.86 F1: 0.5882352941176471\n",
      "При количестве деревьев: 45 при глубине: 21 Качество модели 0.862 F1: 0.5905044510385756\n",
      "При количестве деревьев: 45 при глубине: 23 Качество модели 0.8575 F1: 0.583941605839416\n",
      "При количестве деревьев: 45 при глубине: 25 Качество модели 0.858 F1: 0.5872093023255813\n",
      "При количестве деревьев: 45 при глубине: 27 Качество модели 0.858 F1: 0.5872093023255813\n",
      "При количестве деревьев: 45 при глубине: 29 Качество модели 0.858 F1: 0.5872093023255813\n",
      "При количестве деревьев: 45 при глубине: 31 Качество модели 0.858 F1: 0.5872093023255813\n",
      "При количестве деревьев: 45 при глубине: 33 Качество модели 0.858 F1: 0.5872093023255813\n",
      "При количестве деревьев: 45 при глубине: 35 Качество модели 0.858 F1: 0.5872093023255813\n",
      "При количестве деревьев: 45 при глубине: 37 Качество модели 0.858 F1: 0.5872093023255813\n",
      "При количестве деревьев: 45 при глубине: 39 Качество модели 0.858 F1: 0.5872093023255813\n",
      "При количестве деревьев: 47 при глубине: 1 Качество модели 0.791 F1: 0.0\n",
      "При количестве деревьев: 47 при глубине: 3 Качество модели 0.821 F1: 0.26639344262295084\n",
      "При количестве деревьев: 47 при глубине: 5 Качество модели 0.8435 F1: 0.4594127806563039\n",
      "При количестве деревьев: 47 при глубине: 7 Качество модели 0.857 F1: 0.5416666666666666\n",
      "При количестве деревьев: 47 при глубине: 9 Качество модели 0.8615 F1: 0.565149136577708\n",
      "При количестве деревьев: 47 при глубине: 11 Качество модели 0.859 F1: 0.5727272727272728\n",
      "При количестве деревьев: 47 при глубине: 13 Качество модели 0.8625 F1: 0.5788667687595712\n",
      "При количестве деревьев: 47 при глубине: 15 Качество модели 0.858 F1: 0.5835777126099707\n",
      "При количестве деревьев: 47 при глубине: 17 Качество модели 0.8615 F1: 0.585949177877429\n",
      "При количестве деревьев: 47 при глубине: 19 Качество модели 0.86 F1: 0.5882352941176471\n",
      "При количестве деревьев: 47 при глубине: 21 Качество модели 0.8605 F1: 0.5866666666666667\n",
      "При количестве деревьев: 47 при глубине: 23 Качество модели 0.858 F1: 0.5872093023255813\n",
      "При количестве деревьев: 47 при глубине: 25 Качество модели 0.8595 F1: 0.5921625544267053\n",
      "При количестве деревьев: 47 при глубине: 27 Качество модели 0.8595 F1: 0.5921625544267053\n",
      "При количестве деревьев: 47 при глубине: 29 Качество модели 0.8595 F1: 0.5921625544267053\n",
      "При количестве деревьев: 47 при глубине: 31 Качество модели 0.8595 F1: 0.5921625544267053\n",
      "При количестве деревьев: 47 при глубине: 33 Качество модели 0.8595 F1: 0.5921625544267053\n",
      "При количестве деревьев: 47 при глубине: 35 Качество модели 0.8595 F1: 0.5921625544267053\n",
      "При количестве деревьев: 47 при глубине: 37 Качество модели 0.8595 F1: 0.5921625544267053\n",
      "При количестве деревьев: 47 при глубине: 39 Качество модели 0.8595 F1: 0.5921625544267053\n",
      "При количестве деревьев: 49 при глубине: 1 Качество модели 0.791 F1: 0.0\n",
      "При количестве деревьев: 49 при глубине: 3 Качество модели 0.822 F1: 0.2734693877551021\n",
      "При количестве деревьев: 49 при глубине: 5 Качество модели 0.843 F1: 0.46232876712328774\n",
      "При количестве деревьев: 49 при глубине: 7 Качество модели 0.8595 F1: 0.5504\n",
      "При количестве деревьев: 49 при глубине: 9 Качество модели 0.862 F1: 0.56875\n",
      "При количестве деревьев: 49 при глубине: 11 Качество модели 0.8585 F1: 0.5692541856925418\n",
      "При количестве деревьев: 49 при глубине: 13 Качество модели 0.863 F1: 0.581039755351682\n",
      "При количестве деревьев: 49 при глубине: 15 Качество модели 0.8585 F1: 0.5844346549192364\n",
      "При количестве деревьев: 49 при глубине: 17 Качество модели 0.8595 F1: 0.5799701046337816\n",
      "При количестве деревьев: 49 при глубине: 19 Качество модели 0.859 F1: 0.5865102639296187\n",
      "При количестве деревьев: 49 при глубине: 21 Качество модели 0.858 F1: 0.5786350148367952\n",
      "При количестве деревьев: 49 при глубине: 23 Качество модели 0.8565 F1: 0.5834542815674891\n",
      "При количестве деревьев: 49 при глубине: 25 Качество модели 0.858 F1: 0.5872093023255813\n",
      "При количестве деревьев: 49 при глубине: 27 Качество модели 0.858 F1: 0.5872093023255813\n",
      "При количестве деревьев: 49 при глубине: 29 Качество модели 0.858 F1: 0.5872093023255813\n",
      "При количестве деревьев: 49 при глубине: 31 Качество модели 0.858 F1: 0.5872093023255813\n",
      "При количестве деревьев: 49 при глубине: 33 Качество модели 0.858 F1: 0.5872093023255813\n",
      "При количестве деревьев: 49 при глубине: 35 Качество модели 0.858 F1: 0.5872093023255813\n",
      "При количестве деревьев: 49 при глубине: 37 Качество модели 0.858 F1: 0.5872093023255813\n",
      "При количестве деревьев: 49 при глубине: 39 Качество модели 0.858 F1: 0.5872093023255813\n",
      "\n",
      "Лучший результат качества модели: 0.865 при количестве деревьев 27 при глубине: 19 F1: 0.6052631578947368\n",
      "\n",
      "Точность константной модели: 0.791\n",
      "Данная модель проходит тест на адекватность по точности модели 0.865 > 0.791\n",
      "\n",
      "F1-метрика константной модели: 0.59\n",
      "Данная модель проходит тест на адекватность по точности модели 0.6052631578947368 > 0.59\n",
      "CPU times: user 1min 16s, sys: 655 ms, total: 1min 17s\n",
      "Wall time: 1min 17s\n"
     ]
    }
   ],
   "source": [
    "%%time\n",
    "\n",
    "best_model_sl = None\n",
    "best_accuracy_sl = 0\n",
    "best_n_estimators_sl = 0\n",
    "best_depth_sl = 0\n",
    "best_f1_sl = 0\n",
    "\n",
    "\n",
    "for est in range (1, 50, 2):\n",
    "    for depth in range (1, 40, 2):\n",
    "        model = RandomForestClassifier(random_state=12345, max_depth=depth, n_estimators = est)\n",
    "        model.fit(features_train, target_train)\n",
    "        prediction_sl = model.predict(features_valid)\n",
    "        accuracy_sl = accuracy_score(target_valid, prediction_sl)\n",
    "        f1_sl = f1_score(target_valid, prediction_sl)\n",
    "        if f1_sl > best_f1_sl:\n",
    "            best_model_sl = model\n",
    "            best_depth_sl = depth\n",
    "            best_accuracy_sl = accuracy_sl\n",
    "            best_f1_sl = f1_sl\n",
    "            best_n_estimators_sl = est\n",
    "        print('При количестве деревьев:', est, 'при глубине:', depth, 'Качество модели', accuracy_sl, 'F1:', f1_sl)\n",
    "print('')\n",
    "print(\"Лучший результат качества модели:\", best_accuracy_sl,\n",
    "      'при количестве деревьев', best_n_estimators_sl, 'при глубине:', best_depth_sl, 'F1:', best_f1_sl)\n",
    "print('')\n",
    "\n",
    "print('Точность константной модели:', accuracy_constant) \n",
    "if best_accuracy_sl >= accuracy_constant:\n",
    "    print('Данная модель проходит тест на адекватность по точности модели', best_accuracy_sl, '>', accuracy_constant)\n",
    "else:\n",
    "    print('Данная модель не проходит тест на адекватность по точности модели', best_accuracy_sl, '>', accuracy_constant)\n",
    "print('')\n",
    "\n",
    "print('F1-метрика константной модели:', f1_constant)\n",
    "if best_f1_sl >= f1_constant:\n",
    "    print('Данная модель проходит тест на адекватность по точности модели', best_f1_sl, '>', f1_constant)\n",
    "else:\n",
    "    print('Данная модель не проходит тест на адекватность по точности модели', best_f1_sl, '<', f1_constant)"
   ]
  },
  {
   "cell_type": "markdown",
   "metadata": {},
   "source": [
    "### Логистическая регресиия"
   ]
  },
  {
   "cell_type": "code",
   "execution_count": 33,
   "metadata": {},
   "outputs": [
    {
     "name": "stdout",
     "output_type": "stream",
     "text": [
      "Качество модели: 0.8025 F1: 0.33389544688026984\n",
      "\n",
      "Точность константной модели: 0.791\n",
      "Данная модель проходит тест на адекватность по точности модели 0.8025 > 0.791\n",
      "\n",
      "F1-метрика константной модели: 0.59\n",
      "Данная модель не проходит тест на адекватность по точности модели 0.33389544688026984 < 0.59\n",
      "CPU times: user 81.3 ms, sys: 158 ms, total: 239 ms\n",
      "Wall time: 187 ms\n"
     ]
    }
   ],
   "source": [
    "%%time\n",
    "\n",
    "\n",
    "model = LogisticRegression(random_state=12345, solver='lbfgs')\n",
    "model.fit(features_train, target_train)\n",
    "prediction_lr = model.predict(features_valid)\n",
    "accuracy_lr = accuracy_score(target_valid, prediction_lr)\n",
    "f1_lr = f1_score(target_valid, prediction_lr)\n",
    "print(\"Качество модели:\", accuracy_lr, 'F1:', f1_lr)\n",
    "print('')\n",
    "\n",
    "print('Точность константной модели:', accuracy_constant) \n",
    "if accuracy_lr >= accuracy_constant:\n",
    "    print('Данная модель проходит тест на адекватность по точности модели', accuracy_lr, '>', accuracy_constant)\n",
    "else:\n",
    "    print('Данная модель не проходит тест на адекватность по точности модели', accuracy_lr, '<', accuracy_constant)\n",
    "print('')\n",
    "\n",
    "print('F1-метрика константной модели:', f1_constant)\n",
    "if f1_lr >= f1_constant:\n",
    "    print('Данная модель проходит тест на адекватность по точности модели', f1_lr, '>', f1_constant)\n",
    "else:\n",
    "    print('Данная модель не проходит тест на адекватность по точности модели', f1_lr, '<', f1_constant)"
   ]
  },
  {
   "cell_type": "markdown",
   "metadata": {},
   "source": [
    "### Лучшие показатели для трех моделей"
   ]
  },
  {
   "cell_type": "code",
   "execution_count": 34,
   "metadata": {
    "scrolled": true
   },
   "outputs": [
    {
     "name": "stdout",
     "output_type": "stream",
     "text": [
      "Дерево решений: Качество модели: 0.85 при глубине: 9 F1: 0.579\n",
      "Случайный лес: Качество модели: 0.865 при количестве деревьев: 27 при глубине: 19 F1: 0.605\n",
      "Логистическая регрессия: Качество модели: 0.802 F1: 0.334\n"
     ]
    }
   ],
   "source": [
    "print('Дерево решений:', 'Качество модели:', round(best_accuracy_dr, 3), \"при глубине:\", best_depth_dr, 'F1:', round(best_f1_dr, 3))\n",
    "print('Случайный лес:', 'Качество модели:', round(best_accuracy_sl, 3), \n",
    "      \"при количестве деревьев:\", best_n_estimators_sl, 'при глубине:', best_depth_sl, 'F1:', round(best_f1_sl, 3))\n",
    "print('Логистическая регрессия:', 'Качество модели:', round(accuracy_lr, 3), 'F1:', round(f1_lr, 3))"
   ]
  },
  {
   "cell_type": "markdown",
   "metadata": {},
   "source": [
    "### Оценка `accuracy`, `precision` и `recall`"
   ]
  },
  {
   "cell_type": "code",
   "execution_count": 35,
   "metadata": {
    "scrolled": true
   },
   "outputs": [
    {
     "name": "stdout",
     "output_type": "stream",
     "text": [
      "Дерево решений\n",
      "Качество модели 0.85\n",
      "Точность модели 0.7006802721088435\n",
      "Плотность  0.49282296650717705\n",
      "F1-мера 0.5786516853932585\n",
      "\n",
      "Случайный лес\n",
      "Качество модели 0.865\n",
      "Точность модели 0.7781954887218046\n",
      "Плотность  0.49521531100478466\n",
      "F1-мера 0.6052631578947368\n",
      "\n",
      "Логистическая регрессия\n",
      "Качество модели 0.8025\n",
      "Точность модели 0.5657142857142857\n",
      "Плотность  0.23684210526315788\n",
      "F1-мера 0.33389544688026984\n",
      "\n"
     ]
    }
   ],
   "source": [
    "# Дерево решений:\n",
    "\n",
    "model = DecisionTreeClassifier(random_state=12345, max_depth=9)\n",
    "model.fit(features_train, target_train)\n",
    "prediction_dr = model.predict(features_valid)\n",
    "accuracy_dr = accuracy_score(target_valid, prediction_dr)\n",
    "f1_dr = f1_score(target_valid, prediction_dr)\n",
    "precision_dr = precision_score(target_valid, prediction_dr)\n",
    "recall_dr = recall_score(target_valid, prediction_dr)\n",
    "print('Дерево решений')\n",
    "print('Качество модели', accuracy_dr)\n",
    "print('Точность модели', precision_dr)\n",
    "print('Плотность ', recall_dr)\n",
    "print('F1-мера', f1_dr)\n",
    "print()\n",
    "\n",
    "# Случайный лес:\n",
    "\n",
    "model = RandomForestClassifier(random_state=12345, n_estimators = 27, max_depth = 19)\n",
    "model.fit(features_train, target_train)\n",
    "prediction_sl = model.predict(features_valid)\n",
    "accuracy_sl = accuracy_score(target_valid, prediction_sl)\n",
    "f1_sl = f1_score(target_valid, prediction_sl)\n",
    "precision_sl = precision_score(target_valid, prediction_sl)\n",
    "recall_sl = recall_score(target_valid, prediction_sl)\n",
    "print('Случайный лес')\n",
    "print('Качество модели', accuracy_sl)\n",
    "print('Точность модели', precision_sl)\n",
    "print('Плотность ', recall_sl)\n",
    "print('F1-мера', f1_sl)\n",
    "print()\n",
    "\n",
    "# Логистическая регрессия:\n",
    "\n",
    "model = LogisticRegression(random_state=12345, solver='lbfgs')\n",
    "model.fit(features_train, target_train)\n",
    "prediction_lr = model.predict(features_valid)\n",
    "accuracy_lr = accuracy_score(target_valid, prediction_lr)\n",
    "f1_lr = f1_score(target_valid, prediction_lr)\n",
    "precision_lr = precision_score(target_valid, prediction_lr)\n",
    "recall_lr = recall_score(target_valid, prediction_lr)\n",
    "print('Логистическая регрессия')\n",
    "print('Качество модели', accuracy_lr)\n",
    "print('Точность модели', precision_lr)\n",
    "print('Плотность ', recall_lr)\n",
    "print('F1-мера', f1_lr)\n",
    "print()"
   ]
  },
  {
   "cell_type": "markdown",
   "metadata": {},
   "source": [
    "### График ROC, а также метрика AUC-ROC"
   ]
  },
  {
   "cell_type": "code",
   "execution_count": 36,
   "metadata": {},
   "outputs": [
    {
     "name": "stdout",
     "output_type": "stream",
     "text": [
      "AUC-ROC Деревая решения: 0.7899719632952051\n",
      "AUC-ROC Случайного леса: 0.8345736122284795\n",
      "AUC-ROC Логистической регрессии: 0.7587361404315294\n"
     ]
    },
    {
     "data": {
      "image/png": "[encoded data removed]",
      "text/plain": [
       "<Figure size 864x648 with 1 Axes>"
      ]
     },
     "metadata": {
      "needs_background": "light"
     },
     "output_type": "display_data"
    }
   ],
   "source": [
    "plt.figure(figsize=[12,9])\n",
    "\n",
    "plt.plot([0, 1], [0, 1], linestyle='--', label='RandomModel')\n",
    "\n",
    "\n",
    "# Дерево решений:\n",
    "\n",
    "model = DecisionTreeClassifier(random_state=12345, max_depth=9)\n",
    "model.fit(features_train, target_train)\n",
    "predict_proba_dr = model.predict_proba(features_valid)\n",
    "predict_proba_dr_one = predict_proba_dr[:, 1]\n",
    "auc_roc_dr = roc_auc_score(target_valid, predict_proba_dr_one)\n",
    "fpr_dr, tpr_dr, thresholds_dr = roc_curve(target_valid, predict_proba_dr_one)\n",
    "plt.plot(fpr_dr, tpr_dr, label='Дерево решений')\n",
    "print('AUC-ROC Деревая решения:', auc_roc_dr)\n",
    "\n",
    "# Случайный лес:\n",
    "\n",
    "model = RandomForestClassifier(random_state=12345, n_estimators = 27, max_depth = 19)\n",
    "model.fit(features_train, target_train)\n",
    "predict_proba_sl = model.predict_proba(features_valid)\n",
    "predict_proba_sl_one = predict_proba_sl[:, 1]\n",
    "auc_roc_sl = roc_auc_score(target_valid, predict_proba_sl_one)\n",
    "fpr_sl, tpr_sl, thresholds_sl = roc_curve(target_valid, predict_proba_sl_one)\n",
    "plt.plot(fpr_sl, tpr_sl, label='Случайный лес')\n",
    "print('AUC-ROC Случайного леса:', auc_roc_sl)\n",
    "\n",
    "# Логистическая регрессия:\n",
    "\n",
    "model = LogisticRegression(random_state=12345, solver='lbfgs')\n",
    "model.fit(features_train, target_train)\n",
    "predict_proba_lr = model.predict_proba(features_valid)\n",
    "predict_proba_lr_one = predict_proba_lr[:, 1]\n",
    "auc_roc_lr = roc_auc_score(target_valid, predict_proba_lr_one)\n",
    "fpr_lr, tpr_lr, thresholds_lr = roc_curve(target_valid, predict_proba_lr_one)\n",
    "plt.plot(fpr_lr, tpr_lr, label='Логистическая регрессия')\n",
    "print('AUC-ROC Логистической регрессии:', auc_roc_lr)\n",
    "\n",
    "plt.xlim([0,1])\n",
    "plt.ylim([0,1])\n",
    "\n",
    "plt.xlabel(\"FPR\")\n",
    "plt.ylabel(\"TPR\")\n",
    "\n",
    "plt.legend(loc='lower right')\n",
    "\n",
    "plt.title(\"ROC-кривая\")\n",
    "plt.show()"
   ]
  },
  {
   "cell_type": "markdown",
   "metadata": {},
   "source": [
    "Как мы можем заметить по графику и по моделям, показатели F1 и AUC-ROC лучше всего у модели \"Случайного леса\""
   ]
  },
  {
   "cell_type": "markdown",
   "metadata": {},
   "source": [
    "### Вывод"
   ]
  },
  {
   "cell_type": "markdown",
   "metadata": {},
   "source": [
    "Мы можем видеть большой дисбаланс значений классов в отношении 1:4\n",
    "\n",
    "Лучшие показатели в несбалансированных моделях у модели \"Случайного леса\". F1 мера - 0.605, AUC-ROC Случайного леса: 0.835\n",
    "\n",
    "Но исправив дисбаланс класса, мы сможем добиться более точных показателей метрик.\n"
   ]
  },
  {
   "cell_type": "markdown",
   "metadata": {},
   "source": [
    "## Борьба с дисбалансом"
   ]
  },
  {
   "cell_type": "markdown",
   "metadata": {},
   "source": [
    "### Гиперпараметр class_weight='balanced'"
   ]
  },
  {
   "cell_type": "markdown",
   "metadata": {},
   "source": [
    "Попробуем пересмотреть модели обучения с гиперпараметром class_weight='balanced'"
   ]
  },
  {
   "cell_type": "markdown",
   "metadata": {},
   "source": [
    "#### Дерево решений"
   ]
  },
  {
   "cell_type": "code",
   "execution_count": 37,
   "metadata": {
    "scrolled": true
   },
   "outputs": [
    {
     "name": "stdout",
     "output_type": "stream",
     "text": [
      "Глубина дерева: 1 Качество модели 0.85 F1: 0.5786516853932585\n",
      "Глубина дерева: 2 Качество модели 0.85 F1: 0.5786516853932585\n",
      "Глубина дерева: 3 Качество модели 0.85 F1: 0.5786516853932585\n",
      "Глубина дерева: 4 Качество модели 0.85 F1: 0.5786516853932585\n",
      "Глубина дерева: 5 Качество модели 0.85 F1: 0.5786516853932585\n",
      "Глубина дерева: 6 Качество модели 0.85 F1: 0.5786516853932585\n",
      "Глубина дерева: 7 Качество модели 0.85 F1: 0.5786516853932585\n",
      "Глубина дерева: 8 Качество модели 0.85 F1: 0.5786516853932585\n",
      "Глубина дерева: 9 Качество модели 0.85 F1: 0.5786516853932585\n",
      "Глубина дерева: 10 Качество модели 0.85 F1: 0.5786516853932585\n",
      "Глубина дерева: 11 Качество модели 0.85 F1: 0.5786516853932585\n",
      "Глубина дерева: 12 Качество модели 0.85 F1: 0.5786516853932585\n",
      "Глубина дерева: 13 Качество модели 0.85 F1: 0.5786516853932585\n",
      "Глубина дерева: 14 Качество модели 0.85 F1: 0.5786516853932585\n",
      "Глубина дерева: 15 Качество модели 0.85 F1: 0.5786516853932585\n",
      "Глубина дерева: 16 Качество модели 0.85 F1: 0.5786516853932585\n",
      "Глубина дерева: 17 Качество модели 0.85 F1: 0.5786516853932585\n",
      "Глубина дерева: 18 Качество модели 0.85 F1: 0.5786516853932585\n",
      "Глубина дерева: 19 Качество модели 0.85 F1: 0.5786516853932585\n",
      "Глубина дерева: 20 Качество модели 0.85 F1: 0.5786516853932585\n",
      "Глубина дерева: 21 Качество модели 0.85 F1: 0.5786516853932585\n",
      "Глубина дерева: 22 Качество модели 0.85 F1: 0.5786516853932585\n",
      "Глубина дерева: 23 Качество модели 0.85 F1: 0.5786516853932585\n",
      "Глубина дерева: 24 Качество модели 0.85 F1: 0.5786516853932585\n",
      "Глубина дерева: 25 Качество модели 0.85 F1: 0.5786516853932585\n",
      "Глубина дерева: 26 Качество модели 0.85 F1: 0.5786516853932585\n",
      "Глубина дерева: 27 Качество модели 0.85 F1: 0.5786516853932585\n",
      "Глубина дерева: 28 Качество модели 0.85 F1: 0.5786516853932585\n",
      "Глубина дерева: 29 Качество модели 0.85 F1: 0.5786516853932585\n",
      "\n",
      "Лучший результат качества модели: 0.85 при глубине: 1 F1: 0.5786516853932585\n",
      "\n",
      "Лучший результат качества модели: 0.85 при глубине: 1 F1: 0.5786516853932585\n",
      "\n",
      "Точность константной модели: 0.791\n",
      "Данная модель проходит тест на адекватность по точности модели 0.85 > 0.791\n",
      "\n",
      "F1-метрика константной модели: 0.59\n",
      "Данная модель не проходит тест на адекватность по точности модели 0.5786516853932585 < 0.59\n",
      "CPU times: user 799 ms, sys: 7.65 ms, total: 807 ms\n",
      "Wall time: 819 ms\n"
     ]
    }
   ],
   "source": [
    "%%time\n",
    "\n",
    "best_model_dr_balanced = None\n",
    "best_accuracy_dr_balanced = 0\n",
    "best_depth_dr_balanced = 0\n",
    "best_f1_dr_balanced = 0\n",
    "\n",
    "for depth in range (1, 30):\n",
    "    model = DecisionTreeClassifier(random_state=12345, max_depth=depth, class_weight='balanced')\n",
    "    model.fit(features_train, target_train)\n",
    "    prediction_dr_balanced = model.predict(features_valid)\n",
    "    accuracy_dr_balanced = accuracy_score(target_valid, prediction_dr)\n",
    "    f1_dr_balanced = f1_score(target_valid, prediction_dr)\n",
    "    if f1_dr_balanced > best_f1_dr_balanced:\n",
    "        best_model_dr_balanced = model\n",
    "        best_accuracy_dr_balanced = accuracy_dr_balanced\n",
    "        best_depth_dr_balanced = depth\n",
    "        best_f1_dr_balanced = f1_dr_balanced\n",
    "    print('Глубина дерева:', depth, 'Качество модели', accuracy_dr_balanced, 'F1:', f1_dr_balanced)\n",
    "print('')\n",
    "print(\"Лучший результат качества модели:\", best_accuracy_dr_balanced, 'при глубине:', best_depth_dr_balanced, 'F1:', best_f1_dr_balanced)\n",
    "print('')\n",
    "print(\"Лучший результат качества модели:\", best_accuracy_dr_balanced, 'при глубине:', best_depth_dr_balanced, 'F1:', best_f1_dr_balanced)\n",
    "print('')\n",
    "\n",
    "print('Точность константной модели:', accuracy_constant) \n",
    "if best_accuracy_dr_balanced >= accuracy_constant:\n",
    "    print('Данная модель проходит тест на адекватность по точности модели', best_accuracy_dr_balanced, '>', accuracy_constant)\n",
    "else:\n",
    "    print('Данная модель не проходит тест на адекватность по точности модели', best_accuracy_dr_balanced, '>', accuracy_constant)\n",
    "print('')\n",
    "\n",
    "print('F1-метрика константной модели:', f1_constant)\n",
    "if best_f1_dr_balanced >= f1_constant:\n",
    "    print('Данная модель проходит тест на адекватность по точности модели', best_f1_dr_balanced, '>', f1_constant)\n",
    "else:\n",
    "    print('Данная модель не проходит тест на адекватность по точности модели', best_f1_dr_balanced, '<', f1_constant)"
   ]
  },
  {
   "cell_type": "markdown",
   "metadata": {},
   "source": [
    "#### Случайный лес"
   ]
  },
  {
   "cell_type": "code",
   "execution_count": 38,
   "metadata": {},
   "outputs": [
    {
     "name": "stdout",
     "output_type": "stream",
     "text": [
      "При количестве деревьев: 1 при глубине: 1 Качество модели 0.8155 F1: 0.2484725050916497\n",
      "При количестве деревьев: 1 при глубине: 3 Качество модели 0.563 F1: 0.4510050251256282\n",
      "При количестве деревьев: 1 при глубине: 5 Качество модели 0.7075 F1: 0.5240032546786004\n",
      "При количестве деревьев: 1 при глубине: 7 Качество модели 0.736 F1: 0.5510204081632653\n",
      "При количестве деревьев: 1 при глубине: 9 Качество модели 0.7445 F1: 0.521087160262418\n",
      "При количестве деревьев: 1 при глубине: 11 Качество модели 0.7435 F1: 0.5118934348239772\n",
      "При количестве деревьев: 1 при глубине: 13 Качество модели 0.7505 F1: 0.49029622063329925\n",
      "При количестве деревьев: 1 при глубине: 15 Качество модели 0.774 F1: 0.4669811320754717\n",
      "При количестве деревьев: 1 при глубине: 17 Качество модели 0.774 F1: 0.46445497630331756\n",
      "При количестве деревьев: 1 при глубине: 19 Качество модели 0.7735 F1: 0.4738675958188153\n",
      "При количестве деревьев: 1 при глубине: 21 Качество модели 0.7705 F1: 0.4631578947368421\n",
      "При количестве деревьев: 1 при глубине: 23 Качество модели 0.7705 F1: 0.4631578947368421\n",
      "При количестве деревьев: 1 при глубине: 25 Качество модели 0.7705 F1: 0.4631578947368421\n",
      "При количестве деревьев: 1 при глубине: 27 Качество модели 0.7705 F1: 0.4631578947368421\n",
      "При количестве деревьев: 1 при глубине: 29 Качество модели 0.7705 F1: 0.4631578947368421\n",
      "При количестве деревьев: 1 при глубине: 31 Качество модели 0.7705 F1: 0.4631578947368421\n",
      "При количестве деревьев: 1 при глубине: 33 Качество модели 0.7705 F1: 0.4631578947368421\n",
      "При количестве деревьев: 1 при глубине: 35 Качество модели 0.7705 F1: 0.4631578947368421\n",
      "При количестве деревьев: 1 при глубине: 37 Качество модели 0.7705 F1: 0.4631578947368421\n",
      "При количестве деревьев: 1 при глубине: 39 Качество модели 0.7705 F1: 0.4631578947368421\n",
      "При количестве деревьев: 3 при глубине: 1 Качество модели 0.765 F1: 0.541015625\n",
      "При количестве деревьев: 3 при глубине: 3 Качество модели 0.708 F1: 0.5228758169934641\n",
      "При количестве деревьев: 3 при глубине: 5 Качество модели 0.758 F1: 0.5535055350553505\n",
      "При количестве деревьев: 3 при глубине: 7 Качество модели 0.8 F1: 0.5975855130784707\n",
      "При количестве деревьев: 3 при глубине: 9 Качество модели 0.8175 F1: 0.6087888531618436\n",
      "При количестве деревьев: 3 при глубине: 11 Качество модели 0.808 F1: 0.5723830734966593\n",
      "При количестве деревьев: 3 при глубине: 13 Качество модели 0.8175 F1: 0.5454545454545455\n",
      "При количестве деревьев: 3 при глубине: 15 Качество модели 0.8155 F1: 0.5060240963855422\n",
      "При количестве деревьев: 3 при глубине: 17 Качество модели 0.813 F1: 0.5117493472584856\n",
      "При количестве деревьев: 3 при глубине: 19 Качество модели 0.8195 F1: 0.5193075898801598\n",
      "При количестве деревьев: 3 при глубине: 21 Качество модели 0.8185 F1: 0.5140562248995985\n",
      "При количестве деревьев: 3 при глубине: 23 Качество модели 0.82 F1: 0.517426273458445\n",
      "При количестве деревьев: 3 при глубине: 25 Качество модели 0.82 F1: 0.517426273458445\n",
      "При количестве деревьев: 3 при глубине: 27 Качество модели 0.82 F1: 0.517426273458445\n",
      "При количестве деревьев: 3 при глубине: 29 Качество модели 0.82 F1: 0.517426273458445\n",
      "При количестве деревьев: 3 при глубине: 31 Качество модели 0.82 F1: 0.517426273458445\n",
      "При количестве деревьев: 3 при глубине: 33 Качество модели 0.82 F1: 0.517426273458445\n",
      "При количестве деревьев: 3 при глубине: 35 Качество модели 0.82 F1: 0.517426273458445\n",
      "При количестве деревьев: 3 при глубине: 37 Качество модели 0.82 F1: 0.517426273458445\n",
      "При количестве деревьев: 3 при глубине: 39 Качество модели 0.82 F1: 0.517426273458445\n",
      "При количестве деревьев: 5 при глубине: 1 Качество модели 0.787 F1: 0.5562499999999999\n",
      "При количестве деревьев: 5 при глубине: 3 Качество модели 0.757 F1: 0.5406427221172023\n",
      "При количестве деревьев: 5 при глубине: 5 Качество модели 0.7665 F1: 0.5687903970452447\n",
      "При количестве деревьев: 5 при глубине: 7 Качество модели 0.8125 F1: 0.6081504702194357\n",
      "При количестве деревьев: 5 при глубине: 9 Качество модели 0.826 F1: 0.6133333333333334\n",
      "При количестве деревьев: 5 при глубине: 11 Качество модели 0.8245 F1: 0.582639714625446\n",
      "При количестве деревьев: 5 при глубине: 13 Качество модели 0.837 F1: 0.578811369509044\n",
      "При количестве деревьев: 5 при глубине: 15 Качество модели 0.831 F1: 0.5318559556786704\n",
      "При количестве деревьев: 5 при глубине: 17 Качество модели 0.828 F1: 0.536388140161725\n",
      "При количестве деревьев: 5 при глубине: 19 Качество модели 0.8315 F1: 0.5325936199722607\n",
      "При количестве деревьев: 5 при глубине: 21 Качество модели 0.84 F1: 0.5555555555555556\n",
      "При количестве деревьев: 5 при глубине: 23 Качество модели 0.836 F1: 0.5393258426966292\n",
      "При количестве деревьев: 5 при глубине: 25 Качество модели 0.836 F1: 0.5393258426966292\n",
      "При количестве деревьев: 5 при глубине: 27 Качество модели 0.836 F1: 0.5393258426966292\n",
      "При количестве деревьев: 5 при глубине: 29 Качество модели 0.836 F1: 0.5393258426966292\n",
      "При количестве деревьев: 5 при глубине: 31 Качество модели 0.836 F1: 0.5393258426966292\n",
      "При количестве деревьев: 5 при глубине: 33 Качество модели 0.836 F1: 0.5393258426966292\n",
      "При количестве деревьев: 5 при глубине: 35 Качество модели 0.836 F1: 0.5393258426966292\n",
      "При количестве деревьев: 5 при глубине: 37 Качество модели 0.836 F1: 0.5393258426966292\n",
      "При количестве деревьев: 5 при глубине: 39 Качество модели 0.836 F1: 0.5393258426966292\n",
      "При количестве деревьев: 7 при глубине: 1 Качество модели 0.83 F1: 0.5466666666666666\n",
      "При количестве деревьев: 7 при глубине: 3 Качество модели 0.752 F1: 0.5515370705244124\n",
      "При количестве деревьев: 7 при глубине: 5 Качество модели 0.787 F1: 0.5831702544031311\n",
      "При количестве деревьев: 7 при глубине: 7 Качество модели 0.8205 F1: 0.6225026288117771\n",
      "При количестве деревьев: 7 при глубине: 9 Качество модели 0.8245 F1: 0.6130099228224918\n",
      "При количестве деревьев: 7 при глубине: 11 Качество модели 0.8245 F1: 0.582639714625446\n",
      "При количестве деревьев: 7 при глубине: 13 Качество модели 0.8505 F1: 0.6039735099337747\n",
      "При количестве деревьев: 7 при глубине: 15 Качество модели 0.8405 F1: 0.5513361462728551\n",
      "При количестве деревьев: 7 при глубине: 17 Качество модели 0.844 F1: 0.564245810055866\n",
      "При количестве деревьев: 7 при глубине: 19 Качество модели 0.8485 F1: 0.5762237762237762\n",
      "При количестве деревьев: 7 при глубине: 21 Качество модели 0.846 F1: 0.5637393767705382\n",
      "При количестве деревьев: 7 при глубине: 23 Качество модели 0.8425 F1: 0.5531914893617021\n",
      "При количестве деревьев: 7 при глубине: 25 Качество модели 0.8425 F1: 0.5531914893617021\n",
      "При количестве деревьев: 7 при глубине: 27 Качество модели 0.8425 F1: 0.5531914893617021\n",
      "При количестве деревьев: 7 при глубине: 29 Качество модели 0.8425 F1: 0.5531914893617021\n",
      "При количестве деревьев: 7 при глубине: 31 Качество модели 0.8425 F1: 0.5531914893617021\n",
      "При количестве деревьев: 7 при глубине: 33 Качество модели 0.8425 F1: 0.5531914893617021\n",
      "При количестве деревьев: 7 при глубине: 35 Качество модели 0.8425 F1: 0.5531914893617021\n",
      "При количестве деревьев: 7 при глубине: 37 Качество модели 0.8425 F1: 0.5531914893617021\n",
      "При количестве деревьев: 7 при глубине: 39 Качество модели 0.8425 F1: 0.5531914893617021\n",
      "При количестве деревьев: 9 при глубине: 1 Качество модели 0.629 F1: 0.4248062015503876\n",
      "При количестве деревьев: 9 при глубине: 3 Качество модели 0.7555 F1: 0.5509641873278237\n",
      "При количестве деревьев: 9 при глубине: 5 Качество модели 0.7985 F1: 0.5957873620862588\n",
      "При количестве деревьев: 9 при глубине: 7 Качество модели 0.8205 F1: 0.6225026288117771\n",
      "При количестве деревьев: 9 при глубине: 9 Качество модели 0.825 F1: 0.6136865342163356\n",
      "При количестве деревьев: 9 при глубине: 11 Качество модели 0.829 F1: 0.585956416464891\n",
      "При количестве деревьев: 9 при глубине: 13 Качество модели 0.85 F1: 0.5978552278820375\n",
      "При количестве деревьев: 9 при глубине: 15 Качество модели 0.84 F1: 0.5454545454545455\n",
      "При количестве деревьев: 9 при глубине: 17 Качество модели 0.846 F1: 0.5674157303370786\n",
      "При количестве деревьев: 9 при глубине: 19 Качество модели 0.847 F1: 0.5653409090909092\n",
      "При количестве деревьев: 9 при глубине: 21 Качество модели 0.8475 F1: 0.5598845598845599\n",
      "При количестве деревьев: 9 при глубине: 23 Качество модели 0.846 F1: 0.5587392550143266\n",
      "При количестве деревьев: 9 при глубине: 25 Качество модели 0.846 F1: 0.5587392550143266\n",
      "При количестве деревьев: 9 при глубине: 27 Качество модели 0.846 F1: 0.5587392550143266\n",
      "При количестве деревьев: 9 при глубине: 29 Качество модели 0.846 F1: 0.5587392550143266\n",
      "При количестве деревьев: 9 при глубине: 31 Качество модели 0.846 F1: 0.5587392550143266\n",
      "При количестве деревьев: 9 при глубине: 33 Качество модели 0.846 F1: 0.5587392550143266\n",
      "При количестве деревьев: 9 при глубине: 35 Качество модели 0.846 F1: 0.5587392550143266\n",
      "При количестве деревьев: 9 при глубине: 37 Качество модели 0.846 F1: 0.5587392550143266\n",
      "При количестве деревьев: 9 при глубине: 39 Качество модели 0.846 F1: 0.5587392550143266\n",
      "При количестве деревьев: 11 при глубине: 1 Качество модели 0.629 F1: 0.4248062015503876\n",
      "При количестве деревьев: 11 при глубине: 3 Качество модели 0.7665 F1: 0.5647716682199441\n",
      "При количестве деревьев: 11 при глубине: 5 Качество модели 0.7935 F1: 0.5898709036742801\n",
      "При количестве деревьев: 11 при глубине: 7 Качество модели 0.816 F1: 0.6126315789473685\n",
      "При количестве деревьев: 11 при глубине: 9 Качество модели 0.821 F1: 0.6048565121412803\n",
      "При количестве деревьев: 11 при глубине: 11 Качество модели 0.8335 F1: 0.5924112607099143\n",
      "При количестве деревьев: 11 при глубине: 13 Качество модели 0.855 F1: 0.6102150537634408\n",
      "При количестве деревьев: 11 при глубине: 15 Качество модели 0.851 F1: 0.569364161849711\n",
      "При количестве деревьев: 11 при глубине: 17 Качество модели 0.848 F1: 0.5619596541786744\n",
      "При количестве деревьев: 11 при глубине: 19 Качество модели 0.8505 F1: 0.5697841726618705\n",
      "При количестве деревьев: 11 при глубине: 21 Качество модели 0.8475 F1: 0.5586107091172215\n",
      "При количестве деревьев: 11 при глубине: 23 Качество модели 0.8485 F1: 0.552437223042836\n",
      "При количестве деревьев: 11 при глубине: 25 Качество модели 0.849 F1: 0.5610465116279071\n",
      "При количестве деревьев: 11 при глубине: 27 Качество модели 0.849 F1: 0.5610465116279071\n",
      "При количестве деревьев: 11 при глубине: 29 Качество модели 0.849 F1: 0.5610465116279071\n",
      "При количестве деревьев: 11 при глубине: 31 Качество модели 0.849 F1: 0.5610465116279071\n",
      "При количестве деревьев: 11 при глубине: 33 Качество модели 0.849 F1: 0.5610465116279071\n",
      "При количестве деревьев: 11 при глубине: 35 Качество модели 0.849 F1: 0.5610465116279071\n",
      "При количестве деревьев: 11 при глубине: 37 Качество модели 0.849 F1: 0.5610465116279071\n",
      "При количестве деревьев: 11 при глубине: 39 Качество модели 0.849 F1: 0.5610465116279071\n",
      "При количестве деревьев: 13 при глубине: 1 Качество модели 0.7795 F1: 0.5159165751920967\n",
      "При количестве деревьев: 13 при глубине: 3 Качество модели 0.7635 F1: 0.5591798695246971\n",
      "При количестве деревьев: 13 при глубине: 5 Качество модели 0.7955 F1: 0.5962487660414609\n",
      "При количестве деревьев: 13 при глубине: 7 Качество модели 0.8145 F1: 0.6107030430220356\n",
      "При количестве деревьев: 13 при глубине: 9 Качество модели 0.8225 F1: 0.6051167964404894\n",
      "При количестве деревьев: 13 при глубине: 11 Качество модели 0.8355 F1: 0.5923172242874846\n",
      "При количестве деревьев: 13 при глубине: 13 Качество модели 0.853 F1: 0.5983606557377049\n",
      "При количестве деревьев: 13 при глубине: 15 Качество модели 0.847 F1: 0.5539358600583091\n",
      "При количестве деревьев: 13 при глубине: 17 Качество модели 0.851 F1: 0.566860465116279\n",
      "При количестве деревьев: 13 при глубине: 19 Качество модели 0.8565 F1: 0.5797950219619326\n",
      "При количестве деревьев: 13 при глубине: 21 Качество модели 0.848 F1: 0.551622418879056\n",
      "При количестве деревьев: 13 при глубине: 23 Качество модели 0.8515 F1: 0.56\n",
      "При количестве деревьев: 13 при глубине: 25 Качество модели 0.8505 F1: 0.5609397944199707\n",
      "При количестве деревьев: 13 при глубине: 27 Качество модели 0.8505 F1: 0.5609397944199707\n",
      "При количестве деревьев: 13 при глубине: 29 Качество модели 0.8505 F1: 0.5609397944199707\n",
      "При количестве деревьев: 13 при глубине: 31 Качество модели 0.8505 F1: 0.5609397944199707\n",
      "При количестве деревьев: 13 при глубине: 33 Качество модели 0.8505 F1: 0.5609397944199707\n",
      "При количестве деревьев: 13 при глубине: 35 Качество модели 0.8505 F1: 0.5609397944199707\n",
      "При количестве деревьев: 13 при глубине: 37 Качество модели 0.8505 F1: 0.5609397944199707\n",
      "При количестве деревьев: 13 при глубине: 39 Качество модели 0.8505 F1: 0.5609397944199707\n",
      "При количестве деревьев: 15 при глубине: 1 Качество модели 0.7555 F1: 0.5311601150527324\n",
      "При количестве деревьев: 15 при глубине: 3 Качество модели 0.7625 F1: 0.5622119815668203\n",
      "При количестве деревьев: 15 при глубине: 5 Качество модели 0.794 F1: 0.5928853754940712\n",
      "При количестве деревьев: 15 при глубине: 7 Качество модели 0.8175 F1: 0.6121147715196599\n",
      "При количестве деревьев: 15 при глубине: 9 Качество модели 0.824 F1: 0.6080178173719376\n",
      "При количестве деревьев: 15 при глубине: 11 Качество модели 0.84 F1: 0.600997506234414\n",
      "При количестве деревьев: 15 при глубине: 13 Качество модели 0.852 F1: 0.5945205479452055\n",
      "При количестве деревьев: 15 при глубине: 15 Качество модели 0.849 F1: 0.5558823529411764\n",
      "При количестве деревьев: 15 при глубине: 17 Качество модели 0.8555 F1: 0.5743740795287187\n",
      "При количестве деревьев: 15 при глубине: 19 Качество модели 0.857 F1: 0.576923076923077\n",
      "При количестве деревьев: 15 при глубине: 21 Качество модели 0.8485 F1: 0.5511111111111111\n",
      "При количестве деревьев: 15 при глубине: 23 Качество модели 0.8515 F1: 0.5573770491803278\n",
      "При количестве деревьев: 15 при глубине: 25 Качество модели 0.852 F1: 0.5634218289085545\n",
      "При количестве деревьев: 15 при глубине: 27 Качество модели 0.852 F1: 0.5634218289085545\n",
      "При количестве деревьев: 15 при глубине: 29 Качество модели 0.852 F1: 0.5634218289085545\n",
      "При количестве деревьев: 15 при глубине: 31 Качество модели 0.852 F1: 0.5634218289085545\n",
      "При количестве деревьев: 15 при глубине: 33 Качество модели 0.852 F1: 0.5634218289085545\n",
      "При количестве деревьев: 15 при глубине: 35 Качество модели 0.852 F1: 0.5634218289085545\n",
      "При количестве деревьев: 15 при глубине: 37 Качество модели 0.852 F1: 0.5634218289085545\n",
      "При количестве деревьев: 15 при глубине: 39 Качество модели 0.852 F1: 0.5634218289085545\n",
      "При количестве деревьев: 17 при глубине: 1 Качество модели 0.748 F1: 0.5280898876404494\n",
      "При количестве деревьев: 17 при глубине: 3 Качество модели 0.7575 F1: 0.5578851412944394\n",
      "При количестве деревьев: 17 при глубине: 5 Качество модели 0.795 F1: 0.5932539682539683\n",
      "При количестве деревьев: 17 при глубине: 7 Качество модели 0.8205 F1: 0.6201058201058202\n",
      "При количестве деревьев: 17 при глубине: 9 Качество модели 0.8285 F1: 0.6141732283464567\n",
      "При количестве деревьев: 17 при глубине: 11 Качество модели 0.843 F1: 0.6055276381909547\n",
      "При количестве деревьев: 17 при глубине: 13 Качество модели 0.8545 F1: 0.5986206896551723\n",
      "При количестве деревьев: 17 при глубине: 15 Качество модели 0.851 F1: 0.5630498533724341\n",
      "При количестве деревьев: 17 при глубине: 17 Качество модели 0.856 F1: 0.5714285714285715\n",
      "При количестве деревьев: 17 при глубине: 19 Качество модели 0.8565 F1: 0.571001494768311\n",
      "При количестве деревьев: 17 при глубине: 21 Качество модели 0.8485 F1: 0.5511111111111111\n",
      "При количестве деревьев: 17 при глубине: 23 Качество модели 0.851 F1: 0.5617647058823529\n",
      "При количестве деревьев: 17 при глубине: 25 Качество модели 0.8515 F1: 0.5612998522895125\n",
      "При количестве деревьев: 17 при глубине: 27 Качество модели 0.8515 F1: 0.5612998522895125\n",
      "При количестве деревьев: 17 при глубине: 29 Качество модели 0.8515 F1: 0.5612998522895125\n",
      "При количестве деревьев: 17 при глубине: 31 Качество модели 0.8515 F1: 0.5612998522895125\n",
      "При количестве деревьев: 17 при глубине: 33 Качество модели 0.8515 F1: 0.5612998522895125\n",
      "При количестве деревьев: 17 при глубине: 35 Качество модели 0.8515 F1: 0.5612998522895125\n",
      "При количестве деревьев: 17 при глубине: 37 Качество модели 0.8515 F1: 0.5612998522895125\n",
      "При количестве деревьев: 17 при глубине: 39 Качество модели 0.8515 F1: 0.5612998522895125\n",
      "При количестве деревьев: 19 при глубине: 1 Качество модели 0.748 F1: 0.5280898876404494\n",
      "При количестве деревьев: 19 при глубине: 3 Качество модели 0.7625 F1: 0.563017479300828\n",
      "При количестве деревьев: 19 при глубине: 5 Качество модели 0.801 F1: 0.5987903225806452\n",
      "При количестве деревьев: 19 при глубине: 7 Качество модели 0.8205 F1: 0.618490967056323\n",
      "При количестве деревьев: 19 при глубине: 9 Качество модели 0.8295 F1: 0.6181410974244121\n",
      "При количестве деревьев: 19 при глубине: 11 Качество модели 0.84 F1: 0.5939086294416244\n",
      "При количестве деревьев: 19 при глубине: 13 Качество модели 0.856 F1: 0.6011080332409972\n",
      "При количестве деревьев: 19 при глубине: 15 Качество модели 0.849 F1: 0.5610465116279071\n",
      "При количестве деревьев: 19 при глубине: 17 Качество модели 0.854 F1: 0.5667655786350148\n",
      "При количестве деревьев: 19 при глубине: 19 Качество модели 0.857 F1: 0.573134328358209\n",
      "При количестве деревьев: 19 при глубине: 21 Качество модели 0.8495 F1: 0.5527488855869243\n",
      "При количестве деревьев: 19 при глубине: 23 Качество модели 0.852 F1: 0.5542168674698796\n",
      "При количестве деревьев: 19 при глубине: 25 Качество модели 0.8505 F1: 0.557037037037037\n",
      "При количестве деревьев: 19 при глубине: 27 Качество модели 0.8505 F1: 0.557037037037037\n",
      "При количестве деревьев: 19 при глубине: 29 Качество модели 0.8505 F1: 0.557037037037037\n",
      "При количестве деревьев: 19 при глубине: 31 Качество модели 0.8505 F1: 0.557037037037037\n",
      "При количестве деревьев: 19 при глубине: 33 Качество модели 0.8505 F1: 0.557037037037037\n",
      "При количестве деревьев: 19 при глубине: 35 Качество модели 0.8505 F1: 0.557037037037037\n",
      "При количестве деревьев: 19 при глубине: 37 Качество модели 0.8505 F1: 0.557037037037037\n",
      "При количестве деревьев: 19 при глубине: 39 Качество модели 0.8505 F1: 0.557037037037037\n",
      "При количестве деревьев: 21 при глубине: 1 Качество модели 0.7485 F1: 0.5268109125117592\n",
      "При количестве деревьев: 21 при глубине: 3 Качество модели 0.7635 F1: 0.5640552995391706\n",
      "При количестве деревьев: 21 при глубине: 5 Качество модели 0.807 F1: 0.6069246435845215\n",
      "При количестве деревьев: 21 при глубине: 7 Качество модели 0.8195 F1: 0.621196222455404\n",
      "При количестве деревьев: 21 при глубине: 9 Качество модели 0.83 F1: 0.617117117117117\n",
      "При количестве деревьев: 21 при глубине: 11 Качество модели 0.8395 F1: 0.5982478097622027\n",
      "При количестве деревьев: 21 при глубине: 13 Качество модели 0.8505 F1: 0.5864453665283541\n",
      "При количестве деревьев: 21 при глубине: 15 Качество модели 0.851 F1: 0.569364161849711\n",
      "При количестве деревьев: 21 при глубине: 17 Качество модели 0.8565 F1: 0.5697151424287856\n",
      "При количестве деревьев: 21 при глубине: 19 Качество модели 0.855 F1: 0.5632530120481928\n",
      "При количестве деревьев: 21 при глубине: 21 Качество модели 0.85 F1: 0.5575221238938052\n",
      "При количестве деревьев: 21 при глубине: 23 Качество модели 0.852 F1: 0.5555555555555555\n",
      "При количестве деревьев: 21 при глубине: 25 Качество модели 0.848 F1: 0.5462686567164179\n",
      "При количестве деревьев: 21 при глубине: 27 Качество модели 0.848 F1: 0.5462686567164179\n",
      "При количестве деревьев: 21 при глубине: 29 Качество модели 0.848 F1: 0.5462686567164179\n",
      "При количестве деревьев: 21 при глубине: 31 Качество модели 0.848 F1: 0.5462686567164179\n",
      "При количестве деревьев: 21 при глубине: 33 Качество модели 0.848 F1: 0.5462686567164179\n",
      "При количестве деревьев: 21 при глубине: 35 Качество модели 0.848 F1: 0.5462686567164179\n",
      "При количестве деревьев: 21 при глубине: 37 Качество модели 0.848 F1: 0.5462686567164179\n",
      "При количестве деревьев: 21 при глубине: 39 Качество модели 0.848 F1: 0.5462686567164179\n",
      "При количестве деревьев: 23 при глубине: 1 Качество модели 0.76 F1: 0.5539033457249071\n",
      "При количестве деревьев: 23 при глубине: 3 Качество модели 0.763 F1: 0.5651376146788991\n",
      "При количестве деревьев: 23 при глубине: 5 Качество модели 0.8055 F1: 0.6042726347914548\n",
      "При количестве деревьев: 23 при глубине: 7 Качество модели 0.8175 F1: 0.6153846153846154\n",
      "При количестве деревьев: 23 при глубине: 9 Качество модели 0.833 F1: 0.6230248306997742\n",
      "При количестве деревьев: 23 при глубине: 11 Качество модели 0.8455 F1: 0.6083650190114067\n",
      "При количестве деревьев: 23 при глубине: 13 Качество модели 0.8505 F1: 0.5864453665283541\n",
      "При количестве деревьев: 23 при глубине: 15 Качество модели 0.854 F1: 0.5743440233236151\n",
      "При количестве деревьев: 23 при глубине: 17 Качество модели 0.8595 F1: 0.5812220566318926\n",
      "При количестве деревьев: 23 при глубине: 19 Качество модели 0.856 F1: 0.5623100303951367\n",
      "При количестве деревьев: 23 при глубине: 21 Качество модели 0.8535 F1: 0.5593984962406016\n",
      "При количестве деревьев: 23 при глубине: 23 Качество модели 0.8545 F1: 0.5570776255707762\n",
      "При количестве деревьев: 23 при глубине: 25 Качество модели 0.8525 F1: 0.5537065052950075\n",
      "При количестве деревьев: 23 при глубине: 27 Качество модели 0.8525 F1: 0.5537065052950075\n",
      "При количестве деревьев: 23 при глубине: 29 Качество модели 0.8525 F1: 0.5537065052950075\n",
      "При количестве деревьев: 23 при глубине: 31 Качество модели 0.8525 F1: 0.5537065052950075\n",
      "При количестве деревьев: 23 при глубине: 33 Качество модели 0.8525 F1: 0.5537065052950075\n",
      "При количестве деревьев: 23 при глубине: 35 Качество модели 0.8525 F1: 0.5537065052950075\n",
      "При количестве деревьев: 23 при глубине: 37 Качество модели 0.8525 F1: 0.5537065052950075\n",
      "При количестве деревьев: 23 при глубине: 39 Качество модели 0.8525 F1: 0.5537065052950075\n",
      "При количестве деревьев: 25 при глубине: 1 Качество модели 0.748 F1: 0.5393053016453382\n",
      "При количестве деревьев: 25 при глубине: 3 Качество модели 0.763 F1: 0.5651376146788991\n",
      "При количестве деревьев: 25 при глубине: 5 Качество модели 0.8045 F1: 0.6030456852791878\n",
      "При количестве деревьев: 25 при глубине: 7 Качество модели 0.816 F1: 0.6126315789473685\n",
      "При количестве деревьев: 25 при глубине: 9 Качество модели 0.8275 F1: 0.6101694915254238\n",
      "При количестве деревьев: 25 при глубине: 11 Качество модели 0.8435 F1: 0.603295310519645\n",
      "При количестве деревьев: 25 при глубине: 13 Качество модели 0.8575 F1: 0.6090534979423868\n",
      "При количестве деревьев: 25 при глубине: 15 Качество модели 0.85 F1: 0.563953488372093\n",
      "При количестве деревьев: 25 при глубине: 17 Качество модели 0.8585 F1: 0.575712143928036\n",
      "При количестве деревьев: 25 при глубине: 19 Качество модели 0.8555 F1: 0.5614567526555386\n",
      "При количестве деревьев: 25 при глубине: 21 Качество модели 0.8535 F1: 0.5580693815987934\n",
      "При количестве деревьев: 25 при глубине: 23 Качество модели 0.8575 F1: 0.5662100456621005\n",
      "При количестве деревьев: 25 при глубине: 25 Качество модели 0.855 F1: 0.5579268292682927\n",
      "При количестве деревьев: 25 при глубине: 27 Качество модели 0.855 F1: 0.5579268292682927\n",
      "При количестве деревьев: 25 при глубине: 29 Качество модели 0.855 F1: 0.5579268292682927\n",
      "При количестве деревьев: 25 при глубине: 31 Качество модели 0.855 F1: 0.5579268292682927\n",
      "При количестве деревьев: 25 при глубине: 33 Качество модели 0.855 F1: 0.5579268292682927\n",
      "При количестве деревьев: 25 при глубине: 35 Качество модели 0.855 F1: 0.5579268292682927\n",
      "При количестве деревьев: 25 при глубине: 37 Качество модели 0.855 F1: 0.5579268292682927\n",
      "При количестве деревьев: 25 при глубине: 39 Качество модели 0.855 F1: 0.5579268292682927\n",
      "При количестве деревьев: 27 при глубине: 1 Качество модели 0.7535 F1: 0.5379568884723523\n",
      "При количестве деревьев: 27 при глубине: 3 Качество модели 0.7555 F1: 0.556663644605621\n",
      "При количестве деревьев: 27 при глубине: 5 Качество модели 0.8065 F1: 0.6063072227873856\n",
      "При количестве деревьев: 27 при глубине: 7 Качество модели 0.8155 F1: 0.6119873817034701\n",
      "При количестве деревьев: 27 при глубине: 9 Качество модели 0.8305 F1: 0.6152099886492622\n",
      "При количестве деревьев: 27 при глубине: 11 Качество модели 0.8405 F1: 0.5936305732484076\n",
      "При количестве деревьев: 27 при глубине: 13 Качество модели 0.858 F1: 0.6044568245125348\n",
      "При количестве деревьев: 27 при глубине: 15 Качество модели 0.852 F1: 0.565982404692082\n",
      "При количестве деревьев: 27 при глубине: 17 Качество модели 0.8605 F1: 0.5817091454272864\n",
      "При количестве деревьев: 27 при глубине: 19 Качество модели 0.8555 F1: 0.5614567526555386\n",
      "При количестве деревьев: 27 при глубине: 21 Качество модели 0.8555 F1: 0.5641025641025641\n",
      "При количестве деревьев: 27 при глубине: 23 Качество модели 0.857 F1: 0.5666666666666667\n",
      "При количестве деревьев: 27 при глубине: 25 Качество модели 0.8545 F1: 0.5610859728506787\n",
      "При количестве деревьев: 27 при глубине: 27 Качество модели 0.8545 F1: 0.5610859728506787\n",
      "При количестве деревьев: 27 при глубине: 29 Качество модели 0.8545 F1: 0.5610859728506787\n",
      "При количестве деревьев: 27 при глубине: 31 Качество модели 0.8545 F1: 0.5610859728506787\n",
      "При количестве деревьев: 27 при глубине: 33 Качество модели 0.8545 F1: 0.5610859728506787\n",
      "При количестве деревьев: 27 при глубине: 35 Качество модели 0.8545 F1: 0.5610859728506787\n",
      "При количестве деревьев: 27 при глубине: 37 Качество модели 0.8545 F1: 0.5610859728506787\n",
      "При количестве деревьев: 27 при глубине: 39 Качество модели 0.8545 F1: 0.5610859728506787\n",
      "При количестве деревьев: 29 при глубине: 1 Качество модели 0.7555 F1: 0.5364928909952608\n",
      "При количестве деревьев: 29 при глубине: 3 Качество модели 0.76 F1: 0.5604395604395604\n",
      "При количестве деревьев: 29 при глубине: 5 Качество модели 0.805 F1: 0.6044624746450304\n",
      "При количестве деревьев: 29 при глубине: 7 Качество модели 0.817 F1: 0.6131078224101479\n",
      "При количестве деревьев: 29 при глубине: 9 Качество модели 0.8335 F1: 0.6245772266065388\n",
      "При количестве деревьев: 29 при глубине: 11 Качество модели 0.8405 F1: 0.5967130214917824\n",
      "При количестве деревьев: 29 при глубине: 13 Качество модели 0.858 F1: 0.6077348066298341\n",
      "При количестве деревьев: 29 при глубине: 15 Качество модели 0.8495 F1: 0.5567010309278351\n",
      "При количестве деревьев: 29 при глубине: 17 Качество модели 0.86 F1: 0.5833333333333334\n",
      "При количестве деревьев: 29 при глубине: 19 Качество модели 0.8585 F1: 0.5705614567526556\n",
      "При количестве деревьев: 29 при глубине: 21 Качество модели 0.8565 F1: 0.5684210526315789\n",
      "При количестве деревьев: 29 при глубине: 23 Качество модели 0.856 F1: 0.5623100303951367\n",
      "При количестве деревьев: 29 при глубине: 25 Качество модели 0.853 F1: 0.5545454545454546\n",
      "При количестве деревьев: 29 при глубине: 27 Качество модели 0.853 F1: 0.5545454545454546\n",
      "При количестве деревьев: 29 при глубине: 29 Качество модели 0.853 F1: 0.5545454545454546\n",
      "При количестве деревьев: 29 при глубине: 31 Качество модели 0.853 F1: 0.5545454545454546\n",
      "При количестве деревьев: 29 при глубине: 33 Качество модели 0.853 F1: 0.5545454545454546\n",
      "При количестве деревьев: 29 при глубине: 35 Качество модели 0.853 F1: 0.5545454545454546\n",
      "При количестве деревьев: 29 при глубине: 37 Качество модели 0.853 F1: 0.5545454545454546\n",
      "При количестве деревьев: 29 при глубине: 39 Качество модели 0.853 F1: 0.5545454545454546\n",
      "При количестве деревьев: 31 при глубине: 1 Качество модели 0.7175 F1: 0.5191489361702127\n",
      "При количестве деревьев: 31 при глубине: 3 Качество модели 0.7605 F1: 0.5625570776255708\n",
      "При количестве деревьев: 31 при глубине: 5 Качество модели 0.8065 F1: 0.6071065989847716\n",
      "При количестве деревьев: 31 при глубине: 7 Качество модели 0.818 F1: 0.6152219873150107\n",
      "При количестве деревьев: 31 при глубине: 9 Качество модели 0.8325 F1: 0.6265328874024526\n",
      "При количестве деревьев: 31 при глубине: 11 Качество модели 0.8405 F1: 0.5956907477820025\n",
      "При количестве деревьев: 31 при глубине: 13 Качество модели 0.859 F1: 0.6083333333333333\n",
      "При количестве деревьев: 31 при глубине: 15 Качество модели 0.853 F1: 0.5689149560117303\n",
      "При количестве деревьев: 31 при глубине: 17 Качество модели 0.8595 F1: 0.5799701046337816\n",
      "При количестве деревьев: 31 при глубине: 19 Качество модели 0.8605 F1: 0.5753424657534246\n",
      "При количестве деревьев: 31 при глубине: 21 Качество модели 0.857 F1: 0.5692771084337349\n",
      "При количестве деревьев: 31 при глубине: 23 Качество модели 0.8555 F1: 0.5601217656012176\n",
      "При количестве деревьев: 31 при глубине: 25 Качество модели 0.851 F1: 0.5525525525525525\n",
      "При количестве деревьев: 31 при глубине: 27 Качество модели 0.851 F1: 0.5525525525525525\n",
      "При количестве деревьев: 31 при глубине: 29 Качество модели 0.851 F1: 0.5525525525525525\n",
      "При количестве деревьев: 31 при глубине: 31 Качество модели 0.851 F1: 0.5525525525525525\n",
      "При количестве деревьев: 31 при глубине: 33 Качество модели 0.851 F1: 0.5525525525525525\n",
      "При количестве деревьев: 31 при глубине: 35 Качество модели 0.851 F1: 0.5525525525525525\n",
      "При количестве деревьев: 31 при глубине: 37 Качество модели 0.851 F1: 0.5525525525525525\n",
      "При количестве деревьев: 31 при глубине: 39 Качество модели 0.851 F1: 0.5525525525525525\n",
      "При количестве деревьев: 33 при глубине: 1 Качество модели 0.746 F1: 0.5373406193078325\n",
      "При количестве деревьев: 33 при глубине: 3 Качество модели 0.7535 F1: 0.5562556255625563\n",
      "При количестве деревьев: 33 при глубине: 5 Качество модели 0.804 F1: 0.6024340770791076\n",
      "При количестве деревьев: 33 при глубине: 7 Качество модели 0.8185 F1: 0.6158730158730159\n",
      "При количестве деревьев: 33 при глубине: 9 Качество модели 0.832 F1: 0.6216216216216217\n",
      "При количестве деревьев: 33 при глубине: 11 Качество модели 0.8435 F1: 0.5992317541613316\n",
      "При количестве деревьев: 33 при глубине: 13 Качество модели 0.857 F1: 0.6005586592178771\n",
      "При количестве деревьев: 33 при глубине: 15 Качество модели 0.8535 F1: 0.5684830633284241\n",
      "При количестве деревьев: 33 при глубине: 17 Качество модели 0.857 F1: 0.5744047619047619\n",
      "При количестве деревьев: 33 при глубине: 19 Качество модели 0.8565 F1: 0.563165905631659\n",
      "При количестве деревьев: 33 при глубине: 21 Качество модели 0.855 F1: 0.5592705167173253\n",
      "При количестве деревьев: 33 при глубине: 23 Качество модели 0.8525 F1: 0.5509893455098934\n",
      "При количестве деревьев: 33 при глубине: 25 Качество модели 0.8515 F1: 0.5493171471927163\n",
      "При количестве деревьев: 33 при глубине: 27 Качество модели 0.8515 F1: 0.5493171471927163\n",
      "При количестве деревьев: 33 при глубине: 29 Качество модели 0.8515 F1: 0.5493171471927163\n",
      "При количестве деревьев: 33 при глубине: 31 Качество модели 0.8515 F1: 0.5493171471927163\n",
      "При количестве деревьев: 33 при глубине: 33 Качество модели 0.8515 F1: 0.5493171471927163\n",
      "При количестве деревьев: 33 при глубине: 35 Качество модели 0.8515 F1: 0.5493171471927163\n",
      "При количестве деревьев: 33 при глубине: 37 Качество модели 0.8515 F1: 0.5493171471927163\n",
      "При количестве деревьев: 33 при глубине: 39 Качество модели 0.8515 F1: 0.5493171471927163\n",
      "При количестве деревьев: 35 при глубине: 1 Качество модели 0.741 F1: 0.5366726296958855\n",
      "При количестве деревьев: 35 при глубине: 3 Качество модели 0.757 F1: 0.5581818181818181\n",
      "При количестве деревьев: 35 при глубине: 5 Качество модели 0.8045 F1: 0.6070351758793969\n",
      "При количестве деревьев: 35 при глубине: 7 Качество модели 0.817 F1: 0.615546218487395\n",
      "При количестве деревьев: 35 при глубине: 9 Качество модели 0.8315 F1: 0.6209223847019123\n",
      "При количестве деревьев: 35 при глубине: 11 Качество модели 0.8415 F1: 0.5972045743329097\n",
      "При количестве деревьев: 35 при глубине: 13 Качество модели 0.857 F1: 0.6038781163434902\n",
      "При количестве деревьев: 35 при глубине: 15 Качество модели 0.854 F1: 0.5693215339233039\n",
      "При количестве деревьев: 35 при глубине: 17 Качество модели 0.8585 F1: 0.5807407407407408\n",
      "При количестве деревьев: 35 при глубине: 19 Качество модели 0.8575 F1: 0.56752655538695\n",
      "При количестве деревьев: 35 при глубине: 21 Качество модели 0.8575 F1: 0.5701357466063349\n",
      "При количестве деревьев: 35 при глубине: 23 Качество модели 0.851 F1: 0.5471124620060791\n",
      "При количестве деревьев: 35 при глубине: 25 Качество модели 0.852 F1: 0.5515151515151515\n",
      "При количестве деревьев: 35 при глубине: 27 Качество модели 0.852 F1: 0.5515151515151515\n",
      "При количестве деревьев: 35 при глубине: 29 Качество модели 0.852 F1: 0.5515151515151515\n",
      "При количестве деревьев: 35 при глубине: 31 Качество модели 0.852 F1: 0.5515151515151515\n",
      "При количестве деревьев: 35 при глубине: 33 Качество модели 0.852 F1: 0.5515151515151515\n",
      "При количестве деревьев: 35 при глубине: 35 Качество модели 0.852 F1: 0.5515151515151515\n",
      "При количестве деревьев: 35 при глубине: 37 Качество модели 0.852 F1: 0.5515151515151515\n",
      "При количестве деревьев: 35 при глубине: 39 Качество модели 0.852 F1: 0.5515151515151515\n",
      "При количестве деревьев: 37 при глубине: 1 Качество модели 0.7605 F1: 0.5425023877745941\n",
      "При количестве деревьев: 37 при глубине: 3 Качество модели 0.7625 F1: 0.563017479300828\n",
      "При количестве деревьев: 37 при глубине: 5 Качество модели 0.804 F1: 0.6072144288577154\n",
      "При количестве деревьев: 37 при глубине: 7 Качество модели 0.8185 F1: 0.6182965299684542\n",
      "При количестве деревьев: 37 при глубине: 9 Качество модели 0.832 F1: 0.6241610738255033\n",
      "При количестве деревьев: 37 при глубине: 11 Качество модели 0.84 F1: 0.5949367088607594\n",
      "При количестве деревьев: 37 при глубине: 13 Качество модели 0.856 F1: 0.6\n",
      "При количестве деревьев: 37 при глубине: 15 Качество модели 0.852 F1: 0.565982404692082\n",
      "При количестве деревьев: 37 при глубине: 17 Качество модели 0.859 F1: 0.5791044776119403\n",
      "При количестве деревьев: 37 при глубине: 19 Качество модели 0.858 F1: 0.5696969696969697\n",
      "При количестве деревьев: 37 при глубине: 21 Качество модели 0.8535 F1: 0.5580693815987934\n",
      "При количестве деревьев: 37 при глубине: 23 Качество модели 0.853 F1: 0.5531914893617021\n",
      "При количестве деревьев: 37 при глубине: 25 Качество модели 0.8535 F1: 0.56071964017991\n",
      "При количестве деревьев: 37 при глубине: 27 Качество модели 0.8535 F1: 0.56071964017991\n",
      "При количестве деревьев: 37 при глубине: 29 Качество модели 0.8535 F1: 0.56071964017991\n",
      "При количестве деревьев: 37 при глубине: 31 Качество модели 0.8535 F1: 0.56071964017991\n",
      "При количестве деревьев: 37 при глубине: 33 Качество модели 0.8535 F1: 0.56071964017991\n",
      "При количестве деревьев: 37 при глубине: 35 Качество модели 0.8535 F1: 0.56071964017991\n",
      "При количестве деревьев: 37 при глубине: 37 Качество модели 0.8535 F1: 0.56071964017991\n",
      "При количестве деревьев: 37 при глубине: 39 Качество модели 0.8535 F1: 0.56071964017991\n",
      "При количестве деревьев: 39 при глубине: 1 Качество модели 0.7535 F1: 0.5405405405405405\n",
      "При количестве деревьев: 39 при глубине: 3 Качество модели 0.7625 F1: 0.565416285452882\n",
      "При количестве деревьев: 39 при глубине: 5 Качество модели 0.805 F1: 0.61\n",
      "При количестве деревьев: 39 при глубине: 7 Качество модели 0.8155 F1: 0.6136125654450261\n",
      "При количестве деревьев: 39 при глубине: 9 Качество модели 0.832 F1: 0.6207674943566591\n",
      "При количестве деревьев: 39 при глубине: 11 Качество модели 0.8405 F1: 0.5967130214917824\n",
      "При количестве деревьев: 39 при глубине: 13 Качество модели 0.8565 F1: 0.6019417475728155\n",
      "При количестве деревьев: 39 при глубине: 15 Качество модели 0.8515 F1: 0.5651537335285506\n",
      "При количестве деревьев: 39 при глубине: 17 Качество модели 0.8575 F1: 0.5752608047690015\n",
      "При количестве деревьев: 39 при глубине: 19 Качество модели 0.858 F1: 0.5696969696969697\n",
      "При количестве деревьев: 39 при глубине: 21 Качество модели 0.8535 F1: 0.5526717557251908\n",
      "При количестве деревьев: 39 при глубине: 23 Качество модели 0.854 F1: 0.5548780487804879\n",
      "При количестве деревьев: 39 при глубине: 25 Качество модели 0.853 F1: 0.5558912386706948\n",
      "При количестве деревьев: 39 при глубине: 27 Качество модели 0.853 F1: 0.5558912386706948\n",
      "При количестве деревьев: 39 при глубине: 29 Качество модели 0.853 F1: 0.5558912386706948\n",
      "При количестве деревьев: 39 при глубине: 31 Качество модели 0.853 F1: 0.5558912386706948\n",
      "При количестве деревьев: 39 при глубине: 33 Качество модели 0.853 F1: 0.5558912386706948\n",
      "При количестве деревьев: 39 при глубине: 35 Качество модели 0.853 F1: 0.5558912386706948\n",
      "При количестве деревьев: 39 при глубине: 37 Качество модели 0.853 F1: 0.5558912386706948\n",
      "При количестве деревьев: 39 при глубине: 39 Качество модели 0.853 F1: 0.5558912386706948\n",
      "При количестве деревьев: 41 при глубине: 1 Качество модели 0.7435 F1: 0.540734109221128\n",
      "При количестве деревьев: 41 при глубине: 3 Качество модели 0.7615 F1: 0.5651777575205105\n",
      "При количестве деревьев: 41 при глубине: 5 Качество модели 0.8045 F1: 0.6101694915254238\n",
      "При количестве деревьев: 41 при глубине: 7 Качество модели 0.8195 F1: 0.6219895287958115\n",
      "При количестве деревьев: 41 при глубине: 9 Качество модели 0.834 F1: 0.6261261261261261\n",
      "При количестве деревьев: 41 при глубине: 11 Качество модели 0.8435 F1: 0.6002554278416348\n",
      "При количестве деревьев: 41 при глубине: 13 Качество модели 0.8565 F1: 0.603042876901798\n",
      "При количестве деревьев: 41 при глубине: 15 Качество модели 0.8515 F1: 0.5638766519823789\n",
      "При количестве деревьев: 41 при глубине: 17 Качество модели 0.8545 F1: 0.5701624815361891\n",
      "При количестве деревьев: 41 при глубине: 19 Качество модели 0.857 F1: 0.56797583081571\n",
      "При количестве деревьев: 41 при глубине: 21 Качество модели 0.854 F1: 0.5535168195718655\n",
      "При количестве деревьев: 41 при глубине: 23 Качество модели 0.8545 F1: 0.5557251908396946\n",
      "При количестве деревьев: 41 при глубине: 25 Качество модели 0.853 F1: 0.5558912386706948\n",
      "При количестве деревьев: 41 при глубине: 27 Качество модели 0.853 F1: 0.5558912386706948\n",
      "При количестве деревьев: 41 при глубине: 29 Качество модели 0.853 F1: 0.5558912386706948\n",
      "При количестве деревьев: 41 при глубине: 31 Качество модели 0.853 F1: 0.5558912386706948\n",
      "При количестве деревьев: 41 при глубине: 33 Качество модели 0.853 F1: 0.5558912386706948\n",
      "При количестве деревьев: 41 при глубине: 35 Качество модели 0.853 F1: 0.5558912386706948\n",
      "При количестве деревьев: 41 при глубине: 37 Качество модели 0.853 F1: 0.5558912386706948\n",
      "При количестве деревьев: 41 при глубине: 39 Качество модели 0.853 F1: 0.5558912386706948\n",
      "При количестве деревьев: 43 при глубине: 1 Качество модели 0.759 F1: 0.547842401500938\n",
      "При количестве деревьев: 43 при глубине: 3 Качество модели 0.7705 F1: 0.5761772853185596\n",
      "При количестве деревьев: 43 при глубине: 5 Качество модели 0.8035 F1: 0.6097318768619662\n",
      "При количестве деревьев: 43 при глубине: 7 Качество модели 0.8175 F1: 0.6201873048907388\n",
      "При количестве деревьев: 43 при глубине: 9 Качество модели 0.834 F1: 0.6252821670428894\n",
      "При количестве деревьев: 43 при глубине: 11 Качество модели 0.8465 F1: 0.6079182630906769\n",
      "При количестве деревьев: 43 при глубине: 13 Качество модели 0.855 F1: 0.5994475138121547\n",
      "При количестве деревьев: 43 при глубине: 15 Качество модели 0.851 F1: 0.5643274853801169\n",
      "При количестве деревьев: 43 при глубине: 17 Качество модели 0.8565 F1: 0.5773195876288659\n",
      "При количестве деревьев: 43 при глубине: 19 Качество модели 0.8575 F1: 0.5701357466063349\n",
      "При количестве деревьев: 43 при глубине: 21 Качество модели 0.854 F1: 0.5548780487804879\n",
      "При количестве деревьев: 43 при глубине: 23 Качество модели 0.855 F1: 0.5592705167173253\n",
      "При количестве деревьев: 43 при глубине: 25 Качество модели 0.853 F1: 0.5531914893617021\n",
      "При количестве деревьев: 43 при глубине: 27 Качество модели 0.853 F1: 0.5531914893617021\n",
      "При количестве деревьев: 43 при глубине: 29 Качество модели 0.853 F1: 0.5531914893617021\n",
      "При количестве деревьев: 43 при глубине: 31 Качество модели 0.853 F1: 0.5531914893617021\n",
      "При количестве деревьев: 43 при глубине: 33 Качество модели 0.853 F1: 0.5531914893617021\n",
      "При количестве деревьев: 43 при глубине: 35 Качество модели 0.853 F1: 0.5531914893617021\n",
      "При количестве деревьев: 43 при глубине: 37 Качество модели 0.853 F1: 0.5531914893617021\n",
      "При количестве деревьев: 43 при глубине: 39 Качество модели 0.853 F1: 0.5531914893617021\n",
      "При количестве деревьев: 45 при глубине: 1 Качество модели 0.741 F1: 0.5350089766606821\n",
      "При количестве деревьев: 45 при глубине: 3 Качество модели 0.773 F1: 0.5780669144981414\n",
      "При количестве деревьев: 45 при глубине: 5 Качество модели 0.804 F1: 0.610337972166998\n",
      "При количестве деревьев: 45 при глубине: 7 Качество модели 0.8145 F1: 0.6139438085327783\n",
      "При количестве деревьев: 45 при глубине: 9 Качество модели 0.834 F1: 0.6244343891402715\n",
      "При количестве деревьев: 45 при глубине: 11 Качество модели 0.844 F1: 0.6030534351145039\n",
      "При количестве деревьев: 45 при глубине: 13 Качество модели 0.8555 F1: 0.6002766251728906\n",
      "При количестве деревьев: 45 при глубине: 15 Качество модели 0.854 F1: 0.5705882352941176\n",
      "При количестве деревьев: 45 при глубине: 17 Качество модели 0.8565 F1: 0.5722801788375559\n",
      "При количестве деревьев: 45 при глубине: 19 Качество модели 0.857 F1: 0.56797583081571\n",
      "При количестве деревьев: 45 при глубине: 21 Качество модели 0.855 F1: 0.5552147239263804\n",
      "При количестве деревьев: 45 при глубине: 23 Качество модели 0.8565 F1: 0.5644916540212442\n",
      "При количестве деревьев: 45 при глубине: 25 Качество модели 0.854 F1: 0.5548780487804879\n",
      "При количестве деревьев: 45 при глубине: 27 Качество модели 0.854 F1: 0.5548780487804879\n",
      "При количестве деревьев: 45 при глубине: 29 Качество модели 0.854 F1: 0.5548780487804879\n",
      "При количестве деревьев: 45 при глубине: 31 Качество модели 0.854 F1: 0.5548780487804879\n",
      "При количестве деревьев: 45 при глубине: 33 Качество модели 0.854 F1: 0.5548780487804879\n",
      "При количестве деревьев: 45 при глубине: 35 Качество модели 0.854 F1: 0.5548780487804879\n",
      "При количестве деревьев: 45 при глубине: 37 Качество модели 0.854 F1: 0.5548780487804879\n",
      "При количестве деревьев: 45 при глубине: 39 Качество модели 0.854 F1: 0.5548780487804879\n",
      "При количестве деревьев: 47 при глубине: 1 Качество модели 0.755 F1: 0.5437616387337058\n",
      "При количестве деревьев: 47 при глубине: 3 Качество модели 0.768 F1: 0.5735294117647058\n",
      "При количестве деревьев: 47 при глубине: 5 Качество модели 0.803 F1: 0.6083499005964215\n",
      "При количестве деревьев: 47 при глубине: 7 Качество модели 0.8165 F1: 0.6173096976016685\n",
      "При количестве деревьев: 47 при глубине: 9 Качество модели 0.8365 F1: 0.6296715741789355\n",
      "При количестве деревьев: 47 при глубине: 11 Качество модели 0.847 F1: 0.6096938775510204\n",
      "При количестве деревьев: 47 при глубине: 13 Качество модели 0.852 F1: 0.5922865013774105\n",
      "При количестве деревьев: 47 при глубине: 15 Качество модели 0.853 F1: 0.5663716814159292\n",
      "При количестве деревьев: 47 при глубине: 17 Качество модели 0.8585 F1: 0.5807407407407408\n",
      "При количестве деревьев: 47 при глубине: 19 Качество модели 0.858 F1: 0.5709969788519637\n",
      "При количестве деревьев: 47 при глубине: 21 Качество модели 0.855 F1: 0.5565749235474006\n",
      "При количестве деревьев: 47 при глубине: 23 Качество модели 0.857 F1: 0.5640243902439024\n",
      "При количестве деревьев: 47 при глубине: 25 Качество модели 0.8545 F1: 0.5570776255707762\n",
      "При количестве деревьев: 47 при глубине: 27 Качество модели 0.8545 F1: 0.5570776255707762\n",
      "При количестве деревьев: 47 при глубине: 29 Качество модели 0.8545 F1: 0.5570776255707762\n",
      "При количестве деревьев: 47 при глубине: 31 Качество модели 0.8545 F1: 0.5570776255707762\n",
      "При количестве деревьев: 47 при глубине: 33 Качество модели 0.8545 F1: 0.5570776255707762\n",
      "При количестве деревьев: 47 при глубине: 35 Качество модели 0.8545 F1: 0.5570776255707762\n",
      "При количестве деревьев: 47 при глубине: 37 Качество модели 0.8545 F1: 0.5570776255707762\n",
      "При количестве деревьев: 47 при глубине: 39 Качество модели 0.8545 F1: 0.5570776255707762\n",
      "При количестве деревьев: 49 при глубине: 1 Качество модели 0.753 F1: 0.5425925925925925\n",
      "При количестве деревьев: 49 при глубине: 3 Качество модели 0.7695 F1: 0.5743305632502309\n",
      "При количестве деревьев: 49 при глубине: 5 Качество модели 0.801 F1: 0.6059405940594059\n",
      "При количестве деревьев: 49 при глубине: 7 Качество модели 0.8155 F1: 0.6160249739854319\n",
      "При количестве деревьев: 49 при глубине: 9 Качество модели 0.835 F1: 0.6266968325791856\n",
      "При количестве деревьев: 49 при глубине: 11 Качество модели 0.848 F1: 0.6102564102564103\n",
      "При количестве деревьев: 49 при глубине: 13 Качество модели 0.853 F1: 0.5950413223140496\n",
      "При количестве деревьев: 49 при глубине: 15 Качество модели 0.8515 F1: 0.5612998522895125\n",
      "При количестве деревьев: 49 при глубине: 17 Качество модели 0.8595 F1: 0.5812220566318926\n",
      "При количестве деревьев: 49 при глубине: 19 Качество модели 0.856 F1: 0.5609756097560976\n",
      "При количестве деревьев: 49 при глубине: 21 Качество модели 0.856 F1: 0.5609756097560976\n",
      "При количестве деревьев: 49 при глубине: 23 Качество модели 0.8555 F1: 0.5601217656012176\n",
      "При количестве деревьев: 49 при глубине: 25 Качество модели 0.8535 F1: 0.556732223903177\n",
      "При количестве деревьев: 49 при глубине: 27 Качество модели 0.8535 F1: 0.556732223903177\n",
      "При количестве деревьев: 49 при глубине: 29 Качество модели 0.8535 F1: 0.556732223903177\n",
      "При количестве деревьев: 49 при глубине: 31 Качество модели 0.8535 F1: 0.556732223903177\n",
      "При количестве деревьев: 49 при глубине: 33 Качество модели 0.8535 F1: 0.556732223903177\n",
      "При количестве деревьев: 49 при глубине: 35 Качество модели 0.8535 F1: 0.556732223903177\n",
      "При количестве деревьев: 49 при глубине: 37 Качество модели 0.8535 F1: 0.556732223903177\n",
      "При количестве деревьев: 49 при глубине: 39 Качество модели 0.8535 F1: 0.556732223903177\n",
      "\n",
      "Лучший результат качества модели: 0.8365 при количестве деревьев 47 при глубине: 9 F1: 0.6296715741789355\n",
      "\n",
      "Точность константной модели: 0.791\n",
      "Данная модель проходит тест на адекватность по точности модели 0.8365 > 0.791\n",
      "\n",
      "F1-метрика константной модели: 0.59\n",
      "Данная модель проходит тест на адекватность по точности модели 0.6296715741789355 > 0.59\n",
      "CPU times: user 1min 15s, sys: 590 ms, total: 1min 16s\n",
      "Wall time: 1min 16s\n"
     ]
    }
   ],
   "source": [
    "%%time\n",
    "\n",
    "best_model_sl_balanced = None\n",
    "best_accuracy_sl_balanced = 0\n",
    "best_n_estimators_sl_balanced = 0\n",
    "best_depth_sl_balanced = 0\n",
    "best_f1_sl_balanced = 0\n",
    "\n",
    "\n",
    "for est in range (1, 50, 2):\n",
    "    for depth in range (1, 40, 2):\n",
    "        model = RandomForestClassifier(random_state=12345, max_depth=depth, n_estimators = est, class_weight='balanced')\n",
    "        model.fit(features_train, target_train)\n",
    "        prediction_sl_balanced = model.predict(features_valid)\n",
    "        accuracy_sl_balanced = accuracy_score(target_valid, prediction_sl_balanced)\n",
    "        f1_sl_balanced = f1_score(target_valid, prediction_sl_balanced)\n",
    "        if f1_sl_balanced > best_f1_sl_balanced:\n",
    "            best_model_sl_balanced = model\n",
    "            best_depth_sl_balanced = depth\n",
    "            best_accuracy_sl_balanced = accuracy_sl_balanced\n",
    "            best_f1_sl_balanced = f1_sl_balanced\n",
    "            best_n_estimators_sl_balanced = est\n",
    "        print('При количестве деревьев:', est, 'при глубине:', depth, 'Качество модели', accuracy_sl_balanced, 'F1:', f1_sl_balanced)\n",
    "print('')\n",
    "print(\"Лучший результат качества модели:\", best_accuracy_sl_balanced,\n",
    "      'при количестве деревьев', best_n_estimators_sl_balanced, 'при глубине:', best_depth_sl_balanced, 'F1:', best_f1_sl_balanced)\n",
    "print('')\n",
    "\n",
    "print('Точность константной модели:', accuracy_constant) \n",
    "if best_accuracy_sl_balanced >= accuracy_constant:\n",
    "    print('Данная модель проходит тест на адекватность по точности модели', best_accuracy_sl_balanced, '>', accuracy_constant)\n",
    "else:\n",
    "    print('Данная модель не проходит тест на адекватность по точности модели', best_accuracy_sl_balanced, '>', accuracy_constant)\n",
    "print('')\n",
    "\n",
    "print('F1-метрика константной модели:', f1_constant)\n",
    "if best_f1_sl_balanced >= f1_constant:\n",
    "    print('Данная модель проходит тест на адекватность по точности модели', best_f1_sl_balanced, '>', f1_constant)\n",
    "else:\n",
    "    print('Данная модель не проходит тест на адекватность по точности модели', best_f1_sl_balanced, '<', f1_constant)"
   ]
  },
  {
   "cell_type": "markdown",
   "metadata": {},
   "source": [
    "#### Логистическая регрессия"
   ]
  },
  {
   "cell_type": "code",
   "execution_count": 39,
   "metadata": {
    "scrolled": true
   },
   "outputs": [
    {
     "name": "stdout",
     "output_type": "stream",
     "text": [
      "Качество модели: 0.8025 F1: 0.33389544688026984\n",
      "\n",
      "Точность константной модели: 0.791\n",
      "Данная модель проходит тест на адекватность по точности модели 0.8025 > 0.791\n",
      "\n",
      "F1-метрика константной модели: 0.59\n",
      "Данная модель не проходит тест на адекватность по точности модели 0.33389544688026984 < 0.59\n",
      "CPU times: user 106 ms, sys: 134 ms, total: 240 ms\n",
      "Wall time: 175 ms\n"
     ]
    }
   ],
   "source": [
    "%%time\n",
    "\n",
    "\n",
    "model = LogisticRegression(random_state=12345, solver='lbfgs', class_weight='balanced')\n",
    "model.fit(features_train, target_train)\n",
    "prediction_lr_balanced = model.predict(features_valid)\n",
    "accuracy_lr_balanced = accuracy_score(target_valid, prediction_lr)\n",
    "f1_lr_balanced = f1_score(target_valid, prediction_lr)\n",
    "print(\"Качество модели:\", accuracy_lr_balanced, 'F1:', f1_lr_balanced)\n",
    "print('')\n",
    "\n",
    "print('Точность константной модели:', accuracy_constant) \n",
    "if accuracy_lr_balanced >= accuracy_constant:\n",
    "    print('Данная модель проходит тест на адекватность по точности модели', accuracy_lr_balanced, '>', accuracy_constant)\n",
    "else:\n",
    "    print('Данная модель не проходит тест на адекватность по точности модели', accuracy_lr_balanced, '<', accuracy_constant)\n",
    "print('')\n",
    "\n",
    "print('F1-метрика константной модели:', f1_constant)\n",
    "if f1_lr_balanced >= f1_constant:\n",
    "    print('Данная модель проходит тест на адекватность по точности модели', f1_lr_balanced, '>', f1_constant)\n",
    "else:\n",
    "    print('Данная модель не проходит тест на адекватность по точности модели', f1_lr_balanced, '<', f1_constant)"
   ]
  },
  {
   "cell_type": "markdown",
   "metadata": {},
   "source": [
    "#### Лучшие показатели для трех моделей"
   ]
  },
  {
   "cell_type": "code",
   "execution_count": 40,
   "metadata": {
    "scrolled": true
   },
   "outputs": [
    {
     "name": "stdout",
     "output_type": "stream",
     "text": [
      "Дерево решений: Качество модели: 0.85 при глубине: 1 F1: 0.579\n",
      "Случайный лес: Качество модели: 0.836 при количестве деревьев: 47 при глубине: 9 F1: 0.63\n",
      "Логистическая регрессия: Качество модели: 0.802 F1: 0.334\n"
     ]
    }
   ],
   "source": [
    "print('Дерево решений:', 'Качество модели:', round(best_accuracy_dr_balanced, 3),\n",
    "      \"при глубине:\", best_depth_dr_balanced, 'F1:', round(best_f1_dr_balanced, 3))\n",
    "print('Случайный лес:', 'Качество модели:', round(best_accuracy_sl_balanced, 3), \n",
    "      \"при количестве деревьев:\", best_n_estimators_sl_balanced, 'при глубине:',\n",
    "      best_depth_sl_balanced, 'F1:', round(best_f1_sl_balanced, 3))\n",
    "print('Логистическая регрессия:', 'Качество модели:', round(accuracy_lr_balanced, 3), 'F1:', round(f1_lr_balanced, 3))"
   ]
  },
  {
   "cell_type": "markdown",
   "metadata": {},
   "source": [
    "Показатели до добавления гиперпараметра *balanced*"
   ]
  },
  {
   "cell_type": "code",
   "execution_count": 41,
   "metadata": {},
   "outputs": [
    {
     "name": "stdout",
     "output_type": "stream",
     "text": [
      "Дерево решений: Качество модели: 0.85 при глубине: 9 F1: 0.579\n",
      "Случайный лес: Качество модели: 0.865 при количестве деревьев: 27 при глубине: 19 F1: 0.605\n",
      "Логистическая регрессия: Качество модели: 0.802 F1: 0.334\n"
     ]
    }
   ],
   "source": [
    "print('Дерево решений:', 'Качество модели:', round(best_accuracy_dr, 3), \"при глубине:\", best_depth_dr, 'F1:', round(best_f1_dr, 3))\n",
    "print('Случайный лес:', 'Качество модели:', round(best_accuracy_sl, 3), \n",
    "      \"при количестве деревьев:\", best_n_estimators_sl, 'при глубине:', best_depth_sl, 'F1:', round(best_f1_sl, 3))\n",
    "print('Логистическая регрессия:', 'Качество модели:', round(accuracy_lr, 3), 'F1:', round(f1_lr, 3))"
   ]
  },
  {
   "cell_type": "markdown",
   "metadata": {},
   "source": [
    "Как можно заметить, параметр F1 слегка увеличился, но качество модели слегка ухудшилось"
   ]
  },
  {
   "cell_type": "markdown",
   "metadata": {},
   "source": [
    "#### Проведем оценку `accuracy`, `precision` и `recall`"
   ]
  },
  {
   "cell_type": "code",
   "execution_count": 42,
   "metadata": {},
   "outputs": [
    {
     "name": "stdout",
     "output_type": "stream",
     "text": [
      "Дерево решений\n",
      "Качество модели 0.8105\n",
      "Точность модели 0.5374280230326296\n",
      "Плотность  0.6698564593301436\n",
      "F1-мера 0.5963791267305644\n",
      "\n",
      "Случайный лес\n",
      "Качество модели 0.848\n",
      "Точность модели 0.6574585635359116\n",
      "Плотность  0.569377990430622\n",
      "F1-мера 0.6102564102564103\n",
      "\n",
      "Логистическая регрессия\n",
      "Качество модели 0.701\n",
      "Точность модели 0.3803191489361702\n",
      "Плотность  0.6842105263157895\n",
      "F1-мера 0.4888888888888888\n",
      "\n"
     ]
    }
   ],
   "source": [
    "# Дерево решений:\n",
    "\n",
    "model = DecisionTreeClassifier(random_state=12345, max_depth=5, class_weight='balanced')\n",
    "model.fit(features_train, target_train)\n",
    "prediction_dr_balanced = model.predict(features_valid)\n",
    "accuracy_dr_balanced = accuracy_score(target_valid, prediction_dr_balanced)\n",
    "f1_dr_balanced = f1_score(target_valid, prediction_dr_balanced)\n",
    "precision_dr_balanced = precision_score(target_valid, prediction_dr_balanced)\n",
    "recall_dr_balanced = recall_score(target_valid, prediction_dr_balanced)\n",
    "print('Дерево решений')\n",
    "print('Качество модели', accuracy_dr_balanced)\n",
    "print('Точность модели', precision_dr_balanced)\n",
    "print('Плотность ', recall_dr_balanced)\n",
    "print('F1-мера', f1_dr_balanced)\n",
    "print()\n",
    "\n",
    "# Случайный лес:\n",
    "\n",
    "model = RandomForestClassifier(random_state=12345, n_estimators = 49, max_depth = 11, class_weight='balanced')\n",
    "model.fit(features_train, target_train)\n",
    "prediction_sl_balanced = model.predict(features_valid)\n",
    "accuracy_sl_balanced = accuracy_score(target_valid, prediction_sl_balanced)\n",
    "f1_sl_balanced = f1_score(target_valid, prediction_sl_balanced)\n",
    "precision_sl_balanced = precision_score(target_valid, prediction_sl_balanced)\n",
    "recall_sl_balanced = recall_score(target_valid, prediction_sl_balanced)\n",
    "print('Случайный лес')\n",
    "print('Качество модели', accuracy_sl_balanced)\n",
    "print('Точность модели', precision_sl_balanced)\n",
    "print('Плотность ', recall_sl_balanced)\n",
    "print('F1-мера', f1_sl_balanced)\n",
    "print()\n",
    "\n",
    "# Логистическая регрессия:\n",
    "\n",
    "model = LogisticRegression(random_state=12345, solver='lbfgs', class_weight='balanced')\n",
    "model.fit(features_train, target_train)\n",
    "prediction_lr_balanced = model.predict(features_valid)\n",
    "accuracy_lr_balanced = accuracy_score(target_valid, prediction_lr_balanced)\n",
    "f1_lr_balanced = f1_score(target_valid, prediction_lr_balanced)\n",
    "precision_lr_balanced = precision_score(target_valid, prediction_lr_balanced)\n",
    "recall_lr_balanced = recall_score(target_valid, prediction_lr_balanced)\n",
    "print('Логистическая регрессия')\n",
    "print('Качество модели', accuracy_lr_balanced)\n",
    "print('Точность модели', precision_lr_balanced)\n",
    "print('Плотность ', recall_lr_balanced)\n",
    "print('F1-мера', f1_lr_balanced)\n",
    "print()"
   ]
  },
  {
   "cell_type": "markdown",
   "metadata": {},
   "source": [
    "#### График ROC, а так же метра AUC-ROC"
   ]
  },
  {
   "cell_type": "code",
   "execution_count": 43,
   "metadata": {},
   "outputs": [
    {
     "name": "stdout",
     "output_type": "stream",
     "text": [
      "AUC-ROC Деревая решения: 0.8310244134068074\n",
      "AUC-ROC Случайного леса: 0.8502183657050912\n",
      "AUC-ROC Логистической регрессии: 0.7634951215528767\n"
     ]
    },
    {
     "data": {
      "image/png": "[encoded data removed]",
      "text/plain": [
       "<Figure size 864x648 with 1 Axes>"
      ]
     },
     "metadata": {
      "needs_background": "light"
     },
     "output_type": "display_data"
    }
   ],
   "source": [
    "plt.figure(figsize=[12,9])\n",
    "\n",
    "plt.plot([0, 1], [0, 1], linestyle='--', label='RandomModel')\n",
    "\n",
    "\n",
    "# Дерево решений:\n",
    "\n",
    "model = DecisionTreeClassifier(random_state=12345, max_depth=5, class_weight='balanced')\n",
    "model.fit(features_train, target_train)\n",
    "predict_proba_dr_balanced = model.predict_proba(features_valid)\n",
    "predict_proba_dr_one_balanced = predict_proba_dr_balanced[:, 1]\n",
    "auc_roc_dr_balanced = roc_auc_score(target_valid, predict_proba_dr_one_balanced)\n",
    "fpr_dr_balanced, tpr_dr_balanced, thresholds_dr_balanced = roc_curve(target_valid, predict_proba_dr_one_balanced)\n",
    "plt.plot(fpr_dr_balanced, tpr_dr_balanced, label='Дерево решений')\n",
    "print('AUC-ROC Деревая решения:', auc_roc_dr_balanced)\n",
    "\n",
    "# Случайный лес:\n",
    "\n",
    "model = RandomForestClassifier(random_state=12345, n_estimators = 49, max_depth = 11, class_weight='balanced')\n",
    "model.fit(features_train, target_train)\n",
    "predict_proba_sl_balanced = model.predict_proba(features_valid)\n",
    "predict_proba_sl_one_balanced = predict_proba_sl_balanced[:, 1]\n",
    "auc_roc_sl_balanced = roc_auc_score(target_valid, predict_proba_sl_one_balanced)\n",
    "fpr_sl_balanced, tpr_sl_balanced, thresholds_sl_balanced = roc_curve(target_valid, predict_proba_sl_one_balanced)\n",
    "plt.plot(fpr_sl_balanced, tpr_sl_balanced, label='Случайный лес')\n",
    "print('AUC-ROC Случайного леса:', auc_roc_sl_balanced)\n",
    "\n",
    "# Логистическая регрессия:\n",
    "\n",
    "model = LogisticRegression(random_state=12345, solver='lbfgs', class_weight='balanced')\n",
    "model.fit(features_train, target_train)\n",
    "predict_proba_lr_balanced = model.predict_proba(features_valid)\n",
    "predict_proba_lr_one_balanced = predict_proba_lr_balanced[:, 1]\n",
    "auc_roc_lr_balanced = roc_auc_score(target_valid, predict_proba_lr_one_balanced)\n",
    "fpr_lr_balanced, tpr_lr_balanced, thresholds_lr_balanced = roc_curve(target_valid, predict_proba_lr_one_balanced)\n",
    "plt.plot(fpr_lr_balanced, tpr_lr_balanced, label='Логистическая регрессия')\n",
    "print('AUC-ROC Логистической регрессии:', auc_roc_lr_balanced)\n",
    "\n",
    "plt.xlim([0,1])\n",
    "plt.ylim([0,1])\n",
    "\n",
    "plt.xlabel(\"FPR\")\n",
    "plt.ylabel(\"TPR\")\n",
    "\n",
    "plt.legend(loc='lower right')\n",
    "\n",
    "plt.title(\"ROC-кривая\")\n",
    "plt.show()"
   ]
  },
  {
   "cell_type": "markdown",
   "metadata": {},
   "source": [
    "Как мы можем заметить по графику и по моделям, показатели F1-метрика - 0,61 и AUC-ROC - 0,85 лучше всего у модели \"Случайного леса\""
   ]
  },
  {
   "cell_type": "markdown",
   "metadata": {},
   "source": [
    "### Подбор киперпараметров с увеличением доли редкого класса - upsampling"
   ]
  },
  {
   "cell_type": "markdown",
   "metadata": {},
   "source": [
    "Так как баланс в соотношении 1:4, увеличим долю редкого класса чтобы вывести соотношение к 1:1"
   ]
  },
  {
   "cell_type": "code",
   "execution_count": 44,
   "metadata": {},
   "outputs": [],
   "source": [
    "def upsample(features, target, repeat):\n",
    "    features_zeros = features[target == 0]\n",
    "    features_ones = features[target == 1]\n",
    "    target_zeros = target[target == 0]\n",
    "    target_ones = target[target == 1]\n",
    "\n",
    "    features_upsampled = pd.concat([features_zeros] + [features_ones] * repeat)\n",
    "    target_upsampled = pd.concat([target_zeros] + [target_ones] * repeat)\n",
    "    \n",
    "    features_upsampled, target_upsampled = shuffle(\n",
    "        features_upsampled, target_upsampled, random_state=12345)\n",
    "    \n",
    "    return features_upsampled, target_upsampled"
   ]
  },
  {
   "cell_type": "code",
   "execution_count": 45,
   "metadata": {},
   "outputs": [],
   "source": [
    "features_upsampled, target_upsampled = upsample(features_train, target_train, 4)"
   ]
  },
  {
   "cell_type": "markdown",
   "metadata": {},
   "source": [
    "Обучим на новых данных модели"
   ]
  },
  {
   "cell_type": "markdown",
   "metadata": {},
   "source": [
    "#### Дерево решений"
   ]
  },
  {
   "cell_type": "code",
   "execution_count": 46,
   "metadata": {
    "scrolled": true
   },
   "outputs": [
    {
     "name": "stdout",
     "output_type": "stream",
     "text": [
      "Глубина дерева: 1 Качество модели 0.7545 F1: 0.4994903160040775\n",
      "Глубина дерева: 2 Качество модели 0.765 F1: 0.541015625\n",
      "Глубина дерева: 3 Качество модели 0.765 F1: 0.541015625\n",
      "Глубина дерева: 4 Качество модели 0.711 F1: 0.5277777777777778\n",
      "Глубина дерева: 5 Качество модели 0.8105 F1: 0.5963791267305644\n",
      "Глубина дерева: 6 Качество модели 0.7665 F1: 0.5581835383159887\n",
      "Глубина дерева: 7 Качество модели 0.779 F1: 0.5571142284569138\n",
      "Глубина дерева: 8 Качество модели 0.7645 F1: 0.5386875612144956\n",
      "Глубина дерева: 9 Качество модели 0.761 F1: 0.5304518664047152\n",
      "Глубина дерева: 10 Качество модели 0.754 F1: 0.5223300970873788\n",
      "Глубина дерева: 11 Качество модели 0.7675 F1: 0.5269582909460834\n",
      "Глубина дерева: 12 Качество модели 0.7635 F1: 0.5047120418848168\n",
      "Глубина дерева: 13 Качество модели 0.777 F1: 0.50989010989011\n",
      "Глубина дерева: 14 Качество модели 0.778 F1: 0.4943052391799545\n",
      "Глубина дерева: 15 Качество модели 0.7785 F1: 0.48428405122235163\n",
      "Глубина дерева: 16 Качество модели 0.7815 F1: 0.48527679623085984\n",
      "Глубина дерева: 17 Качество модели 0.7795 F1: 0.46803377563329307\n",
      "Глубина дерева: 18 Качество модели 0.7815 F1: 0.4741275571600481\n",
      "Глубина дерева: 19 Качество модели 0.777 F1: 0.4560975609756098\n",
      "Глубина дерева: 20 Качество модели 0.7815 F1: 0.4664224664224664\n",
      "Глубина дерева: 21 Качество модели 0.7815 F1: 0.4664224664224664\n",
      "Глубина дерева: 22 Качество модели 0.7805 F1: 0.46134969325153374\n",
      "Глубина дерева: 23 Качество модели 0.7795 F1: 0.4575645756457565\n",
      "Глубина дерева: 24 Качество модели 0.7795 F1: 0.4575645756457565\n",
      "Глубина дерева: 25 Качество модели 0.7795 F1: 0.4575645756457565\n",
      "Глубина дерева: 26 Качество модели 0.7795 F1: 0.4575645756457565\n",
      "Глубина дерева: 27 Качество модели 0.7795 F1: 0.4575645756457565\n",
      "Глубина дерева: 28 Качество модели 0.7795 F1: 0.4575645756457565\n",
      "Глубина дерева: 29 Качество модели 0.7795 F1: 0.4575645756457565\n",
      "\n",
      "Лучший результат качества модели: 0.8105 при глубине: 5 F1: 0.5963791267305644\n",
      "\n",
      "Точность константной модели: 0.791\n",
      "Данная модель проходит тест на адекватность по точности модели 0.8105 > 0.791\n",
      "\n",
      "F1-метрика константной модели: 0.59\n",
      "Данная модель проходит тест на адекватность по точности модели 0.5963791267305644 > 0.59\n",
      "CPU times: user 908 ms, sys: 3.93 ms, total: 912 ms\n",
      "Wall time: 927 ms\n"
     ]
    }
   ],
   "source": [
    "%%time\n",
    "\n",
    "best_model_dr_upsampled = None\n",
    "best_accuracy_dr_upsampled = 0\n",
    "best_depth_dr_upsampled = 0\n",
    "best_f1_dr_upsampled = 0\n",
    "\n",
    "for depth in range (1, 30):\n",
    "    model = DecisionTreeClassifier(random_state=12345, max_depth=depth)\n",
    "    model.fit(features_upsampled, target_upsampled)\n",
    "    prediction_dr_upsampled = model.predict(features_valid)\n",
    "    accuracy_dr_upsampled = accuracy_score(target_valid, prediction_dr_upsampled)\n",
    "    f1_dr_upsampled = f1_score(target_valid, prediction_dr_upsampled)\n",
    "    if f1_dr_upsampled > best_f1_dr_upsampled:\n",
    "        best_model_dr_upsampled = model\n",
    "        best_accuracy_dr_upsampled = accuracy_dr_upsampled\n",
    "        best_depth_dr_upsampled = depth\n",
    "        best_f1_dr_upsampled = f1_dr_upsampled\n",
    "    print('Глубина дерева:', depth, 'Качество модели', accuracy_dr_upsampled, 'F1:', f1_dr_upsampled)\n",
    "print('')\n",
    "print(\"Лучший результат качества модели:\", best_accuracy_dr_upsampled, 'при глубине:', best_depth_dr_upsampled, 'F1:', best_f1_dr_upsampled)\n",
    "print('')\n",
    "\n",
    "print('Точность константной модели:', accuracy_constant) \n",
    "if best_accuracy_dr_upsampled >= accuracy_constant:\n",
    "    print('Данная модель проходит тест на адекватность по точности модели', best_accuracy_dr_upsampled, '>', accuracy_constant)\n",
    "else:\n",
    "    print('Данная модель не проходит тест на адекватность по точности модели', best_accuracy_dr_upsampled, '>', accuracy_constant)\n",
    "print('')\n",
    "\n",
    "print('F1-метрика константной модели:', f1_constant)\n",
    "if best_f1_dr_upsampled >= f1_constant:\n",
    "    print('Данная модель проходит тест на адекватность по точности модели', best_f1_dr_upsampled, '>', f1_constant)\n",
    "else:\n",
    "    print('Данная модель не проходит тест на адекватность по точности модели', best_f1_d_upsampledr, '<', f1_constant)"
   ]
  },
  {
   "cell_type": "markdown",
   "metadata": {},
   "source": [
    "#### Случайный лес"
   ]
  },
  {
   "cell_type": "code",
   "execution_count": 47,
   "metadata": {},
   "outputs": [
    {
     "name": "stdout",
     "output_type": "stream",
     "text": [
      "При количестве деревьев: 1 при глубине: 1 Качество модели 0.8155 F1: 0.2484725050916497\n",
      "При количестве деревьев: 1 при глубине: 3 Качество модели 0.6355 F1: 0.48187633262260127\n",
      "При количестве деревьев: 1 при глубине: 5 Качество модели 0.7925 F1: 0.5532831001076427\n",
      "При количестве деревьев: 1 при глубине: 7 Качество модели 0.763 F1: 0.5602968460111317\n",
      "При количестве деревьев: 1 при глубине: 9 Качество модели 0.774 F1: 0.555992141453831\n",
      "При количестве деревьев: 1 при глубине: 11 Качество модели 0.7645 F1: 0.5304087736789631\n",
      "При количестве деревьев: 1 при глубине: 13 Качество модели 0.7575 F1: 0.49948400412796695\n",
      "При количестве деревьев: 1 при глубине: 15 Качество модели 0.762 F1: 0.5102880658436214\n",
      "При количестве деревьев: 1 при глубине: 17 Качество модели 0.7685 F1: 0.48839779005524864\n",
      "При количестве деревьев: 1 при глубине: 19 Качество модели 0.774 F1: 0.4988913525498891\n",
      "При количестве деревьев: 1 при глубине: 21 Качество модели 0.7735 F1: 0.5038335158817085\n",
      "При количестве деревьев: 1 при глубине: 23 Качество модели 0.769 F1: 0.502155172413793\n",
      "При количестве деревьев: 1 при глубине: 25 Качество модели 0.765 F1: 0.48464912280701755\n",
      "При количестве деревьев: 1 при глубине: 27 Качество модели 0.765 F1: 0.48464912280701755\n",
      "При количестве деревьев: 1 при глубине: 29 Качество модели 0.765 F1: 0.48464912280701755\n",
      "При количестве деревьев: 1 при глубине: 31 Качество модели 0.765 F1: 0.48464912280701755\n",
      "При количестве деревьев: 1 при глубине: 33 Качество модели 0.765 F1: 0.48464912280701755\n",
      "При количестве деревьев: 1 при глубине: 35 Качество модели 0.765 F1: 0.48464912280701755\n",
      "При количестве деревьев: 1 при глубине: 37 Качество модели 0.765 F1: 0.48464912280701755\n",
      "При количестве деревьев: 1 при глубине: 39 Качество модели 0.765 F1: 0.48464912280701755\n",
      "При количестве деревьев: 3 при глубине: 1 Качество модели 0.765 F1: 0.541015625\n",
      "При количестве деревьев: 3 при глубине: 3 Качество модели 0.7435 F1: 0.5365853658536586\n",
      "При количестве деревьев: 3 при глубине: 5 Качество модели 0.7945 F1: 0.5775950668036999\n",
      "При количестве деревьев: 3 при глубине: 7 Качество модели 0.7825 F1: 0.5780795344325897\n",
      "При количестве деревьев: 3 при глубине: 9 Качество модели 0.799 F1: 0.5855670103092784\n",
      "При количестве деревьев: 3 при глубине: 11 Качество модели 0.7925 F1: 0.5626975763962064\n",
      "При количестве деревьев: 3 при глубине: 13 Качество модели 0.796 F1: 0.5506607929515419\n",
      "При количестве деревьев: 3 при глубине: 15 Качество модели 0.8115 F1: 0.5797101449275363\n",
      "При количестве деревьев: 3 при глубине: 17 Качество модели 0.7935 F1: 0.5258323765786452\n",
      "При количестве деревьев: 3 при глубине: 19 Качество модели 0.804 F1: 0.5344418052256532\n",
      "При количестве деревьев: 3 при глубине: 21 Качество модели 0.8175 F1: 0.5710928319623972\n",
      "При количестве деревьев: 3 при глубине: 23 Качество модели 0.807 F1: 0.5415676959619952\n",
      "При количестве деревьев: 3 при глубине: 25 Качество модели 0.801 F1: 0.5250596658711217\n",
      "При количестве деревьев: 3 при глубине: 27 Качество модели 0.801 F1: 0.5250596658711217\n",
      "При количестве деревьев: 3 при глубине: 29 Качество модели 0.801 F1: 0.5250596658711217\n",
      "При количестве деревьев: 3 при глубине: 31 Качество модели 0.801 F1: 0.5250596658711217\n",
      "При количестве деревьев: 3 при глубине: 33 Качество модели 0.801 F1: 0.5250596658711217\n",
      "При количестве деревьев: 3 при глубине: 35 Качество модели 0.801 F1: 0.5250596658711217\n",
      "При количестве деревьев: 3 при глубине: 37 Качество модели 0.801 F1: 0.5250596658711217\n",
      "При количестве деревьев: 3 при глубине: 39 Качество модели 0.801 F1: 0.5250596658711217\n",
      "При количестве деревьев: 5 при глубине: 1 Качество модели 0.787 F1: 0.5562499999999999\n",
      "При количестве деревьев: 5 при глубине: 3 Качество модели 0.7395 F1: 0.5360641139804097\n",
      "При количестве деревьев: 5 при глубине: 5 Качество модели 0.789 F1: 0.5886939571150097\n",
      "При количестве деревьев: 5 при глубине: 7 Качество модели 0.792 F1: 0.592156862745098\n",
      "При количестве деревьев: 5 при глубине: 9 Качество модели 0.8055 F1: 0.5952133194588969\n",
      "При количестве деревьев: 5 при глубине: 11 Качество модели 0.807 F1: 0.5776805251641137\n",
      "При количестве деревьев: 5 при глубине: 13 Качество модели 0.8055 F1: 0.5643896976483763\n",
      "При количестве деревьев: 5 при глубине: 15 Качество модели 0.821 F1: 0.5856481481481483\n",
      "При количестве деревьев: 5 при глубине: 17 Качество модели 0.823 F1: 0.5703883495145632\n",
      "При количестве деревьев: 5 при глубине: 19 Качество модели 0.8125 F1: 0.5353159851301115\n",
      "При количестве деревьев: 5 при глубине: 21 Качество модели 0.8195 F1: 0.574793875147232\n",
      "При количестве деревьев: 5 при глубине: 23 Качество модели 0.821 F1: 0.5697115384615385\n",
      "При количестве деревьев: 5 при глубине: 25 Качество модели 0.8235 F1: 0.5679314565483475\n",
      "При количестве деревьев: 5 при глубине: 27 Качество модели 0.8175 F1: 0.5521472392638036\n",
      "При количестве деревьев: 5 при глубине: 29 Качество модели 0.8175 F1: 0.5521472392638036\n",
      "При количестве деревьев: 5 при глубине: 31 Качество модели 0.8175 F1: 0.5521472392638036\n",
      "При количестве деревьев: 5 при глубине: 33 Качество модели 0.8175 F1: 0.5521472392638036\n",
      "При количестве деревьев: 5 при глубине: 35 Качество модели 0.8175 F1: 0.5521472392638036\n",
      "При количестве деревьев: 5 при глубине: 37 Качество модели 0.8175 F1: 0.5521472392638036\n",
      "При количестве деревьев: 5 при глубине: 39 Качество модели 0.8175 F1: 0.5521472392638036\n",
      "При количестве деревьев: 7 при глубине: 1 Качество модели 0.83 F1: 0.5466666666666666\n",
      "При количестве деревьев: 7 при глубине: 3 Качество модели 0.7385 F1: 0.548748921484038\n",
      "При количестве деревьев: 7 при глубине: 5 Качество модели 0.802 F1: 0.604\n",
      "При количестве деревьев: 7 при глубине: 7 Качество модели 0.792 F1: 0.5968992248062016\n",
      "При количестве деревьев: 7 при глубине: 9 Качество модели 0.8125 F1: 0.6006389776357828\n",
      "При количестве деревьев: 7 при глубине: 11 Качество модели 0.811 F1: 0.5800000000000001\n",
      "При количестве деревьев: 7 при глубине: 13 Качество модели 0.815 F1: 0.5756880733944953\n",
      "При количестве деревьев: 7 при глубине: 15 Качество модели 0.8255 F1: 0.5889281507656067\n",
      "При количестве деревьев: 7 при глубине: 17 Качество модели 0.826 F1: 0.5745721271393643\n",
      "При количестве деревьев: 7 при глубине: 19 Качество модели 0.827 F1: 0.5631313131313131\n",
      "При количестве деревьев: 7 при глубине: 21 Качество модели 0.836 F1: 0.597051597051597\n",
      "При количестве деревьев: 7 при глубине: 23 Качество модели 0.833 F1: 0.5835411471321696\n",
      "При количестве деревьев: 7 при глубине: 25 Качество модели 0.834 F1: 0.5808080808080809\n",
      "При количестве деревьев: 7 при глубине: 27 Качество модели 0.829 F1: 0.5735660847880298\n",
      "При количестве деревьев: 7 при глубине: 29 Качество модели 0.829 F1: 0.5735660847880298\n",
      "При количестве деревьев: 7 при глубине: 31 Качество модели 0.829 F1: 0.5735660847880298\n",
      "При количестве деревьев: 7 при глубине: 33 Качество модели 0.829 F1: 0.5735660847880298\n",
      "При количестве деревьев: 7 при глубине: 35 Качество модели 0.829 F1: 0.5735660847880298\n",
      "При количестве деревьев: 7 при глубине: 37 Качество модели 0.829 F1: 0.5735660847880298\n",
      "При количестве деревьев: 7 при глубине: 39 Качество модели 0.829 F1: 0.5735660847880298\n",
      "При количестве деревьев: 9 при глубине: 1 Качество модели 0.629 F1: 0.4248062015503876\n",
      "При количестве деревьев: 9 при глубине: 3 Качество модели 0.762 F1: 0.569620253164557\n",
      "При количестве деревьев: 9 при глубине: 5 Качество модели 0.7985 F1: 0.6060606060606061\n",
      "При количестве деревьев: 9 при глубине: 7 Качество модели 0.7945 F1: 0.6005830903790088\n",
      "При количестве деревьев: 9 при глубине: 9 Качество модели 0.8165 F1: 0.608324439701174\n",
      "При количестве деревьев: 9 при глубине: 11 Качество модели 0.8225 F1: 0.6006749156355455\n",
      "При количестве деревьев: 9 при глубине: 13 Качество модели 0.8165 F1: 0.5776754890678942\n",
      "При количестве деревьев: 9 при глубине: 15 Качество модели 0.8325 F1: 0.5988023952095809\n",
      "При количестве деревьев: 9 при глубине: 17 Качество модели 0.832 F1: 0.58\n",
      "При количестве деревьев: 9 при глубине: 19 Качество модели 0.8275 F1: 0.5660377358490566\n",
      "При количестве деревьев: 9 при глубине: 21 Качество модели 0.8385 F1: 0.5967540574282147\n",
      "При количестве деревьев: 9 при глубине: 23 Качество модели 0.8365 F1: 0.5802310654685494\n",
      "При количестве деревьев: 9 при глубине: 25 Качество модели 0.833 F1: 0.5717948717948718\n",
      "При количестве деревьев: 9 при глубине: 27 Качество модели 0.8325 F1: 0.5764854614412136\n",
      "При количестве деревьев: 9 при глубине: 29 Качество модели 0.8325 F1: 0.5764854614412136\n",
      "При количестве деревьев: 9 при глубине: 31 Качество модели 0.8325 F1: 0.5764854614412136\n",
      "При количестве деревьев: 9 при глубине: 33 Качество модели 0.8325 F1: 0.5764854614412136\n",
      "При количестве деревьев: 9 при глубине: 35 Качество модели 0.8325 F1: 0.5764854614412136\n",
      "При количестве деревьев: 9 при глубине: 37 Качество модели 0.8325 F1: 0.5764854614412136\n",
      "При количестве деревьев: 9 при глубине: 39 Качество модели 0.8325 F1: 0.5764854614412136\n",
      "При количестве деревьев: 11 при глубине: 1 Качество модели 0.771 F1: 0.5336048879837066\n",
      "При количестве деревьев: 11 при глубине: 3 Качество модели 0.7685 F1: 0.5740570377184913\n",
      "При количестве деревьев: 11 при глубине: 5 Качество модели 0.7915 F1: 0.5955383123181378\n",
      "При количестве деревьев: 11 при глубине: 7 Качество модели 0.8 F1: 0.607843137254902\n",
      "При количестве деревьев: 11 при глубине: 9 Качество модели 0.813 F1: 0.6038135593220338\n",
      "При количестве деревьев: 11 при глубине: 11 Качество модели 0.822 F1: 0.5945330296127562\n",
      "При количестве деревьев: 11 при глубине: 13 Качество модели 0.827 F1: 0.5948477751756439\n",
      "При количестве деревьев: 11 при глубине: 15 Качество модели 0.842 F1: 0.6127450980392157\n",
      "При количестве деревьев: 11 при глубине: 17 Качество модели 0.835 F1: 0.5790816326530612\n",
      "При количестве деревьев: 11 при глубине: 19 Качество модели 0.8355 F1: 0.5861635220125786\n",
      "При количестве деревьев: 11 при глубине: 21 Качество модели 0.845 F1: 0.6105527638190955\n",
      "При количестве деревьев: 11 при глубине: 23 Качество модели 0.839 F1: 0.5913705583756346\n",
      "При количестве деревьев: 11 при глубине: 25 Качество модели 0.8385 F1: 0.5853658536585366\n",
      "При количестве деревьев: 11 при глубине: 27 Качество модели 0.837 F1: 0.5862944162436547\n",
      "При количестве деревьев: 11 при глубине: 29 Качество модели 0.837 F1: 0.5862944162436547\n",
      "При количестве деревьев: 11 при глубине: 31 Качество модели 0.837 F1: 0.5862944162436547\n",
      "При количестве деревьев: 11 при глубине: 33 Качество модели 0.837 F1: 0.5862944162436547\n",
      "При количестве деревьев: 11 при глубине: 35 Качество модели 0.837 F1: 0.5862944162436547\n",
      "При количестве деревьев: 11 при глубине: 37 Качество модели 0.837 F1: 0.5862944162436547\n",
      "При количестве деревьев: 11 при глубине: 39 Качество модели 0.837 F1: 0.5862944162436547\n",
      "При количестве деревьев: 13 при глубине: 1 Качество модели 0.771 F1: 0.5336048879837066\n",
      "При количестве деревьев: 13 при глубине: 3 Качество модели 0.779 F1: 0.5806451612903226\n",
      "При количестве деревьев: 13 при глубине: 5 Качество модели 0.784 F1: 0.5854126679462572\n",
      "При количестве деревьев: 13 при глубине: 7 Качество модели 0.806 F1: 0.6158415841584158\n",
      "При количестве деревьев: 13 при глубине: 9 Качество модели 0.8135 F1: 0.6052910052910053\n",
      "При количестве деревьев: 13 при глубине: 11 Качество модели 0.822 F1: 0.600896860986547\n",
      "При количестве деревьев: 13 при глубине: 13 Качество модели 0.8365 F1: 0.6120996441281139\n",
      "При количестве деревьев: 13 при глубине: 15 Качество модели 0.8455 F1: 0.6180469715698393\n",
      "При количестве деревьев: 13 при глубине: 17 Качество модели 0.84 F1: 0.5918367346938775\n",
      "При количестве деревьев: 13 при глубине: 19 Качество модели 0.834 F1: 0.5829145728643216\n",
      "При количестве деревьев: 13 при глубине: 21 Качество модели 0.841 F1: 0.5974683544303797\n",
      "При количестве деревьев: 13 при глубине: 23 Качество модели 0.845 F1: 0.5942408376963351\n",
      "При количестве деревьев: 13 при глубине: 25 Качество модели 0.8455 F1: 0.6012903225806451\n",
      "При количестве деревьев: 13 при глубине: 27 Качество модели 0.8375 F1: 0.5880861850443599\n",
      "При количестве деревьев: 13 при глубине: 29 Качество модели 0.8375 F1: 0.5880861850443599\n",
      "При количестве деревьев: 13 при глубине: 31 Качество модели 0.8375 F1: 0.5880861850443599\n",
      "При количестве деревьев: 13 при глубине: 33 Качество модели 0.8375 F1: 0.5880861850443599\n",
      "При количестве деревьев: 13 при глубине: 35 Качество модели 0.8375 F1: 0.5880861850443599\n",
      "При количестве деревьев: 13 при глубине: 37 Качество модели 0.8375 F1: 0.5880861850443599\n",
      "При количестве деревьев: 13 при глубине: 39 Качество модели 0.8375 F1: 0.5880861850443599\n",
      "При количестве деревьев: 15 при глубине: 1 Качество модели 0.771 F1: 0.5336048879837066\n",
      "При количестве деревьев: 15 при глубине: 3 Качество модели 0.758 F1: 0.564748201438849\n",
      "При количестве деревьев: 15 при глубине: 5 Качество модели 0.788 F1: 0.5938697318007662\n",
      "При количестве деревьев: 15 при глубине: 7 Качество модели 0.806 F1: 0.6150793650793651\n",
      "При количестве деревьев: 15 при глубине: 9 Качество модели 0.8185 F1: 0.611764705882353\n",
      "При количестве деревьев: 15 при глубине: 11 Качество модели 0.8205 F1: 0.5952649379932357\n",
      "При количестве деревьев: 15 при глубине: 13 Качество модели 0.8395 F1: 0.6201183431952663\n",
      "При количестве деревьев: 15 при глубине: 15 Качество модели 0.841 F1: 0.6054590570719602\n",
      "При количестве деревьев: 15 при глубине: 17 Качество модели 0.837 F1: 0.5841836734693878\n",
      "При количестве деревьев: 15 при глубине: 19 Качество модели 0.8395 F1: 0.5941845764854614\n",
      "При количестве деревьев: 15 при глубине: 21 Качество модели 0.844 F1: 0.6000000000000001\n",
      "При количестве деревьев: 15 при глубине: 23 Качество модели 0.8435 F1: 0.5897771952817824\n",
      "При количестве деревьев: 15 при глубине: 25 Качество модели 0.8485 F1: 0.603921568627451\n",
      "При количестве деревьев: 15 при глубине: 27 Качество модели 0.8445 F1: 0.5966277561608301\n",
      "При количестве деревьев: 15 при глубине: 29 Качество модели 0.8445 F1: 0.5966277561608301\n",
      "При количестве деревьев: 15 при глубине: 31 Качество модели 0.8445 F1: 0.5966277561608301\n",
      "При количестве деревьев: 15 при глубине: 33 Качество модели 0.8445 F1: 0.5966277561608301\n",
      "При количестве деревьев: 15 при глубине: 35 Качество модели 0.8445 F1: 0.5966277561608301\n",
      "При количестве деревьев: 15 при глубине: 37 Качество модели 0.8445 F1: 0.5966277561608301\n",
      "При количестве деревьев: 15 при глубине: 39 Качество модели 0.8445 F1: 0.5966277561608301\n",
      "При количестве деревьев: 17 при глубине: 1 Качество модели 0.771 F1: 0.5336048879837066\n",
      "При количестве деревьев: 17 при глубине: 3 Качество модели 0.7705 F1: 0.5730232558139535\n",
      "При количестве деревьев: 17 при глубине: 5 Качество модели 0.7905 F1: 0.5959498553519769\n",
      "При количестве деревьев: 17 при глубине: 7 Качество модели 0.807 F1: 0.6140000000000001\n",
      "При количестве деревьев: 17 при глубине: 9 Качество модели 0.8185 F1: 0.6109324758842443\n",
      "При количестве деревьев: 17 при глубине: 11 Качество модели 0.824 F1: 0.6009070294784581\n",
      "При количестве деревьев: 17 при глубине: 13 Качество модели 0.8375 F1: 0.618991793669402\n",
      "При количестве деревьев: 17 при глубине: 15 Качество модели 0.8435 F1: 0.6111801242236024\n",
      "При количестве деревьев: 17 при глубине: 17 Качество модели 0.838 F1: 0.586734693877551\n",
      "При количестве деревьев: 17 при глубине: 19 Качество модели 0.8415 F1: 0.5941101152368758\n",
      "При количестве деревьев: 17 при глубине: 21 Качество модели 0.8425 F1: 0.5966709346991037\n",
      "При количестве деревьев: 17 при глубине: 23 Качество модели 0.845 F1: 0.5899470899470899\n",
      "При количестве деревьев: 17 при глубине: 25 Качество модели 0.8485 F1: 0.5976095617529881\n",
      "При количестве деревьев: 17 при глубине: 27 Качество модели 0.842 F1: 0.5874673629242819\n",
      "При количестве деревьев: 17 при глубине: 29 Качество модели 0.842 F1: 0.5874673629242819\n",
      "При количестве деревьев: 17 при глубине: 31 Качество модели 0.842 F1: 0.5874673629242819\n",
      "При количестве деревьев: 17 при глубине: 33 Качество модели 0.842 F1: 0.5874673629242819\n",
      "При количестве деревьев: 17 при глубине: 35 Качество модели 0.842 F1: 0.5874673629242819\n",
      "При количестве деревьев: 17 при глубине: 37 Качество модели 0.842 F1: 0.5874673629242819\n",
      "При количестве деревьев: 17 при глубине: 39 Качество модели 0.842 F1: 0.5874673629242819\n",
      "При количестве деревьев: 19 при глубине: 1 Качество модели 0.771 F1: 0.5336048879837066\n",
      "При количестве деревьев: 19 при глубине: 3 Качество модели 0.7675 F1: 0.5706371191135733\n",
      "При количестве деревьев: 19 при глубине: 5 Качество модели 0.8035 F1: 0.6105054509415263\n",
      "При количестве деревьев: 19 при глубине: 7 Качество модели 0.8105 F1: 0.6183282980866063\n",
      "При количестве деревьев: 19 при глубине: 9 Качество модели 0.818 F1: 0.6077586206896552\n",
      "При количестве деревьев: 19 при глубине: 11 Качество модели 0.8245 F1: 0.6024915062287655\n",
      "При количестве деревьев: 19 при глубине: 13 Качество модели 0.8415 F1: 0.6248520710059171\n",
      "При количестве деревьев: 19 при глубине: 15 Качество модели 0.843 F1: 0.6045340050377833\n",
      "При количестве деревьев: 19 при глубине: 17 Качество модели 0.8415 F1: 0.592020592020592\n",
      "При количестве деревьев: 19 при глубине: 19 Качество модели 0.839 F1: 0.5892857142857143\n",
      "При количестве деревьев: 19 при глубине: 21 Качество модели 0.8445 F1: 0.6017925736235595\n",
      "При количестве деревьев: 19 при глубине: 23 Качество модели 0.845 F1: 0.5931758530183726\n",
      "При количестве деревьев: 19 при глубине: 25 Качество модели 0.847 F1: 0.5994764397905759\n",
      "При количестве деревьев: 19 при глубине: 27 Качество модели 0.842 F1: 0.5906735751295336\n",
      "При количестве деревьев: 19 при глубине: 29 Качество модели 0.842 F1: 0.5906735751295336\n",
      "При количестве деревьев: 19 при глубине: 31 Качество модели 0.842 F1: 0.5906735751295336\n",
      "При количестве деревьев: 19 при глубине: 33 Качество модели 0.842 F1: 0.5906735751295336\n",
      "При количестве деревьев: 19 при глубине: 35 Качество модели 0.842 F1: 0.5906735751295336\n",
      "При количестве деревьев: 19 при глубине: 37 Качество модели 0.842 F1: 0.5906735751295336\n",
      "При количестве деревьев: 19 при глубине: 39 Качество модели 0.842 F1: 0.5906735751295336\n",
      "При количестве деревьев: 21 при глубине: 1 Качество модели 0.737 F1: 0.528673835125448\n",
      "При количестве деревьев: 21 при глубине: 3 Качество модели 0.7755 F1: 0.5768143261074458\n",
      "При количестве деревьев: 21 при глубине: 5 Качество модели 0.8065 F1: 0.6126126126126126\n",
      "При количестве деревьев: 21 при глубине: 7 Качество модели 0.813 F1: 0.6222222222222222\n",
      "При количестве деревьев: 21 при глубине: 9 Качество модели 0.815 F1: 0.6038543897216274\n",
      "При количестве деревьев: 21 при глубине: 11 Качество модели 0.824 F1: 0.6018099547511311\n",
      "При количестве деревьев: 21 при глубине: 13 Качество модели 0.8445 F1: 0.6266506602641055\n",
      "При количестве деревьев: 21 при глубине: 15 Качество модели 0.843 F1: 0.6035353535353536\n",
      "При количестве деревьев: 21 при глубине: 17 Качество модели 0.8425 F1: 0.5903771131339401\n",
      "При количестве деревьев: 21 при глубине: 19 Качество модели 0.8455 F1: 0.6002587322121604\n",
      "При количестве деревьев: 21 при глубине: 21 Качество модели 0.845 F1: 0.5974025974025974\n",
      "При количестве деревьев: 21 при глубине: 23 Качество модели 0.849 F1: 0.6015831134564644\n",
      "При количестве деревьев: 21 при глубине: 25 Качество модели 0.8465 F1: 0.5944517833553501\n",
      "При количестве деревьев: 21 при глубине: 27 Качество модели 0.844 F1: 0.5905511811023622\n",
      "При количестве деревьев: 21 при глубине: 29 Качество модели 0.844 F1: 0.5905511811023622\n",
      "При количестве деревьев: 21 при глубине: 31 Качество модели 0.844 F1: 0.5905511811023622\n",
      "При количестве деревьев: 21 при глубине: 33 Качество модели 0.844 F1: 0.5905511811023622\n",
      "При количестве деревьев: 21 при глубине: 35 Качество модели 0.844 F1: 0.5905511811023622\n",
      "При количестве деревьев: 21 при глубине: 37 Качество модели 0.844 F1: 0.5905511811023622\n",
      "При количестве деревьев: 21 при глубине: 39 Качество модели 0.844 F1: 0.5905511811023622\n",
      "При количестве деревьев: 23 при глубине: 1 Качество модели 0.736 F1: 0.5343915343915344\n",
      "При количестве деревьев: 23 при глубине: 3 Качество модели 0.762 F1: 0.5641025641025641\n",
      "При количестве деревьев: 23 при глубине: 5 Качество модели 0.7985 F1: 0.6029556650246305\n",
      "При количестве деревьев: 23 при глубине: 7 Качество модели 0.811 F1: 0.6197183098591549\n",
      "При количестве деревьев: 23 при глубине: 9 Качество модели 0.8195 F1: 0.6105717367853291\n",
      "При количестве деревьев: 23 при глубине: 11 Качество модели 0.8275 F1: 0.609286523216308\n",
      "При количестве деревьев: 23 при глубине: 13 Качество модели 0.8435 F1: 0.6242496998799519\n",
      "При количестве деревьев: 23 при глубине: 15 Качество модели 0.844 F1: 0.61\n",
      "При количестве деревьев: 23 при глубине: 17 Качество модели 0.8445 F1: 0.5966277561608301\n",
      "При количестве деревьев: 23 при глубине: 19 Качество модели 0.8455 F1: 0.6002587322121604\n",
      "При количестве деревьев: 23 при глубине: 21 Качество модели 0.849 F1: 0.6047120418848168\n",
      "При количестве деревьев: 23 при глубине: 23 Качество модели 0.845 F1: 0.5899470899470899\n",
      "При количестве деревьев: 23 при глубине: 25 Качество модели 0.8495 F1: 0.600265604249668\n",
      "При количестве деревьев: 23 при глубине: 27 Качество модели 0.8465 F1: 0.5965834428383706\n",
      "При количестве деревьев: 23 при глубине: 29 Качество модели 0.8465 F1: 0.5965834428383706\n",
      "При количестве деревьев: 23 при глубине: 31 Качество модели 0.8465 F1: 0.5965834428383706\n",
      "При количестве деревьев: 23 при глубине: 33 Качество модели 0.8465 F1: 0.5965834428383706\n",
      "При количестве деревьев: 23 при глубине: 35 Качество модели 0.8465 F1: 0.5965834428383706\n",
      "При количестве деревьев: 23 при глубине: 37 Качество модели 0.8465 F1: 0.5965834428383706\n",
      "При количестве деревьев: 23 при глубине: 39 Качество модели 0.8465 F1: 0.5965834428383706\n",
      "При количестве деревьев: 25 при глубине: 1 Качество модели 0.7515 F1: 0.5452881976212259\n",
      "При количестве деревьев: 25 при глубине: 3 Качество модели 0.7535 F1: 0.5570530098831985\n",
      "При количестве деревьев: 25 при глубине: 5 Качество модели 0.802 F1: 0.6086956521739131\n",
      "При количестве деревьев: 25 при глубине: 7 Качество модели 0.8105 F1: 0.6183282980866063\n",
      "При количестве деревьев: 25 при глубине: 9 Качество модели 0.8195 F1: 0.6130760986066452\n",
      "При количестве деревьев: 25 при глубине: 11 Качество модели 0.8305 F1: 0.6125714285714287\n",
      "При количестве деревьев: 25 при глубине: 13 Качество модели 0.841 F1: 0.6159420289855072\n",
      "При количестве деревьев: 25 при глубине: 15 Качество модели 0.845 F1: 0.6095717884130982\n",
      "При количестве деревьев: 25 при глубине: 17 Качество модели 0.846 F1: 0.5989583333333334\n",
      "При количестве деревьев: 25 при глубине: 19 Качество модели 0.8435 F1: 0.5929778933680104\n",
      "При количестве деревьев: 25 при глубине: 21 Качество модели 0.845 F1: 0.5942408376963351\n",
      "При количестве деревьев: 25 при глубине: 23 Качество модели 0.8445 F1: 0.5891677675033025\n",
      "При количестве деревьев: 25 при глубине: 25 Качество модели 0.845 F1: 0.5931758530183726\n",
      "При количестве деревьев: 25 при глубине: 27 Качество модели 0.8475 F1: 0.5992115637319316\n",
      "При количестве деревьев: 25 при глубине: 29 Качество модели 0.8475 F1: 0.5992115637319316\n",
      "При количестве деревьев: 25 при глубине: 31 Качество модели 0.8475 F1: 0.5992115637319316\n",
      "При количестве деревьев: 25 при глубине: 33 Качество модели 0.8475 F1: 0.5992115637319316\n",
      "При количестве деревьев: 25 при глубине: 35 Качество модели 0.8475 F1: 0.5992115637319316\n",
      "При количестве деревьев: 25 при глубине: 37 Качество модели 0.8475 F1: 0.5992115637319316\n",
      "При количестве деревьев: 25 при глубине: 39 Качество модели 0.8475 F1: 0.5992115637319316\n",
      "При количестве деревьев: 27 при глубине: 1 Качество модели 0.7525 F1: 0.5454545454545454\n",
      "При количестве деревьев: 27 при глубине: 3 Качество модели 0.7515 F1: 0.5550581915846016\n",
      "При количестве деревьев: 27 при глубине: 5 Качество модели 0.7975 F1: 0.6025515210991168\n",
      "При количестве деревьев: 27 при глубине: 7 Качество модели 0.8105 F1: 0.6221335992023929\n",
      "При количестве деревьев: 27 при глубине: 9 Качество модели 0.8175 F1: 0.6112886048988285\n",
      "При количестве деревьев: 27 при глубине: 11 Качество модели 0.8285 F1: 0.6115515288788222\n",
      "При количестве деревьев: 27 при глубине: 13 Качество модели 0.842 F1: 0.619277108433735\n",
      "При количестве деревьев: 27 при глубине: 15 Качество модели 0.848 F1: 0.6161616161616162\n",
      "При количестве деревьев: 27 при глубине: 17 Качество модели 0.845 F1: 0.5974025974025974\n",
      "При количестве деревьев: 27 при глубине: 19 Качество модели 0.845 F1: 0.5984455958549223\n",
      "При количестве деревьев: 27 при глубине: 21 Качество модели 0.843 F1: 0.5932642487046632\n",
      "При количестве деревьев: 27 при глубине: 23 Качество модели 0.843 F1: 0.5868421052631578\n",
      "При количестве деревьев: 27 при глубине: 25 Качество модели 0.8465 F1: 0.5955204216073781\n",
      "При количестве деревьев: 27 при глубине: 27 Качество модели 0.8455 F1: 0.5950196592398428\n",
      "При количестве деревьев: 27 при глубине: 29 Качество модели 0.8455 F1: 0.5950196592398428\n",
      "При количестве деревьев: 27 при глубине: 31 Качество модели 0.8455 F1: 0.5950196592398428\n",
      "При количестве деревьев: 27 при глубине: 33 Качество модели 0.8455 F1: 0.5950196592398428\n",
      "При количестве деревьев: 27 при глубине: 35 Качество модели 0.8455 F1: 0.5950196592398428\n",
      "При количестве деревьев: 27 при глубине: 37 Качество модели 0.8455 F1: 0.5950196592398428\n",
      "При количестве деревьев: 27 при глубине: 39 Качество модели 0.8455 F1: 0.5950196592398428\n",
      "При количестве деревьев: 29 при глубине: 1 Качество модели 0.733 F1: 0.5364583333333334\n",
      "При количестве деревьев: 29 при глубине: 3 Качество модели 0.753 F1: 0.5565529622980251\n",
      "При количестве деревьев: 29 при глубине: 5 Качество модели 0.7975 F1: 0.6025515210991168\n",
      "При количестве деревьев: 29 при глубине: 7 Качество модели 0.8085 F1: 0.6166166166166166\n",
      "При количестве деревьев: 29 при глубине: 9 Качество модели 0.8175 F1: 0.6087888531618436\n",
      "При количестве деревьев: 29 при глубине: 11 Качество модели 0.8305 F1: 0.6143344709897611\n",
      "При количестве деревьев: 29 при глубине: 13 Качество модели 0.844 F1: 0.6258992805755396\n",
      "При количестве деревьев: 29 при глубине: 15 Качество модели 0.849 F1: 0.6177215189873418\n",
      "При количестве деревьев: 29 при глубине: 17 Качество модели 0.8485 F1: 0.6059817945383615\n",
      "При количестве деревьев: 29 при глубине: 19 Качество модели 0.8445 F1: 0.5913272010512483\n",
      "При количестве деревьев: 29 при глубине: 21 Качество модели 0.846 F1: 0.5958005249343832\n",
      "При количестве деревьев: 29 при глубине: 23 Качество модели 0.845 F1: 0.5931758530183726\n",
      "При количестве деревьев: 29 при глубине: 25 Качество модели 0.849 F1: 0.6015831134564644\n",
      "При количестве деревьев: 29 при глубине: 27 Качество модели 0.846 F1: 0.5958005249343832\n",
      "При количестве деревьев: 29 при глубине: 29 Качество модели 0.846 F1: 0.5958005249343832\n",
      "При количестве деревьев: 29 при глубине: 31 Качество модели 0.846 F1: 0.5958005249343832\n",
      "При количестве деревьев: 29 при глубине: 33 Качество модели 0.846 F1: 0.5958005249343832\n",
      "При количестве деревьев: 29 при глубине: 35 Качество модели 0.846 F1: 0.5958005249343832\n",
      "При количестве деревьев: 29 при глубине: 37 Качество модели 0.846 F1: 0.5958005249343832\n",
      "При количестве деревьев: 29 при глубине: 39 Качество модели 0.846 F1: 0.5958005249343832\n",
      "При количестве деревьев: 31 при глубине: 1 Качество модели 0.7145 F1: 0.5221757322175732\n",
      "При количестве деревьев: 31 при глубине: 3 Качество модели 0.75 F1: 0.554367201426025\n",
      "При количестве деревьев: 31 при глубине: 5 Качество модели 0.798 F1: 0.6031434184675836\n",
      "При количестве деревьев: 31 при глубине: 7 Качество модели 0.8125 F1: 0.6192893401015228\n",
      "При количестве деревьев: 31 при глубине: 9 Качество модели 0.818 F1: 0.6102783725910064\n",
      "При количестве деревьев: 31 при глубине: 11 Качество модели 0.8295 F1: 0.6111744583808438\n",
      "При количестве деревьев: 31 при глубине: 13 Качество модели 0.8425 F1: 0.6227544910179641\n",
      "При количестве деревьев: 31 при глубине: 15 Качество модели 0.8445 F1: 0.605830164765526\n",
      "При количестве деревьев: 31 при глубине: 17 Качество модели 0.845 F1: 0.5974025974025974\n",
      "При количестве деревьев: 31 при глубине: 19 Качество модели 0.844 F1: 0.5926892950391645\n",
      "При количестве деревьев: 31 при глубине: 21 Качество модели 0.8465 F1: 0.5965834428383706\n",
      "При количестве деревьев: 31 при глубине: 23 Качество модели 0.848 F1: 0.5989445910290238\n",
      "При количестве деревьев: 31 при глубине: 25 Качество модели 0.847 F1: 0.5984251968503936\n",
      "При количестве деревьев: 31 при глубине: 27 Качество модели 0.845 F1: 0.5931758530183726\n",
      "При количестве деревьев: 31 при глубине: 29 Качество модели 0.845 F1: 0.5931758530183726\n",
      "При количестве деревьев: 31 при глубине: 31 Качество модели 0.845 F1: 0.5931758530183726\n",
      "При количестве деревьев: 31 при глубине: 33 Качество модели 0.845 F1: 0.5931758530183726\n",
      "При количестве деревьев: 31 при глубине: 35 Качество модели 0.845 F1: 0.5931758530183726\n",
      "При количестве деревьев: 31 при глубине: 37 Качество модели 0.845 F1: 0.5931758530183726\n",
      "При количестве деревьев: 31 при глубине: 39 Качество модели 0.845 F1: 0.5931758530183726\n",
      "При количестве деревьев: 33 при глубине: 1 Качество модели 0.7155 F1: 0.5238493723849372\n",
      "При количестве деревьев: 33 при глубине: 3 Качество модели 0.7495 F1: 0.553873552983081\n",
      "При количестве деревьев: 33 при глубине: 5 Качество модели 0.801 F1: 0.603585657370518\n",
      "При количестве деревьев: 33 при глубине: 7 Качество модели 0.813 F1: 0.6191446028513238\n",
      "При количестве деревьев: 33 при глубине: 9 Качество модели 0.8205 F1: 0.6168623265741728\n",
      "При количестве деревьев: 33 при глубине: 11 Качество модели 0.8295 F1: 0.6111744583808438\n",
      "При количестве деревьев: 33 при глубине: 13 Качество модели 0.8435 F1: 0.6260454002389487\n",
      "При количестве деревьев: 33 при глубине: 15 Качество модели 0.8455 F1: 0.6073697585768743\n",
      "При количестве деревьев: 33 при глубине: 17 Качество модели 0.846 F1: 0.6\n",
      "При количестве деревьев: 33 при глубине: 19 Качество модели 0.8445 F1: 0.5955786736020806\n",
      "При количестве деревьев: 33 при глубине: 21 Качество модели 0.8485 F1: 0.6018396846254929\n",
      "При количестве деревьев: 33 при глубине: 23 Качество модели 0.8475 F1: 0.5938748335552596\n",
      "При количестве деревьев: 33 при глубине: 25 Качество модели 0.8495 F1: 0.6044678055190538\n",
      "При количестве деревьев: 33 при глубине: 27 Качество модели 0.8465 F1: 0.5965834428383706\n",
      "При количестве деревьев: 33 при глубине: 29 Качество модели 0.8465 F1: 0.5965834428383706\n",
      "При количестве деревьев: 33 при глубине: 31 Качество модели 0.8465 F1: 0.5965834428383706\n",
      "При количестве деревьев: 33 при глубине: 33 Качество модели 0.8465 F1: 0.5965834428383706\n",
      "При количестве деревьев: 33 при глубине: 35 Качество модели 0.8465 F1: 0.5965834428383706\n",
      "При количестве деревьев: 33 при глубине: 37 Качество модели 0.8465 F1: 0.5965834428383706\n",
      "При количестве деревьев: 33 при глубине: 39 Качество модели 0.8465 F1: 0.5965834428383706\n",
      "При количестве деревьев: 35 при глубине: 1 Качество модели 0.734 F1: 0.5365853658536586\n",
      "При количестве деревьев: 35 при глубине: 3 Качество модели 0.752 F1: 0.55475763016158\n",
      "При количестве деревьев: 35 при глубине: 5 Качество модели 0.7995 F1: 0.6033630069238377\n",
      "При количестве деревьев: 35 при глубине: 7 Качество модели 0.812 F1: 0.6155419222903885\n",
      "При количестве деревьев: 35 при глубине: 9 Качество модели 0.8175 F1: 0.6129374337221632\n",
      "При количестве деревьев: 35 при глубине: 11 Качество модели 0.825 F1: 0.6022727272727274\n",
      "При количестве деревьев: 35 при глубине: 13 Качество модели 0.8475 F1: 0.6329723225030085\n",
      "При количестве деревьев: 35 при глубине: 15 Качество модели 0.844 F1: 0.6050632911392405\n",
      "При количестве деревьев: 35 при глубине: 17 Качество модели 0.844 F1: 0.5958549222797928\n",
      "При количестве деревьев: 35 при глубине: 19 Качество модели 0.843 F1: 0.5890052356020942\n",
      "При количестве деревьев: 35 при глубине: 21 Качество модели 0.8475 F1: 0.5960264900662252\n",
      "При количестве деревьев: 35 при глубине: 23 Качество модели 0.8465 F1: 0.5933774834437087\n",
      "При количестве деревьев: 35 при глубине: 25 Качество модели 0.85 F1: 0.601063829787234\n",
      "При количестве деревьев: 35 при глубине: 27 Качество модели 0.8475 F1: 0.5981554677206852\n",
      "При количестве деревьев: 35 при глубине: 29 Качество модели 0.8475 F1: 0.5981554677206852\n",
      "При количестве деревьев: 35 при глубине: 31 Качество модели 0.8475 F1: 0.5981554677206852\n",
      "При количестве деревьев: 35 при глубине: 33 Качество модели 0.8475 F1: 0.5981554677206852\n",
      "При количестве деревьев: 35 при глубине: 35 Качество модели 0.8475 F1: 0.5981554677206852\n",
      "При количестве деревьев: 35 при глубине: 37 Качество модели 0.8475 F1: 0.5981554677206852\n",
      "При количестве деревьев: 35 при глубине: 39 Качество модели 0.8475 F1: 0.5981554677206852\n",
      "При количестве деревьев: 37 при глубине: 1 Качество модели 0.738 F1: 0.5403508771929824\n",
      "При количестве деревьев: 37 при глубине: 3 Качество модели 0.7575 F1: 0.5602901178603807\n",
      "При количестве деревьев: 37 при глубине: 5 Качество модели 0.8015 F1: 0.605759682224429\n",
      "При количестве деревьев: 37 при глубине: 7 Качество модели 0.8085 F1: 0.6135216952573159\n",
      "При количестве деревьев: 37 при глубине: 9 Качество модели 0.8165 F1: 0.6116402116402115\n",
      "При количестве деревьев: 37 при глубине: 11 Качество модели 0.8275 F1: 0.6075085324232082\n",
      "При количестве деревьев: 37 при глубине: 13 Качество модели 0.845 F1: 0.6256038647342995\n",
      "При количестве деревьев: 37 при глубине: 15 Качество модели 0.845 F1: 0.6085858585858585\n",
      "При количестве деревьев: 37 при глубине: 17 Качество модели 0.8435 F1: 0.5897771952817824\n",
      "При количестве деревьев: 37 при глубине: 19 Качество модели 0.8435 F1: 0.5897771952817824\n",
      "При количестве деревьев: 37 при глубине: 21 Качество модели 0.8485 F1: 0.5986754966887416\n",
      "При количестве деревьев: 37 при глубине: 23 Качество модели 0.8475 F1: 0.5960264900662252\n",
      "При количестве деревьев: 37 при глубине: 25 Качество модели 0.8485 F1: 0.596537949400799\n",
      "При количестве деревьев: 37 при глубине: 27 Качество модели 0.847 F1: 0.5930851063829786\n",
      "При количестве деревьев: 37 при глубине: 29 Качество модели 0.847 F1: 0.5930851063829786\n",
      "При количестве деревьев: 37 при глубине: 31 Качество модели 0.847 F1: 0.5930851063829786\n",
      "При количестве деревьев: 37 при глубине: 33 Качество модели 0.847 F1: 0.5930851063829786\n",
      "При количестве деревьев: 37 при глубине: 35 Качество модели 0.847 F1: 0.5930851063829786\n",
      "При количестве деревьев: 37 при глубине: 37 Качество модели 0.847 F1: 0.5930851063829786\n",
      "При количестве деревьев: 37 при глубине: 39 Качество модели 0.847 F1: 0.5930851063829786\n",
      "При количестве деревьев: 39 при глубине: 1 Качество модели 0.7535 F1: 0.546458141674333\n",
      "При количестве деревьев: 39 при глубине: 3 Качество модели 0.764 F1: 0.5701275045537341\n",
      "При количестве деревьев: 39 при глубине: 5 Качество модели 0.8005 F1: 0.6037735849056604\n",
      "При количестве деревьев: 39 при глубине: 7 Качество модели 0.809 F1: 0.6149193548387097\n",
      "При количестве деревьев: 39 при глубине: 9 Качество модели 0.8145 F1: 0.6098843322818086\n",
      "При количестве деревьев: 39 при глубине: 11 Качество модели 0.825 F1: 0.6049661399548533\n",
      "При количестве деревьев: 39 при глубине: 13 Качество модели 0.8435 F1: 0.6233453670276775\n",
      "При количестве деревьев: 39 при глубине: 15 Качество модели 0.847 F1: 0.6106870229007634\n",
      "При количестве деревьев: 39 при глубине: 17 Качество модели 0.842 F1: 0.5874673629242819\n",
      "При количестве деревьев: 39 при глубине: 19 Качество модели 0.841 F1: 0.5837696335078535\n",
      "При количестве деревьев: 39 при глубине: 21 Качество модели 0.85 F1: 0.6031746031746033\n",
      "При количестве деревьев: 39 при глубине: 23 Качество модели 0.8465 F1: 0.5933774834437087\n",
      "При количестве деревьев: 39 при глубине: 25 Качество модели 0.845 F1: 0.5877659574468086\n",
      "При количестве деревьев: 39 при глубине: 27 Качество модели 0.8455 F1: 0.5896414342629482\n",
      "При количестве деревьев: 39 при глубине: 29 Качество модели 0.8455 F1: 0.5896414342629482\n",
      "При количестве деревьев: 39 при глубине: 31 Качество модели 0.8455 F1: 0.5896414342629482\n",
      "При количестве деревьев: 39 при глубине: 33 Качество модели 0.8455 F1: 0.5896414342629482\n",
      "При количестве деревьев: 39 при глубине: 35 Качество модели 0.8455 F1: 0.5896414342629482\n",
      "При количестве деревьев: 39 при глубине: 37 Качество модели 0.8455 F1: 0.5896414342629482\n",
      "При количестве деревьев: 39 при глубине: 39 Качество модели 0.8455 F1: 0.5896414342629482\n",
      "При количестве деревьев: 41 при глубине: 1 Качество модели 0.739 F1: 0.5413005272407733\n",
      "При количестве деревьев: 41 при глубине: 3 Качество модели 0.757 F1: 0.5605786618444847\n",
      "При количестве деревьев: 41 при глубине: 5 Качество модели 0.7975 F1: 0.6017699115044247\n",
      "При количестве деревьев: 41 при глубине: 7 Качество модели 0.8085 F1: 0.6158475426278835\n",
      "При количестве деревьев: 41 при глубине: 9 Качество модели 0.818 F1: 0.6176470588235294\n",
      "При количестве деревьев: 41 при глубине: 11 Качество модели 0.8275 F1: 0.609286523216308\n",
      "При количестве деревьев: 41 при глубине: 13 Качество модели 0.8455 F1: 0.6272617611580217\n",
      "При количестве деревьев: 41 при глубине: 15 Качество модели 0.848 F1: 0.6122448979591836\n",
      "При количестве деревьев: 41 при глубине: 17 Качество модели 0.842 F1: 0.5885416666666667\n",
      "При количестве деревьев: 41 при глубине: 19 Качество модели 0.8415 F1: 0.5867014341590613\n",
      "При количестве деревьев: 41 при глубине: 21 Качество модели 0.8495 F1: 0.600265604249668\n",
      "При количестве деревьев: 41 при глубине: 23 Качество модели 0.848 F1: 0.596816976127321\n",
      "При количестве деревьев: 41 при глубине: 25 Качество модели 0.8475 F1: 0.5927903871829105\n",
      "При количестве деревьев: 41 при глубине: 27 Качество модели 0.8445 F1: 0.5869853917662683\n",
      "При количестве деревьев: 41 при глубине: 29 Качество модели 0.8445 F1: 0.5869853917662683\n",
      "При количестве деревьев: 41 при глубине: 31 Качество модели 0.8445 F1: 0.5869853917662683\n",
      "При количестве деревьев: 41 при глубине: 33 Качество модели 0.8445 F1: 0.5869853917662683\n",
      "При количестве деревьев: 41 при глубине: 35 Качество модели 0.8445 F1: 0.5869853917662683\n",
      "При количестве деревьев: 41 при глубине: 37 Качество модели 0.8445 F1: 0.5869853917662683\n",
      "При количестве деревьев: 41 при глубине: 39 Качество модели 0.8445 F1: 0.5869853917662683\n",
      "При количестве деревьев: 43 при глубине: 1 Качество модели 0.7395 F1: 0.5377107364685004\n",
      "При количестве деревьев: 43 при глубине: 3 Качество модели 0.7635 F1: 0.5664527956003665\n",
      "При количестве деревьев: 43 при глубине: 5 Качество модели 0.7965 F1: 0.6005888125613347\n",
      "При количестве деревьев: 43 при глубине: 7 Качество модели 0.8085 F1: 0.6127401415571284\n",
      "При количестве деревьев: 43 при глубине: 9 Качество модели 0.819 F1: 0.6165254237288136\n",
      "При количестве деревьев: 43 при глубине: 11 Качество модели 0.8265 F1: 0.6070215175537939\n",
      "При количестве деревьев: 43 при глубине: 13 Качество модели 0.8475 F1: 0.629404617253949\n",
      "При количестве деревьев: 43 при глубине: 15 Качество модели 0.849 F1: 0.6138107416879796\n",
      "При количестве деревьев: 43 при глубине: 17 Качество модели 0.8415 F1: 0.5856209150326799\n",
      "При количестве деревьев: 43 при глубине: 19 Качество модели 0.842 F1: 0.5853018372703411\n",
      "При количестве деревьев: 43 при глубине: 21 Качество модели 0.848 F1: 0.5978835978835979\n",
      "При количестве деревьев: 43 при глубине: 23 Качество модели 0.8455 F1: 0.5918097754293262\n",
      "При количестве деревьев: 43 при глубине: 25 Качество модели 0.8475 F1: 0.5927903871829105\n",
      "При количестве деревьев: 43 при глубине: 27 Качество модели 0.8445 F1: 0.5869853917662683\n",
      "При количестве деревьев: 43 при глубине: 29 Качество модели 0.8445 F1: 0.5869853917662683\n",
      "При количестве деревьев: 43 при глубине: 31 Качество модели 0.8445 F1: 0.5869853917662683\n",
      "При количестве деревьев: 43 при глубине: 33 Качество модели 0.8445 F1: 0.5869853917662683\n",
      "При количестве деревьев: 43 при глубине: 35 Качество модели 0.8445 F1: 0.5869853917662683\n",
      "При количестве деревьев: 43 при глубине: 37 Качество модели 0.8445 F1: 0.5869853917662683\n",
      "При количестве деревьев: 43 при глубине: 39 Качество модели 0.8445 F1: 0.5869853917662683\n",
      "При количестве деревьев: 45 при глубине: 1 Качество модели 0.738 F1: 0.5411558669001751\n",
      "При количестве деревьев: 45 при глубине: 3 Качество модели 0.768 F1: 0.5719557195571956\n",
      "При количестве деревьев: 45 при глубине: 5 Качество модели 0.7995 F1: 0.6041461006910168\n",
      "При количестве деревьев: 45 при глубине: 7 Качество модели 0.811 F1: 0.6142857142857142\n",
      "При количестве деревьев: 45 при глубине: 9 Качество модели 0.818 F1: 0.616842105263158\n",
      "При количестве деревьев: 45 при глубине: 11 Качество модели 0.8265 F1: 0.6061293984108967\n",
      "При количестве деревьев: 45 при глубине: 13 Качество модели 0.845 F1: 0.6237864077669903\n",
      "При количестве деревьев: 45 при глубине: 15 Качество модели 0.8485 F1: 0.6140127388535032\n",
      "При количестве деревьев: 45 при глубине: 17 Качество модели 0.8425 F1: 0.5903771131339401\n",
      "При количестве деревьев: 45 при глубине: 19 Качество модели 0.843 F1: 0.5890052356020942\n",
      "При количестве деревьев: 45 при глубине: 21 Качество модели 0.8485 F1: 0.6007905138339921\n",
      "При количестве деревьев: 45 при глубине: 23 Качество модели 0.8455 F1: 0.590728476821192\n",
      "При количестве деревьев: 45 при глубине: 25 Качество модели 0.849 F1: 0.5962566844919786\n",
      "При количестве деревьев: 45 при глубине: 27 Качество модели 0.8465 F1: 0.5901201602136182\n",
      "При количестве деревьев: 45 при глубине: 29 Качество модели 0.8465 F1: 0.5901201602136182\n",
      "При количестве деревьев: 45 при глубине: 31 Качество модели 0.8465 F1: 0.5901201602136182\n",
      "При количестве деревьев: 45 при глубине: 33 Качество модели 0.8465 F1: 0.5901201602136182\n",
      "При количестве деревьев: 45 при глубине: 35 Качество модели 0.8465 F1: 0.5901201602136182\n",
      "При количестве деревьев: 45 при глубине: 37 Качество модели 0.8465 F1: 0.5901201602136182\n",
      "При количестве деревьев: 45 при глубине: 39 Качество модели 0.8465 F1: 0.5901201602136182\n",
      "При количестве деревьев: 47 при глубине: 1 Качество модели 0.7545 F1: 0.5415499533146592\n",
      "При количестве деревьев: 47 при глубине: 3 Качество модели 0.7625 F1: 0.565416285452882\n",
      "При количестве деревьев: 47 при глубине: 5 Качество модели 0.8 F1: 0.6062992125984252\n",
      "При количестве деревьев: 47 при глубине: 7 Качество модели 0.8105 F1: 0.6136595310907238\n",
      "При количестве деревьев: 47 при глубине: 9 Качество модели 0.8165 F1: 0.6140904311251314\n",
      "При количестве деревьев: 47 при глубине: 11 Качество модели 0.8255 F1: 0.602957906712173\n",
      "При количестве деревьев: 47 при глубине: 13 Качество модели 0.845 F1: 0.6228710462287105\n",
      "При количестве деревьев: 47 при глубине: 15 Качество модели 0.8475 F1: 0.6104725415070242\n",
      "При количестве деревьев: 47 при глубине: 17 Качество модели 0.846 F1: 0.6\n",
      "При количестве деревьев: 47 при глубине: 19 Качество модели 0.843 F1: 0.5879265091863518\n",
      "При количестве деревьев: 47 при глубине: 21 Качество модели 0.851 F1: 0.6058201058201058\n",
      "При количестве деревьев: 47 при глубине: 23 Качество модели 0.85 F1: 0.6062992125984252\n",
      "При количестве деревьев: 47 при глубине: 25 Качество модели 0.8495 F1: 0.5948855989232841\n",
      "При количестве деревьев: 47 при глубине: 27 Качество модели 0.8485 F1: 0.5954606141522029\n",
      "При количестве деревьев: 47 при глубине: 29 Качество модели 0.8485 F1: 0.5954606141522029\n",
      "При количестве деревьев: 47 при глубине: 31 Качество модели 0.8485 F1: 0.5954606141522029\n",
      "При количестве деревьев: 47 при глубине: 33 Качество модели 0.8485 F1: 0.5954606141522029\n",
      "При количестве деревьев: 47 при глубине: 35 Качество модели 0.8485 F1: 0.5954606141522029\n",
      "При количестве деревьев: 47 при глубине: 37 Качество модели 0.8485 F1: 0.5954606141522029\n",
      "При количестве деревьев: 47 при глубине: 39 Качество модели 0.8485 F1: 0.5954606141522029\n",
      "При количестве деревьев: 49 при глубине: 1 Качество модели 0.753 F1: 0.5451197053406998\n",
      "При количестве деревьев: 49 при глубине: 3 Качество модели 0.767 F1: 0.570110701107011\n",
      "При количестве деревьев: 49 при глубине: 5 Качество модели 0.8 F1: 0.6062992125984252\n",
      "При количестве деревьев: 49 при глубине: 7 Качество модели 0.8105 F1: 0.6136595310907238\n",
      "При количестве деревьев: 49 при глубине: 9 Качество модели 0.8175 F1: 0.6137566137566137\n",
      "При количестве деревьев: 49 при глубине: 11 Качество модели 0.8265 F1: 0.6034285714285715\n",
      "При количестве деревьев: 49 при глубине: 13 Качество модели 0.846 F1: 0.624390243902439\n",
      "При количестве деревьев: 49 при глубине: 15 Качество модели 0.8485 F1: 0.6120358514724713\n",
      "При количестве деревьев: 49 при глубине: 17 Качество модели 0.844 F1: 0.5948051948051949\n",
      "При количестве деревьев: 49 при глубине: 19 Качество модели 0.846 F1: 0.5947368421052632\n",
      "При количестве деревьев: 49 при глубине: 21 Качество модели 0.849 F1: 0.5994694960212201\n",
      "При количестве деревьев: 49 при глубине: 23 Качество модели 0.847 F1: 0.5973684210526315\n",
      "При количестве деревьев: 49 при глубине: 25 Качество модели 0.8515 F1: 0.6002691790040375\n",
      "При количестве деревьев: 49 при глубине: 27 Качество модели 0.8485 F1: 0.596537949400799\n",
      "При количестве деревьев: 49 при глубине: 29 Качество модели 0.8485 F1: 0.596537949400799\n",
      "При количестве деревьев: 49 при глубине: 31 Качество модели 0.8485 F1: 0.596537949400799\n",
      "При количестве деревьев: 49 при глубине: 33 Качество модели 0.8485 F1: 0.596537949400799\n",
      "При количестве деревьев: 49 при глубине: 35 Качество модели 0.8485 F1: 0.596537949400799\n",
      "При количестве деревьев: 49 при глубине: 37 Качество модели 0.8485 F1: 0.596537949400799\n",
      "При количестве деревьев: 49 при глубине: 39 Качество модели 0.8485 F1: 0.596537949400799\n",
      "\n",
      "Лучший результат качества модели: 0.8475 при количестве деревьев 35 при глубине: 13 F1: 0.6329723225030085\n",
      "\n",
      "Точность константной модели: 0.791\n",
      "Данная модель проходит тест на адекватность по точности модели 0.8475 > 0.791\n",
      "\n",
      "F1-метрика константной модели: 0.59\n",
      "Данная модель проходит тест на адекватность по точности модели 0.6329723225030085 > 0.59\n",
      "CPU times: user 1min 41s, sys: 612 ms, total: 1min 41s\n",
      "Wall time: 1min 42s\n"
     ]
    }
   ],
   "source": [
    "%%time\n",
    "\n",
    "best_model_sl_upsampled = None\n",
    "best_accuracy_sl_upsampled = 0\n",
    "best_n_estimators_sl_upsampled = 0\n",
    "best_depth_sl_upsampled = 0\n",
    "best_f1_sl_upsampled = 0\n",
    "\n",
    "\n",
    "for est in range (1, 50, 2):\n",
    "    for depth in range (1, 40, 2):\n",
    "        model = RandomForestClassifier(random_state=12345, max_depth=depth, n_estimators = est)\n",
    "        model.fit(features_upsampled, target_upsampled)\n",
    "        prediction_sl_upsampled = model.predict(features_valid)\n",
    "        accuracy_sl_upsampled = accuracy_score(target_valid, prediction_sl_upsampled)\n",
    "        f1_sl_upsampled = f1_score(target_valid, prediction_sl_upsampled)\n",
    "        if f1_sl_upsampled > best_f1_sl_upsampled:\n",
    "            best_model_sl_upsampled = model\n",
    "            best_depth_sl_upsampled = depth\n",
    "            best_accuracy_sl_upsampled = accuracy_sl_upsampled\n",
    "            best_f1_sl_upsampled = f1_sl_upsampled\n",
    "            best_n_estimators_sl_upsampled = est\n",
    "        print('При количестве деревьев:', est, 'при глубине:', depth, 'Качество модели', accuracy_sl_upsampled, 'F1:', f1_sl_upsampled)\n",
    "print('')\n",
    "print(\"Лучший результат качества модели:\", best_accuracy_sl_upsampled,\n",
    "      'при количестве деревьев', best_n_estimators_sl_upsampled, 'при глубине:', best_depth_sl_upsampled, 'F1:', best_f1_sl_upsampled)\n",
    "print('')\n",
    "\n",
    "print('Точность константной модели:', accuracy_constant) \n",
    "if best_accuracy_sl_upsampled >= accuracy_constant:\n",
    "    print('Данная модель проходит тест на адекватность по точности модели', best_accuracy_sl_upsampled, '>', accuracy_constant)\n",
    "else:\n",
    "    print('Данная модель не проходит тест на адекватность по точности модели', best_accuracy_sl_upsampled, '>', accuracy_constant)\n",
    "print('')\n",
    "\n",
    "print('F1-метрика константной модели:', f1_constant)\n",
    "if best_f1_sl_upsampled >= f1_constant:\n",
    "    print('Данная модель проходит тест на адекватность по точности модели', best_f1_sl_upsampled, '>', f1_constant)\n",
    "else:\n",
    "    print('Данная модель не проходит тест на адекватность по точности модели', best_f1_sl_upsampled, '<', f1_constant)"
   ]
  },
  {
   "cell_type": "markdown",
   "metadata": {},
   "source": [
    "#### Логистическая регрессия"
   ]
  },
  {
   "cell_type": "code",
   "execution_count": 48,
   "metadata": {
    "scrolled": true
   },
   "outputs": [
    {
     "name": "stdout",
     "output_type": "stream",
     "text": [
      "Качество модели: 0.701 F1: 0.33389544688026984\n",
      "\n",
      "Точность константной модели: 0.791\n",
      "Данная модель не проходит тест на адекватность по точности модели 0.701 < 0.791\n",
      "\n",
      "F1-метрика константной модели: 0.59\n",
      "Данная модель не проходит тест на адекватность по точности модели 0.4888888888888888 < 0.59\n",
      "CPU times: user 108 ms, sys: 155 ms, total: 263 ms\n",
      "Wall time: 219 ms\n"
     ]
    }
   ],
   "source": [
    "%%time\n",
    "\n",
    "\n",
    "model = LogisticRegression(random_state=12345, solver='lbfgs')\n",
    "model.fit(features_upsampled, target_upsampled)\n",
    "prediction_lr_upsampled = model.predict(features_valid)\n",
    "accuracy_lr_upsampled = accuracy_score(target_valid, prediction_lr_upsampled)\n",
    "f1_lr_upsampled = f1_score(target_valid, prediction_lr_upsampled)\n",
    "print(\"Качество модели:\", accuracy_lr_upsampled, 'F1:', f1_lr)\n",
    "print('')\n",
    "\n",
    "print('Точность константной модели:', accuracy_constant) \n",
    "if accuracy_lr_upsampled >= accuracy_constant:\n",
    "    print('Данная модель проходит тест на адекватность по точности модели', accuracy_lr_upsampled, '>', accuracy_constant)\n",
    "else:\n",
    "    print('Данная модель не проходит тест на адекватность по точности модели', accuracy_lr_upsampled, '<', accuracy_constant)\n",
    "print('')\n",
    "\n",
    "print('F1-метрика константной модели:', f1_constant)\n",
    "if f1_lr_upsampled >= f1_constant:\n",
    "    print('Данная модель проходит тест на адекватность по точности модели', f1_lr_upsampled, '>', f1_constant)\n",
    "else:\n",
    "    print('Данная модель не проходит тест на адекватность по точности модели', f1_lr_upsampled, '<', f1_constant)"
   ]
  },
  {
   "cell_type": "markdown",
   "metadata": {},
   "source": [
    "#### Проведем оценку `accuracy`, `precision` и `recall`"
   ]
  },
  {
   "cell_type": "code",
   "execution_count": 49,
   "metadata": {
    "scrolled": true
   },
   "outputs": [
    {
     "name": "stdout",
     "output_type": "stream",
     "text": [
      "Дерево решений\n",
      "Качество модели 0.8105\n",
      "Точность модели 0.5374280230326296\n",
      "Плотность  0.6698564593301436\n",
      "F1-мера 0.5963791267305644\n",
      "\n",
      "Случайный лес\n",
      "Качество модели 0.8475\n",
      "Точность модели 0.6368038740920097\n",
      "Плотность  0.6291866028708134\n",
      "F1-мера 0.6329723225030085\n",
      "\n",
      "Логистическая регрессия\n",
      "Качество модели 0.701\n",
      "Точность модели 0.3803191489361702\n",
      "Плотность  0.6842105263157895\n",
      "F1-мера 0.4888888888888888\n",
      "\n"
     ]
    }
   ],
   "source": [
    "# Дерево решений:\n",
    "\n",
    "model = DecisionTreeClassifier(random_state=12345, max_depth=5)\n",
    "model.fit(features_upsampled, target_upsampled)\n",
    "prediction_dr_upsampled = model.predict(features_valid)\n",
    "accuracy_dr_upsampled = accuracy_score(target_valid, prediction_dr_upsampled)\n",
    "f1_dr_upsampled = f1_score(target_valid, prediction_dr_upsampled)\n",
    "precision_dr_upsampled = precision_score(target_valid, prediction_dr_upsampled)\n",
    "recall_dr_upsampled = recall_score(target_valid, prediction_dr_upsampled)\n",
    "print('Дерево решений')\n",
    "print('Качество модели', accuracy_dr_upsampled)\n",
    "print('Точность модели', precision_dr_upsampled)\n",
    "print('Плотность ', recall_dr_upsampled)\n",
    "print('F1-мера', f1_dr_upsampled)\n",
    "print()\n",
    "\n",
    "# Случайный лес:\n",
    "\n",
    "model = RandomForestClassifier(random_state=12345, n_estimators = 35, max_depth = 13)\n",
    "model.fit(features_upsampled, target_upsampled)\n",
    "prediction_sl_upsampled = model.predict(features_valid)\n",
    "accuracy_sl_upsampled = accuracy_score(target_valid, prediction_sl_upsampled)\n",
    "f1_sl_upsampled = f1_score(target_valid, prediction_sl_upsampled)\n",
    "precision_sl_upsampled = precision_score(target_valid, prediction_sl_upsampled)\n",
    "recall_sl_upsampled = recall_score(target_valid, prediction_sl_upsampled)\n",
    "print('Случайный лес')\n",
    "print('Качество модели', accuracy_sl_upsampled)\n",
    "print('Точность модели', precision_sl_upsampled)\n",
    "print('Плотность ', recall_sl_upsampled)\n",
    "print('F1-мера', f1_sl_upsampled)\n",
    "print()\n",
    "\n",
    "# Логистическая регрессия:\n",
    "\n",
    "model = LogisticRegression(random_state=12345, solver='lbfgs')\n",
    "model.fit(features_upsampled, target_upsampled)\n",
    "prediction_lr_upsampled = model.predict(features_valid)\n",
    "accuracy_lr_upsampled = accuracy_score(target_valid, prediction_lr_upsampled)\n",
    "f1_lr_upsampled = f1_score(target_valid, prediction_lr_upsampled)\n",
    "precision_lr_upsampled = precision_score(target_valid, prediction_lr_upsampled)\n",
    "recall_lr_upsampled = recall_score(target_valid, prediction_lr_upsampled)\n",
    "print('Логистическая регрессия')\n",
    "print('Качество модели', accuracy_lr_upsampled)\n",
    "print('Точность модели', precision_lr_upsampled)\n",
    "print('Плотность ', recall_lr_upsampled)\n",
    "print('F1-мера', f1_lr_upsampled)\n",
    "print()"
   ]
  },
  {
   "cell_type": "markdown",
   "metadata": {},
   "source": [
    "#### График ROC, а так же метра AUC-ROC"
   ]
  },
  {
   "cell_type": "code",
   "execution_count": 50,
   "metadata": {
    "scrolled": false
   },
   "outputs": [
    {
     "name": "stdout",
     "output_type": "stream",
     "text": [
      "AUC-ROC Деревая решения: 0.8310244134068074\n",
      "AUC-ROC Случайного леса: 0.8435244890182011\n",
      "AUC-ROC Логистической регрессии: 0.7634331202100183\n"
     ]
    },
    {
     "data": {
      "image/png": "[encoded data removed]",
      "text/plain": [
       "<Figure size 864x648 with 1 Axes>"
      ]
     },
     "metadata": {
      "needs_background": "light"
     },
     "output_type": "display_data"
    }
   ],
   "source": [
    "plt.figure(figsize=[12,9])\n",
    "\n",
    "plt.plot([0, 1], [0, 1], linestyle='--', label='RandomModel')\n",
    "\n",
    "\n",
    "# Дерево решений:\n",
    "\n",
    "model = DecisionTreeClassifier(random_state=12345, max_depth=5)\n",
    "model.fit(features_upsampled, target_upsampled)\n",
    "predict_proba_dr_upsampled = model.predict_proba(features_valid)\n",
    "predict_proba_dr_one_upsampled = predict_proba_dr_upsampled[:, 1]\n",
    "auc_roc_dr_upsampled = roc_auc_score(target_valid, predict_proba_dr_one_upsampled)\n",
    "fpr_dr_upsampled, tpr_dr_upsampled, thresholds_dr_upsampled = roc_curve(target_valid, predict_proba_dr_one_upsampled)\n",
    "plt.plot(fpr_dr_upsampled, tpr_dr_upsampled, label='Дерево решений')\n",
    "print('AUC-ROC Деревая решения:', auc_roc_dr_upsampled)\n",
    "\n",
    "# Случайный лес:\n",
    "\n",
    "model = RandomForestClassifier(random_state=12345, n_estimators = 35, max_depth = 13)\n",
    "model.fit(features_upsampled, target_upsampled)\n",
    "predict_proba_sl_upsampled = model.predict_proba(features_valid)\n",
    "predict_proba_sl_one_upsampled = predict_proba_sl_upsampled[:, 1]\n",
    "auc_roc_sl_upsampled = roc_auc_score(target_valid, predict_proba_sl_one_upsampled)\n",
    "fpr_sl_upsampled, tpr_sl_upsampled, thresholds_sl_upsampled = roc_curve(target_valid, predict_proba_sl_one_upsampled)\n",
    "plt.plot(fpr_sl_upsampled, tpr_sl_upsampled, label='Случайный лес')\n",
    "print('AUC-ROC Случайного леса:', auc_roc_sl_upsampled)\n",
    "\n",
    "# Логистическая регрессия:\n",
    "\n",
    "model = LogisticRegression(random_state=12345, solver='lbfgs')\n",
    "model.fit(features_upsampled, target_upsampled)\n",
    "predict_proba_lr_upsampled = model.predict_proba(features_valid)\n",
    "predict_proba_lr_one_upsampled = predict_proba_lr_upsampled[:, 1]\n",
    "auc_roc_lr_upsampled = roc_auc_score(target_valid, predict_proba_lr_one_upsampled)\n",
    "fpr_lr_upsampled, tpr_lr_upsampled, thresholds_lr_upsampled = roc_curve(target_valid, predict_proba_lr_one_upsampled)\n",
    "plt.plot(fpr_lr_upsampled, tpr_lr_upsampled, label='Логистическая регрессия')\n",
    "print('AUC-ROC Логистической регрессии:', auc_roc_lr_upsampled)\n",
    "\n",
    "plt.xlim([0,1])\n",
    "plt.ylim([0,1])\n",
    "\n",
    "plt.xlabel(\"FPR\")\n",
    "plt.ylabel(\"TPR\")\n",
    "\n",
    "plt.legend(loc='lower right')\n",
    "\n",
    "plt.title(\"ROC-кривая\")\n",
    "plt.show()"
   ]
  },
  {
   "cell_type": "markdown",
   "metadata": {},
   "source": [
    "Как мы можем заметить по графику и по моделям, показатели F1-метрика - 0,633 и AUC-ROC - 0,844 лучше всего у модели \"Случайного леса\""
   ]
  },
  {
   "cell_type": "markdown",
   "metadata": {},
   "source": [
    "### Подбор киперпараметров с уменьшением доли частого класса - downsample"
   ]
  },
  {
   "cell_type": "markdown",
   "metadata": {},
   "source": [
    "Так как баланс в соотношении 1:4, уменьшим долю частого класса чтобы вывести соотношение к 1:1"
   ]
  },
  {
   "cell_type": "code",
   "execution_count": 51,
   "metadata": {},
   "outputs": [],
   "source": [
    "def downsample(features, target, fraction):\n",
    "    features_zeros = features[target == 0]\n",
    "    features_ones = features[target == 1]\n",
    "    target_zeros = target[target == 0]\n",
    "    target_ones = target[target == 1]\n",
    "\n",
    "    features_downsampled = pd.concat(\n",
    "        [features_zeros.sample(frac=fraction, random_state=12345)] + [features_ones])\n",
    "    target_downsampled = pd.concat(\n",
    "        [target_zeros.sample(frac=fraction, random_state=12345)] + [target_ones])\n",
    "    \n",
    "    features_downsampled, target_downsampled = shuffle(\n",
    "        features_downsampled, target_downsampled, random_state=12345)\n",
    "    \n",
    "    return features_downsampled, target_downsampled\n",
    "\n",
    "features_downsampled, target_downsampled = downsample(features_train, target_train, 0.5)"
   ]
  },
  {
   "cell_type": "code",
   "execution_count": 52,
   "metadata": {},
   "outputs": [
    {
     "data": {
      "text/plain": [
       "(3598,)"
      ]
     },
     "execution_count": 52,
     "metadata": {},
     "output_type": "execute_result"
    }
   ],
   "source": [
    "target_downsampled.shape"
   ]
  },
  {
   "cell_type": "markdown",
   "metadata": {},
   "source": [
    "#### Дерево решений"
   ]
  },
  {
   "cell_type": "code",
   "execution_count": 53,
   "metadata": {
    "scrolled": true
   },
   "outputs": [
    {
     "name": "stdout",
     "output_type": "stream",
     "text": [
      "Глубина дерева: 1 Качество модели 0.7545 F1: 0.4994903160040775\n",
      "Глубина дерева: 2 Качество модели 0.824 F1: 0.5217391304347825\n",
      "Глубина дерева: 3 Качество модели 0.83 F1: 0.5466666666666666\n",
      "Глубина дерева: 4 Качество модели 0.823 F1: 0.5607940446650125\n",
      "Глубина дерева: 5 Качество модели 0.8245 F1: 0.5470967741935484\n",
      "Глубина дерева: 6 Качество модели 0.8215 F1: 0.5543071161048689\n",
      "Глубина дерева: 7 Качество модели 0.8215 F1: 0.5853658536585367\n",
      "Глубина дерева: 8 Качество модели 0.821 F1: 0.5837209302325581\n",
      "Глубина дерева: 9 Качество модели 0.799 F1: 0.535796766743649\n",
      "Глубина дерева: 10 Качество модели 0.7985 F1: 0.5404789053591791\n",
      "Глубина дерева: 11 Качество модели 0.771 F1: 0.5138004246284501\n",
      "Глубина дерева: 12 Качество модели 0.764 F1: 0.51440329218107\n",
      "Глубина дерева: 13 Качество модели 0.7495 F1: 0.4984984984984985\n",
      "Глубина дерева: 14 Качество модели 0.7365 F1: 0.49857278782112274\n",
      "Глубина дерева: 15 Качество модели 0.748 F1: 0.5078125\n",
      "Глубина дерева: 16 Качество модели 0.743 F1: 0.5086042065009561\n",
      "Глубина дерева: 17 Качество модели 0.739 F1: 0.5038022813688212\n",
      "Глубина дерева: 18 Качество модели 0.7345 F1: 0.5032740879326473\n",
      "Глубина дерева: 19 Качество модели 0.7355 F1: 0.502351834430856\n",
      "Глубина дерева: 20 Качество модели 0.737 F1: 0.5056390977443609\n",
      "Глубина дерева: 21 Качество модели 0.739 F1: 0.5093984962406016\n",
      "Глубина дерева: 22 Качество модели 0.739 F1: 0.5093984962406016\n",
      "Глубина дерева: 23 Качество модели 0.739 F1: 0.5093984962406016\n",
      "Глубина дерева: 24 Качество модели 0.739 F1: 0.5093984962406016\n",
      "Глубина дерева: 25 Качество модели 0.739 F1: 0.5093984962406016\n",
      "Глубина дерева: 26 Качество модели 0.739 F1: 0.5093984962406016\n",
      "Глубина дерева: 27 Качество модели 0.739 F1: 0.5093984962406016\n",
      "Глубина дерева: 28 Качество модели 0.739 F1: 0.5093984962406016\n",
      "Глубина дерева: 29 Качество модели 0.739 F1: 0.5093984962406016\n",
      "\n",
      "Лучший результат качества модели: 0.8215 при глубине: 7 F1: 0.5853658536585367\n",
      "\n",
      "Точность константной модели: 0.791\n",
      "Данная модель проходит тест на адекватность по точности модели 0.8215 > 0.791\n",
      "\n",
      "F1-метрика константной модели: 0.59\n",
      "Данная модель не проходит тест на адекватность по точности модели 0.5853658536585367 < 0.59\n",
      "CPU times: user 460 ms, sys: 19.6 ms, total: 479 ms\n",
      "Wall time: 481 ms\n"
     ]
    }
   ],
   "source": [
    "%%time\n",
    "\n",
    "best_model_dr_downsampled = None\n",
    "best_accuracy_dr_downsampled = 0\n",
    "best_depth_dr_downsampled = 0\n",
    "best_f1_dr_downsampled = 0\n",
    "\n",
    "for depth in range (1, 30):\n",
    "    model = DecisionTreeClassifier(random_state=12345, max_depth=depth)\n",
    "    model.fit(features_downsampled, target_downsampled)\n",
    "    prediction_dr_downsampled = model.predict(features_valid)\n",
    "    accuracy_dr_downsampled = accuracy_score(target_valid, prediction_dr_downsampled)\n",
    "    f1_dr_downsampled = f1_score(target_valid, prediction_dr_downsampled)\n",
    "    if f1_dr_downsampled > best_f1_dr_downsampled:\n",
    "        best_model_dr_downsampled = model\n",
    "        best_accuracy_dr_downsampled = accuracy_dr_downsampled\n",
    "        best_depth_dr_downsampled = depth\n",
    "        best_f1_dr_downsampled = f1_dr_downsampled\n",
    "    print('Глубина дерева:', depth, 'Качество модели', accuracy_dr_downsampled, 'F1:', f1_dr_downsampled)\n",
    "print('')\n",
    "print(\"Лучший результат качества модели:\", best_accuracy_dr_downsampled, 'при глубине:', best_depth_dr_downsampled, 'F1:', best_f1_dr_downsampled)\n",
    "print('')\n",
    "\n",
    "print('Точность константной модели:', accuracy_constant) \n",
    "if best_accuracy_dr_downsampled >= accuracy_constant:\n",
    "    print('Данная модель проходит тест на адекватность по точности модели', best_accuracy_dr_downsampled, '>', accuracy_constant)\n",
    "else:\n",
    "    print('Данная модель не проходит тест на адекватность по точности модели', best_accuracy_dr_downsampled, '>', accuracy_constant)\n",
    "print('')\n",
    "\n",
    "print('F1-метрика константной модели:', f1_constant)\n",
    "if best_f1_dr_downsampled >= f1_constant:\n",
    "    print('Данная модель проходит тест на адекватность по точности модели', best_f1_dr_downsampled, '>', f1_constant)\n",
    "else:\n",
    "    print('Данная модель не проходит тест на адекватность по точности модели', best_f1_dr_downsampled, '<', f1_constant)"
   ]
  },
  {
   "cell_type": "markdown",
   "metadata": {},
   "source": [
    "#### Случайный лес"
   ]
  },
  {
   "cell_type": "code",
   "execution_count": 54,
   "metadata": {},
   "outputs": [
    {
     "name": "stdout",
     "output_type": "stream",
     "text": [
      "При количестве деревьев: 1 при глубине: 1 Качество модели 0.8155 F1: 0.2484725050916497\n",
      "При количестве деревьев: 1 при глубине: 3 Качество модели 0.782 F1: 0.29449838187702265\n",
      "При количестве деревьев: 1 при глубине: 5 Качество модели 0.758 F1: 0.5300970873786408\n",
      "При количестве деревьев: 1 при глубине: 7 Качество модели 0.796 F1: 0.5668789808917197\n",
      "При количестве деревьев: 1 при глубине: 9 Качество модели 0.8135 F1: 0.5697808535178778\n",
      "При количестве деревьев: 1 при глубине: 11 Качество модели 0.785 F1: 0.5157657657657657\n",
      "При количестве деревьев: 1 при глубине: 13 Качество модели 0.7675 F1: 0.5026737967914439\n",
      "При количестве деревьев: 1 при глубине: 15 Качество модели 0.7765 F1: 0.5299684542586751\n",
      "При количестве деревьев: 1 при глубине: 17 Качество модели 0.7665 F1: 0.5109947643979057\n",
      "При количестве деревьев: 1 при глубине: 19 Качество модели 0.736 F1: 0.481335952848723\n",
      "При количестве деревьев: 1 при глубине: 21 Качество модели 0.7415 F1: 0.4886251236399605\n",
      "При количестве деревьев: 1 при глубине: 23 Качество модели 0.7495 F1: 0.4974924774322969\n",
      "При количестве деревьев: 1 при глубине: 25 Качество модели 0.7495 F1: 0.4974924774322969\n",
      "При количестве деревьев: 1 при глубине: 27 Качество модели 0.7495 F1: 0.4974924774322969\n",
      "При количестве деревьев: 1 при глубине: 29 Качество модели 0.7495 F1: 0.4974924774322969\n",
      "При количестве деревьев: 1 при глубине: 31 Качество модели 0.7495 F1: 0.4974924774322969\n",
      "При количестве деревьев: 1 при глубине: 33 Качество модели 0.7495 F1: 0.4974924774322969\n",
      "При количестве деревьев: 1 при глубине: 35 Качество модели 0.7495 F1: 0.4974924774322969\n",
      "При количестве деревьев: 1 при глубине: 37 Качество модели 0.7495 F1: 0.4974924774322969\n",
      "При количестве деревьев: 1 при глубине: 39 Качество модели 0.7495 F1: 0.4974924774322969\n",
      "При количестве деревьев: 3 при глубине: 1 Качество модели 0.805 F1: 0.1294642857142857\n",
      "При количестве деревьев: 3 при глубине: 3 Качество модели 0.821 F1: 0.45426829268292684\n",
      "При количестве деревьев: 3 при глубине: 5 Качество модели 0.842 F1: 0.5842105263157895\n",
      "При количестве деревьев: 3 при глубине: 7 Качество модели 0.8365 F1: 0.6007326007326007\n",
      "При количестве деревьев: 3 при глубине: 9 Качество модели 0.831 F1: 0.5677749360613811\n",
      "При количестве деревьев: 3 при глубине: 11 Качество модели 0.813 F1: 0.5691244239631336\n",
      "При количестве деревьев: 3 при глубине: 13 Качество модели 0.7835 F1: 0.5129358830146232\n",
      "При количестве деревьев: 3 при глубине: 15 Качество модели 0.789 F1: 0.5393013100436681\n",
      "При количестве деревьев: 3 при глубине: 17 Качество модели 0.8015 F1: 0.5613259668508287\n",
      "При количестве деревьев: 3 при глубине: 19 Качество модели 0.794 F1: 0.5598290598290598\n",
      "При количестве деревьев: 3 при глубине: 21 Качество модели 0.794 F1: 0.5531453362255966\n",
      "При количестве деревьев: 3 при глубине: 23 Качество модели 0.7885 F1: 0.5397170837867247\n",
      "При количестве деревьев: 3 при глубине: 25 Качество модели 0.7885 F1: 0.5397170837867247\n",
      "При количестве деревьев: 3 при глубине: 27 Качество модели 0.7885 F1: 0.5397170837867247\n",
      "При количестве деревьев: 3 при глубине: 29 Качество модели 0.7885 F1: 0.5397170837867247\n",
      "При количестве деревьев: 3 при глубине: 31 Качество модели 0.7885 F1: 0.5397170837867247\n",
      "При количестве деревьев: 3 при глубине: 33 Качество модели 0.7885 F1: 0.5397170837867247\n",
      "При количестве деревьев: 3 при глубине: 35 Качество модели 0.7885 F1: 0.5397170837867247\n",
      "При количестве деревьев: 3 при глубине: 37 Качество модели 0.7885 F1: 0.5397170837867247\n",
      "При количестве деревьев: 3 при глубине: 39 Качество модели 0.7885 F1: 0.5397170837867247\n",
      "При количестве деревьев: 5 при глубине: 1 Качество модели 0.8155 F1: 0.2484725050916497\n",
      "При количестве деревьев: 5 при глубине: 3 Качество модели 0.829 F1: 0.4722222222222222\n",
      "При количестве деревьев: 5 при глубине: 5 Качество модели 0.845 F1: 0.5931758530183726\n",
      "При количестве деревьев: 5 при глубине: 7 Качество модели 0.846 F1: 0.6030927835051547\n",
      "При количестве деревьев: 5 при глубине: 9 Качество модели 0.834 F1: 0.5961070559610705\n",
      "При количестве деревьев: 5 при глубине: 11 Качество модели 0.828 F1: 0.5865384615384615\n",
      "При количестве деревьев: 5 при глубине: 13 Качество модели 0.815 F1: 0.5717592592592593\n",
      "При количестве деревьев: 5 при глубине: 15 Качество модели 0.8 F1: 0.5525727069351231\n",
      "При количестве деревьев: 5 при глубине: 17 Качество модели 0.8155 F1: 0.577319587628866\n",
      "При количестве деревьев: 5 при глубине: 19 Качество модели 0.7995 F1: 0.56078860898138\n",
      "При количестве деревьев: 5 при глубине: 21 Качество модели 0.8035 F1: 0.5628476084538375\n",
      "При количестве деревьев: 5 при глубине: 23 Качество модели 0.81 F1: 0.5758928571428572\n",
      "При количестве деревьев: 5 при глубине: 25 Качество модели 0.81 F1: 0.5758928571428572\n",
      "При количестве деревьев: 5 при глубине: 27 Качество модели 0.81 F1: 0.5758928571428572\n",
      "При количестве деревьев: 5 при глубине: 29 Качество модели 0.81 F1: 0.5758928571428572\n",
      "При количестве деревьев: 5 при глубине: 31 Качество модели 0.81 F1: 0.5758928571428572\n",
      "При количестве деревьев: 5 при глубине: 33 Качество модели 0.81 F1: 0.5758928571428572\n",
      "При количестве деревьев: 5 при глубине: 35 Качество модели 0.81 F1: 0.5758928571428572\n",
      "При количестве деревьев: 5 при глубине: 37 Качество модели 0.81 F1: 0.5758928571428572\n",
      "При количестве деревьев: 5 при глубине: 39 Качество модели 0.81 F1: 0.5758928571428572\n",
      "При количестве деревьев: 7 при глубине: 1 Качество модели 0.812 F1: 0.2\n",
      "При количестве деревьев: 7 при глубине: 3 Качество модели 0.8345 F1: 0.44369747899159667\n",
      "При количестве деревьев: 7 при глубине: 5 Качество модели 0.845 F1: 0.5910290237467019\n",
      "При количестве деревьев: 7 при глубине: 7 Качество модели 0.8545 F1: 0.6155878467635403\n",
      "При количестве деревьев: 7 при глубине: 9 Качество модели 0.834 F1: 0.5931372549019608\n",
      "При количестве деревьев: 7 при глубине: 11 Качество модели 0.8265 F1: 0.5844311377245509\n",
      "При количестве деревьев: 7 при глубине: 13 Качество модели 0.8255 F1: 0.591812865497076\n",
      "При количестве деревьев: 7 при глубине: 15 Качество модели 0.8135 F1: 0.5746864310148233\n",
      "При количестве деревьев: 7 при глубине: 17 Качество модели 0.824 F1: 0.5906976744186045\n",
      "При количестве деревьев: 7 при глубине: 19 Качество модели 0.813 F1: 0.5769230769230769\n",
      "При количестве деревьев: 7 при глубине: 21 Качество модели 0.821 F1: 0.57981220657277\n",
      "При количестве деревьев: 7 при глубине: 23 Качество модели 0.8115 F1: 0.5671641791044776\n",
      "При количестве деревьев: 7 при глубине: 25 Качество модели 0.8115 F1: 0.5671641791044776\n",
      "При количестве деревьев: 7 при глубине: 27 Качество модели 0.8115 F1: 0.5671641791044776\n",
      "При количестве деревьев: 7 при глубине: 29 Качество модели 0.8115 F1: 0.5671641791044776\n",
      "При количестве деревьев: 7 при глубине: 31 Качество модели 0.8115 F1: 0.5671641791044776\n",
      "При количестве деревьев: 7 при глубине: 33 Качество модели 0.8115 F1: 0.5671641791044776\n",
      "При количестве деревьев: 7 при глубине: 35 Качество модели 0.8115 F1: 0.5671641791044776\n",
      "При количестве деревьев: 7 при глубине: 37 Качество модели 0.8115 F1: 0.5671641791044776\n",
      "При количестве деревьев: 7 при глубине: 39 Качество модели 0.8115 F1: 0.5671641791044776\n",
      "При количестве деревьев: 9 при глубине: 1 Качество модели 0.812 F1: 0.2\n",
      "При количестве деревьев: 9 при глубине: 3 Качество модели 0.85 F1: 0.5384615384615384\n",
      "При количестве деревьев: 9 при глубине: 5 Качество модели 0.8505 F1: 0.6008010680907877\n",
      "При количестве деревьев: 9 при глубине: 7 Качество модели 0.858 F1: 0.6263157894736843\n",
      "При количестве деревьев: 9 при глубине: 9 Качество модели 0.8445 F1: 0.6088050314465409\n",
      "При количестве деревьев: 9 при глубине: 11 Качество модели 0.838 F1: 0.6039119804400979\n",
      "При количестве деревьев: 9 при глубине: 13 Качество модели 0.8195 F1: 0.5816917728852838\n",
      "При количестве деревьев: 9 при глубине: 15 Качество модели 0.8195 F1: 0.588369441277081\n",
      "При количестве деревьев: 9 при глубине: 17 Качество модели 0.8235 F1: 0.5812574139976275\n",
      "При количестве деревьев: 9 при глубине: 19 Качество модели 0.8185 F1: 0.5764294049008168\n",
      "При количестве деревьев: 9 при глубине: 21 Качество модели 0.818 F1: 0.5727699530516431\n",
      "При количестве деревьев: 9 при глубине: 23 Качество модели 0.823 F1: 0.5835294117647059\n",
      "При количестве деревьев: 9 при глубине: 25 Качество модели 0.823 F1: 0.5835294117647059\n",
      "При количестве деревьев: 9 при глубине: 27 Качество модели 0.823 F1: 0.5835294117647059\n",
      "При количестве деревьев: 9 при глубине: 29 Качество модели 0.823 F1: 0.5835294117647059\n",
      "При количестве деревьев: 9 при глубине: 31 Качество модели 0.823 F1: 0.5835294117647059\n",
      "При количестве деревьев: 9 при глубине: 33 Качество модели 0.823 F1: 0.5835294117647059\n",
      "При количестве деревьев: 9 при глубине: 35 Качество модели 0.823 F1: 0.5835294117647059\n",
      "При количестве деревьев: 9 при глубине: 37 Качество модели 0.823 F1: 0.5835294117647059\n",
      "При количестве деревьев: 9 при глубине: 39 Качество модели 0.823 F1: 0.5835294117647059\n",
      "При количестве деревьев: 11 при глубине: 1 Качество модели 0.8035 F1: 0.11685393258426965\n",
      "При количестве деревьев: 11 при глубине: 3 Качество модели 0.847 F1: 0.5321100917431192\n",
      "При количестве деревьев: 11 при глубине: 5 Качество модели 0.8515 F1: 0.6055776892430279\n",
      "При количестве деревьев: 11 при глубине: 7 Качество модели 0.8545 F1: 0.6135458167330677\n",
      "При количестве деревьев: 11 при глубине: 9 Качество модели 0.846 F1: 0.6061381074168798\n",
      "При количестве деревьев: 11 при глубине: 11 Качество модели 0.8385 F1: 0.6007416563658838\n",
      "При количестве деревьев: 11 при глубине: 13 Качество модели 0.828 F1: 0.5904761904761905\n",
      "При количестве деревьев: 11 при глубине: 15 Качество модели 0.826 F1: 0.5953488372093023\n",
      "При количестве деревьев: 11 при глубине: 17 Качество модели 0.8245 F1: 0.5806451612903226\n",
      "При количестве деревьев: 11 при глубине: 19 Качество модели 0.8275 F1: 0.5926800472255018\n",
      "При количестве деревьев: 11 при глубине: 21 Качество модели 0.82 F1: 0.5734597156398104\n",
      "При количестве деревьев: 11 при глубине: 23 Качество модели 0.8275 F1: 0.5945945945945945\n",
      "При количестве деревьев: 11 при глубине: 25 Качество модели 0.8275 F1: 0.5945945945945945\n",
      "При количестве деревьев: 11 при глубине: 27 Качество модели 0.8275 F1: 0.5945945945945945\n",
      "При количестве деревьев: 11 при глубине: 29 Качество модели 0.8275 F1: 0.5945945945945945\n",
      "При количестве деревьев: 11 при глубине: 31 Качество модели 0.8275 F1: 0.5945945945945945\n",
      "При количестве деревьев: 11 при глубине: 33 Качество модели 0.8275 F1: 0.5945945945945945\n",
      "При количестве деревьев: 11 при глубине: 35 Качество модели 0.8275 F1: 0.5945945945945945\n",
      "При количестве деревьев: 11 при глубине: 37 Качество модели 0.8275 F1: 0.5945945945945945\n",
      "При количестве деревьев: 11 при глубине: 39 Качество модели 0.8275 F1: 0.5945945945945945\n",
      "При количестве деревьев: 13 при глубине: 1 Качество модели 0.8145 F1: 0.2254697286012526\n",
      "При количестве деревьев: 13 при глубине: 3 Качество модели 0.8465 F1: 0.5195618153364633\n",
      "При количестве деревьев: 13 при глубине: 5 Качество модели 0.8515 F1: 0.60347129506008\n",
      "При количестве деревьев: 13 при глубине: 7 Качество модели 0.852 F1: 0.6063829787234043\n",
      "При количестве деревьев: 13 при глубине: 9 Качество модели 0.842 F1: 0.5959079283887468\n",
      "При количестве деревьев: 13 при глубине: 11 Качество модели 0.8395 F1: 0.6041923551171393\n",
      "При количестве деревьев: 13 при глубине: 13 Качество модели 0.8355 F1: 0.6002430133657352\n",
      "При количестве деревьев: 13 при глубине: 15 Качество модели 0.829 F1: 0.6023255813953489\n",
      "При количестве деревьев: 13 при глубине: 17 Качество модели 0.822 F1: 0.5751789976133651\n",
      "При количестве деревьев: 13 при глубине: 19 Качество модели 0.827 F1: 0.5880952380952381\n",
      "При количестве деревьев: 13 при глубине: 21 Качество модели 0.832 F1: 0.6\n",
      "При количестве деревьев: 13 при глубине: 23 Качество модели 0.8345 F1: 0.6092089728453364\n",
      "При количестве деревьев: 13 при глубине: 25 Качество модели 0.8335 F1: 0.6049822064056939\n",
      "При количестве деревьев: 13 при глубине: 27 Качество модели 0.8335 F1: 0.6049822064056939\n",
      "При количестве деревьев: 13 при глубине: 29 Качество модели 0.8335 F1: 0.6049822064056939\n",
      "При количестве деревьев: 13 при глубине: 31 Качество модели 0.8335 F1: 0.6049822064056939\n",
      "При количестве деревьев: 13 при глубине: 33 Качество модели 0.8335 F1: 0.6049822064056939\n",
      "При количестве деревьев: 13 при глубине: 35 Качество модели 0.8335 F1: 0.6049822064056939\n",
      "При количестве деревьев: 13 при глубине: 37 Качество модели 0.8335 F1: 0.6049822064056939\n",
      "При количестве деревьев: 13 при глубине: 39 Качество модели 0.8335 F1: 0.6049822064056939\n",
      "При количестве деревьев: 15 при глубине: 1 Качество модели 0.8045 F1: 0.12527964205816555\n",
      "При количестве деревьев: 15 при глубине: 3 Качество модели 0.8455 F1: 0.5267993874425727\n",
      "При количестве деревьев: 15 при глубине: 5 Качество модели 0.853 F1: 0.606951871657754\n",
      "При количестве деревьев: 15 при глубине: 7 Качество модели 0.8535 F1: 0.6119205298013245\n",
      "При количестве деревьев: 15 при глубине: 9 Качество модели 0.846 F1: 0.6061381074168798\n",
      "При количестве деревьев: 15 при глубине: 11 Качество модели 0.8435 F1: 0.6178266178266177\n",
      "При количестве деревьев: 15 при глубине: 13 Качество модели 0.829 F1: 0.5909090909090909\n",
      "При количестве деревьев: 15 при глубине: 15 Качество модели 0.8265 F1: 0.5969802555168409\n",
      "При количестве деревьев: 15 при глубине: 17 Качество модели 0.8335 F1: 0.6021505376344086\n",
      "При количестве деревьев: 15 при глубине: 19 Качество модели 0.825 F1: 0.5843230403800475\n",
      "При количестве деревьев: 15 при глубине: 21 Качество модели 0.832 F1: 0.5990453460620525\n",
      "При количестве деревьев: 15 при глубине: 23 Качество модели 0.8325 F1: 0.6063454759106933\n",
      "При количестве деревьев: 15 при глубине: 25 Качество модели 0.83 F1: 0.5990566037735849\n",
      "При количестве деревьев: 15 при глубине: 27 Качество модели 0.83 F1: 0.5990566037735849\n",
      "При количестве деревьев: 15 при глубине: 29 Качество модели 0.83 F1: 0.5990566037735849\n",
      "При количестве деревьев: 15 при глубине: 31 Качество модели 0.83 F1: 0.5990566037735849\n",
      "При количестве деревьев: 15 при глубине: 33 Качество модели 0.83 F1: 0.5990566037735849\n",
      "При количестве деревьев: 15 при глубине: 35 Качество модели 0.83 F1: 0.5990566037735849\n",
      "При количестве деревьев: 15 при глубине: 37 Качество модели 0.83 F1: 0.5990566037735849\n",
      "При количестве деревьев: 15 при глубине: 39 Качество модели 0.83 F1: 0.5990566037735849\n",
      "При количестве деревьев: 17 при глубине: 1 Качество модели 0.8035 F1: 0.11685393258426965\n",
      "При количестве деревьев: 17 при глубине: 3 Качество модели 0.8485 F1: 0.5537555228276878\n",
      "При количестве деревьев: 17 при глубине: 5 Качество модели 0.853 F1: 0.6048387096774194\n",
      "При количестве деревьев: 17 при глубине: 7 Качество модели 0.8525 F1: 0.6040268456375839\n",
      "При количестве деревьев: 17 при глубине: 9 Качество модели 0.843 F1: 0.6005089058524172\n",
      "При количестве деревьев: 17 при глубине: 11 Качество модели 0.841 F1: 0.6015037593984962\n",
      "При количестве деревьев: 17 при глубине: 13 Качество модели 0.828 F1: 0.5845410628019323\n",
      "При количестве деревьев: 17 при глубине: 15 Качество модели 0.831 F1: 0.6014150943396227\n",
      "При количестве деревьев: 17 при глубине: 17 Качество модели 0.835 F1: 0.60431654676259\n",
      "При количестве деревьев: 17 при глубине: 19 Качество модели 0.8305 F1: 0.589090909090909\n",
      "При количестве деревьев: 17 при глубине: 21 Качество модели 0.835 F1: 0.6090047393364929\n",
      "При количестве деревьев: 17 при глубине: 23 Качество модели 0.8375 F1: 0.60984393757503\n",
      "При количестве деревьев: 17 при глубине: 25 Качество модели 0.833 F1: 0.5995203836930455\n",
      "При количестве деревьев: 17 при глубине: 27 Качество модели 0.833 F1: 0.5995203836930455\n",
      "При количестве деревьев: 17 при глубине: 29 Качество модели 0.833 F1: 0.5995203836930455\n",
      "При количестве деревьев: 17 при глубине: 31 Качество модели 0.833 F1: 0.5995203836930455\n",
      "При количестве деревьев: 17 при глубине: 33 Качество модели 0.833 F1: 0.5995203836930455\n",
      "При количестве деревьев: 17 при глубине: 35 Качество модели 0.833 F1: 0.5995203836930455\n",
      "При количестве деревьев: 17 при глубине: 37 Качество модели 0.833 F1: 0.5995203836930455\n",
      "При количестве деревьев: 17 при глубине: 39 Качество модели 0.833 F1: 0.5995203836930455\n",
      "При количестве деревьев: 19 при глубине: 1 Качество модели 0.8015 F1: 0.09567198177676536\n",
      "При количестве деревьев: 19 при глубине: 3 Качество модели 0.8485 F1: 0.5511111111111111\n",
      "При количестве деревьев: 19 при глубине: 5 Качество модели 0.857 F1: 0.6135135135135135\n",
      "При количестве деревьев: 19 при глубине: 7 Качество модели 0.854 F1: 0.6137566137566137\n",
      "При количестве деревьев: 19 при глубине: 9 Качество модели 0.844 F1: 0.6040609137055838\n",
      "При количестве деревьев: 19 при глубине: 11 Качество модели 0.8465 F1: 0.6186335403726708\n",
      "При количестве деревьев: 19 при глубине: 13 Качество модели 0.8295 F1: 0.5856622114216281\n",
      "При количестве деревьев: 19 при глубине: 15 Качество модели 0.833 F1: 0.6052009456264774\n",
      "При количестве деревьев: 19 при глубине: 17 Качество модели 0.837 F1: 0.608173076923077\n",
      "При количестве деревьев: 19 при глубине: 19 Качество модели 0.8295 F1: 0.5876662636033857\n",
      "При количестве деревьев: 19 при глубине: 21 Качество модели 0.835 F1: 0.6062052505966585\n",
      "При количестве деревьев: 19 при глубине: 23 Качество модели 0.8315 F1: 0.5983313468414779\n",
      "При количестве деревьев: 19 при глубине: 25 Качество модели 0.831 F1: 0.5966587112171838\n",
      "При количестве деревьев: 19 при глубине: 27 Качество модели 0.831 F1: 0.5966587112171838\n",
      "При количестве деревьев: 19 при глубине: 29 Качество модели 0.831 F1: 0.5966587112171838\n",
      "При количестве деревьев: 19 при глубине: 31 Качество модели 0.831 F1: 0.5966587112171838\n",
      "При количестве деревьев: 19 при глубине: 33 Качество модели 0.831 F1: 0.5966587112171838\n",
      "При количестве деревьев: 19 при глубине: 35 Качество модели 0.831 F1: 0.5966587112171838\n",
      "При количестве деревьев: 19 при глубине: 37 Качество модели 0.831 F1: 0.5966587112171838\n",
      "При количестве деревьев: 19 при глубине: 39 Качество модели 0.831 F1: 0.5966587112171838\n",
      "При количестве деревьев: 21 при глубине: 1 Качество модели 0.8015 F1: 0.09567198177676536\n",
      "При количестве деревьев: 21 при глубине: 3 Качество модели 0.8515 F1: 0.5493171471927163\n",
      "При количестве деревьев: 21 при глубине: 5 Качество модели 0.8535 F1: 0.598079561042524\n",
      "При количестве деревьев: 21 при глубине: 7 Качество модели 0.8565 F1: 0.6157965194109772\n",
      "При количестве деревьев: 21 при глубине: 9 Качество модели 0.8485 F1: 0.61003861003861\n",
      "При количестве деревьев: 21 при глубине: 11 Качество модели 0.847 F1: 0.6184538653366582\n",
      "При количестве деревьев: 21 при глубине: 13 Качество модели 0.8325 F1: 0.5919610231425092\n",
      "При количестве деревьев: 21 при глубине: 15 Качество модели 0.8345 F1: 0.6035928143712576\n",
      "При количестве деревьев: 21 при глубине: 17 Качество модели 0.8315 F1: 0.5934861278648974\n",
      "При количестве деревьев: 21 при глубине: 19 Качество модели 0.832 F1: 0.5922330097087379\n",
      "При количестве деревьев: 21 при глубине: 21 Качество модели 0.8365 F1: 0.6055488540410132\n",
      "При количестве деревьев: 21 при глубине: 23 Качество модели 0.833 F1: 0.5985576923076923\n",
      "При количестве деревьев: 21 при глубине: 25 Качество модели 0.8315 F1: 0.5954381752701081\n",
      "При количестве деревьев: 21 при глубине: 27 Качество модели 0.8315 F1: 0.5954381752701081\n",
      "При количестве деревьев: 21 при глубине: 29 Качество модели 0.8315 F1: 0.5954381752701081\n",
      "При количестве деревьев: 21 при глубине: 31 Качество модели 0.8315 F1: 0.5954381752701081\n",
      "При количестве деревьев: 21 при глубине: 33 Качество модели 0.8315 F1: 0.5954381752701081\n",
      "При количестве деревьев: 21 при глубине: 35 Качество модели 0.8315 F1: 0.5954381752701081\n",
      "При количестве деревьев: 21 при глубине: 37 Качество модели 0.8315 F1: 0.5954381752701081\n",
      "При количестве деревьев: 21 при глубине: 39 Качество модели 0.8315 F1: 0.5954381752701081\n",
      "При количестве деревьев: 23 при глубине: 1 Качество модели 0.8005 F1: 0.08695652173913045\n",
      "При количестве деревьев: 23 при глубине: 3 Качество модели 0.8475 F1: 0.5256609642301712\n",
      "При количестве деревьев: 23 при глубине: 5 Качество модели 0.8555 F1: 0.6013793103448275\n",
      "При количестве деревьев: 23 при глубине: 7 Качество модели 0.8555 F1: 0.6099865047233469\n",
      "При количестве деревьев: 23 при глубине: 9 Качество модели 0.8475 F1: 0.6064516129032258\n",
      "При количестве деревьев: 23 при глубине: 11 Качество модели 0.848 F1: 0.6209476309226933\n",
      "При количестве деревьев: 23 при глубине: 13 Качество модели 0.8355 F1: 0.5982905982905984\n",
      "При количестве деревьев: 23 при глубине: 15 Качество модели 0.8345 F1: 0.6073546856465006\n",
      "При количестве деревьев: 23 при глубине: 17 Качество модели 0.836 F1: 0.602905569007264\n",
      "При количестве деревьев: 23 при глубине: 19 Качество модели 0.834 F1: 0.5980629539951574\n",
      "При количестве деревьев: 23 при глубине: 21 Качество модели 0.839 F1: 0.6139088729016786\n",
      "При количестве деревьев: 23 при глубине: 23 Качество модели 0.838 F1: 0.6124401913875598\n",
      "При количестве деревьев: 23 при глубине: 25 Качество модели 0.8365 F1: 0.6064981949458484\n",
      "При количестве деревьев: 23 при глубине: 27 Качество модели 0.8365 F1: 0.6064981949458484\n",
      "При количестве деревьев: 23 при глубине: 29 Качество модели 0.8365 F1: 0.6064981949458484\n",
      "При количестве деревьев: 23 при глубине: 31 Качество модели 0.8365 F1: 0.6064981949458484\n",
      "При количестве деревьев: 23 при глубине: 33 Качество модели 0.8365 F1: 0.6064981949458484\n",
      "При количестве деревьев: 23 при глубине: 35 Качество модели 0.8365 F1: 0.6064981949458484\n",
      "При количестве деревьев: 23 при глубине: 37 Качество модели 0.8365 F1: 0.6064981949458484\n",
      "При количестве деревьев: 23 при глубине: 39 Качество модели 0.8365 F1: 0.6064981949458484\n",
      "При количестве деревьев: 25 при глубине: 1 Качество модели 0.8015 F1: 0.09567198177676536\n",
      "При количестве деревьев: 25 при глубине: 3 Качество модели 0.845 F1: 0.5201238390092878\n",
      "При количестве деревьев: 25 при глубине: 5 Качество модели 0.8525 F1: 0.5942228335625859\n",
      "При количестве деревьев: 25 при глубине: 7 Качество модели 0.852 F1: 0.6053333333333333\n",
      "При количестве деревьев: 25 при глубине: 9 Качество модели 0.8475 F1: 0.6074646074646074\n",
      "При количестве деревьев: 25 при глубине: 11 Качество модели 0.85 F1: 0.6231155778894472\n",
      "При количестве деревьев: 25 при глубине: 13 Качество модели 0.833 F1: 0.5946601941747572\n",
      "При количестве деревьев: 25 при глубине: 15 Качество модели 0.8385 F1: 0.6140979689366787\n",
      "При количестве деревьев: 25 при глубине: 17 Качество модели 0.8345 F1: 0.5997581620314388\n",
      "При количестве деревьев: 25 при глубине: 19 Качество модели 0.836 F1: 0.6009732360097323\n",
      "При количестве деревьев: 25 при глубине: 21 Качество модели 0.834 F1: 0.60381861575179\n",
      "При количестве деревьев: 25 при глубине: 23 Качество модели 0.8375 F1: 0.6079613992762365\n",
      "При количестве деревьев: 25 при глубине: 25 Качество модели 0.8355 F1: 0.6078665077473182\n",
      "При количестве деревьев: 25 при глубине: 27 Качество модели 0.8355 F1: 0.6078665077473182\n",
      "При количестве деревьев: 25 при глубине: 29 Качество модели 0.8355 F1: 0.6078665077473182\n",
      "При количестве деревьев: 25 при глубине: 31 Качество модели 0.8355 F1: 0.6078665077473182\n",
      "При количестве деревьев: 25 при глубине: 33 Качество модели 0.8355 F1: 0.6078665077473182\n",
      "При количестве деревьев: 25 при глубине: 35 Качество модели 0.8355 F1: 0.6078665077473182\n",
      "При количестве деревьев: 25 при глубине: 37 Качество модели 0.8355 F1: 0.6078665077473182\n",
      "При количестве деревьев: 25 при глубине: 39 Качество модели 0.8355 F1: 0.6078665077473182\n",
      "При количестве деревьев: 27 при глубине: 1 Качество модели 0.8005 F1: 0.08695652173913045\n",
      "При количестве деревьев: 27 при глубине: 3 Качество модели 0.8455 F1: 0.5296803652968036\n",
      "При количестве деревьев: 27 при глубине: 5 Качество модели 0.853 F1: 0.5972602739726027\n",
      "При количестве деревьев: 27 при глубине: 7 Качество модели 0.8515 F1: 0.6066225165562914\n",
      "При количестве деревьев: 27 при глубине: 9 Качество модели 0.843 F1: 0.59846547314578\n",
      "При количестве деревьев: 27 при глубине: 11 Качество модели 0.8485 F1: 0.6217228464419476\n",
      "При количестве деревьев: 27 при глубине: 13 Качество модели 0.833 F1: 0.5975903614457831\n",
      "При количестве деревьев: 27 при глубине: 15 Качество модели 0.839 F1: 0.6184834123222749\n",
      "При количестве деревьев: 27 при глубине: 17 Качество модели 0.836 F1: 0.6019417475728155\n",
      "При количестве деревьев: 27 при глубине: 19 Качество модели 0.8405 F1: 0.6114494518879415\n",
      "При количестве деревьев: 27 при глубине: 21 Качество модели 0.835 F1: 0.6024096385542168\n",
      "При количестве деревьев: 27 при глубине: 23 Качество модели 0.834 F1: 0.6019184652278178\n",
      "При количестве деревьев: 27 при глубине: 25 Качество модели 0.8345 F1: 0.602641056422569\n",
      "При количестве деревьев: 27 при глубине: 27 Качество модели 0.8345 F1: 0.602641056422569\n",
      "При количестве деревьев: 27 при глубине: 29 Качество модели 0.8345 F1: 0.602641056422569\n",
      "При количестве деревьев: 27 при глубине: 31 Качество модели 0.8345 F1: 0.602641056422569\n",
      "При количестве деревьев: 27 при глубине: 33 Качество модели 0.8345 F1: 0.602641056422569\n",
      "При количестве деревьев: 27 при глубине: 35 Качество модели 0.8345 F1: 0.602641056422569\n",
      "При количестве деревьев: 27 при глубине: 37 Качество модели 0.8345 F1: 0.602641056422569\n",
      "При количестве деревьев: 27 при глубине: 39 Качество модели 0.8345 F1: 0.602641056422569\n",
      "При количестве деревьев: 29 при глубине: 1 Качество модели 0.798 F1: 0.06481481481481481\n",
      "При количестве деревьев: 29 при глубине: 3 Качество модели 0.8455 F1: 0.5238828967642527\n",
      "При количестве деревьев: 29 при глубине: 5 Качество модели 0.852 F1: 0.590027700831025\n",
      "При количестве деревьев: 29 при глубине: 7 Качество модели 0.8495 F1: 0.5981308411214954\n",
      "При количестве деревьев: 29 при глубине: 9 Качество модели 0.8455 F1: 0.6023166023166023\n",
      "При количестве деревьев: 29 при глубине: 11 Качество модели 0.8485 F1: 0.618867924528302\n",
      "При количестве деревьев: 29 при глубине: 13 Качество модели 0.8335 F1: 0.5943970767356882\n",
      "При количестве деревьев: 29 при глубине: 15 Качество модели 0.8385 F1: 0.6159334126040428\n",
      "При количестве деревьев: 29 при глубине: 17 Качество модели 0.836 F1: 0.6019417475728155\n",
      "При количестве деревьев: 29 при глубине: 19 Качество модели 0.84 F1: 0.6097560975609756\n",
      "При количестве деревьев: 29 при глубине: 21 Качество модели 0.8405 F1: 0.6133333333333333\n",
      "При количестве деревьев: 29 при глубине: 23 Качество модели 0.8325 F1: 0.600715137067938\n",
      "При количестве деревьев: 29 при глубине: 25 Качество модели 0.8325 F1: 0.6026097271648874\n",
      "При количестве деревьев: 29 при глубине: 27 Качество модели 0.8325 F1: 0.6026097271648874\n",
      "При количестве деревьев: 29 при глубине: 29 Качество модели 0.8325 F1: 0.6026097271648874\n",
      "При количестве деревьев: 29 при глубине: 31 Качество модели 0.8325 F1: 0.6026097271648874\n",
      "При количестве деревьев: 29 при глубине: 33 Качество модели 0.8325 F1: 0.6026097271648874\n",
      "При количестве деревьев: 29 при глубине: 35 Качество модели 0.8325 F1: 0.6026097271648874\n",
      "При количестве деревьев: 29 при глубине: 37 Качество модели 0.8325 F1: 0.6026097271648874\n",
      "При количестве деревьев: 29 при глубине: 39 Качество модели 0.8325 F1: 0.6026097271648874\n",
      "При количестве деревьев: 31 при глубине: 1 Качество модели 0.797 F1: 0.0558139534883721\n",
      "При количестве деревьев: 31 при глубине: 3 Качество модели 0.845 F1: 0.521604938271605\n",
      "При количестве деревьев: 31 при глубине: 5 Качество модели 0.8545 F1: 0.5963938973647712\n",
      "При количестве деревьев: 31 при глубине: 7 Качество модели 0.8495 F1: 0.600265604249668\n",
      "При количестве деревьев: 31 при глубине: 9 Качество модели 0.8445 F1: 0.6017925736235595\n",
      "При количестве деревьев: 31 при глубине: 11 Качество модели 0.8485 F1: 0.618867924528302\n",
      "При количестве деревьев: 31 при глубине: 13 Качество модели 0.8335 F1: 0.5953827460510328\n",
      "При количестве деревьев: 31 при глубине: 15 Качество модели 0.836 F1: 0.6113744075829384\n",
      "При количестве деревьев: 31 при глубине: 17 Качество модели 0.8365 F1: 0.6026731470230862\n",
      "При количестве деревьев: 31 при глубине: 19 Качество модели 0.8385 F1: 0.6056166056166056\n",
      "При количестве деревьев: 31 при глубине: 21 Качество модели 0.837 F1: 0.608173076923077\n",
      "При количестве деревьев: 31 при глубине: 23 Качество модели 0.834 F1: 0.6019184652278178\n",
      "При количестве деревьев: 31 при глубине: 25 Качество модели 0.8365 F1: 0.6083832335329341\n",
      "При количестве деревьев: 31 при глубине: 27 Качество модели 0.8365 F1: 0.6083832335329341\n",
      "При количестве деревьев: 31 при глубине: 29 Качество модели 0.8365 F1: 0.6083832335329341\n",
      "При количестве деревьев: 31 при глубине: 31 Качество модели 0.8365 F1: 0.6083832335329341\n",
      "При количестве деревьев: 31 при глубине: 33 Качество модели 0.8365 F1: 0.6083832335329341\n",
      "При количестве деревьев: 31 при глубине: 35 Качество модели 0.8365 F1: 0.6083832335329341\n",
      "При количестве деревьев: 31 при глубине: 37 Качество модели 0.8365 F1: 0.6083832335329341\n",
      "При количестве деревьев: 31 при глубине: 39 Качество модели 0.8365 F1: 0.6083832335329341\n",
      "При количестве деревьев: 33 при глубине: 1 Качество модели 0.798 F1: 0.06481481481481481\n",
      "При количестве деревьев: 33 при глубине: 3 Качество модели 0.847 F1: 0.5233644859813085\n",
      "При количестве деревьев: 33 при глубине: 5 Качество модели 0.8545 F1: 0.5986206896551723\n",
      "При количестве деревьев: 33 при глубине: 7 Качество модели 0.85 F1: 0.6\n",
      "При количестве деревьев: 33 при глубине: 9 Качество модели 0.848 F1: 0.6132315521628497\n",
      "При количестве деревьев: 33 при глубине: 11 Качество модели 0.8435 F1: 0.6062893081761006\n",
      "При количестве деревьев: 33 при глубине: 13 Качество модели 0.838 F1: 0.6086956521739132\n",
      "При количестве деревьев: 33 при глубине: 15 Качество модели 0.8395 F1: 0.6164874551971327\n",
      "При количестве деревьев: 33 при глубине: 17 Качество модели 0.837 F1: 0.606280193236715\n",
      "При количестве деревьев: 33 при глубине: 19 Качество модели 0.8425 F1: 0.6153846153846154\n",
      "При количестве деревьев: 33 при глубине: 21 Качество модели 0.8335 F1: 0.6030989272943982\n",
      "При количестве деревьев: 33 при глубине: 23 Качество модели 0.832 F1: 0.5980861244019139\n",
      "При количестве деревьев: 33 при глубине: 25 Качество модели 0.8315 F1: 0.6002372479240807\n",
      "При количестве деревьев: 33 при глубине: 27 Качество модели 0.8315 F1: 0.6002372479240807\n",
      "При количестве деревьев: 33 при глубине: 29 Качество модели 0.8315 F1: 0.6002372479240807\n",
      "При количестве деревьев: 33 при глубине: 31 Качество модели 0.8315 F1: 0.6002372479240807\n",
      "При количестве деревьев: 33 при глубине: 33 Качество модели 0.8315 F1: 0.6002372479240807\n",
      "При количестве деревьев: 33 при глубине: 35 Качество модели 0.8315 F1: 0.6002372479240807\n",
      "При количестве деревьев: 33 при глубине: 37 Качество модели 0.8315 F1: 0.6002372479240807\n",
      "При количестве деревьев: 33 при глубине: 39 Качество модели 0.8315 F1: 0.6002372479240807\n",
      "При количестве деревьев: 35 при глубине: 1 Качество модели 0.8005 F1: 0.08695652173913045\n",
      "При количестве деревьев: 35 при глубине: 3 Качество модели 0.845 F1: 0.523076923076923\n",
      "При количестве деревьев: 35 при глубине: 5 Качество модели 0.852 F1: 0.5922865013774105\n",
      "При количестве деревьев: 35 при глубине: 7 Качество модели 0.8515 F1: 0.6045272969374168\n",
      "При количестве деревьев: 35 при глубине: 9 Качество модели 0.847 F1: 0.608695652173913\n",
      "При количестве деревьев: 35 при глубине: 11 Качество модели 0.8445 F1: 0.6088050314465409\n",
      "При количестве деревьев: 35 при глубине: 13 Качество модели 0.8395 F1: 0.6137184115523466\n",
      "При количестве деревьев: 35 при глубине: 15 Качество модели 0.8415 F1: 0.618531889290012\n",
      "При количестве деревьев: 35 при глубине: 17 Качество модели 0.842 F1: 0.6155717761557178\n",
      "При количестве деревьев: 35 при глубине: 19 Качество модели 0.843 F1: 0.6142506142506143\n",
      "При количестве деревьев: 35 при глубине: 21 Качество модели 0.8335 F1: 0.6030989272943982\n",
      "При количестве деревьев: 35 при глубине: 23 Качество модели 0.8365 F1: 0.6074429771908764\n",
      "При количестве деревьев: 35 при глубине: 25 Качество модели 0.8345 F1: 0.6054827175208581\n",
      "При количестве деревьев: 35 при глубине: 27 Качество модели 0.8345 F1: 0.6054827175208581\n",
      "При количестве деревьев: 35 при глубине: 29 Качество модели 0.8345 F1: 0.6054827175208581\n",
      "При количестве деревьев: 35 при глубине: 31 Качество модели 0.8345 F1: 0.6054827175208581\n",
      "При количестве деревьев: 35 при глубине: 33 Качество модели 0.8345 F1: 0.6054827175208581\n",
      "При количестве деревьев: 35 при глубине: 35 Качество модели 0.8345 F1: 0.6054827175208581\n",
      "При количестве деревьев: 35 при глубине: 37 Качество модели 0.8345 F1: 0.6054827175208581\n",
      "При количестве деревьев: 35 при глубине: 39 Качество модели 0.8345 F1: 0.6054827175208581\n",
      "При количестве деревьев: 37 при глубине: 1 Качество модели 0.8015 F1: 0.09567198177676536\n",
      "При количестве деревьев: 37 при глубине: 3 Качество модели 0.8485 F1: 0.5316846986089644\n",
      "При количестве деревьев: 37 при глубине: 5 Качество модели 0.8555 F1: 0.6002766251728906\n",
      "При количестве деревьев: 37 при глубине: 7 Качество модели 0.8515 F1: 0.60347129506008\n",
      "При количестве деревьев: 37 при глубине: 9 Качество модели 0.8475 F1: 0.6094750320102432\n",
      "При количестве деревьев: 37 при глубине: 11 Качество модели 0.846 F1: 0.6130653266331658\n",
      "При количестве деревьев: 37 при глубине: 13 Качество модели 0.84 F1: 0.6125907990314771\n",
      "При количестве деревьев: 37 при глубине: 15 Качество модели 0.844 F1: 0.62227602905569\n",
      "При количестве деревьев: 37 при глубине: 17 Качество модели 0.84 F1: 0.607843137254902\n",
      "При количестве деревьев: 37 при глубине: 19 Качество модели 0.8435 F1: 0.6131025957972805\n",
      "При количестве деревьев: 37 при глубине: 21 Качество модели 0.837 F1: 0.6091127098321343\n",
      "При количестве деревьев: 37 при глубине: 23 Качество модели 0.837 F1: 0.606280193236715\n",
      "При количестве деревьев: 37 при глубине: 25 Качество модели 0.836 F1: 0.6076555023923444\n",
      "При количестве деревьев: 37 при глубине: 27 Качество модели 0.836 F1: 0.6076555023923444\n",
      "При количестве деревьев: 37 при глубине: 29 Качество модели 0.836 F1: 0.6076555023923444\n",
      "При количестве деревьев: 37 при глубине: 31 Качество модели 0.836 F1: 0.6076555023923444\n",
      "При количестве деревьев: 37 при глубине: 33 Качество модели 0.836 F1: 0.6076555023923444\n",
      "При количестве деревьев: 37 при глубине: 35 Качество модели 0.836 F1: 0.6076555023923444\n",
      "При количестве деревьев: 37 при глубине: 37 Качество модели 0.836 F1: 0.6076555023923444\n",
      "При количестве деревьев: 37 при глубине: 39 Качество модели 0.836 F1: 0.6076555023923444\n",
      "При количестве деревьев: 39 при глубине: 1 Качество модели 0.8015 F1: 0.09567198177676536\n",
      "При количестве деревьев: 39 при глубине: 3 Качество модели 0.8465 F1: 0.5210608424336974\n",
      "При количестве деревьев: 39 при глубине: 5 Качество модели 0.853 F1: 0.5950413223140496\n",
      "При количестве деревьев: 39 при глубине: 7 Качество модели 0.852 F1: 0.6042780748663102\n",
      "При количестве деревьев: 39 при глубине: 9 Качество модели 0.8465 F1: 0.6079182630906769\n",
      "При количестве деревьев: 39 при глубине: 11 Качество модели 0.8465 F1: 0.6128625472887769\n",
      "При количестве деревьев: 39 при глубине: 13 Качество модели 0.838 F1: 0.6077481840193705\n",
      "При количестве деревьев: 39 при глубине: 15 Качество модели 0.8415 F1: 0.6166868198307135\n",
      "При количестве деревьев: 39 при глубине: 17 Качество модели 0.842 F1: 0.6127450980392157\n",
      "При количестве деревьев: 39 при глубине: 19 Качество модели 0.8455 F1: 0.6171003717472119\n",
      "При количестве деревьев: 39 при глубине: 21 Качество модели 0.8355 F1: 0.6040914560770155\n",
      "При количестве деревьев: 39 при глубине: 23 Качество модели 0.8355 F1: 0.6021765417170496\n",
      "При количестве деревьев: 39 при глубине: 25 Качество модели 0.8385 F1: 0.6131736526946108\n",
      "При количестве деревьев: 39 при глубине: 27 Качество модели 0.8385 F1: 0.6131736526946108\n",
      "При количестве деревьев: 39 при глубине: 29 Качество модели 0.8385 F1: 0.6131736526946108\n",
      "При количестве деревьев: 39 при глубине: 31 Качество модели 0.8385 F1: 0.6131736526946108\n",
      "При количестве деревьев: 39 при глубине: 33 Качество модели 0.8385 F1: 0.6131736526946108\n",
      "При количестве деревьев: 39 при глубине: 35 Качество модели 0.8385 F1: 0.6131736526946108\n",
      "При количестве деревьев: 39 при глубине: 37 Качество модели 0.8385 F1: 0.6131736526946108\n",
      "При количестве деревьев: 39 при глубине: 39 Качество модели 0.8385 F1: 0.6131736526946108\n",
      "При количестве деревьев: 41 при глубине: 1 Качество модели 0.8015 F1: 0.09567198177676536\n",
      "При количестве деревьев: 41 при глубине: 3 Качество модели 0.851 F1: 0.5525525525525525\n",
      "При количестве деревьев: 41 при глубине: 5 Качество модели 0.8525 F1: 0.593103448275862\n",
      "При количестве деревьев: 41 при глубине: 7 Качество модели 0.8515 F1: 0.6055776892430279\n",
      "При количестве деревьев: 41 при глубине: 9 Качество модели 0.849 F1: 0.6118251928020565\n",
      "При количестве деревьев: 41 при глубине: 11 Качество модели 0.848 F1: 0.6180904522613065\n",
      "При количестве деревьев: 41 при глубине: 13 Качество модели 0.8405 F1: 0.6142684401451026\n",
      "При количестве деревьев: 41 при глубине: 15 Качество модели 0.841 F1: 0.6140776699029126\n",
      "При количестве деревьев: 41 при глубине: 17 Качество модели 0.8415 F1: 0.6119951040391677\n",
      "При количестве деревьев: 41 при глубине: 19 Качество модели 0.8395 F1: 0.6041923551171393\n",
      "При количестве деревьев: 41 при глубине: 21 Качество модели 0.836 F1: 0.6057692307692308\n",
      "При количестве деревьев: 41 при глубине: 23 Качество модели 0.837 F1: 0.606280193236715\n",
      "При количестве деревьев: 41 при глубине: 25 Качество модели 0.837 F1: 0.608173076923077\n",
      "При количестве деревьев: 41 при глубине: 27 Качество модели 0.837 F1: 0.608173076923077\n",
      "При количестве деревьев: 41 при глубине: 29 Качество модели 0.837 F1: 0.608173076923077\n",
      "При количестве деревьев: 41 при глубине: 31 Качество модели 0.837 F1: 0.608173076923077\n",
      "При количестве деревьев: 41 при глубине: 33 Качество модели 0.837 F1: 0.608173076923077\n",
      "При количестве деревьев: 41 при глубине: 35 Качество модели 0.837 F1: 0.608173076923077\n",
      "При количестве деревьев: 41 при глубине: 37 Качество модели 0.837 F1: 0.608173076923077\n",
      "При количестве деревьев: 41 при глубине: 39 Качество модели 0.837 F1: 0.608173076923077\n",
      "При количестве деревьев: 43 при глубине: 1 Качество модели 0.8015 F1: 0.09567198177676536\n",
      "При количестве деревьев: 43 при глубине: 3 Качество модели 0.8505 F1: 0.5490196078431373\n",
      "При количестве деревьев: 43 при глубине: 5 Качество модели 0.853 F1: 0.5939226519337016\n",
      "При количестве деревьев: 43 при глубине: 7 Качество модели 0.85 F1: 0.6021220159151195\n",
      "При количестве деревьев: 43 при глубине: 9 Качество модели 0.8525 F1: 0.6193548387096773\n",
      "При количестве деревьев: 43 при глубине: 11 Качество модели 0.8475 F1: 0.6192259675405742\n",
      "При количестве деревьев: 43 при глубине: 13 Качество модели 0.8415 F1: 0.6157575757575757\n",
      "При количестве деревьев: 43 при глубине: 15 Качество модели 0.843 F1: 0.6216867469879518\n",
      "При количестве деревьев: 43 при глубине: 17 Качество модели 0.843 F1: 0.6151960784313725\n",
      "При количестве деревьев: 43 при глубине: 19 Качество модели 0.8405 F1: 0.6056860321384425\n",
      "При количестве деревьев: 43 при глубине: 21 Качество модели 0.837 F1: 0.608173076923077\n",
      "При количестве деревьев: 43 при глубине: 23 Качество модели 0.84 F1: 0.6135265700483091\n",
      "При количестве деревьев: 43 при глубине: 25 Качество модели 0.84 F1: 0.6153846153846154\n",
      "При количестве деревьев: 43 при глубине: 27 Качество модели 0.84 F1: 0.6153846153846154\n",
      "При количестве деревьев: 43 при глубине: 29 Качество модели 0.84 F1: 0.6153846153846154\n",
      "При количестве деревьев: 43 при глубине: 31 Качество модели 0.84 F1: 0.6153846153846154\n",
      "При количестве деревьев: 43 при глубине: 33 Качество модели 0.84 F1: 0.6153846153846154\n",
      "При количестве деревьев: 43 при глубине: 35 Качество модели 0.84 F1: 0.6153846153846154\n",
      "При количестве деревьев: 43 при глубине: 37 Качество модели 0.84 F1: 0.6153846153846154\n",
      "При количестве деревьев: 43 при глубине: 39 Качество модели 0.84 F1: 0.6153846153846154\n",
      "При количестве деревьев: 45 при глубине: 1 Качество модели 0.8015 F1: 0.09567198177676536\n",
      "При количестве деревьев: 45 при глубине: 3 Качество модели 0.852 F1: 0.5542168674698796\n",
      "При количестве деревьев: 45 при глубине: 5 Качество модели 0.853 F1: 0.5950413223140496\n",
      "При количестве деревьев: 45 при глубине: 7 Качество модели 0.851 F1: 0.6026666666666667\n",
      "При количестве деревьев: 45 при глубине: 9 Качество модели 0.8505 F1: 0.6141935483870967\n",
      "При количестве деревьев: 45 при глубине: 11 Качество модели 0.848 F1: 0.6190476190476191\n",
      "При количестве деревьев: 45 при глубине: 13 Качество модели 0.8415 F1: 0.614823815309842\n",
      "При количестве деревьев: 45 при глубине: 15 Качество модели 0.843 F1: 0.6180048661800486\n",
      "При количестве деревьев: 45 при глубине: 17 Качество модели 0.8455 F1: 0.6199261992619925\n",
      "При количестве деревьев: 45 при глубине: 19 Качество модели 0.8405 F1: 0.6066584463625154\n",
      "При количестве деревьев: 45 при глубине: 21 Качество модели 0.8375 F1: 0.6079613992762365\n",
      "При количестве деревьев: 45 при глубине: 23 Качество модели 0.8425 F1: 0.6153846153846154\n",
      "При количестве деревьев: 45 при глубине: 25 Качество модели 0.8425 F1: 0.6200241254523523\n",
      "При количестве деревьев: 45 при глубине: 27 Качество модели 0.8425 F1: 0.6200241254523523\n",
      "При количестве деревьев: 45 при глубине: 29 Качество модели 0.8425 F1: 0.6200241254523523\n",
      "При количестве деревьев: 45 при глубине: 31 Качество модели 0.8425 F1: 0.6200241254523523\n",
      "При количестве деревьев: 45 при глубине: 33 Качество модели 0.8425 F1: 0.6200241254523523\n",
      "При количестве деревьев: 45 при глубине: 35 Качество модели 0.8425 F1: 0.6200241254523523\n",
      "При количестве деревьев: 45 при глубине: 37 Качество модели 0.8425 F1: 0.6200241254523523\n",
      "При количестве деревьев: 45 при глубине: 39 Качество модели 0.8425 F1: 0.6200241254523523\n",
      "При количестве деревьев: 47 при глубине: 1 Качество модели 0.8015 F1: 0.09567198177676536\n",
      "При количестве деревьев: 47 при глубине: 3 Качество модели 0.8515 F1: 0.5612998522895125\n",
      "При количестве деревьев: 47 при глубине: 5 Качество модели 0.8535 F1: 0.594744121715076\n",
      "При количестве деревьев: 47 при глубине: 7 Качество модели 0.851 F1: 0.6047745358090186\n",
      "При количестве деревьев: 47 при глубине: 9 Качество модели 0.851 F1: 0.6169665809768637\n",
      "При количестве деревьев: 47 при глубине: 11 Качество модели 0.8495 F1: 0.6223337515683814\n",
      "При количестве деревьев: 47 при глубине: 13 Качество модели 0.8395 F1: 0.610909090909091\n",
      "При количестве деревьев: 47 при глубине: 15 Качество модели 0.8405 F1: 0.6114494518879415\n",
      "При количестве деревьев: 47 при глубине: 17 Качество модели 0.8465 F1: 0.6214549938347719\n",
      "При количестве деревьев: 47 при глубине: 19 Качество модели 0.8395 F1: 0.6070991432068543\n",
      "При количестве деревьев: 47 при глубине: 21 Качество модели 0.8375 F1: 0.6060606060606061\n",
      "При количестве деревьев: 47 при глубине: 23 Качество модели 0.8395 F1: 0.6099635479951397\n",
      "При количестве деревьев: 47 при глубине: 25 Качество модели 0.843 F1: 0.6216867469879518\n",
      "При количестве деревьев: 47 при глубине: 27 Качество модели 0.843 F1: 0.6216867469879518\n",
      "При количестве деревьев: 47 при глубине: 29 Качество модели 0.843 F1: 0.6216867469879518\n",
      "При количестве деревьев: 47 при глубине: 31 Качество модели 0.843 F1: 0.6216867469879518\n",
      "При количестве деревьев: 47 при глубине: 33 Качество модели 0.843 F1: 0.6216867469879518\n",
      "При количестве деревьев: 47 при глубине: 35 Качество модели 0.843 F1: 0.6216867469879518\n",
      "При количестве деревьев: 47 при глубине: 37 Качество модели 0.843 F1: 0.6216867469879518\n",
      "При количестве деревьев: 47 при глубине: 39 Качество модели 0.843 F1: 0.6216867469879518\n",
      "При количестве деревьев: 49 при глубине: 1 Качество модели 0.8015 F1: 0.09567198177676536\n",
      "При количестве деревьев: 49 при глубине: 3 Качество модели 0.853 F1: 0.5714285714285714\n",
      "При количестве деревьев: 49 при глубине: 5 Качество модели 0.8505 F1: 0.5864453665283541\n",
      "При количестве деревьев: 49 при глубине: 7 Качество модели 0.855 F1: 0.6133333333333334\n",
      "При количестве деревьев: 49 при глубине: 9 Качество модели 0.8515 F1: 0.616774193548387\n",
      "При количестве деревьев: 49 при глубине: 11 Качество модели 0.849 F1: 0.6186868686868687\n",
      "При количестве деревьев: 49 при глубине: 13 Качество модели 0.841 F1: 0.6150121065375302\n",
      "При количестве деревьев: 49 при глубине: 15 Качество модели 0.841 F1: 0.613138686131387\n",
      "При количестве деревьев: 49 при глубине: 17 Качество модели 0.844 F1: 0.6157635467980296\n",
      "При количестве деревьев: 49 при глубине: 19 Качество модели 0.8385 F1: 0.6046511627906977\n",
      "При количестве деревьев: 49 при глубине: 21 Качество модели 0.8385 F1: 0.6056166056166056\n",
      "При количестве деревьев: 49 при глубине: 23 Качество модели 0.839 F1: 0.6092233009708737\n",
      "При количестве деревьев: 49 при глубине: 25 Качество модели 0.843 F1: 0.6198547215496367\n",
      "При количестве деревьев: 49 при глубине: 27 Качество модели 0.843 F1: 0.6198547215496367\n",
      "При количестве деревьев: 49 при глубине: 29 Качество модели 0.843 F1: 0.6198547215496367\n",
      "При количестве деревьев: 49 при глубине: 31 Качество модели 0.843 F1: 0.6198547215496367\n",
      "При количестве деревьев: 49 при глубине: 33 Качество модели 0.843 F1: 0.6198547215496367\n",
      "При количестве деревьев: 49 при глубине: 35 Качество модели 0.843 F1: 0.6198547215496367\n",
      "При количестве деревьев: 49 при глубине: 37 Качество модели 0.843 F1: 0.6198547215496367\n",
      "При количестве деревьев: 49 при глубине: 39 Качество модели 0.843 F1: 0.6198547215496367\n",
      "\n",
      "Лучший результат качества модели: 0.858 при количестве деревьев 9 при глубине: 7 F1: 0.6263157894736843\n",
      "\n",
      "Точность константной модели: 0.791\n",
      "Данная модель проходит тест на адекватность по точности модели 0.858 > 0.791\n",
      "\n",
      "F1-метрика константной модели: 0.59\n",
      "Данная модель проходит тест на адекватность по точности модели 0.6263157894736843 > 0.59\n",
      "CPU times: user 52.4 s, sys: 503 ms, total: 52.9 s\n",
      "Wall time: 53.4 s\n"
     ]
    }
   ],
   "source": [
    "%%time\n",
    "\n",
    "best_model_sl_downsampled = None\n",
    "best_accuracy_sl_downsampled = 0\n",
    "best_n_estimators_sl_downsampled = 0\n",
    "best_depth_sl_downsampled = 0\n",
    "best_f1_sl_downsampled = 0\n",
    "\n",
    "\n",
    "for est in range (1, 50, 2):\n",
    "    for depth in range (1, 40, 2):\n",
    "        model = RandomForestClassifier(random_state=12345, max_depth=depth, n_estimators = est)\n",
    "        model.fit(features_downsampled, target_downsampled)\n",
    "        prediction_sl_downsampled = model.predict(features_valid)\n",
    "        accuracy_sl_downsampled = accuracy_score(target_valid, prediction_sl_downsampled)\n",
    "        f1_sl_downsampled = f1_score(target_valid, prediction_sl_downsampled)\n",
    "        if f1_sl_downsampled > best_f1_sl_downsampled:\n",
    "            best_model_sl_downsampled = model\n",
    "            best_depth_sl_downsampled = depth\n",
    "            best_accuracy_sl_downsampled = accuracy_sl_downsampled\n",
    "            best_f1_sl_downsampled = f1_sl_downsampled\n",
    "            best_n_estimators_sl_downsampled = est\n",
    "        print('При количестве деревьев:', est, 'при глубине:', depth, 'Качество модели', accuracy_sl_downsampled, 'F1:', f1_sl_downsampled)\n",
    "print('')\n",
    "print(\"Лучший результат качества модели:\", best_accuracy_sl_downsampled,\n",
    "      'при количестве деревьев', best_n_estimators_sl_downsampled, 'при глубине:', best_depth_sl_downsampled, 'F1:', best_f1_sl_downsampled)\n",
    "print('')\n",
    "\n",
    "print('Точность константной модели:', accuracy_constant) \n",
    "if best_accuracy_sl_downsampled >= accuracy_constant:\n",
    "    print('Данная модель проходит тест на адекватность по точности модели', best_accuracy_sl_downsampled, '>', accuracy_constant)\n",
    "else:\n",
    "    print('Данная модель не проходит тест на адекватность по точности модели', best_accuracy_sl_downsampled, '>', accuracy_constant)\n",
    "print('')\n",
    "\n",
    "print('F1-метрика константной модели:', f1_constant)\n",
    "if best_f1_sl_downsampled >= f1_constant:\n",
    "    print('Данная модель проходит тест на адекватность по точности модели', best_f1_sl_downsampled, '>', f1_constant)\n",
    "else:\n",
    "    print('Данная модель не проходит тест на адекватность по точности модели', best_f1_sl_downsampled, '<', f1_constant)"
   ]
  },
  {
   "cell_type": "markdown",
   "metadata": {},
   "source": [
    "#### Логистическая регрессия"
   ]
  },
  {
   "cell_type": "code",
   "execution_count": 55,
   "metadata": {
    "scrolled": true
   },
   "outputs": [
    {
     "name": "stdout",
     "output_type": "stream",
     "text": [
      "Качество модели: 0.7815 F1: 0.4664224664224664\n",
      "\n",
      "Точность константной модели: 0.791\n",
      "Данная модель не проходит тест на адекватность по точности модели 0.7815 < 0.791\n",
      "\n",
      "F1-метрика константной модели: 0.59\n",
      "Данная модель не проходит тест на адекватность по точности модели 0.4664224664224664 < 0.59\n",
      "CPU times: user 170 ms, sys: 359 ms, total: 529 ms\n",
      "Wall time: 454 ms\n"
     ]
    }
   ],
   "source": [
    "%%time\n",
    "\n",
    "\n",
    "model = LogisticRegression(random_state=12345, solver='lbfgs')\n",
    "model.fit(features_downsampled, target_downsampled)\n",
    "prediction_lr_downsampled = model.predict(features_valid)\n",
    "accuracy_lr_downsampled = accuracy_score(target_valid, prediction_lr_downsampled)\n",
    "f1_lr_downsampled = f1_score(target_valid, prediction_lr_downsampled)\n",
    "print(\"Качество модели:\", accuracy_lr_downsampled, 'F1:', f1_lr_downsampled)\n",
    "print('')\n",
    "\n",
    "print('Точность константной модели:', accuracy_constant) \n",
    "if accuracy_lr_downsampled >= accuracy_constant:\n",
    "    print('Данная модель проходит тест на адекватность по точности модели', accuracy_lr_downsampled, '>', accuracy_constant)\n",
    "else:\n",
    "    print('Данная модель не проходит тест на адекватность по точности модели', accuracy_lr_downsampled, '<', accuracy_constant)\n",
    "print('')\n",
    "\n",
    "print('F1-метрика константной модели:', f1_constant)\n",
    "if f1_lr_downsampled >= f1_constant:\n",
    "    print('Данная модель проходит тест на адекватность по точности модели', f1_lr_downsampled, '>', f1_constant)\n",
    "else:\n",
    "    print('Данная модель не проходит тест на адекватность по точности модели', f1_lr_downsampled, '<', f1_constant)"
   ]
  },
  {
   "cell_type": "markdown",
   "metadata": {},
   "source": [
    "#### Лучшие показатели для трех моделей"
   ]
  },
  {
   "cell_type": "code",
   "execution_count": 56,
   "metadata": {
    "scrolled": true
   },
   "outputs": [
    {
     "name": "stdout",
     "output_type": "stream",
     "text": [
      "Дерево решений: Качество модели: 0.822 при глубине: 7 F1: 0.585\n",
      "Случайный лес: Качество модели: 0.858 при количестве деревьев: 9 при глубине: 7 F1: 0.626\n",
      "Логистическая регрессия: Качество модели: 0.782 F1: 0.466\n"
     ]
    }
   ],
   "source": [
    "print('Дерево решений:', 'Качество модели:', round(best_accuracy_dr_downsampled, 3), \"при глубине:\", best_depth_dr_downsampled, 'F1:', round(best_f1_dr_downsampled, 3))\n",
    "print('Случайный лес:', 'Качество модели:', round(best_accuracy_sl_downsampled, 3), \n",
    "      \"при количестве деревьев:\", best_n_estimators_sl_downsampled, 'при глубине:', best_depth_sl_downsampled, 'F1:', round(best_f1_sl_downsampled, 3))\n",
    "print('Логистическая регрессия:', 'Качество модели:', round(accuracy_lr_downsampled, 3), 'F1:', round(f1_lr_downsampled, 3))"
   ]
  },
  {
   "cell_type": "markdown",
   "metadata": {},
   "source": [
    "#### Проведем оценку `accuracy`, `precision` и `recall`"
   ]
  },
  {
   "cell_type": "code",
   "execution_count": 57,
   "metadata": {
    "scrolled": true
   },
   "outputs": [
    {
     "name": "stdout",
     "output_type": "stream",
     "text": [
      "Дерево решений\n",
      "Качество модели 0.821\n",
      "Точность модели 0.5678733031674208\n",
      "Плотность  0.6004784688995215\n",
      "F1-мера 0.5837209302325581\n",
      "\n",
      "Случайный лес\n",
      "Качество модели 0.858\n",
      "Точность модели 0.695906432748538\n",
      "Плотность  0.569377990430622\n",
      "F1-мера 0.6263157894736843\n",
      "\n",
      "Логистическая регрессия\n",
      "Качество модели 0.7815\n",
      "Точность модели 0.4763092269326683\n",
      "Плотность  0.4569377990430622\n",
      "F1-мера 0.4664224664224664\n",
      "\n"
     ]
    }
   ],
   "source": [
    "# Дерево решений:\n",
    "\n",
    "model = DecisionTreeClassifier(random_state=12345, max_depth=8)\n",
    "model.fit(features_downsampled, target_downsampled)\n",
    "prediction_dr_downsampled = model.predict(features_valid)\n",
    "accuracy_dr_downsampled = accuracy_score(target_valid, prediction_dr_downsampled)\n",
    "f1_dr_downsampled = f1_score(target_valid, prediction_dr_downsampled)\n",
    "precision_dr_downsampled = precision_score(target_valid, prediction_dr_downsampled)\n",
    "recall_dr_downsampled = recall_score(target_valid, prediction_dr_downsampled)\n",
    "print('Дерево решений')\n",
    "print('Качество модели', accuracy_dr_downsampled)\n",
    "print('Точность модели', precision_dr_downsampled)\n",
    "print('Плотность ', recall_dr_downsampled)\n",
    "print('F1-мера', f1_dr_downsampled)\n",
    "print()\n",
    "\n",
    "# Случайный лес:\n",
    "\n",
    "model = RandomForestClassifier(random_state=12345, n_estimators = 9, max_depth = 7)\n",
    "model.fit(features_downsampled, target_downsampled)\n",
    "prediction_sl_downsampled = model.predict(features_valid)\n",
    "accuracy_sl_downsampled = accuracy_score(target_valid, prediction_sl_downsampled)\n",
    "f1_sl_downsampled = f1_score(target_valid, prediction_sl_downsampled)\n",
    "precision_sl_downsampled = precision_score(target_valid, prediction_sl_downsampled)\n",
    "recall_sl_downsampled = recall_score(target_valid, prediction_sl_downsampled)\n",
    "print('Случайный лес')\n",
    "print('Качество модели', accuracy_sl_downsampled)\n",
    "print('Точность модели', precision_sl_downsampled)\n",
    "print('Плотность ', recall_sl_downsampled)\n",
    "print('F1-мера', f1_sl_downsampled)\n",
    "print()\n",
    "\n",
    "# Логистическая регрессия:\n",
    "\n",
    "model = LogisticRegression(random_state=12345, solver='lbfgs')\n",
    "model.fit(features_downsampled, target_downsampled)\n",
    "prediction_lr_downsampled = model.predict(features_valid)\n",
    "accuracy_lr_downsampled = accuracy_score(target_valid, prediction_lr_downsampled)\n",
    "f1_lr_downsampled = f1_score(target_valid, prediction_lr_downsampled)\n",
    "precision_lr_downsampled = precision_score(target_valid, prediction_lr_downsampled)\n",
    "recall_lr_downsampled = recall_score(target_valid, prediction_lr_downsampled)\n",
    "print('Логистическая регрессия')\n",
    "print('Качество модели', accuracy_lr_downsampled)\n",
    "print('Точность модели', precision_lr_downsampled)\n",
    "print('Плотность ', recall_lr_downsampled)\n",
    "print('F1-мера', f1_lr_downsampled)\n",
    "print()"
   ]
  },
  {
   "cell_type": "markdown",
   "metadata": {},
   "source": [
    "#### График ROC, а так же метра AUC-ROC"
   ]
  },
  {
   "cell_type": "code",
   "execution_count": 58,
   "metadata": {},
   "outputs": [
    {
     "name": "stdout",
     "output_type": "stream",
     "text": [
      "AUC-ROC Деревая решения: 0.7858897041477386\n",
      "AUC-ROC Случайного леса: 0.8462797682057115\n",
      "AUC-ROC Логистической регрессии: 0.7613432212873293\n"
     ]
    },
    {
     "data": {
      "image/png": "[encoded data removed]",
      "text/plain": [
       "<Figure size 864x648 with 1 Axes>"
      ]
     },
     "metadata": {
      "needs_background": "light"
     },
     "output_type": "display_data"
    }
   ],
   "source": [
    "plt.figure(figsize=[12,9])\n",
    "\n",
    "plt.plot([0, 1], [0, 1], linestyle='--', label='RandomModel')\n",
    "\n",
    "\n",
    "# Дерево решений:\n",
    "\n",
    "model = DecisionTreeClassifier(random_state=12345, max_depth=8)\n",
    "model.fit(features_downsampled, target_downsampled)\n",
    "predict_proba_dr_downsampled = model.predict_proba(features_valid)\n",
    "predict_proba_dr_one_downsampled = predict_proba_dr_downsampled[:, 1]\n",
    "auc_roc_dr_downsampled = roc_auc_score(target_valid, predict_proba_dr_one_downsampled)\n",
    "fpr_dr_downsampled, tpr_dr_downsampled, thresholds_dr_downsampled = roc_curve(target_valid, predict_proba_dr_one_downsampled)\n",
    "plt.plot(fpr_dr_downsampled, tpr_dr_downsampled, label='Дерево решений')\n",
    "print('AUC-ROC Деревая решения:', auc_roc_dr_downsampled)\n",
    "\n",
    "# Случайный лес:\n",
    "\n",
    "model = RandomForestClassifier(random_state=12345, n_estimators = 9, max_depth = 7)\n",
    "model.fit(features_downsampled, target_downsampled)\n",
    "predict_proba_sl_downsampled = model.predict_proba(features_valid)\n",
    "predict_proba_sl_one_downsampled = predict_proba_sl_downsampled[:, 1]\n",
    "auc_roc_sl_downsampled = roc_auc_score(target_valid, predict_proba_sl_one_downsampled)\n",
    "fpr_sl_downsampled, tpr_sl_downsampled, thresholds_sl_downsampled = roc_curve(target_valid, predict_proba_sl_one_downsampled)\n",
    "plt.plot(fpr_sl_downsampled, tpr_sl_downsampled, label='Случайный лес')\n",
    "print('AUC-ROC Случайного леса:', auc_roc_sl_downsampled)\n",
    "\n",
    "# Логистическая регрессия:\n",
    "\n",
    "model = LogisticRegression(random_state=12345, solver='lbfgs')\n",
    "model.fit(features_downsampled, target_downsampled)\n",
    "predict_proba_lr_downsampled = model.predict_proba(features_valid)\n",
    "predict_proba_lr_one_downsampled = predict_proba_lr_downsampled[:, 1]\n",
    "auc_roc_lr_downsampled = roc_auc_score(target_valid, predict_proba_lr_one_downsampled)\n",
    "fpr_lr_downsampled, tpr_lr_downsampled, thresholds_lr_downsampled = roc_curve(target_valid, predict_proba_lr_one_downsampled)\n",
    "plt.plot(fpr_lr_downsampled, tpr_lr_downsampled, label='Логистическая регрессия')\n",
    "print('AUC-ROC Логистической регрессии:', auc_roc_lr_downsampled)\n",
    "\n",
    "plt.xlim([0,1])\n",
    "plt.ylim([0,1])\n",
    "\n",
    "plt.xlabel(\"FPR\")\n",
    "plt.ylabel(\"TPR\")\n",
    "\n",
    "plt.legend(loc='lower right')\n",
    "\n",
    "plt.title(\"ROC-кривая\")\n",
    "plt.show()"
   ]
  },
  {
   "cell_type": "markdown",
   "metadata": {},
   "source": [
    "Как мы можем заметить по графику и по моделям, показатели F1-метрика - 0,626 и AUC-ROC - 0,846 лучше всего у модели \"Случайного леса\""
   ]
  },
  {
   "cell_type": "markdown",
   "metadata": {},
   "source": [
    "### Сравнение моделей"
   ]
  },
  {
   "cell_type": "markdown",
   "metadata": {},
   "source": [
    "Сравненим клечевые данные всех моделей по балансировке и выберем, какую модель мы будем использовать для тестирования модели"
   ]
  },
  {
   "cell_type": "code",
   "execution_count": 59,
   "metadata": {
    "scrolled": false
   },
   "outputs": [
    {
     "name": "stdout",
     "output_type": "stream",
     "text": [
      "Название                                               | Accuracy | F1_score | Precision | Reacall | AUC-ROC |\n",
      "--------------------------------------------------------------------------------------------------------------\n",
      "Константная модель                                        0.791      0.590   \n",
      "Модель дерева решений, несбалансированная                 0.850      0.579       0.701      0.493     0.790   \n",
      "Модель случайного леса, несбалансированная                0.865      0.605       0.778      0.495     0.835   \n",
      "Модель логической регрессии, несбалансированная           0.802      0.334       0.566      0.237     0.759   \n",
      "--------------------------------------------------------------------------------------------------------------\n",
      "Модель дерева решений, взвешенная                         0.850      0.579       0.537      0.670     0.831   \n",
      "Модель случайного леса, взвешенная                        0.837      0.630       0.657      0.569     0.850   \n",
      "Модель линейной регрессии, взвешенная                     0.701      0.489       0.380      0.684     0.763   \n",
      "--------------------------------------------------------------------------------------------------------------\n",
      "Модель дерева решений, увеличенная                        0.810      0.596       0.537      0.670     0.831   \n",
      "Модель случайного леса, увеличенная                       0.848      0.633       0.637      0.629     0.844   \n",
      "Модель линейной регрессии, увеличенная                    0.701      0.489       0.380      0.684     0.763   \n",
      "--------------------------------------------------------------------------------------------------------------\n",
      "Модель дерева решений, уменьшенная                        0.822      0.585       0.568      0.600     0.786   \n",
      "Модель случайного леса, уменьшенная                       0.858      0.626       0.696      0.569     0.846   \n",
      "Модель линейной регрессии, уменьшенная                    0.781      0.466       0.476      0.457     0.761   \n"
     ]
    }
   ],
   "source": [
    "print('Название                                               | Accuracy | F1_score | Precision | Reacall | AUC-ROC |')\n",
    "print('--------------------------------------------------------------------------------------------------------------')\n",
    "print('Константная модель                                        {: <8.3f}   {: <8.3f}'\n",
    "      .format(accuracy_constant, f1_constant))\n",
    "print('Модель дерева решений, несбалансированная                 {: <8.3f}   {: <8.3f}    {: <8.3f}   {: <8.3f}  {: <8.3f}'\n",
    "      .format(best_accuracy_dr, best_f1_dr, precision_dr, recall_dr, auc_roc_dr))\n",
    "print('Модель случайного леса, несбалансированная                {: <8.3f}   {: <8.3f}    {: <8.3f}   {: <8.3f}  {: <8.3f}'\n",
    "      .format(best_accuracy_sl, best_f1_sl, precision_sl, recall_sl, auc_roc_sl))\n",
    "print('Модель логической регрессии, несбалансированная           {: <8.3f}   {: <8.3f}    {: <8.3f}   {: <8.3f}  {: <8.3f}'\n",
    "      .format(accuracy_lr, f1_lr, precision_lr, recall_lr, auc_roc_lr)) \n",
    "print('--------------------------------------------------------------------------------------------------------------')\n",
    "print('Модель дерева решений, взвешенная                         {: <8.3f}   {: <8.3f}    {: <8.3f}   {: <8.3f}  {: <8.3f}'\n",
    "      .format(best_accuracy_dr_balanced, best_f1_dr_balanced, precision_dr_balanced, recall_dr_balanced, auc_roc_dr_balanced))\n",
    "print('Модель случайного леса, взвешенная                        {: <8.3f}   {: <8.3f}    {: <8.3f}   {: <8.3f}  {: <8.3f}'\n",
    "      .format(best_accuracy_sl_balanced, best_f1_sl_balanced, precision_sl_balanced, recall_sl_balanced, auc_roc_sl_balanced))\n",
    "print('Модель линейной регрессии, взвешенная                     {: <8.3f}   {: <8.3f}    {: <8.3f}   {: <8.3f}  {: <8.3f}'\n",
    "      .format(accuracy_lr_balanced, f1_lr_balanced, precision_lr_balanced, recall_lr_balanced, auc_roc_lr_balanced))\n",
    "print('--------------------------------------------------------------------------------------------------------------')\n",
    "print('Модель дерева решений, увеличенная                        {: <8.3f}   {: <8.3f}    {: <8.3f}   {: <8.3f}  {: <8.3f}'\n",
    "      .format(best_accuracy_dr_upsampled, best_f1_dr_upsampled, precision_dr_upsampled, recall_dr_upsampled, auc_roc_dr_upsampled))\n",
    "print('Модель случайного леса, увеличенная                       {: <8.3f}   {: <8.3f}    {: <8.3f}   {: <8.3f}  {: <8.3f}'\n",
    "      .format(best_accuracy_sl_upsampled, best_f1_sl_upsampled, precision_sl_upsampled, recall_sl_upsampled, auc_roc_sl_upsampled))\n",
    "print('Модель линейной регрессии, увеличенная                    {: <8.3f}   {: <8.3f}    {: <8.3f}   {: <8.3f}  {: <8.3f}'\n",
    "      .format(accuracy_lr_upsampled, f1_lr_upsampled, precision_lr_upsampled, recall_lr_upsampled, auc_roc_lr_upsampled))\n",
    "print('--------------------------------------------------------------------------------------------------------------')\n",
    "print('Модель дерева решений, уменьшенная                        {: <8.3f}   {: <8.3f}    {: <8.3f}   {: <8.3f}  {: <8.3f}'\n",
    "      .format(best_accuracy_dr_downsampled, best_f1_dr_downsampled, precision_dr_downsampled, recall_dr_downsampled, auc_roc_dr_downsampled))\n",
    "print('Модель случайного леса, уменьшенная                       {: <8.3f}   {: <8.3f}    {: <8.3f}   {: <8.3f}  {: <8.3f}'\n",
    "      .format(best_accuracy_sl_downsampled, best_f1_sl_downsampled, precision_sl_downsampled, recall_sl_downsampled, auc_roc_sl_downsampled))\n",
    "print('Модель линейной регрессии, уменьшенная                    {: <8.3f}   {: <8.3f}    {: <8.3f}   {: <8.3f}  {: <8.3f}'\n",
    "      .format(accuracy_lr_downsampled, f1_lr_downsampled, precision_lr_downsampled, recall_lr_downsampled, auc_roc_lr_downsampled))"
   ]
  },
  {
   "cell_type": "markdown",
   "metadata": {},
   "source": [
    "Использовав 3 разные модели, с учетом борьбы с дисбалансом получили улучшение метрик, предаставленные в таблице"
   ]
  },
  {
   "cell_type": "markdown",
   "metadata": {},
   "source": [
    "Как мы можем видеть, лучшие результаты F1-метрики показывает модель случайного лес, с увеличением доли редкого класса.\n",
    "лучшие результаты метрики AUC-ROC и Precision у модели случайного с гиперпараметром class_weight='balanced'"
   ]
  },
  {
   "cell_type": "markdown",
   "metadata": {},
   "source": [
    "Так как модель случайного леса с применением гиперпараметра \"balanced\" на показала очень хороший результат, а также является очень простой в использовании моделью, поэтому при тестировании модели, будем использовать ее."
   ]
  },
  {
   "cell_type": "markdown",
   "metadata": {},
   "source": [
    "## Тестирование модели"
   ]
  },
  {
   "cell_type": "code",
   "execution_count": 60,
   "metadata": {
    "scrolled": false
   },
   "outputs": [
    {
     "name": "stdout",
     "output_type": "stream",
     "text": [
      "Качество модели: 0.827\n",
      "F1-метрика: 0.614\n",
      "Точность модели: 0.581\n",
      "Плотность: 0.650\n",
      "AUC-ROC-метрика: 0.854\n"
     ]
    },
    {
     "data": {
      "image/png": "[encoded data removed]",
      "text/plain": [
       "<Figure size 432x288 with 1 Axes>"
      ]
     },
     "metadata": {
      "needs_background": "light"
     },
     "output_type": "display_data"
    }
   ],
   "source": [
    "model = RandomForestClassifier(random_state=12345, max_depth=9, n_estimators = 47, class_weight='balanced')\n",
    "model.fit(features_train, target_train)\n",
    "prediction_sl_train = model.predict(features_test)\n",
    "accuracy_sl_train = accuracy_score(target_test, prediction_sl_train)\n",
    "f1_sl_train = f1_score(target_test, prediction_sl_train)\n",
    "precision_sl_train = precision_score(target_test, prediction_sl_train)\n",
    "recall_sl_train = recall_score(target_test, prediction_sl_train)\n",
    "predict_proba_sl_train = model.predict_proba(features_test)\n",
    "predict_proba_sl_one_train = predict_proba_sl_train[:, 1]\n",
    "auc_roc_sl_train = roc_auc_score(target_test, predict_proba_sl_one_train)\n",
    "fpr_sl_train, tpr_sl_train, thresholds_sl_train = roc_curve(target_test, predict_proba_sl_one_train)\n",
    "\n",
    "print('Качество модели: {:.3f}'.format(accuracy_sl_train))\n",
    "print('F1-метрика: {:.3f}'.format(f1_sl_train))\n",
    "print('Точность модели: {:.3f}'.format(precision_sl_train))\n",
    "print('Плотность: {:.3f}'.format(recall_sl_train))\n",
    "print('AUC-ROC-метрика: {:.3f}'.format(auc_roc_sl_train))\n",
    "\n",
    "\n",
    "\n",
    "\n",
    "plt.figure()\n",
    "plt.plot(fpr_sl_train, tpr_sl_train)\n",
    "plt.plot([0, 1], [0, 1], linestyle='--')\n",
    "plt.xlim([0.0, 1.0])\n",
    "plt.ylim([0.0, 1.0])\n",
    "plt.xlabel('False Positive Rate')\n",
    "plt.ylabel('True Positive Rate')\n",
    "plt.title('ROC-кривая')\n",
    "plt.show()"
   ]
  },
  {
   "cell_type": "markdown",
   "metadata": {},
   "source": [
    "## Вывод"
   ]
  },
  {
   "cell_type": "markdown",
   "metadata": {},
   "source": [
    "* Нами был проведен первичный анализ данных, выявлен явный дисбаланс классов 1:4;\n",
    "* Произвели предобработку данных, заполнили пропуски в столбце `tenure` , преобразовали категориальные признаки в численные техникой прямого кодирования,\n",
    "* Для обучения были применены 3 модели: \"Дерево решений\", \"Случайный лес\", Логистическая регрессия\"\n",
    "* Далее были применены методы, для борьбы с дисбалансом: \n",
    "    1. Гиперпараметр class_weight='balanced'\n",
    "    \n",
    "    2. Подбор киперпараметров с увеличением доли редкого класса - upsampling\n",
    "    \n",
    "    3. Подбор киперпараметров с уменьшением доли частого класса - downsample\n",
    "    \n",
    "    \n",
    "* Как мы можем видеть, лучшие результаты F1-метрики показывает модель случайного лес, с увеличением доли редкого класса. Лучшие результаты метрики AUC-ROC и Precision у модели случайного с гиперпараметром class_weight='balanced'\n",
    "* Проверка на тестовой выборке подтверждает, что downsampling помог справиться с дисбалансом классов и удалось увеличить метрику f1 до 61.4%, AUC-ROC до 0.854, Качество модели упала до 0.827, точность упала до 0.581 в то время как плотность выросла до 0.650.\n",
    "* Модель старается собрать больше данных, чем показать верную точность (recall > precision). Процент попадания в классы достаточно высокий."
   ]
  }
 ],
 "metadata": {
  "ExecuteTimeLog": [
   {
    "duration": 1447,
    "start_time": "2022-06-22T07:03:19.369Z"
   },
   {
    "duration": 100,
    "start_time": "2022-06-22T07:03:42.165Z"
   },
   {
    "duration": 160,
    "start_time": "2022-06-22T07:03:56.465Z"
   },
   {
    "duration": 17,
    "start_time": "2022-06-22T07:04:04.787Z"
   },
   {
    "duration": 12,
    "start_time": "2022-06-22T07:06:07.213Z"
   },
   {
    "duration": 9,
    "start_time": "2022-06-22T07:06:12.218Z"
   },
   {
    "duration": 10,
    "start_time": "2022-06-22T07:07:29.263Z"
   },
   {
    "duration": 13,
    "start_time": "2022-06-22T07:07:48.901Z"
   },
   {
    "duration": 13,
    "start_time": "2022-06-22T07:08:00.337Z"
   },
   {
    "duration": 2,
    "start_time": "2022-06-22T07:09:20.502Z"
   },
   {
    "duration": 12,
    "start_time": "2022-06-22T07:09:27.238Z"
   },
   {
    "duration": 12,
    "start_time": "2022-06-22T07:09:34.376Z"
   },
   {
    "duration": 4,
    "start_time": "2022-06-22T07:09:36.986Z"
   },
   {
    "duration": 14,
    "start_time": "2022-06-22T07:09:46.080Z"
   },
   {
    "duration": 11,
    "start_time": "2022-06-22T07:11:30.964Z"
   },
   {
    "duration": 15,
    "start_time": "2022-06-22T07:14:12.223Z"
   },
   {
    "duration": 13,
    "start_time": "2022-06-22T07:14:19.100Z"
   },
   {
    "duration": 13,
    "start_time": "2022-06-22T07:14:37.877Z"
   },
   {
    "duration": 42,
    "start_time": "2022-06-22T07:14:47.996Z"
   },
   {
    "duration": 11,
    "start_time": "2022-06-22T07:20:11.498Z"
   },
   {
    "duration": 4,
    "start_time": "2022-06-22T07:20:18.659Z"
   },
   {
    "duration": 4,
    "start_time": "2022-06-22T07:20:27.632Z"
   },
   {
    "duration": 13,
    "start_time": "2022-06-22T07:20:50.832Z"
   },
   {
    "duration": 12,
    "start_time": "2022-06-22T07:21:21.274Z"
   },
   {
    "duration": 36,
    "start_time": "2022-06-22T07:21:29.824Z"
   },
   {
    "duration": 1306,
    "start_time": "2022-06-22T07:21:34.405Z"
   },
   {
    "duration": 38,
    "start_time": "2022-06-22T07:21:35.713Z"
   },
   {
    "duration": 18,
    "start_time": "2022-06-22T07:21:35.752Z"
   },
   {
    "duration": 11,
    "start_time": "2022-06-22T07:21:35.772Z"
   },
   {
    "duration": 41,
    "start_time": "2022-06-22T07:21:35.785Z"
   },
   {
    "duration": 2,
    "start_time": "2022-06-22T07:21:35.828Z"
   },
   {
    "duration": 7,
    "start_time": "2022-06-22T07:21:35.832Z"
   },
   {
    "duration": 14,
    "start_time": "2022-06-22T07:21:35.841Z"
   },
   {
    "duration": 11,
    "start_time": "2022-06-22T07:21:35.857Z"
   },
   {
    "duration": 58,
    "start_time": "2022-06-22T07:21:35.870Z"
   },
   {
    "duration": 3,
    "start_time": "2022-06-22T07:21:35.930Z"
   },
   {
    "duration": 7,
    "start_time": "2022-06-22T07:21:35.935Z"
   },
   {
    "duration": 14,
    "start_time": "2022-06-22T07:21:35.944Z"
   },
   {
    "duration": 112,
    "start_time": "2022-06-22T07:24:55.537Z"
   },
   {
    "duration": 14,
    "start_time": "2022-06-22T07:25:05.298Z"
   },
   {
    "duration": 1261,
    "start_time": "2022-06-22T07:25:09.233Z"
   },
   {
    "duration": 39,
    "start_time": "2022-06-22T07:25:10.496Z"
   },
   {
    "duration": 19,
    "start_time": "2022-06-22T07:25:10.537Z"
   },
   {
    "duration": 13,
    "start_time": "2022-06-22T07:25:10.559Z"
   },
   {
    "duration": 21,
    "start_time": "2022-06-22T07:25:10.574Z"
   },
   {
    "duration": 25,
    "start_time": "2022-06-22T07:25:10.597Z"
   },
   {
    "duration": 46,
    "start_time": "2022-06-22T07:25:10.625Z"
   },
   {
    "duration": 3,
    "start_time": "2022-06-22T07:25:10.673Z"
   },
   {
    "duration": 19,
    "start_time": "2022-06-22T07:25:10.678Z"
   },
   {
    "duration": 129,
    "start_time": "2022-06-22T07:25:10.700Z"
   },
   {
    "duration": 0,
    "start_time": "2022-06-22T07:25:10.831Z"
   },
   {
    "duration": 0,
    "start_time": "2022-06-22T07:25:10.832Z"
   },
   {
    "duration": 0,
    "start_time": "2022-06-22T07:25:10.833Z"
   },
   {
    "duration": 0,
    "start_time": "2022-06-22T07:25:10.834Z"
   },
   {
    "duration": 11,
    "start_time": "2022-06-22T07:25:33.335Z"
   },
   {
    "duration": 12,
    "start_time": "2022-06-22T07:25:37.164Z"
   },
   {
    "duration": 6,
    "start_time": "2022-06-22T07:25:37.897Z"
   },
   {
    "duration": 5,
    "start_time": "2022-06-22T07:25:38.426Z"
   },
   {
    "duration": 12,
    "start_time": "2022-06-22T07:25:38.806Z"
   },
   {
    "duration": 16,
    "start_time": "2022-06-22T07:27:03.618Z"
   },
   {
    "duration": 18,
    "start_time": "2022-06-22T07:27:06.970Z"
   },
   {
    "duration": 1224,
    "start_time": "2022-06-22T07:30:00.403Z"
   },
   {
    "duration": 1293,
    "start_time": "2022-06-22T07:30:07.568Z"
   },
   {
    "duration": 45,
    "start_time": "2022-06-22T07:30:08.863Z"
   },
   {
    "duration": 19,
    "start_time": "2022-06-22T07:30:08.909Z"
   },
   {
    "duration": 4,
    "start_time": "2022-06-22T07:30:08.930Z"
   },
   {
    "duration": 29,
    "start_time": "2022-06-22T07:30:08.936Z"
   },
   {
    "duration": 26,
    "start_time": "2022-06-22T07:30:08.966Z"
   },
   {
    "duration": 39,
    "start_time": "2022-06-22T07:30:08.994Z"
   },
   {
    "duration": 8,
    "start_time": "2022-06-22T07:30:09.034Z"
   },
   {
    "duration": 20,
    "start_time": "2022-06-22T07:30:09.044Z"
   },
   {
    "duration": 34,
    "start_time": "2022-06-22T07:30:09.066Z"
   },
   {
    "duration": 22,
    "start_time": "2022-06-22T07:30:09.102Z"
   },
   {
    "duration": 17,
    "start_time": "2022-06-22T07:30:09.126Z"
   },
   {
    "duration": 21,
    "start_time": "2022-06-22T07:30:09.144Z"
   },
   {
    "duration": 12,
    "start_time": "2022-06-22T07:30:09.168Z"
   },
   {
    "duration": 18,
    "start_time": "2022-06-22T07:30:09.181Z"
   },
   {
    "duration": 109,
    "start_time": "2022-06-22T07:30:09.201Z"
   },
   {
    "duration": 1230,
    "start_time": "2022-06-22T07:34:52.376Z"
   },
   {
    "duration": 7,
    "start_time": "2022-06-22T07:34:55.974Z"
   },
   {
    "duration": 30,
    "start_time": "2022-06-22T07:39:13.399Z"
   },
   {
    "duration": 29,
    "start_time": "2022-06-22T07:39:19.893Z"
   },
   {
    "duration": 4,
    "start_time": "2022-06-22T07:47:03.388Z"
   },
   {
    "duration": 6,
    "start_time": "2022-06-22T07:47:11.442Z"
   },
   {
    "duration": 9,
    "start_time": "2022-06-22T07:47:26.826Z"
   },
   {
    "duration": 4,
    "start_time": "2022-06-22T07:47:50.810Z"
   },
   {
    "duration": 4,
    "start_time": "2022-06-22T07:47:58.531Z"
   },
   {
    "duration": 1327,
    "start_time": "2022-06-22T07:48:03.675Z"
   },
   {
    "duration": 40,
    "start_time": "2022-06-22T07:48:05.004Z"
   },
   {
    "duration": 19,
    "start_time": "2022-06-22T07:48:05.046Z"
   },
   {
    "duration": 5,
    "start_time": "2022-06-22T07:48:05.066Z"
   },
   {
    "duration": 15,
    "start_time": "2022-06-22T07:48:05.073Z"
   },
   {
    "duration": 18,
    "start_time": "2022-06-22T07:48:05.090Z"
   },
   {
    "duration": 47,
    "start_time": "2022-06-22T07:48:05.109Z"
   },
   {
    "duration": 7,
    "start_time": "2022-06-22T07:48:05.158Z"
   },
   {
    "duration": 6,
    "start_time": "2022-06-22T07:48:05.166Z"
   },
   {
    "duration": 7,
    "start_time": "2022-06-22T07:48:05.174Z"
   },
   {
    "duration": 12,
    "start_time": "2022-06-22T07:48:05.183Z"
   },
   {
    "duration": 36,
    "start_time": "2022-06-22T07:48:05.197Z"
   },
   {
    "duration": 8,
    "start_time": "2022-06-22T07:48:05.235Z"
   },
   {
    "duration": 7,
    "start_time": "2022-06-22T07:48:05.246Z"
   },
   {
    "duration": 20,
    "start_time": "2022-06-22T07:48:05.254Z"
   },
   {
    "duration": 7,
    "start_time": "2022-06-22T07:48:05.276Z"
   },
   {
    "duration": 8,
    "start_time": "2022-06-22T07:48:05.284Z"
   },
   {
    "duration": 9,
    "start_time": "2022-06-22T07:48:05.294Z"
   },
   {
    "duration": 21,
    "start_time": "2022-06-22T07:48:05.305Z"
   },
   {
    "duration": 4,
    "start_time": "2022-06-22T07:48:05.328Z"
   },
   {
    "duration": 6,
    "start_time": "2022-06-22T07:48:05.334Z"
   },
   {
    "duration": 12,
    "start_time": "2022-06-22T07:48:14.265Z"
   },
   {
    "duration": 100,
    "start_time": "2022-06-22T07:50:39.135Z"
   },
   {
    "duration": 12,
    "start_time": "2022-06-22T07:50:47.749Z"
   },
   {
    "duration": 11,
    "start_time": "2022-06-22T07:50:57.928Z"
   },
   {
    "duration": 5,
    "start_time": "2022-06-22T07:52:23.734Z"
   },
   {
    "duration": 21,
    "start_time": "2022-06-22T07:53:12.190Z"
   },
   {
    "duration": 21,
    "start_time": "2022-06-22T07:53:27.990Z"
   },
   {
    "duration": 5,
    "start_time": "2022-06-22T07:53:32.494Z"
   },
   {
    "duration": 9,
    "start_time": "2022-06-22T07:56:00.141Z"
   },
   {
    "duration": 7,
    "start_time": "2022-06-22T07:56:03.813Z"
   },
   {
    "duration": 7,
    "start_time": "2022-06-22T07:56:12.988Z"
   },
   {
    "duration": 8,
    "start_time": "2022-06-22T07:56:37.056Z"
   },
   {
    "duration": 9,
    "start_time": "2022-06-22T07:56:46.197Z"
   },
   {
    "duration": 4,
    "start_time": "2022-06-22T08:43:33.103Z"
   },
   {
    "duration": 4,
    "start_time": "2022-06-22T08:43:43.404Z"
   },
   {
    "duration": 3,
    "start_time": "2022-06-22T08:44:01.092Z"
   },
   {
    "duration": 3,
    "start_time": "2022-06-22T08:44:38.240Z"
   },
   {
    "duration": 9,
    "start_time": "2022-06-22T08:44:44.553Z"
   },
   {
    "duration": 4,
    "start_time": "2022-06-22T08:44:45.340Z"
   },
   {
    "duration": 7,
    "start_time": "2022-06-22T08:47:47.888Z"
   },
   {
    "duration": 4,
    "start_time": "2022-06-22T08:47:49.184Z"
   },
   {
    "duration": 7,
    "start_time": "2022-06-22T08:48:57.328Z"
   },
   {
    "duration": 4,
    "start_time": "2022-06-22T08:48:57.704Z"
   },
   {
    "duration": 10,
    "start_time": "2022-06-22T08:49:58.112Z"
   },
   {
    "duration": 4,
    "start_time": "2022-06-22T08:49:58.733Z"
   },
   {
    "duration": 8,
    "start_time": "2022-06-22T08:50:15.752Z"
   },
   {
    "duration": 5,
    "start_time": "2022-06-22T08:50:16.336Z"
   },
   {
    "duration": 9,
    "start_time": "2022-06-22T08:50:41.288Z"
   },
   {
    "duration": 8,
    "start_time": "2022-06-22T08:50:57.846Z"
   },
   {
    "duration": 3,
    "start_time": "2022-06-22T08:50:59.141Z"
   },
   {
    "duration": 9,
    "start_time": "2022-06-22T08:54:23.316Z"
   },
   {
    "duration": 3,
    "start_time": "2022-06-22T09:01:05.673Z"
   },
   {
    "duration": 11,
    "start_time": "2022-06-22T09:01:19.602Z"
   },
   {
    "duration": 3,
    "start_time": "2022-06-22T09:01:32.432Z"
   },
   {
    "duration": 10,
    "start_time": "2022-06-22T09:02:11.548Z"
   },
   {
    "duration": 27,
    "start_time": "2022-06-22T09:02:41.205Z"
   },
   {
    "duration": 76,
    "start_time": "2022-06-22T09:04:23.446Z"
   },
   {
    "duration": 24,
    "start_time": "2022-06-22T09:04:27.924Z"
   },
   {
    "duration": 26,
    "start_time": "2022-06-22T09:04:51.796Z"
   },
   {
    "duration": 22,
    "start_time": "2022-06-22T09:04:54.254Z"
   },
   {
    "duration": 586,
    "start_time": "2022-06-22T09:14:57.497Z"
   },
   {
    "duration": 1391,
    "start_time": "2022-06-22T09:15:28.413Z"
   },
   {
    "duration": 750,
    "start_time": "2022-06-22T09:16:21.505Z"
   },
   {
    "duration": 749,
    "start_time": "2022-06-22T09:17:57.141Z"
   },
   {
    "duration": 42,
    "start_time": "2022-06-22T09:24:39.898Z"
   },
   {
    "duration": 39,
    "start_time": "2022-06-22T09:24:56.230Z"
   },
   {
    "duration": 55,
    "start_time": "2022-06-22T09:25:45.030Z"
   },
   {
    "duration": 44,
    "start_time": "2022-06-22T09:25:51.982Z"
   },
   {
    "duration": 62,
    "start_time": "2022-06-22T09:26:30.386Z"
   },
   {
    "duration": 91,
    "start_time": "2022-06-22T09:27:13.201Z"
   },
   {
    "duration": 239438,
    "start_time": "2022-06-22T09:27:44.389Z"
   },
   {
    "duration": 807,
    "start_time": "2022-06-22T09:32:29.694Z"
   },
   {
    "duration": 779,
    "start_time": "2022-06-22T09:33:47.718Z"
   },
   {
    "duration": 752,
    "start_time": "2022-06-22T09:34:20.832Z"
   },
   {
    "duration": 722,
    "start_time": "2022-06-22T09:34:27.685Z"
   },
   {
    "duration": 33908,
    "start_time": "2022-06-22T09:35:11.878Z"
   },
   {
    "duration": 78389,
    "start_time": "2022-06-22T09:35:50.367Z"
   },
   {
    "duration": 12791,
    "start_time": "2022-06-22T09:37:52.978Z"
   },
   {
    "duration": 18903,
    "start_time": "2022-06-22T09:38:44.338Z"
   },
   {
    "duration": 77665,
    "start_time": "2022-06-22T09:39:59.018Z"
   },
   {
    "duration": 29009,
    "start_time": "2022-06-22T09:42:29.010Z"
   },
   {
    "duration": 1875,
    "start_time": "2022-06-22T09:45:06.699Z"
   },
   {
    "duration": 9613,
    "start_time": "2022-06-22T09:45:13.178Z"
   },
   {
    "duration": 3,
    "start_time": "2022-06-22T09:46:34.091Z"
   },
   {
    "duration": 79,
    "start_time": "2022-06-22T09:50:48.674Z"
   },
   {
    "duration": 96,
    "start_time": "2022-06-22T09:50:55.839Z"
   },
   {
    "duration": 109,
    "start_time": "2022-06-22T09:51:02.237Z"
   },
   {
    "duration": 141,
    "start_time": "2022-06-22T09:51:06.786Z"
   },
   {
    "duration": 10,
    "start_time": "2022-06-22T09:53:18.701Z"
   },
   {
    "duration": 11,
    "start_time": "2022-06-22T09:53:39.678Z"
   },
   {
    "duration": 13,
    "start_time": "2022-06-22T09:54:17.746Z"
   },
   {
    "duration": 19,
    "start_time": "2022-06-22T09:54:25.990Z"
   },
   {
    "duration": 5,
    "start_time": "2022-06-22T09:54:34.883Z"
   },
   {
    "duration": 5,
    "start_time": "2022-06-22T09:54:40.474Z"
   },
   {
    "duration": 5,
    "start_time": "2022-06-22T09:55:21.114Z"
   },
   {
    "duration": 42,
    "start_time": "2022-06-22T10:55:12.798Z"
   },
   {
    "duration": 32,
    "start_time": "2022-06-22T10:55:16.306Z"
   },
   {
    "duration": 22,
    "start_time": "2022-06-22T10:55:30.345Z"
   },
   {
    "duration": 32,
    "start_time": "2022-06-22T10:55:32.302Z"
   },
   {
    "duration": 19,
    "start_time": "2022-06-22T10:55:34.806Z"
   },
   {
    "duration": 46,
    "start_time": "2022-06-22T10:56:02.399Z"
   },
   {
    "duration": 49,
    "start_time": "2022-06-22T10:56:15.411Z"
   },
   {
    "duration": 266,
    "start_time": "2022-06-22T10:56:27.869Z"
   },
   {
    "duration": 683,
    "start_time": "2022-06-22T10:57:06.844Z"
   },
   {
    "duration": 36,
    "start_time": "2022-06-22T12:22:20.293Z"
   },
   {
    "duration": 40,
    "start_time": "2022-06-22T12:24:23.486Z"
   },
   {
    "duration": 34,
    "start_time": "2022-06-22T12:25:14.704Z"
   },
   {
    "duration": 375,
    "start_time": "2022-06-22T12:26:22.956Z"
   },
   {
    "duration": 280,
    "start_time": "2022-06-22T12:26:42.554Z"
   },
   {
    "duration": 541,
    "start_time": "2022-06-22T12:33:43.191Z"
   },
   {
    "duration": 658,
    "start_time": "2022-06-22T12:36:03.942Z"
   },
   {
    "duration": 697,
    "start_time": "2022-06-22T12:40:32.805Z"
   },
   {
    "duration": 690,
    "start_time": "2022-06-22T12:40:35.226Z"
   },
   {
    "duration": 683,
    "start_time": "2022-06-22T12:41:03.426Z"
   },
   {
    "duration": 542,
    "start_time": "2022-06-22T12:42:35.594Z"
   },
   {
    "duration": 530,
    "start_time": "2022-06-22T12:42:59.107Z"
   },
   {
    "duration": 516,
    "start_time": "2022-06-22T12:43:02.515Z"
   },
   {
    "duration": 563,
    "start_time": "2022-06-22T12:43:44.230Z"
   },
   {
    "duration": 593,
    "start_time": "2022-06-22T12:43:54.778Z"
   },
   {
    "duration": 714,
    "start_time": "2022-06-22T12:56:53.137Z"
   },
   {
    "duration": 4,
    "start_time": "2022-06-22T13:06:45.727Z"
   },
   {
    "duration": 5,
    "start_time": "2022-06-22T13:06:55.049Z"
   },
   {
    "duration": 5,
    "start_time": "2022-06-22T13:08:20.593Z"
   },
   {
    "duration": 704,
    "start_time": "2022-06-22T13:10:12.180Z"
   },
   {
    "duration": 726,
    "start_time": "2022-06-22T13:10:28.293Z"
   },
   {
    "duration": 727,
    "start_time": "2022-06-22T13:11:36.819Z"
   },
   {
    "duration": 695,
    "start_time": "2022-06-22T13:12:08.497Z"
   },
   {
    "duration": 72,
    "start_time": "2022-06-22T13:13:57.308Z"
   },
   {
    "duration": 4,
    "start_time": "2022-06-22T13:14:04.841Z"
   },
   {
    "duration": 691,
    "start_time": "2022-06-22T13:14:31.712Z"
   },
   {
    "duration": 702,
    "start_time": "2022-06-22T13:14:44.308Z"
   },
   {
    "duration": 27789,
    "start_time": "2022-06-22T13:15:23.173Z"
   },
   {
    "duration": 28366,
    "start_time": "2022-06-22T13:17:43.208Z"
   },
   {
    "duration": 9336,
    "start_time": "2022-06-22T13:18:34.400Z"
   },
   {
    "duration": 28699,
    "start_time": "2022-06-22T13:19:30.839Z"
   },
   {
    "duration": 9969,
    "start_time": "2022-06-22T13:20:05.088Z"
   },
   {
    "duration": 105,
    "start_time": "2022-06-22T13:20:48.333Z"
   },
   {
    "duration": 1307,
    "start_time": "2022-06-22T13:22:06.984Z"
   },
   {
    "duration": 39,
    "start_time": "2022-06-22T13:22:08.293Z"
   },
   {
    "duration": 19,
    "start_time": "2022-06-22T13:22:08.334Z"
   },
   {
    "duration": 33,
    "start_time": "2022-06-22T13:22:08.355Z"
   },
   {
    "duration": 31,
    "start_time": "2022-06-22T13:22:08.391Z"
   },
   {
    "duration": 23,
    "start_time": "2022-06-22T13:22:08.423Z"
   },
   {
    "duration": 34,
    "start_time": "2022-06-22T13:22:08.448Z"
   },
   {
    "duration": 7,
    "start_time": "2022-06-22T13:22:08.483Z"
   },
   {
    "duration": 14,
    "start_time": "2022-06-22T13:22:08.492Z"
   },
   {
    "duration": 20,
    "start_time": "2022-06-22T13:22:08.507Z"
   },
   {
    "duration": 39,
    "start_time": "2022-06-22T13:22:08.538Z"
   },
   {
    "duration": 38,
    "start_time": "2022-06-22T13:22:08.579Z"
   },
   {
    "duration": 13,
    "start_time": "2022-06-22T13:22:08.618Z"
   },
   {
    "duration": 23,
    "start_time": "2022-06-22T13:22:08.634Z"
   },
   {
    "duration": 17,
    "start_time": "2022-06-22T13:22:08.659Z"
   },
   {
    "duration": 20,
    "start_time": "2022-06-22T13:22:08.677Z"
   },
   {
    "duration": 9,
    "start_time": "2022-06-22T13:22:08.699Z"
   },
   {
    "duration": 15,
    "start_time": "2022-06-22T13:22:08.710Z"
   },
   {
    "duration": 34,
    "start_time": "2022-06-22T13:22:08.727Z"
   },
   {
    "duration": 15,
    "start_time": "2022-06-22T13:22:08.762Z"
   },
   {
    "duration": 31,
    "start_time": "2022-06-22T13:22:08.779Z"
   },
   {
    "duration": 48,
    "start_time": "2022-06-22T13:22:08.812Z"
   },
   {
    "duration": 26,
    "start_time": "2022-06-22T13:22:08.862Z"
   },
   {
    "duration": 21,
    "start_time": "2022-06-22T13:22:08.890Z"
   },
   {
    "duration": 5,
    "start_time": "2022-06-22T13:22:08.913Z"
   },
   {
    "duration": 23,
    "start_time": "2022-06-22T13:22:08.919Z"
   },
   {
    "duration": 28,
    "start_time": "2022-06-22T13:22:08.944Z"
   },
   {
    "duration": 15,
    "start_time": "2022-06-22T13:22:08.974Z"
   },
   {
    "duration": 44,
    "start_time": "2022-06-22T13:22:08.991Z"
   },
   {
    "duration": 5,
    "start_time": "2022-06-22T13:22:09.037Z"
   },
   {
    "duration": 769,
    "start_time": "2022-06-22T13:22:09.043Z"
   },
   {
    "duration": 28236,
    "start_time": "2022-06-22T13:22:09.814Z"
   },
   {
    "duration": 9654,
    "start_time": "2022-06-22T13:22:38.051Z"
   },
   {
    "duration": 125,
    "start_time": "2022-06-22T13:22:47.707Z"
   },
   {
    "duration": 92,
    "start_time": "2022-06-22T13:22:47.834Z"
   },
   {
    "duration": 404,
    "start_time": "2022-06-22T13:22:47.928Z"
   },
   {
    "duration": 671,
    "start_time": "2022-06-22T13:22:48.335Z"
   },
   {
    "duration": 735,
    "start_time": "2022-06-22T13:22:49.008Z"
   },
   {
    "duration": 166,
    "start_time": "2022-06-22T17:20:47.240Z"
   },
   {
    "duration": 1762,
    "start_time": "2022-06-22T17:20:54.785Z"
   },
   {
    "duration": 170,
    "start_time": "2022-06-22T17:20:56.549Z"
   },
   {
    "duration": 18,
    "start_time": "2022-06-22T17:20:56.721Z"
   },
   {
    "duration": 5,
    "start_time": "2022-06-22T17:20:56.741Z"
   },
   {
    "duration": 43,
    "start_time": "2022-06-22T17:20:56.748Z"
   },
   {
    "duration": 14,
    "start_time": "2022-06-22T17:20:56.793Z"
   },
   {
    "duration": 53,
    "start_time": "2022-06-22T17:20:56.809Z"
   },
   {
    "duration": 9,
    "start_time": "2022-06-22T17:20:56.864Z"
   },
   {
    "duration": 11,
    "start_time": "2022-06-22T17:20:56.875Z"
   },
   {
    "duration": 6,
    "start_time": "2022-06-22T17:20:56.889Z"
   },
   {
    "duration": 13,
    "start_time": "2022-06-22T17:20:56.897Z"
   },
   {
    "duration": 16,
    "start_time": "2022-06-22T17:20:56.912Z"
   },
   {
    "duration": 5,
    "start_time": "2022-06-22T17:20:56.954Z"
   },
   {
    "duration": 23,
    "start_time": "2022-06-22T17:20:56.961Z"
   },
   {
    "duration": 17,
    "start_time": "2022-06-22T17:20:56.986Z"
   },
   {
    "duration": 9,
    "start_time": "2022-06-22T17:20:57.005Z"
   },
   {
    "duration": 4,
    "start_time": "2022-06-22T17:20:57.016Z"
   },
   {
    "duration": 11,
    "start_time": "2022-06-22T17:20:57.021Z"
   },
   {
    "duration": 19,
    "start_time": "2022-06-22T17:20:57.033Z"
   },
   {
    "duration": 39,
    "start_time": "2022-06-22T17:20:57.054Z"
   },
   {
    "duration": 5,
    "start_time": "2022-06-22T17:20:57.095Z"
   },
   {
    "duration": 15,
    "start_time": "2022-06-22T17:20:57.101Z"
   },
   {
    "duration": 15,
    "start_time": "2022-06-22T17:20:57.118Z"
   },
   {
    "duration": 15,
    "start_time": "2022-06-22T17:20:57.135Z"
   },
   {
    "duration": 26,
    "start_time": "2022-06-22T17:20:57.152Z"
   },
   {
    "duration": 12,
    "start_time": "2022-06-22T17:20:57.182Z"
   },
   {
    "duration": 13,
    "start_time": "2022-06-22T17:20:57.196Z"
   },
   {
    "duration": 22,
    "start_time": "2022-06-22T17:20:57.213Z"
   },
   {
    "duration": 45,
    "start_time": "2022-06-22T17:20:57.238Z"
   },
   {
    "duration": 5,
    "start_time": "2022-06-22T17:20:57.285Z"
   },
   {
    "duration": 929,
    "start_time": "2022-06-22T17:20:57.292Z"
   },
   {
    "duration": 34479,
    "start_time": "2022-06-22T17:20:58.223Z"
   },
   {
    "duration": 11428,
    "start_time": "2022-06-22T17:21:32.704Z"
   },
   {
    "duration": 238,
    "start_time": "2022-06-22T17:21:44.133Z"
   },
   {
    "duration": 81,
    "start_time": "2022-06-22T17:21:44.375Z"
   },
   {
    "duration": 412,
    "start_time": "2022-06-22T17:21:44.459Z"
   },
   {
    "duration": 763,
    "start_time": "2022-06-22T17:21:44.877Z"
   },
   {
    "duration": 860,
    "start_time": "2022-06-22T17:21:45.642Z"
   },
   {
    "duration": 33924,
    "start_time": "2022-06-22T17:24:27.672Z"
   },
   {
    "duration": 21892,
    "start_time": "2022-06-22T17:26:54.934Z"
   },
   {
    "duration": 2008,
    "start_time": "2022-06-22T17:29:19.382Z"
   },
   {
    "duration": 11129,
    "start_time": "2022-06-22T17:29:27.383Z"
   },
   {
    "duration": 7,
    "start_time": "2022-06-22T17:30:05.208Z"
   },
   {
    "duration": 614,
    "start_time": "2022-06-22T17:30:14.165Z"
   },
   {
    "duration": 816,
    "start_time": "2022-06-22T17:31:09.441Z"
   },
   {
    "duration": 1165,
    "start_time": "2022-06-22T17:31:24.217Z"
   },
   {
    "duration": 11978,
    "start_time": "2022-06-22T17:32:01.091Z"
   },
   {
    "duration": 10490,
    "start_time": "2022-06-22T17:32:19.141Z"
   },
   {
    "duration": 10205,
    "start_time": "2022-06-22T17:33:05.690Z"
   },
   {
    "duration": 184,
    "start_time": "2022-06-22T17:33:29.479Z"
   },
   {
    "duration": 10,
    "start_time": "2022-06-22T17:33:57.950Z"
   },
   {
    "duration": 7,
    "start_time": "2022-06-22T17:34:56.831Z"
   },
   {
    "duration": 9442,
    "start_time": "2022-06-22T17:37:34.071Z"
   },
   {
    "duration": 8,
    "start_time": "2022-06-22T17:37:52.971Z"
   },
   {
    "duration": 1491,
    "start_time": "2022-06-22T17:38:19.050Z"
   },
   {
    "duration": 70,
    "start_time": "2022-06-22T17:38:20.544Z"
   },
   {
    "duration": 27,
    "start_time": "2022-06-22T17:38:20.623Z"
   },
   {
    "duration": 9,
    "start_time": "2022-06-22T17:38:20.653Z"
   },
   {
    "duration": 47,
    "start_time": "2022-06-22T17:38:20.664Z"
   },
   {
    "duration": 19,
    "start_time": "2022-06-22T17:38:20.713Z"
   },
   {
    "duration": 47,
    "start_time": "2022-06-22T17:38:20.733Z"
   },
   {
    "duration": 8,
    "start_time": "2022-06-22T17:38:20.784Z"
   },
   {
    "duration": 8,
    "start_time": "2022-06-22T17:38:20.795Z"
   },
   {
    "duration": 8,
    "start_time": "2022-06-22T17:38:20.805Z"
   },
   {
    "duration": 19,
    "start_time": "2022-06-22T17:38:20.815Z"
   },
   {
    "duration": 37,
    "start_time": "2022-06-22T17:38:20.836Z"
   },
   {
    "duration": 15,
    "start_time": "2022-06-22T17:38:20.881Z"
   },
   {
    "duration": 6,
    "start_time": "2022-06-22T17:38:20.898Z"
   },
   {
    "duration": 12,
    "start_time": "2022-06-22T17:38:20.906Z"
   },
   {
    "duration": 7,
    "start_time": "2022-06-22T17:38:20.920Z"
   },
   {
    "duration": 8,
    "start_time": "2022-06-22T17:38:20.928Z"
   },
   {
    "duration": 19,
    "start_time": "2022-06-22T17:38:20.938Z"
   },
   {
    "duration": 36,
    "start_time": "2022-06-22T17:38:20.973Z"
   },
   {
    "duration": 6,
    "start_time": "2022-06-22T17:38:21.012Z"
   },
   {
    "duration": 5,
    "start_time": "2022-06-22T17:38:21.020Z"
   },
   {
    "duration": 15,
    "start_time": "2022-06-22T17:38:21.026Z"
   },
   {
    "duration": 25,
    "start_time": "2022-06-22T17:38:21.043Z"
   },
   {
    "duration": 53,
    "start_time": "2022-06-22T17:38:21.073Z"
   },
   {
    "duration": 7,
    "start_time": "2022-06-22T17:38:21.128Z"
   },
   {
    "duration": 8,
    "start_time": "2022-06-22T17:38:21.137Z"
   },
   {
    "duration": 62,
    "start_time": "2022-06-22T17:38:21.147Z"
   },
   {
    "duration": 5,
    "start_time": "2022-06-22T17:38:21.211Z"
   },
   {
    "duration": 49,
    "start_time": "2022-06-22T17:38:21.218Z"
   },
   {
    "duration": 9,
    "start_time": "2022-06-22T17:38:21.269Z"
   },
   {
    "duration": 897,
    "start_time": "2022-06-22T17:38:21.280Z"
   },
   {
    "duration": 10122,
    "start_time": "2022-06-22T17:38:22.180Z"
   },
   {
    "duration": 469,
    "start_time": "2022-06-22T17:38:32.305Z"
   },
   {
    "duration": 79,
    "start_time": "2022-06-22T17:38:32.779Z"
   },
   {
    "duration": 785,
    "start_time": "2022-06-22T17:38:32.882Z"
   },
   {
    "duration": 1277,
    "start_time": "2022-06-22T17:38:33.675Z"
   },
   {
    "duration": 955,
    "start_time": "2022-06-22T17:38:34.954Z"
   },
   {
    "duration": 10833,
    "start_time": "2022-06-22T17:38:35.912Z"
   },
   {
    "duration": 138,
    "start_time": "2022-06-22T17:38:46.747Z"
   },
   {
    "duration": 16,
    "start_time": "2022-06-22T17:38:46.893Z"
   },
   {
    "duration": 12,
    "start_time": "2022-06-22T17:41:01.148Z"
   },
   {
    "duration": 1658,
    "start_time": "2022-06-22T17:41:06.808Z"
   },
   {
    "duration": 68,
    "start_time": "2022-06-22T17:41:08.469Z"
   },
   {
    "duration": 30,
    "start_time": "2022-06-22T17:41:08.539Z"
   },
   {
    "duration": 30,
    "start_time": "2022-06-22T17:41:08.571Z"
   },
   {
    "duration": 12,
    "start_time": "2022-06-22T17:41:08.604Z"
   },
   {
    "duration": 16,
    "start_time": "2022-06-22T17:41:08.618Z"
   },
   {
    "duration": 44,
    "start_time": "2022-06-22T17:41:08.636Z"
   },
   {
    "duration": 9,
    "start_time": "2022-06-22T17:41:08.682Z"
   },
   {
    "duration": 7,
    "start_time": "2022-06-22T17:41:08.693Z"
   },
   {
    "duration": 6,
    "start_time": "2022-06-22T17:41:08.703Z"
   },
   {
    "duration": 15,
    "start_time": "2022-06-22T17:41:08.710Z"
   },
   {
    "duration": 13,
    "start_time": "2022-06-22T17:41:08.727Z"
   },
   {
    "duration": 6,
    "start_time": "2022-06-22T17:41:08.742Z"
   },
   {
    "duration": 43,
    "start_time": "2022-06-22T17:41:08.750Z"
   },
   {
    "duration": 13,
    "start_time": "2022-06-22T17:41:08.794Z"
   },
   {
    "duration": 6,
    "start_time": "2022-06-22T17:41:08.808Z"
   },
   {
    "duration": 8,
    "start_time": "2022-06-22T17:41:08.815Z"
   },
   {
    "duration": 4,
    "start_time": "2022-06-22T17:41:08.824Z"
   },
   {
    "duration": 7,
    "start_time": "2022-06-22T17:41:08.829Z"
   },
   {
    "duration": 4,
    "start_time": "2022-06-22T17:41:08.838Z"
   },
   {
    "duration": 5,
    "start_time": "2022-06-22T17:41:08.843Z"
   },
   {
    "duration": 23,
    "start_time": "2022-06-22T17:41:08.849Z"
   },
   {
    "duration": 29,
    "start_time": "2022-06-22T17:41:08.873Z"
   },
   {
    "duration": 16,
    "start_time": "2022-06-22T17:41:08.905Z"
   },
   {
    "duration": 5,
    "start_time": "2022-06-22T17:41:08.923Z"
   },
   {
    "duration": 6,
    "start_time": "2022-06-22T17:41:08.930Z"
   },
   {
    "duration": 9,
    "start_time": "2022-06-22T17:41:08.938Z"
   },
   {
    "duration": 35,
    "start_time": "2022-06-22T17:41:08.951Z"
   },
   {
    "duration": 29,
    "start_time": "2022-06-22T17:41:08.989Z"
   },
   {
    "duration": 6,
    "start_time": "2022-06-22T17:41:09.020Z"
   },
   {
    "duration": 984,
    "start_time": "2022-06-22T17:41:09.027Z"
   },
   {
    "duration": 11065,
    "start_time": "2022-06-22T17:41:10.015Z"
   },
   {
    "duration": 401,
    "start_time": "2022-06-22T17:41:21.082Z"
   },
   {
    "duration": 96,
    "start_time": "2022-06-22T17:41:21.490Z"
   },
   {
    "duration": 484,
    "start_time": "2022-06-22T17:41:21.589Z"
   },
   {
    "duration": 1351,
    "start_time": "2022-06-22T17:41:22.078Z"
   },
   {
    "duration": 879,
    "start_time": "2022-06-22T17:41:23.431Z"
   },
   {
    "duration": 9934,
    "start_time": "2022-06-22T17:41:24.312Z"
   },
   {
    "duration": 127,
    "start_time": "2022-06-22T17:41:34.254Z"
   },
   {
    "duration": 110,
    "start_time": "2022-06-22T17:41:34.453Z"
   },
   {
    "duration": 88,
    "start_time": "2022-06-22T17:46:17.607Z"
   },
   {
    "duration": 83487,
    "start_time": "2022-06-22T17:46:48.070Z"
   },
   {
    "duration": 43,
    "start_time": "2022-06-22T17:48:18.389Z"
   },
   {
    "duration": 87022,
    "start_time": "2022-06-22T17:48:23.279Z"
   },
   {
    "duration": 7,
    "start_time": "2022-06-22T17:50:39.624Z"
   },
   {
    "duration": 1550,
    "start_time": "2022-06-22T17:50:45.778Z"
   },
   {
    "duration": 46,
    "start_time": "2022-06-22T17:50:47.330Z"
   },
   {
    "duration": 29,
    "start_time": "2022-06-22T17:50:47.379Z"
   },
   {
    "duration": 5,
    "start_time": "2022-06-22T17:50:47.409Z"
   },
   {
    "duration": 12,
    "start_time": "2022-06-22T17:50:47.416Z"
   },
   {
    "duration": 37,
    "start_time": "2022-06-22T17:50:47.430Z"
   },
   {
    "duration": 48,
    "start_time": "2022-06-22T17:50:47.469Z"
   },
   {
    "duration": 6,
    "start_time": "2022-06-22T17:50:47.519Z"
   },
   {
    "duration": 4,
    "start_time": "2022-06-22T17:50:47.527Z"
   },
   {
    "duration": 6,
    "start_time": "2022-06-22T17:50:47.533Z"
   },
   {
    "duration": 46,
    "start_time": "2022-06-22T17:50:47.559Z"
   },
   {
    "duration": 14,
    "start_time": "2022-06-22T17:50:47.606Z"
   },
   {
    "duration": 8,
    "start_time": "2022-06-22T17:50:47.621Z"
   },
   {
    "duration": 5,
    "start_time": "2022-06-22T17:50:47.632Z"
   },
   {
    "duration": 15,
    "start_time": "2022-06-22T17:50:47.639Z"
   },
   {
    "duration": 12,
    "start_time": "2022-06-22T17:50:47.656Z"
   },
   {
    "duration": 35,
    "start_time": "2022-06-22T17:50:47.670Z"
   },
   {
    "duration": 5,
    "start_time": "2022-06-22T17:50:47.707Z"
   },
   {
    "duration": 7,
    "start_time": "2022-06-22T17:50:47.713Z"
   },
   {
    "duration": 6,
    "start_time": "2022-06-22T17:50:47.721Z"
   },
   {
    "duration": 4,
    "start_time": "2022-06-22T17:50:47.729Z"
   },
   {
    "duration": 25,
    "start_time": "2022-06-22T17:50:47.735Z"
   },
   {
    "duration": 16,
    "start_time": "2022-06-22T17:50:47.762Z"
   },
   {
    "duration": 31,
    "start_time": "2022-06-22T17:50:47.780Z"
   },
   {
    "duration": 6,
    "start_time": "2022-06-22T17:50:47.813Z"
   },
   {
    "duration": 8,
    "start_time": "2022-06-22T17:50:47.821Z"
   },
   {
    "duration": 12,
    "start_time": "2022-06-22T17:50:47.831Z"
   },
   {
    "duration": 4,
    "start_time": "2022-06-22T17:50:47.845Z"
   },
   {
    "duration": 56,
    "start_time": "2022-06-22T17:50:47.859Z"
   },
   {
    "duration": 5,
    "start_time": "2022-06-22T17:50:47.917Z"
   },
   {
    "duration": 1014,
    "start_time": "2022-06-22T17:50:47.923Z"
   },
   {
    "duration": 96483,
    "start_time": "2022-06-22T17:50:48.938Z"
   },
   {
    "duration": 234,
    "start_time": "2022-06-22T17:52:25.423Z"
   },
   {
    "duration": 47,
    "start_time": "2022-06-22T17:52:25.667Z"
   },
   {
    "duration": 896,
    "start_time": "2022-06-22T17:52:25.773Z"
   },
   {
    "duration": 1129,
    "start_time": "2022-06-22T17:52:26.685Z"
   },
   {
    "duration": 1175,
    "start_time": "2022-06-22T17:52:27.817Z"
   },
   {
    "duration": 13519,
    "start_time": "2022-06-22T17:52:28.995Z"
   },
   {
    "duration": 560,
    "start_time": "2022-06-22T17:52:42.516Z"
   },
   {
    "duration": 67,
    "start_time": "2022-06-22T17:52:43.086Z"
   },
   {
    "duration": 639,
    "start_time": "2022-06-22T17:53:18.819Z"
   },
   {
    "duration": 1037,
    "start_time": "2022-06-22T17:53:33.777Z"
   },
   {
    "duration": 96838,
    "start_time": "2022-06-22T17:54:49.463Z"
   },
   {
    "duration": 8,
    "start_time": "2022-06-22T17:57:36.072Z"
   },
   {
    "duration": 155,
    "start_time": "2022-06-22T17:58:11.331Z"
   },
   {
    "duration": 11,
    "start_time": "2022-06-22T17:58:13.378Z"
   },
   {
    "duration": 822,
    "start_time": "2022-06-22T18:04:27.833Z"
   },
   {
    "duration": 1045,
    "start_time": "2022-06-22T18:05:51.900Z"
   },
   {
    "duration": 12,
    "start_time": "2022-06-22T18:12:03.644Z"
   },
   {
    "duration": 1509,
    "start_time": "2022-06-22T18:13:55.724Z"
   },
   {
    "duration": 60,
    "start_time": "2022-06-22T18:13:57.235Z"
   },
   {
    "duration": 17,
    "start_time": "2022-06-22T18:13:57.297Z"
   },
   {
    "duration": 5,
    "start_time": "2022-06-22T18:13:57.316Z"
   },
   {
    "duration": 17,
    "start_time": "2022-06-22T18:13:57.324Z"
   },
   {
    "duration": 20,
    "start_time": "2022-06-22T18:13:57.343Z"
   },
   {
    "duration": 59,
    "start_time": "2022-06-22T18:13:57.365Z"
   },
   {
    "duration": 7,
    "start_time": "2022-06-22T18:13:57.426Z"
   },
   {
    "duration": 3,
    "start_time": "2022-06-22T18:13:57.435Z"
   },
   {
    "duration": 7,
    "start_time": "2022-06-22T18:13:57.440Z"
   },
   {
    "duration": 26,
    "start_time": "2022-06-22T18:13:57.448Z"
   },
   {
    "duration": 15,
    "start_time": "2022-06-22T18:13:57.482Z"
   },
   {
    "duration": 5,
    "start_time": "2022-06-22T18:13:57.498Z"
   },
   {
    "duration": 4,
    "start_time": "2022-06-22T18:13:57.506Z"
   },
   {
    "duration": 12,
    "start_time": "2022-06-22T18:13:57.511Z"
   },
   {
    "duration": 5,
    "start_time": "2022-06-22T18:13:57.525Z"
   },
   {
    "duration": 34,
    "start_time": "2022-06-22T18:13:57.532Z"
   },
   {
    "duration": 4,
    "start_time": "2022-06-22T18:13:57.568Z"
   },
   {
    "duration": 18,
    "start_time": "2022-06-22T18:13:57.574Z"
   },
   {
    "duration": 6,
    "start_time": "2022-06-22T18:13:57.594Z"
   },
   {
    "duration": 4,
    "start_time": "2022-06-22T18:13:57.602Z"
   },
   {
    "duration": 18,
    "start_time": "2022-06-22T18:13:57.608Z"
   },
   {
    "duration": 24,
    "start_time": "2022-06-22T18:13:57.629Z"
   },
   {
    "duration": 16,
    "start_time": "2022-06-22T18:13:57.655Z"
   },
   {
    "duration": 21,
    "start_time": "2022-06-22T18:13:57.673Z"
   },
   {
    "duration": 13,
    "start_time": "2022-06-22T18:13:57.696Z"
   },
   {
    "duration": 12,
    "start_time": "2022-06-22T18:13:57.710Z"
   },
   {
    "duration": 3,
    "start_time": "2022-06-22T18:13:57.724Z"
   },
   {
    "duration": 51,
    "start_time": "2022-06-22T18:13:57.728Z"
   },
   {
    "duration": 7,
    "start_time": "2022-06-22T18:13:57.782Z"
   },
   {
    "duration": 966,
    "start_time": "2022-06-22T18:13:57.791Z"
   },
   {
    "duration": 90811,
    "start_time": "2022-06-22T18:13:58.760Z"
   },
   {
    "duration": 396,
    "start_time": "2022-06-22T18:15:29.572Z"
   },
   {
    "duration": 23,
    "start_time": "2022-06-22T18:15:29.972Z"
   },
   {
    "duration": 875,
    "start_time": "2022-06-22T18:15:30.004Z"
   },
   {
    "duration": 1186,
    "start_time": "2022-06-22T18:15:30.886Z"
   },
   {
    "duration": 974,
    "start_time": "2022-06-22T18:15:32.075Z"
   },
   {
    "duration": 66483,
    "start_time": "2022-06-22T18:15:33.055Z"
   },
   {
    "duration": 537,
    "start_time": "2022-06-22T18:16:39.539Z"
   },
   {
    "duration": 17,
    "start_time": "2022-06-22T18:16:40.089Z"
   },
   {
    "duration": 9,
    "start_time": "2022-06-22T18:16:40.109Z"
   },
   {
    "duration": 768,
    "start_time": "2022-06-22T18:16:40.120Z"
   },
   {
    "duration": 1167,
    "start_time": "2022-06-22T18:16:40.897Z"
   },
   {
    "duration": 1546,
    "start_time": "2022-06-22T18:17:23.585Z"
   },
   {
    "duration": 72,
    "start_time": "2022-06-22T18:17:25.133Z"
   },
   {
    "duration": 21,
    "start_time": "2022-06-22T18:17:25.207Z"
   },
   {
    "duration": 11,
    "start_time": "2022-06-22T18:17:25.230Z"
   },
   {
    "duration": 18,
    "start_time": "2022-06-22T18:17:25.244Z"
   },
   {
    "duration": 50,
    "start_time": "2022-06-22T18:17:25.268Z"
   },
   {
    "duration": 41,
    "start_time": "2022-06-22T18:17:25.319Z"
   },
   {
    "duration": 12,
    "start_time": "2022-06-22T18:17:25.362Z"
   },
   {
    "duration": 25,
    "start_time": "2022-06-22T18:17:25.379Z"
   },
   {
    "duration": 7,
    "start_time": "2022-06-22T18:17:25.406Z"
   },
   {
    "duration": 13,
    "start_time": "2022-06-22T18:17:25.414Z"
   },
   {
    "duration": 11,
    "start_time": "2022-06-22T18:17:25.429Z"
   },
   {
    "duration": 6,
    "start_time": "2022-06-22T18:17:25.442Z"
   },
   {
    "duration": 11,
    "start_time": "2022-06-22T18:17:25.451Z"
   },
   {
    "duration": 45,
    "start_time": "2022-06-22T18:17:25.465Z"
   },
   {
    "duration": 7,
    "start_time": "2022-06-22T18:17:25.512Z"
   },
   {
    "duration": 7,
    "start_time": "2022-06-22T18:17:25.520Z"
   },
   {
    "duration": 4,
    "start_time": "2022-06-22T18:17:25.529Z"
   },
   {
    "duration": 8,
    "start_time": "2022-06-22T18:17:25.535Z"
   },
   {
    "duration": 5,
    "start_time": "2022-06-22T18:17:25.544Z"
   },
   {
    "duration": 46,
    "start_time": "2022-06-22T18:17:25.550Z"
   },
   {
    "duration": 16,
    "start_time": "2022-06-22T18:17:25.598Z"
   },
   {
    "duration": 9,
    "start_time": "2022-06-22T18:17:25.616Z"
   },
   {
    "duration": 9,
    "start_time": "2022-06-22T18:17:25.627Z"
   },
   {
    "duration": 8,
    "start_time": "2022-06-22T18:17:25.638Z"
   },
   {
    "duration": 15,
    "start_time": "2022-06-22T18:17:25.648Z"
   },
   {
    "duration": 43,
    "start_time": "2022-06-22T18:17:25.664Z"
   },
   {
    "duration": 3,
    "start_time": "2022-06-22T18:17:25.709Z"
   },
   {
    "duration": 28,
    "start_time": "2022-06-22T18:17:25.714Z"
   },
   {
    "duration": 5,
    "start_time": "2022-06-22T18:17:25.744Z"
   },
   {
    "duration": 915,
    "start_time": "2022-06-22T18:17:25.751Z"
   },
   {
    "duration": 81904,
    "start_time": "2022-06-22T18:17:26.669Z"
   },
   {
    "duration": 522,
    "start_time": "2022-06-22T18:18:48.575Z"
   },
   {
    "duration": 38,
    "start_time": "2022-06-22T18:18:49.156Z"
   },
   {
    "duration": 965,
    "start_time": "2022-06-22T18:18:49.196Z"
   },
   {
    "duration": 1214,
    "start_time": "2022-06-22T18:18:50.168Z"
   },
   {
    "duration": 1089,
    "start_time": "2022-06-22T18:18:51.384Z"
   },
   {
    "duration": 524,
    "start_time": "2022-06-22T18:18:52.474Z"
   },
   {
    "duration": 14,
    "start_time": "2022-06-22T18:18:53.836Z"
   },
   {
    "duration": 0,
    "start_time": "2022-06-22T18:18:53.852Z"
   },
   {
    "duration": 0,
    "start_time": "2022-06-22T18:18:53.858Z"
   },
   {
    "duration": 0,
    "start_time": "2022-06-22T18:18:53.858Z"
   },
   {
    "duration": 1448,
    "start_time": "2022-06-23T07:24:48.700Z"
   },
   {
    "duration": 89,
    "start_time": "2022-06-23T07:24:50.149Z"
   },
   {
    "duration": 16,
    "start_time": "2022-06-23T07:24:50.240Z"
   },
   {
    "duration": 30,
    "start_time": "2022-06-23T07:24:50.258Z"
   },
   {
    "duration": 34,
    "start_time": "2022-06-23T07:24:50.291Z"
   },
   {
    "duration": 39,
    "start_time": "2022-06-23T07:24:50.327Z"
   },
   {
    "duration": 48,
    "start_time": "2022-06-23T07:24:50.368Z"
   },
   {
    "duration": 15,
    "start_time": "2022-06-23T07:24:50.418Z"
   },
   {
    "duration": 30,
    "start_time": "2022-06-23T07:24:50.435Z"
   },
   {
    "duration": 43,
    "start_time": "2022-06-23T07:24:50.466Z"
   },
   {
    "duration": 27,
    "start_time": "2022-06-23T07:24:50.511Z"
   },
   {
    "duration": 40,
    "start_time": "2022-06-23T07:24:50.540Z"
   },
   {
    "duration": 34,
    "start_time": "2022-06-23T07:24:50.582Z"
   },
   {
    "duration": 41,
    "start_time": "2022-06-23T07:24:50.619Z"
   },
   {
    "duration": 43,
    "start_time": "2022-06-23T07:24:50.662Z"
   },
   {
    "duration": 36,
    "start_time": "2022-06-23T07:24:50.707Z"
   },
   {
    "duration": 24,
    "start_time": "2022-06-23T07:24:50.745Z"
   },
   {
    "duration": 39,
    "start_time": "2022-06-23T07:24:50.771Z"
   },
   {
    "duration": 69,
    "start_time": "2022-06-23T07:24:50.811Z"
   },
   {
    "duration": 45,
    "start_time": "2022-06-23T07:24:50.882Z"
   },
   {
    "duration": 61,
    "start_time": "2022-06-23T07:24:50.929Z"
   },
   {
    "duration": 40,
    "start_time": "2022-06-23T07:24:50.992Z"
   },
   {
    "duration": 27,
    "start_time": "2022-06-23T07:24:51.034Z"
   },
   {
    "duration": 42,
    "start_time": "2022-06-23T07:24:51.063Z"
   },
   {
    "duration": 25,
    "start_time": "2022-06-23T07:24:51.106Z"
   },
   {
    "duration": 55,
    "start_time": "2022-06-23T07:24:51.132Z"
   },
   {
    "duration": 38,
    "start_time": "2022-06-23T07:24:51.190Z"
   },
   {
    "duration": 39,
    "start_time": "2022-06-23T07:24:51.229Z"
   },
   {
    "duration": 50,
    "start_time": "2022-06-23T07:24:51.270Z"
   },
   {
    "duration": 5,
    "start_time": "2022-06-23T07:24:51.322Z"
   },
   {
    "duration": 806,
    "start_time": "2022-06-23T07:24:51.328Z"
   },
   {
    "duration": 76494,
    "start_time": "2022-06-23T07:24:52.135Z"
   },
   {
    "duration": 437,
    "start_time": "2022-06-23T07:26:08.631Z"
   },
   {
    "duration": 11,
    "start_time": "2022-06-23T07:26:09.159Z"
   },
   {
    "duration": 502,
    "start_time": "2022-06-23T07:26:09.260Z"
   },
   {
    "duration": 849,
    "start_time": "2022-06-23T07:26:09.764Z"
   },
   {
    "duration": 803,
    "start_time": "2022-06-23T07:26:10.615Z"
   },
   {
    "duration": 74594,
    "start_time": "2022-06-23T07:26:11.420Z"
   },
   {
    "duration": 245,
    "start_time": "2022-06-23T07:27:26.015Z"
   },
   {
    "duration": 99,
    "start_time": "2022-06-23T07:27:26.263Z"
   },
   {
    "duration": 10,
    "start_time": "2022-06-23T07:27:26.365Z"
   },
   {
    "duration": 491,
    "start_time": "2022-06-23T07:27:26.376Z"
   },
   {
    "duration": 754,
    "start_time": "2022-06-23T07:27:26.959Z"
   },
   {
    "duration": 75114,
    "start_time": "2022-06-23T07:31:27.950Z"
   },
   {
    "duration": 5,
    "start_time": "2022-06-23T07:32:49.296Z"
   },
   {
    "duration": 7,
    "start_time": "2022-06-23T07:32:52.290Z"
   },
   {
    "duration": 493,
    "start_time": "2022-06-23T07:35:10.272Z"
   },
   {
    "duration": 530,
    "start_time": "2022-06-23T07:35:30.635Z"
   },
   {
    "duration": 927,
    "start_time": "2022-06-23T07:35:42.382Z"
   },
   {
    "duration": 465,
    "start_time": "2022-06-23T07:36:35.605Z"
   },
   {
    "duration": 822,
    "start_time": "2022-06-23T07:36:45.202Z"
   },
   {
    "duration": 836,
    "start_time": "2022-06-23T07:37:15.984Z"
   },
   {
    "duration": 891,
    "start_time": "2022-06-23T07:37:32.474Z"
   },
   {
    "duration": 779,
    "start_time": "2022-06-23T07:38:52.039Z"
   },
   {
    "duration": 5,
    "start_time": "2022-06-23T07:45:27.825Z"
   },
   {
    "duration": 10,
    "start_time": "2022-06-23T07:45:38.654Z"
   },
   {
    "duration": 905,
    "start_time": "2022-06-23T07:48:50.100Z"
   },
   {
    "duration": 100650,
    "start_time": "2022-06-23T07:50:36.873Z"
   },
   {
    "duration": 308,
    "start_time": "2022-06-23T07:52:24.454Z"
   },
   {
    "duration": 120,
    "start_time": "2022-06-23T07:52:35.341Z"
   },
   {
    "duration": 143,
    "start_time": "2022-06-23T07:52:41.219Z"
   },
   {
    "duration": 162,
    "start_time": "2022-06-23T07:52:46.104Z"
   },
   {
    "duration": 714,
    "start_time": "2022-06-23T07:54:30.546Z"
   },
   {
    "duration": 634,
    "start_time": "2022-06-23T07:55:39.926Z"
   },
   {
    "duration": 1314,
    "start_time": "2022-06-23T07:58:11.010Z"
   },
   {
    "duration": 11,
    "start_time": "2022-06-23T08:01:27.198Z"
   },
   {
    "duration": 10,
    "start_time": "2022-06-23T08:01:33.558Z"
   },
   {
    "duration": 10,
    "start_time": "2022-06-23T08:01:44.029Z"
   },
   {
    "duration": 14,
    "start_time": "2022-06-23T08:07:33.056Z"
   },
   {
    "duration": 4,
    "start_time": "2022-06-23T08:07:40.427Z"
   },
   {
    "duration": 5,
    "start_time": "2022-06-23T08:07:46.722Z"
   },
   {
    "duration": 11,
    "start_time": "2022-06-23T08:07:51.474Z"
   },
   {
    "duration": 4,
    "start_time": "2022-06-23T08:07:52.065Z"
   },
   {
    "duration": 3,
    "start_time": "2022-06-23T08:07:52.431Z"
   },
   {
    "duration": 10,
    "start_time": "2022-06-23T08:08:01.095Z"
   },
   {
    "duration": 5,
    "start_time": "2022-06-23T08:08:01.292Z"
   },
   {
    "duration": 5,
    "start_time": "2022-06-23T08:08:01.858Z"
   },
   {
    "duration": 11,
    "start_time": "2022-06-23T08:08:16.634Z"
   },
   {
    "duration": 4,
    "start_time": "2022-06-23T08:08:16.964Z"
   },
   {
    "duration": 4,
    "start_time": "2022-06-23T08:08:36.548Z"
   },
   {
    "duration": 10,
    "start_time": "2022-06-23T08:08:44.201Z"
   },
   {
    "duration": 3,
    "start_time": "2022-06-23T08:08:44.654Z"
   },
   {
    "duration": 4,
    "start_time": "2022-06-23T08:08:45.350Z"
   },
   {
    "duration": 11,
    "start_time": "2022-06-23T08:08:48.241Z"
   },
   {
    "duration": 3,
    "start_time": "2022-06-23T08:08:48.724Z"
   },
   {
    "duration": 13,
    "start_time": "2022-06-23T08:08:53.914Z"
   },
   {
    "duration": 5,
    "start_time": "2022-06-23T08:08:54.245Z"
   },
   {
    "duration": 4,
    "start_time": "2022-06-23T08:08:54.896Z"
   },
   {
    "duration": 4,
    "start_time": "2022-06-23T08:09:22.328Z"
   },
   {
    "duration": 4,
    "start_time": "2022-06-23T08:09:25.361Z"
   },
   {
    "duration": 4,
    "start_time": "2022-06-23T08:09:38.354Z"
   },
   {
    "duration": 12,
    "start_time": "2022-06-23T08:11:15.429Z"
   },
   {
    "duration": 4,
    "start_time": "2022-06-23T08:11:17.128Z"
   },
   {
    "duration": 4,
    "start_time": "2022-06-23T08:11:17.524Z"
   },
   {
    "duration": 522,
    "start_time": "2022-06-23T08:13:31.825Z"
   },
   {
    "duration": 54473,
    "start_time": "2022-06-23T08:14:46.817Z"
   },
   {
    "duration": 180,
    "start_time": "2022-06-23T08:16:33.981Z"
   },
   {
    "duration": 6,
    "start_time": "2022-06-23T08:17:01.540Z"
   },
   {
    "duration": 6,
    "start_time": "2022-06-23T08:17:34.869Z"
   },
   {
    "duration": 94,
    "start_time": "2022-06-23T08:19:19.691Z"
   },
   {
    "duration": 364,
    "start_time": "2022-06-23T08:19:34.598Z"
   },
   {
    "duration": 299,
    "start_time": "2022-06-23T08:19:56.562Z"
   },
   {
    "duration": 2328,
    "start_time": "2022-06-23T08:22:27.050Z"
   },
   {
    "duration": 500,
    "start_time": "2022-06-23T08:22:50.901Z"
   },
   {
    "duration": 933,
    "start_time": "2022-06-23T08:23:26.513Z"
   },
   {
    "duration": 1215,
    "start_time": "2022-06-23T08:23:58.594Z"
   },
   {
    "duration": 923,
    "start_time": "2022-06-23T08:24:11.909Z"
   },
   {
    "duration": 567,
    "start_time": "2022-06-23T08:24:37.105Z"
   },
   {
    "duration": 514,
    "start_time": "2022-06-23T08:25:01.419Z"
   },
   {
    "duration": 13,
    "start_time": "2022-06-23T08:37:51.532Z"
   },
   {
    "duration": 13,
    "start_time": "2022-06-23T08:38:08.228Z"
   },
   {
    "duration": 11,
    "start_time": "2022-06-23T08:38:57.423Z"
   },
   {
    "duration": 10,
    "start_time": "2022-06-23T08:39:05.148Z"
   },
   {
    "duration": 9,
    "start_time": "2022-06-23T08:39:07.922Z"
   },
   {
    "duration": 8,
    "start_time": "2022-06-23T08:39:16.138Z"
   },
   {
    "duration": 8,
    "start_time": "2022-06-23T08:39:19.484Z"
   },
   {
    "duration": 8,
    "start_time": "2022-06-23T08:39:26.347Z"
   },
   {
    "duration": 13,
    "start_time": "2022-06-23T08:49:11.805Z"
   },
   {
    "duration": 19,
    "start_time": "2022-06-23T08:49:29.598Z"
   },
   {
    "duration": 14,
    "start_time": "2022-06-23T08:50:13.581Z"
   },
   {
    "duration": 15,
    "start_time": "2022-06-23T08:50:48.943Z"
   },
   {
    "duration": 9,
    "start_time": "2022-06-23T08:51:12.772Z"
   },
   {
    "duration": 9,
    "start_time": "2022-06-23T08:51:34.548Z"
   },
   {
    "duration": 10,
    "start_time": "2022-06-23T08:51:39.208Z"
   },
   {
    "duration": 10,
    "start_time": "2022-06-23T08:51:50.355Z"
   },
   {
    "duration": 9,
    "start_time": "2022-06-23T08:51:58.387Z"
   },
   {
    "duration": 9,
    "start_time": "2022-06-23T08:52:02.747Z"
   },
   {
    "duration": 10,
    "start_time": "2022-06-23T08:52:07.333Z"
   },
   {
    "duration": 8,
    "start_time": "2022-06-23T08:52:36.343Z"
   },
   {
    "duration": 9,
    "start_time": "2022-06-23T08:57:40.561Z"
   },
   {
    "duration": 122,
    "start_time": "2022-06-23T09:55:38.588Z"
   },
   {
    "duration": 133,
    "start_time": "2022-06-23T09:56:14.447Z"
   },
   {
    "duration": 122,
    "start_time": "2022-06-23T09:56:57.110Z"
   },
   {
    "duration": 139,
    "start_time": "2022-06-23T09:57:09.272Z"
   },
   {
    "duration": 230,
    "start_time": "2022-06-23T09:57:29.358Z"
   },
   {
    "duration": 244,
    "start_time": "2022-06-23T09:58:14.716Z"
   },
   {
    "duration": 53,
    "start_time": "2022-06-23T09:59:00.291Z"
   },
   {
    "duration": 53,
    "start_time": "2022-06-23T09:59:03.873Z"
   },
   {
    "duration": 434,
    "start_time": "2022-06-23T09:59:19.282Z"
   },
   {
    "duration": 334,
    "start_time": "2022-06-23T10:00:38.012Z"
   },
   {
    "duration": 60,
    "start_time": "2022-06-23T10:00:53.321Z"
   },
   {
    "duration": 72,
    "start_time": "2022-06-23T10:01:01.003Z"
   },
   {
    "duration": 437,
    "start_time": "2022-06-23T10:01:09.097Z"
   },
   {
    "duration": 482,
    "start_time": "2022-06-23T10:01:16.484Z"
   },
   {
    "duration": 464,
    "start_time": "2022-06-23T10:06:29.584Z"
   },
   {
    "duration": 2480,
    "start_time": "2022-06-23T10:28:27.680Z"
   },
   {
    "duration": 82297,
    "start_time": "2022-06-23T10:28:50.800Z"
   },
   {
    "duration": 6,
    "start_time": "2022-06-23T11:01:06.285Z"
   },
   {
    "duration": 8,
    "start_time": "2022-06-23T11:02:14.302Z"
   },
   {
    "duration": 7,
    "start_time": "2022-06-23T11:02:16.400Z"
   },
   {
    "duration": 9,
    "start_time": "2022-06-23T11:02:17.537Z"
   },
   {
    "duration": 7,
    "start_time": "2022-06-23T11:02:18.953Z"
   },
   {
    "duration": 6,
    "start_time": "2022-06-23T11:02:31.720Z"
   },
   {
    "duration": 537,
    "start_time": "2022-06-23T11:03:00.689Z"
   },
   {
    "duration": 561,
    "start_time": "2022-06-23T11:03:22.513Z"
   },
   {
    "duration": 633,
    "start_time": "2022-06-23T11:03:26.190Z"
   },
   {
    "duration": 11,
    "start_time": "2022-06-23T11:03:32.032Z"
   },
   {
    "duration": 458,
    "start_time": "2022-06-23T11:04:12.713Z"
   },
   {
    "duration": 81932,
    "start_time": "2022-06-23T11:06:58.521Z"
   },
   {
    "duration": 1590,
    "start_time": "2022-06-23T11:14:50.825Z"
   },
   {
    "duration": 39,
    "start_time": "2022-06-23T11:14:52.417Z"
   },
   {
    "duration": 18,
    "start_time": "2022-06-23T11:14:52.457Z"
   },
   {
    "duration": 4,
    "start_time": "2022-06-23T11:14:52.476Z"
   },
   {
    "duration": 13,
    "start_time": "2022-06-23T11:14:52.482Z"
   },
   {
    "duration": 15,
    "start_time": "2022-06-23T11:14:52.497Z"
   },
   {
    "duration": 52,
    "start_time": "2022-06-23T11:14:52.513Z"
   },
   {
    "duration": 7,
    "start_time": "2022-06-23T11:14:52.567Z"
   },
   {
    "duration": 5,
    "start_time": "2022-06-23T11:14:52.575Z"
   },
   {
    "duration": 7,
    "start_time": "2022-06-23T11:14:52.581Z"
   },
   {
    "duration": 23,
    "start_time": "2022-06-23T11:14:52.589Z"
   },
   {
    "duration": 17,
    "start_time": "2022-06-23T11:14:52.613Z"
   },
   {
    "duration": 7,
    "start_time": "2022-06-23T11:14:52.631Z"
   },
   {
    "duration": 12,
    "start_time": "2022-06-23T11:14:52.640Z"
   },
   {
    "duration": 9,
    "start_time": "2022-06-23T11:14:52.659Z"
   },
   {
    "duration": 5,
    "start_time": "2022-06-23T11:14:52.670Z"
   },
   {
    "duration": 8,
    "start_time": "2022-06-23T11:14:52.677Z"
   },
   {
    "duration": 7,
    "start_time": "2022-06-23T11:14:52.687Z"
   },
   {
    "duration": 10,
    "start_time": "2022-06-23T11:14:52.695Z"
   },
   {
    "duration": 6,
    "start_time": "2022-06-23T11:14:52.707Z"
   },
   {
    "duration": 22,
    "start_time": "2022-06-23T11:14:52.714Z"
   },
   {
    "duration": 24,
    "start_time": "2022-06-23T11:14:52.738Z"
   },
   {
    "duration": 23,
    "start_time": "2022-06-23T11:14:52.764Z"
   },
   {
    "duration": 19,
    "start_time": "2022-06-23T11:14:52.789Z"
   },
   {
    "duration": 32,
    "start_time": "2022-06-23T11:14:52.809Z"
   },
   {
    "duration": 16,
    "start_time": "2022-06-23T11:14:52.842Z"
   },
   {
    "duration": 11,
    "start_time": "2022-06-23T11:14:52.860Z"
   },
   {
    "duration": 8,
    "start_time": "2022-06-23T11:14:52.873Z"
   },
   {
    "duration": 38,
    "start_time": "2022-06-23T11:14:52.882Z"
   },
   {
    "duration": 6,
    "start_time": "2022-06-23T11:14:52.921Z"
   },
   {
    "duration": 838,
    "start_time": "2022-06-23T11:14:52.929Z"
   },
   {
    "duration": 77907,
    "start_time": "2022-06-23T11:14:53.769Z"
   },
   {
    "duration": 282,
    "start_time": "2022-06-23T11:16:11.677Z"
   },
   {
    "duration": 11,
    "start_time": "2022-06-23T11:16:11.961Z"
   },
   {
    "duration": 602,
    "start_time": "2022-06-23T11:16:12.059Z"
   },
   {
    "duration": 882,
    "start_time": "2022-06-23T11:16:12.663Z"
   },
   {
    "duration": 825,
    "start_time": "2022-06-23T11:16:13.547Z"
   },
   {
    "duration": 76819,
    "start_time": "2022-06-23T11:16:14.374Z"
   },
   {
    "duration": 265,
    "start_time": "2022-06-23T11:17:31.195Z"
   },
   {
    "duration": 93,
    "start_time": "2022-06-23T11:17:31.467Z"
   },
   {
    "duration": 11,
    "start_time": "2022-06-23T11:17:31.564Z"
   },
   {
    "duration": 485,
    "start_time": "2022-06-23T11:17:31.577Z"
   },
   {
    "duration": 1098,
    "start_time": "2022-06-23T11:17:32.064Z"
   },
   {
    "duration": 4,
    "start_time": "2022-06-23T11:17:33.164Z"
   },
   {
    "duration": 19,
    "start_time": "2022-06-23T11:17:33.169Z"
   },
   {
    "duration": 934,
    "start_time": "2022-06-23T11:17:33.191Z"
   },
   {
    "duration": 102815,
    "start_time": "2022-06-23T11:17:34.128Z"
   },
   {
    "duration": 224,
    "start_time": "2022-06-23T11:19:16.944Z"
   },
   {
    "duration": 888,
    "start_time": "2022-06-23T11:19:17.171Z"
   },
   {
    "duration": 855,
    "start_time": "2022-06-23T11:19:18.061Z"
   },
   {
    "duration": 11,
    "start_time": "2022-06-23T11:19:18.917Z"
   },
   {
    "duration": 6,
    "start_time": "2022-06-23T11:19:18.929Z"
   },
   {
    "duration": 505,
    "start_time": "2022-06-23T11:19:18.936Z"
   },
   {
    "duration": 53373,
    "start_time": "2022-06-23T11:19:19.443Z"
   },
   {
    "duration": 542,
    "start_time": "2022-06-23T11:20:12.818Z"
   },
   {
    "duration": 7,
    "start_time": "2022-06-23T11:20:13.361Z"
   },
   {
    "duration": 398,
    "start_time": "2022-06-23T11:20:13.369Z"
   },
   {
    "duration": 448,
    "start_time": "2022-06-23T11:20:13.858Z"
   },
   {
    "duration": 8,
    "start_time": "2022-06-23T11:20:14.309Z"
   },
   {
    "duration": 391,
    "start_time": "2022-06-23T11:20:14.320Z"
   }
  ],
  "kernelspec": {
   "display_name": "Python 3 (ipykernel)",
   "language": "python",
   "name": "python3"
  },
  "language_info": {
   "codemirror_mode": {
    "name": "ipython",
    "version": 3
   },
   "file_extension": ".py",
   "mimetype": "text/x-python",
   "name": "python",
   "nbconvert_exporter": "python",
   "pygments_lexer": "ipython3",
   "version": "3.9.7"
  },
  "toc": {
   "base_numbering": 1,
   "nav_menu": {},
   "number_sections": true,
   "sideBar": true,
   "skip_h1_title": true,
   "title_cell": "Содержание",
   "title_sidebar": "Contents",
   "toc_cell": true,
   "toc_position": {
    "height": "calc(100% - 180px)",
    "left": "10px",
    "top": "150px",
    "width": "264.492px"
   },
   "toc_section_display": true,
   "toc_window_display": true
  }
 },
 "nbformat": 4,
 "nbformat_minor": 2
}
